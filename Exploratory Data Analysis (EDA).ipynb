{
 "cells": [
  {
   "cell_type": "markdown",
   "metadata": {},
   "source": [
    "Hello, Dima!\n",
    "\n",
    "My name is Olga. I'm happy to reviewing your project today. \n",
    "\n",
    "My main goal is share my experience and help you become a data analyst. You've already done a lot of work on the project, but let's make it even better.\n",
    "\n",
    "Below you will find my comments - ** please do not move, modify or delete them **.\n",
    "\n",
    "When I will see your mistake, for the first time I will only point out it. I give you the opportunity to find and correct it by yourself. In a real job, your team lead will do the same. I'm trying to prepare you for the job of an analyst. \n",
    "\n",
    "But, if you cannot cope with such a task yet, at the next check I will give a more accurate hint.\n",
    "\n",
    "You can find my comments in green, yellow or red boxes like this:\n",
    "\n",
    "\n",
    "<div class=\"alert alert-block alert-success\">\n",
    "<b>Reviewer's comment</b> <a class=\"tocSkip\"></a>\n",
    "    \n",
    "Success. Everything is done succesfully.\n",
    "</div>\n",
    "\n",
    "\n",
    "<div class=\"alert alert-block alert-warning\">\n",
    "<b>Reviewer's comment</b> <a class=\"tocSkip\"></a>\n",
    "    \n",
    "Remarks. Some recommendations.\n",
    "</div>\n",
    "\n",
    "\n",
    "<div class=\"alert alert-block alert-danger\">\n",
    "    \n",
    "<b>Reviewer's comment</b> <a class=\"tocSkip\"></a>\n",
    "    \n",
    "    \n",
    "Needs fixing. The block requires some corrections. Work can't be accepted with the red comments.\n",
    "</div>\n",
    "\n",
    "\n",
    "You can answer me by using this: \n",
    "\n",
    "<div class=\"alert alert-block alert-info\">\n",
    "<b>Student answer.</b> <a class=\"tocSkip\"></a>\n",
    "</div>"
   ]
  },
  {
   "cell_type": "markdown",
   "metadata": {},
   "source": [
    "Student answer"
   ]
  },
  {
   "cell_type": "markdown",
   "metadata": {},
   "source": [
    "<div class=\"alert alert-block alert-success\">\n",
    "<b>Overallv reviewer's comment</b> <a class=\"tocSkip\"></a>\n",
    "    \n",
    "Dima, thank you for sending your project. You've done a really good job on it!\n",
    "\n",
    "While there's room for improvement, on the whole, your project is impressive good. You did a great job! I am really impressed!\n",
    "\n",
    "<span class=\"text-danger\">There are few things that need to be corrected in your project. They're mostly minor issues that are easy to fix. I wrote comments, please, check them.Could you add a title, axis labels and grid on all graphs? It help to understand our graph correctly.</span>\n",
    "    \n",
    "Every issue with our code is a chance for us to learn something new.\n",
    "\n",
    "Good luck! :)\n",
    "    \n",
    "</div>\n",
    "\n",
    "<div class=\"alert alert-block alert-warning\">\n",
    "<b>For your future projects</b> <a class=\"tocSkip\"></a>\n",
    "    \n",
    "- Try to give tables meaningful names. Cars, clients, orders etc. df = DataFrame, data = data. Imagine, that you have 50 tables: df1, df2, df3, etc. it is hard to understand which table we need.\n",
    "    \n",
    "- It would be better to import all libraries in a first cell. It help us to set up of working environment.\n",
    "\n",
    "- It is very good that you use Markdown! Please, use it more clearly. We can use #, ##, ###. etc for title, heading, subtitle, steps, etc. It helps to make our contents more structured\n",
    "    \n",
    "- I saw red automatic comments from Jupiter. We can remove them. We can add to libraries import:\n",
    "  \n",
    "        import warnings\n",
    "\n",
    "        warnings.filterwarnings(\"ignore\")\n",
    "\n",
    "- We shoud use Kernel-Restart&Run All before sending project. It restart project and help to see errors.\n",
    "</div>"
   ]
  },
  {
   "cell_type": "markdown",
   "metadata": {},
   "source": [
    "<div class=\"alert alert-block alert-success\">\n",
    "<b>Overallv reviewer's comment. V.2.</b> <a class=\"tocSkip\"></a>\n",
    "    \n",
    "Hello Dima! You've worked hard and now your project is perfect!\n",
    "    \n",
    "I'm glad to say that your project has been accepted.\n",
    "    \n",
    "Keep up the good work, and good luck on the next sprint! :)\n",
    "</div>"
   ]
  },
  {
   "cell_type": "markdown",
   "metadata": {},
   "source": [
    "Student answer thank olga for your Review it was very helpful I have only one question about it how to use Kernel-Restart&Run before sending project. if restart wont that erase all the notebook?"
   ]
  },
  {
   "cell_type": "markdown",
   "metadata": {},
   "source": [
    "# Research on car sales ads\n",
    "\n",
    "You're an analyst at Crankshaft List. Hundreds of free advertisements for vehicles are published on your site every day.\n",
    "\n",
    "You need to study data collected over the last few years and determine which factors influence the price of a vehicle. "
   ]
  },
  {
   "cell_type": "markdown",
   "metadata": {},
   "source": [
    "<div class=\"alert alert-block alert-success\">\n",
    "<b>Reviewer's comment</b> <a class=\"tocSkip\"></a>\n",
    "    \n",
    "Thank you for the introduction!\n",
    "</div>\n"
   ]
  },
  {
   "cell_type": "markdown",
   "metadata": {},
   "source": [
    "## Open the data file and study the general information. "
   ]
  },
  {
   "cell_type": "code",
   "execution_count": 1,
   "metadata": {},
   "outputs": [],
   "source": [
    "import pandas as pd\n",
    "import matplotlib.pyplot as plt\n",
    "import seaborn as sns\n",
    "\n"
   ]
  },
  {
   "cell_type": "code",
   "execution_count": 2,
   "metadata": {},
   "outputs": [],
   "source": [
    "data = pd.read_csv('/datasets/vehicles_us.csv')"
   ]
  },
  {
   "cell_type": "markdown",
   "metadata": {},
   "source": [
    "<div class=\"alert alert-block alert-success\">\n",
    "<b>Reviewer's comment</b> <a class=\"tocSkip\"></a>\n",
    "    \n",
    "Good idea to import all libraries here. :) </div>\n",
    "\n",
    "<div class=\"alert alert-block alert-warning\">\n",
    "<b>Reviewer's comment</b> <a class=\"tocSkip\"></a>\n",
    "    \n",
    "It would be better to import libraries in a first cell and load dataset in a second. Imagine that we need to add a new library. It woulld be easy to restart 1 cell than whole project. </div>"
   ]
  },
  {
   "cell_type": "code",
   "execution_count": 3,
   "metadata": {},
   "outputs": [
    {
     "data": {
      "text/html": [
       "<div>\n",
       "<style scoped>\n",
       "    .dataframe tbody tr th:only-of-type {\n",
       "        vertical-align: middle;\n",
       "    }\n",
       "\n",
       "    .dataframe tbody tr th {\n",
       "        vertical-align: top;\n",
       "    }\n",
       "\n",
       "    .dataframe thead th {\n",
       "        text-align: right;\n",
       "    }\n",
       "</style>\n",
       "<table border=\"1\" class=\"dataframe\">\n",
       "  <thead>\n",
       "    <tr style=\"text-align: right;\">\n",
       "      <th></th>\n",
       "      <th>price</th>\n",
       "      <th>model_year</th>\n",
       "      <th>model</th>\n",
       "      <th>condition</th>\n",
       "      <th>cylinders</th>\n",
       "      <th>fuel</th>\n",
       "      <th>odometer</th>\n",
       "      <th>transmission</th>\n",
       "      <th>type</th>\n",
       "      <th>paint_color</th>\n",
       "      <th>is_4wd</th>\n",
       "      <th>date_posted</th>\n",
       "      <th>days_listed</th>\n",
       "    </tr>\n",
       "  </thead>\n",
       "  <tbody>\n",
       "    <tr>\n",
       "      <td>0</td>\n",
       "      <td>9400</td>\n",
       "      <td>2011.0</td>\n",
       "      <td>bmw x5</td>\n",
       "      <td>good</td>\n",
       "      <td>6.0</td>\n",
       "      <td>gas</td>\n",
       "      <td>145000.0</td>\n",
       "      <td>automatic</td>\n",
       "      <td>SUV</td>\n",
       "      <td>NaN</td>\n",
       "      <td>1.0</td>\n",
       "      <td>2018-06-23</td>\n",
       "      <td>19</td>\n",
       "    </tr>\n",
       "    <tr>\n",
       "      <td>1</td>\n",
       "      <td>25500</td>\n",
       "      <td>NaN</td>\n",
       "      <td>ford f-150</td>\n",
       "      <td>good</td>\n",
       "      <td>6.0</td>\n",
       "      <td>gas</td>\n",
       "      <td>88705.0</td>\n",
       "      <td>automatic</td>\n",
       "      <td>pickup</td>\n",
       "      <td>white</td>\n",
       "      <td>1.0</td>\n",
       "      <td>2018-10-19</td>\n",
       "      <td>50</td>\n",
       "    </tr>\n",
       "    <tr>\n",
       "      <td>2</td>\n",
       "      <td>5500</td>\n",
       "      <td>2013.0</td>\n",
       "      <td>hyundai sonata</td>\n",
       "      <td>like new</td>\n",
       "      <td>4.0</td>\n",
       "      <td>gas</td>\n",
       "      <td>110000.0</td>\n",
       "      <td>automatic</td>\n",
       "      <td>sedan</td>\n",
       "      <td>red</td>\n",
       "      <td>NaN</td>\n",
       "      <td>2019-02-07</td>\n",
       "      <td>79</td>\n",
       "    </tr>\n",
       "    <tr>\n",
       "      <td>3</td>\n",
       "      <td>1500</td>\n",
       "      <td>2003.0</td>\n",
       "      <td>ford f-150</td>\n",
       "      <td>fair</td>\n",
       "      <td>8.0</td>\n",
       "      <td>gas</td>\n",
       "      <td>NaN</td>\n",
       "      <td>automatic</td>\n",
       "      <td>pickup</td>\n",
       "      <td>NaN</td>\n",
       "      <td>NaN</td>\n",
       "      <td>2019-03-22</td>\n",
       "      <td>9</td>\n",
       "    </tr>\n",
       "    <tr>\n",
       "      <td>4</td>\n",
       "      <td>14900</td>\n",
       "      <td>2017.0</td>\n",
       "      <td>chrysler 200</td>\n",
       "      <td>excellent</td>\n",
       "      <td>4.0</td>\n",
       "      <td>gas</td>\n",
       "      <td>80903.0</td>\n",
       "      <td>automatic</td>\n",
       "      <td>sedan</td>\n",
       "      <td>black</td>\n",
       "      <td>NaN</td>\n",
       "      <td>2019-04-02</td>\n",
       "      <td>28</td>\n",
       "    </tr>\n",
       "    <tr>\n",
       "      <td>5</td>\n",
       "      <td>14990</td>\n",
       "      <td>2014.0</td>\n",
       "      <td>chrysler 300</td>\n",
       "      <td>excellent</td>\n",
       "      <td>6.0</td>\n",
       "      <td>gas</td>\n",
       "      <td>57954.0</td>\n",
       "      <td>automatic</td>\n",
       "      <td>sedan</td>\n",
       "      <td>black</td>\n",
       "      <td>1.0</td>\n",
       "      <td>2018-06-20</td>\n",
       "      <td>15</td>\n",
       "    </tr>\n",
       "    <tr>\n",
       "      <td>6</td>\n",
       "      <td>12990</td>\n",
       "      <td>2015.0</td>\n",
       "      <td>toyota camry</td>\n",
       "      <td>excellent</td>\n",
       "      <td>4.0</td>\n",
       "      <td>gas</td>\n",
       "      <td>79212.0</td>\n",
       "      <td>automatic</td>\n",
       "      <td>sedan</td>\n",
       "      <td>white</td>\n",
       "      <td>NaN</td>\n",
       "      <td>2018-12-27</td>\n",
       "      <td>73</td>\n",
       "    </tr>\n",
       "    <tr>\n",
       "      <td>7</td>\n",
       "      <td>15990</td>\n",
       "      <td>2013.0</td>\n",
       "      <td>honda pilot</td>\n",
       "      <td>excellent</td>\n",
       "      <td>6.0</td>\n",
       "      <td>gas</td>\n",
       "      <td>109473.0</td>\n",
       "      <td>automatic</td>\n",
       "      <td>SUV</td>\n",
       "      <td>black</td>\n",
       "      <td>1.0</td>\n",
       "      <td>2019-01-07</td>\n",
       "      <td>68</td>\n",
       "    </tr>\n",
       "    <tr>\n",
       "      <td>8</td>\n",
       "      <td>11500</td>\n",
       "      <td>2012.0</td>\n",
       "      <td>kia sorento</td>\n",
       "      <td>excellent</td>\n",
       "      <td>4.0</td>\n",
       "      <td>gas</td>\n",
       "      <td>104174.0</td>\n",
       "      <td>automatic</td>\n",
       "      <td>SUV</td>\n",
       "      <td>NaN</td>\n",
       "      <td>1.0</td>\n",
       "      <td>2018-07-16</td>\n",
       "      <td>19</td>\n",
       "    </tr>\n",
       "    <tr>\n",
       "      <td>9</td>\n",
       "      <td>9200</td>\n",
       "      <td>2008.0</td>\n",
       "      <td>honda pilot</td>\n",
       "      <td>excellent</td>\n",
       "      <td>NaN</td>\n",
       "      <td>gas</td>\n",
       "      <td>147191.0</td>\n",
       "      <td>automatic</td>\n",
       "      <td>SUV</td>\n",
       "      <td>blue</td>\n",
       "      <td>1.0</td>\n",
       "      <td>2019-02-15</td>\n",
       "      <td>17</td>\n",
       "    </tr>\n",
       "  </tbody>\n",
       "</table>\n",
       "</div>"
      ],
      "text/plain": [
       "   price  model_year           model  condition  cylinders fuel  odometer  \\\n",
       "0   9400      2011.0          bmw x5       good        6.0  gas  145000.0   \n",
       "1  25500         NaN      ford f-150       good        6.0  gas   88705.0   \n",
       "2   5500      2013.0  hyundai sonata   like new        4.0  gas  110000.0   \n",
       "3   1500      2003.0      ford f-150       fair        8.0  gas       NaN   \n",
       "4  14900      2017.0    chrysler 200  excellent        4.0  gas   80903.0   \n",
       "5  14990      2014.0    chrysler 300  excellent        6.0  gas   57954.0   \n",
       "6  12990      2015.0    toyota camry  excellent        4.0  gas   79212.0   \n",
       "7  15990      2013.0     honda pilot  excellent        6.0  gas  109473.0   \n",
       "8  11500      2012.0     kia sorento  excellent        4.0  gas  104174.0   \n",
       "9   9200      2008.0     honda pilot  excellent        NaN  gas  147191.0   \n",
       "\n",
       "  transmission    type paint_color  is_4wd date_posted  days_listed  \n",
       "0    automatic     SUV         NaN     1.0  2018-06-23           19  \n",
       "1    automatic  pickup       white     1.0  2018-10-19           50  \n",
       "2    automatic   sedan         red     NaN  2019-02-07           79  \n",
       "3    automatic  pickup         NaN     NaN  2019-03-22            9  \n",
       "4    automatic   sedan       black     NaN  2019-04-02           28  \n",
       "5    automatic   sedan       black     1.0  2018-06-20           15  \n",
       "6    automatic   sedan       white     NaN  2018-12-27           73  \n",
       "7    automatic     SUV       black     1.0  2019-01-07           68  \n",
       "8    automatic     SUV         NaN     1.0  2018-07-16           19  \n",
       "9    automatic     SUV        blue     1.0  2019-02-15           17  "
      ]
     },
     "execution_count": 3,
     "metadata": {},
     "output_type": "execute_result"
    }
   ],
   "source": [
    "data.head(10\n",
    "        \n",
    "         )"
   ]
  },
  {
   "cell_type": "code",
   "execution_count": 4,
   "metadata": {},
   "outputs": [
    {
     "name": "stdout",
     "output_type": "stream",
     "text": [
      "<class 'pandas.core.frame.DataFrame'>\n",
      "RangeIndex: 51525 entries, 0 to 51524\n",
      "Data columns (total 13 columns):\n",
      "price           51525 non-null int64\n",
      "model_year      47906 non-null float64\n",
      "model           51525 non-null object\n",
      "condition       51525 non-null object\n",
      "cylinders       46265 non-null float64\n",
      "fuel            51525 non-null object\n",
      "odometer        43633 non-null float64\n",
      "transmission    51525 non-null object\n",
      "type            51525 non-null object\n",
      "paint_color     42258 non-null object\n",
      "is_4wd          25572 non-null float64\n",
      "date_posted     51525 non-null object\n",
      "days_listed     51525 non-null int64\n",
      "dtypes: float64(4), int64(2), object(7)\n",
      "memory usage: 5.1+ MB\n"
     ]
    }
   ],
   "source": [
    "data.info()"
   ]
  },
  {
   "cell_type": "code",
   "execution_count": 5,
   "metadata": {},
   "outputs": [
    {
     "data": {
      "text/html": [
       "<div>\n",
       "<style scoped>\n",
       "    .dataframe tbody tr th:only-of-type {\n",
       "        vertical-align: middle;\n",
       "    }\n",
       "\n",
       "    .dataframe tbody tr th {\n",
       "        vertical-align: top;\n",
       "    }\n",
       "\n",
       "    .dataframe thead th {\n",
       "        text-align: right;\n",
       "    }\n",
       "</style>\n",
       "<table border=\"1\" class=\"dataframe\">\n",
       "  <thead>\n",
       "    <tr style=\"text-align: right;\">\n",
       "      <th></th>\n",
       "      <th>price</th>\n",
       "      <th>model_year</th>\n",
       "      <th>cylinders</th>\n",
       "      <th>odometer</th>\n",
       "      <th>is_4wd</th>\n",
       "      <th>days_listed</th>\n",
       "    </tr>\n",
       "  </thead>\n",
       "  <tbody>\n",
       "    <tr>\n",
       "      <td>count</td>\n",
       "      <td>51525.000000</td>\n",
       "      <td>47906.000000</td>\n",
       "      <td>46265.000000</td>\n",
       "      <td>43633.000000</td>\n",
       "      <td>25572.0</td>\n",
       "      <td>51525.00000</td>\n",
       "    </tr>\n",
       "    <tr>\n",
       "      <td>mean</td>\n",
       "      <td>12132.464920</td>\n",
       "      <td>2009.750470</td>\n",
       "      <td>6.125235</td>\n",
       "      <td>115553.461738</td>\n",
       "      <td>1.0</td>\n",
       "      <td>39.55476</td>\n",
       "    </tr>\n",
       "    <tr>\n",
       "      <td>std</td>\n",
       "      <td>10040.803015</td>\n",
       "      <td>6.282065</td>\n",
       "      <td>1.660360</td>\n",
       "      <td>65094.611341</td>\n",
       "      <td>0.0</td>\n",
       "      <td>28.20427</td>\n",
       "    </tr>\n",
       "    <tr>\n",
       "      <td>min</td>\n",
       "      <td>1.000000</td>\n",
       "      <td>1908.000000</td>\n",
       "      <td>3.000000</td>\n",
       "      <td>0.000000</td>\n",
       "      <td>1.0</td>\n",
       "      <td>0.00000</td>\n",
       "    </tr>\n",
       "    <tr>\n",
       "      <td>25%</td>\n",
       "      <td>5000.000000</td>\n",
       "      <td>2006.000000</td>\n",
       "      <td>4.000000</td>\n",
       "      <td>70000.000000</td>\n",
       "      <td>1.0</td>\n",
       "      <td>19.00000</td>\n",
       "    </tr>\n",
       "    <tr>\n",
       "      <td>50%</td>\n",
       "      <td>9000.000000</td>\n",
       "      <td>2011.000000</td>\n",
       "      <td>6.000000</td>\n",
       "      <td>113000.000000</td>\n",
       "      <td>1.0</td>\n",
       "      <td>33.00000</td>\n",
       "    </tr>\n",
       "    <tr>\n",
       "      <td>75%</td>\n",
       "      <td>16839.000000</td>\n",
       "      <td>2014.000000</td>\n",
       "      <td>8.000000</td>\n",
       "      <td>155000.000000</td>\n",
       "      <td>1.0</td>\n",
       "      <td>53.00000</td>\n",
       "    </tr>\n",
       "    <tr>\n",
       "      <td>max</td>\n",
       "      <td>375000.000000</td>\n",
       "      <td>2019.000000</td>\n",
       "      <td>12.000000</td>\n",
       "      <td>990000.000000</td>\n",
       "      <td>1.0</td>\n",
       "      <td>271.00000</td>\n",
       "    </tr>\n",
       "  </tbody>\n",
       "</table>\n",
       "</div>"
      ],
      "text/plain": [
       "               price    model_year     cylinders       odometer   is_4wd  \\\n",
       "count   51525.000000  47906.000000  46265.000000   43633.000000  25572.0   \n",
       "mean    12132.464920   2009.750470      6.125235  115553.461738      1.0   \n",
       "std     10040.803015      6.282065      1.660360   65094.611341      0.0   \n",
       "min         1.000000   1908.000000      3.000000       0.000000      1.0   \n",
       "25%      5000.000000   2006.000000      4.000000   70000.000000      1.0   \n",
       "50%      9000.000000   2011.000000      6.000000  113000.000000      1.0   \n",
       "75%     16839.000000   2014.000000      8.000000  155000.000000      1.0   \n",
       "max    375000.000000   2019.000000     12.000000  990000.000000      1.0   \n",
       "\n",
       "       days_listed  \n",
       "count  51525.00000  \n",
       "mean      39.55476  \n",
       "std       28.20427  \n",
       "min        0.00000  \n",
       "25%       19.00000  \n",
       "50%       33.00000  \n",
       "75%       53.00000  \n",
       "max      271.00000  "
      ]
     },
     "execution_count": 5,
     "metadata": {},
     "output_type": "execute_result"
    }
   ],
   "source": [
    "data.describe()"
   ]
  },
  {
   "cell_type": "code",
   "execution_count": 6,
   "metadata": {},
   "outputs": [
    {
     "data": {
      "text/plain": [
       "array(['good', 'like new', 'fair', 'excellent', 'salvage', 'new'],\n",
       "      dtype=object)"
      ]
     },
     "execution_count": 6,
     "metadata": {},
     "output_type": "execute_result"
    }
   ],
   "source": [
    "data['condition'].unique()"
   ]
  },
  {
   "cell_type": "code",
   "execution_count": 7,
   "metadata": {},
   "outputs": [
    {
     "data": {
      "text/html": [
       "<div>\n",
       "<style scoped>\n",
       "    .dataframe tbody tr th:only-of-type {\n",
       "        vertical-align: middle;\n",
       "    }\n",
       "\n",
       "    .dataframe tbody tr th {\n",
       "        vertical-align: top;\n",
       "    }\n",
       "\n",
       "    .dataframe thead th {\n",
       "        text-align: right;\n",
       "    }\n",
       "</style>\n",
       "<table border=\"1\" class=\"dataframe\">\n",
       "  <thead>\n",
       "    <tr style=\"text-align: right;\">\n",
       "      <th></th>\n",
       "      <th>price</th>\n",
       "      <th>model_year</th>\n",
       "      <th>model</th>\n",
       "      <th>condition</th>\n",
       "      <th>cylinders</th>\n",
       "      <th>fuel</th>\n",
       "      <th>odometer</th>\n",
       "      <th>transmission</th>\n",
       "      <th>type</th>\n",
       "      <th>paint_color</th>\n",
       "      <th>is_4wd</th>\n",
       "      <th>date_posted</th>\n",
       "      <th>days_listed</th>\n",
       "    </tr>\n",
       "  </thead>\n",
       "  <tbody>\n",
       "    <tr>\n",
       "      <td>405</td>\n",
       "      <td>1</td>\n",
       "      <td>2014.0</td>\n",
       "      <td>chevrolet camaro</td>\n",
       "      <td>excellent</td>\n",
       "      <td>6.0</td>\n",
       "      <td>gas</td>\n",
       "      <td>71310.0</td>\n",
       "      <td>automatic</td>\n",
       "      <td>coupe</td>\n",
       "      <td>NaN</td>\n",
       "      <td>NaN</td>\n",
       "      <td>2018-07-14</td>\n",
       "      <td>29</td>\n",
       "    </tr>\n",
       "    <tr>\n",
       "      <td>3063</td>\n",
       "      <td>1</td>\n",
       "      <td>1998.0</td>\n",
       "      <td>chevrolet silverado</td>\n",
       "      <td>good</td>\n",
       "      <td>8.0</td>\n",
       "      <td>gas</td>\n",
       "      <td>164000.0</td>\n",
       "      <td>automatic</td>\n",
       "      <td>pickup</td>\n",
       "      <td>NaN</td>\n",
       "      <td>1.0</td>\n",
       "      <td>2018-10-11</td>\n",
       "      <td>49</td>\n",
       "    </tr>\n",
       "    <tr>\n",
       "      <td>3808</td>\n",
       "      <td>1</td>\n",
       "      <td>2007.0</td>\n",
       "      <td>chevrolet tahoe</td>\n",
       "      <td>good</td>\n",
       "      <td>8.0</td>\n",
       "      <td>gas</td>\n",
       "      <td>200.0</td>\n",
       "      <td>automatic</td>\n",
       "      <td>SUV</td>\n",
       "      <td>red</td>\n",
       "      <td>NaN</td>\n",
       "      <td>2019-03-18</td>\n",
       "      <td>63</td>\n",
       "    </tr>\n",
       "    <tr>\n",
       "      <td>3902</td>\n",
       "      <td>1</td>\n",
       "      <td>1996.0</td>\n",
       "      <td>ford f-150</td>\n",
       "      <td>fair</td>\n",
       "      <td>NaN</td>\n",
       "      <td>gas</td>\n",
       "      <td>163000.0</td>\n",
       "      <td>manual</td>\n",
       "      <td>truck</td>\n",
       "      <td>white</td>\n",
       "      <td>NaN</td>\n",
       "      <td>2019-02-23</td>\n",
       "      <td>54</td>\n",
       "    </tr>\n",
       "    <tr>\n",
       "      <td>4140</td>\n",
       "      <td>1</td>\n",
       "      <td>2004.0</td>\n",
       "      <td>chevrolet silverado</td>\n",
       "      <td>excellent</td>\n",
       "      <td>8.0</td>\n",
       "      <td>diesel</td>\n",
       "      <td>83000.0</td>\n",
       "      <td>automatic</td>\n",
       "      <td>pickup</td>\n",
       "      <td>NaN</td>\n",
       "      <td>1.0</td>\n",
       "      <td>2019-02-04</td>\n",
       "      <td>14</td>\n",
       "    </tr>\n",
       "    <tr>\n",
       "      <td>...</td>\n",
       "      <td>...</td>\n",
       "      <td>...</td>\n",
       "      <td>...</td>\n",
       "      <td>...</td>\n",
       "      <td>...</td>\n",
       "      <td>...</td>\n",
       "      <td>...</td>\n",
       "      <td>...</td>\n",
       "      <td>...</td>\n",
       "      <td>...</td>\n",
       "      <td>...</td>\n",
       "      <td>...</td>\n",
       "      <td>...</td>\n",
       "    </tr>\n",
       "    <tr>\n",
       "      <td>49699</td>\n",
       "      <td>1</td>\n",
       "      <td>2007.0</td>\n",
       "      <td>chevrolet trailblazer</td>\n",
       "      <td>excellent</td>\n",
       "      <td>8.0</td>\n",
       "      <td>gas</td>\n",
       "      <td>NaN</td>\n",
       "      <td>automatic</td>\n",
       "      <td>SUV</td>\n",
       "      <td>black</td>\n",
       "      <td>1.0</td>\n",
       "      <td>2018-08-06</td>\n",
       "      <td>28</td>\n",
       "    </tr>\n",
       "    <tr>\n",
       "      <td>49709</td>\n",
       "      <td>1</td>\n",
       "      <td>NaN</td>\n",
       "      <td>ford f150</td>\n",
       "      <td>excellent</td>\n",
       "      <td>8.0</td>\n",
       "      <td>gas</td>\n",
       "      <td>139700.0</td>\n",
       "      <td>other</td>\n",
       "      <td>pickup</td>\n",
       "      <td>red</td>\n",
       "      <td>1.0</td>\n",
       "      <td>2019-03-11</td>\n",
       "      <td>18</td>\n",
       "    </tr>\n",
       "    <tr>\n",
       "      <td>50245</td>\n",
       "      <td>1</td>\n",
       "      <td>1986.0</td>\n",
       "      <td>chevrolet silverado</td>\n",
       "      <td>good</td>\n",
       "      <td>8.0</td>\n",
       "      <td>gas</td>\n",
       "      <td>NaN</td>\n",
       "      <td>automatic</td>\n",
       "      <td>truck</td>\n",
       "      <td>red</td>\n",
       "      <td>1.0</td>\n",
       "      <td>2018-11-30</td>\n",
       "      <td>50</td>\n",
       "    </tr>\n",
       "    <tr>\n",
       "      <td>50393</td>\n",
       "      <td>1</td>\n",
       "      <td>2003.0</td>\n",
       "      <td>gmc sierra 2500hd</td>\n",
       "      <td>good</td>\n",
       "      <td>8.0</td>\n",
       "      <td>diesel</td>\n",
       "      <td>212300.0</td>\n",
       "      <td>automatic</td>\n",
       "      <td>pickup</td>\n",
       "      <td>black</td>\n",
       "      <td>1.0</td>\n",
       "      <td>2019-04-12</td>\n",
       "      <td>28</td>\n",
       "    </tr>\n",
       "    <tr>\n",
       "      <td>51256</td>\n",
       "      <td>1</td>\n",
       "      <td>2012.0</td>\n",
       "      <td>honda civic lx</td>\n",
       "      <td>excellent</td>\n",
       "      <td>4.0</td>\n",
       "      <td>gas</td>\n",
       "      <td>71262.0</td>\n",
       "      <td>automatic</td>\n",
       "      <td>sedan</td>\n",
       "      <td>blue</td>\n",
       "      <td>NaN</td>\n",
       "      <td>2018-05-06</td>\n",
       "      <td>53</td>\n",
       "    </tr>\n",
       "  </tbody>\n",
       "</table>\n",
       "<p>798 rows × 13 columns</p>\n",
       "</div>"
      ],
      "text/plain": [
       "       price  model_year                  model  condition  cylinders    fuel  \\\n",
       "405        1      2014.0       chevrolet camaro  excellent        6.0     gas   \n",
       "3063       1      1998.0    chevrolet silverado       good        8.0     gas   \n",
       "3808       1      2007.0        chevrolet tahoe       good        8.0     gas   \n",
       "3902       1      1996.0             ford f-150       fair        NaN     gas   \n",
       "4140       1      2004.0    chevrolet silverado  excellent        8.0  diesel   \n",
       "...      ...         ...                    ...        ...        ...     ...   \n",
       "49699      1      2007.0  chevrolet trailblazer  excellent        8.0     gas   \n",
       "49709      1         NaN              ford f150  excellent        8.0     gas   \n",
       "50245      1      1986.0    chevrolet silverado       good        8.0     gas   \n",
       "50393      1      2003.0      gmc sierra 2500hd       good        8.0  diesel   \n",
       "51256      1      2012.0         honda civic lx  excellent        4.0     gas   \n",
       "\n",
       "       odometer transmission    type paint_color  is_4wd date_posted  \\\n",
       "405     71310.0    automatic   coupe         NaN     NaN  2018-07-14   \n",
       "3063   164000.0    automatic  pickup         NaN     1.0  2018-10-11   \n",
       "3808      200.0    automatic     SUV         red     NaN  2019-03-18   \n",
       "3902   163000.0       manual   truck       white     NaN  2019-02-23   \n",
       "4140    83000.0    automatic  pickup         NaN     1.0  2019-02-04   \n",
       "...         ...          ...     ...         ...     ...         ...   \n",
       "49699       NaN    automatic     SUV       black     1.0  2018-08-06   \n",
       "49709  139700.0        other  pickup         red     1.0  2019-03-11   \n",
       "50245       NaN    automatic   truck         red     1.0  2018-11-30   \n",
       "50393  212300.0    automatic  pickup       black     1.0  2019-04-12   \n",
       "51256   71262.0    automatic   sedan        blue     NaN  2018-05-06   \n",
       "\n",
       "       days_listed  \n",
       "405             29  \n",
       "3063            49  \n",
       "3808            63  \n",
       "3902            54  \n",
       "4140            14  \n",
       "...            ...  \n",
       "49699           28  \n",
       "49709           18  \n",
       "50245           50  \n",
       "50393           28  \n",
       "51256           53  \n",
       "\n",
       "[798 rows x 13 columns]"
      ]
     },
     "execution_count": 7,
     "metadata": {},
     "output_type": "execute_result"
    }
   ],
   "source": [
    "data[data['price']==1]"
   ]
  },
  {
   "cell_type": "code",
   "execution_count": 8,
   "metadata": {},
   "outputs": [
    {
     "data": {
      "text/plain": [
       "price               0\n",
       "model_year       3619\n",
       "model               0\n",
       "condition           0\n",
       "cylinders        5260\n",
       "fuel                0\n",
       "odometer         7892\n",
       "transmission        0\n",
       "type                0\n",
       "paint_color      9267\n",
       "is_4wd          25953\n",
       "date_posted         0\n",
       "days_listed         0\n",
       "dtype: int64"
      ]
     },
     "execution_count": 8,
     "metadata": {},
     "output_type": "execute_result"
    }
   ],
   "source": [
    "data.isnull().sum()"
   ]
  },
  {
   "cell_type": "markdown",
   "metadata": {},
   "source": [
    "### Conclusion"
   ]
  },
  {
   "cell_type": "markdown",
   "metadata": {},
   "source": [
    "After studying the data I found several columns with missing values (model year, cylinders, odometer, color, is_4wd) and few columns with incorrect data type"
   ]
  },
  {
   "cell_type": "markdown",
   "metadata": {},
   "source": [
    "<div class=\"alert alert-block alert-success\">\n",
    "<b>Reviewer's comment</b> <a class=\"tocSkip\"></a>\n",
    "    \n",
    "We have basic information about our data. Too much missing values here. Let's do something!\n",
    "</div>"
   ]
  },
  {
   "cell_type": "markdown",
   "metadata": {},
   "source": [
    "## Data preprocessing"
   ]
  },
  {
   "cell_type": "code",
   "execution_count": 9,
   "metadata": {},
   "outputs": [
    {
     "data": {
      "text/plain": [
       "0"
      ]
     },
     "execution_count": 9,
     "metadata": {},
     "output_type": "execute_result"
    }
   ],
   "source": [
    "data.duplicated().sum()"
   ]
  },
  {
   "cell_type": "code",
   "execution_count": 10,
   "metadata": {},
   "outputs": [
    {
     "data": {
      "text/html": [
       "<div>\n",
       "<style scoped>\n",
       "    .dataframe tbody tr th:only-of-type {\n",
       "        vertical-align: middle;\n",
       "    }\n",
       "\n",
       "    .dataframe tbody tr th {\n",
       "        vertical-align: top;\n",
       "    }\n",
       "\n",
       "    .dataframe thead th {\n",
       "        text-align: right;\n",
       "    }\n",
       "</style>\n",
       "<table border=\"1\" class=\"dataframe\">\n",
       "  <thead>\n",
       "    <tr style=\"text-align: right;\">\n",
       "      <th></th>\n",
       "      <th>price</th>\n",
       "      <th>model_year</th>\n",
       "      <th>model</th>\n",
       "      <th>condition</th>\n",
       "      <th>cylinders</th>\n",
       "      <th>fuel</th>\n",
       "      <th>odometer</th>\n",
       "      <th>transmission</th>\n",
       "      <th>type</th>\n",
       "      <th>paint_color</th>\n",
       "      <th>is_4wd</th>\n",
       "      <th>date_posted</th>\n",
       "      <th>days_listed</th>\n",
       "      <th>model_year_full</th>\n",
       "    </tr>\n",
       "  </thead>\n",
       "  <tbody>\n",
       "    <tr>\n",
       "      <td>0</td>\n",
       "      <td>9400</td>\n",
       "      <td>2011.0</td>\n",
       "      <td>bmw x5</td>\n",
       "      <td>good</td>\n",
       "      <td>6.0</td>\n",
       "      <td>gas</td>\n",
       "      <td>145000.0</td>\n",
       "      <td>automatic</td>\n",
       "      <td>SUV</td>\n",
       "      <td>NaN</td>\n",
       "      <td>1.0</td>\n",
       "      <td>2018-06-23</td>\n",
       "      <td>19</td>\n",
       "      <td>2011.000000</td>\n",
       "    </tr>\n",
       "    <tr>\n",
       "      <td>1</td>\n",
       "      <td>25500</td>\n",
       "      <td>NaN</td>\n",
       "      <td>ford f-150</td>\n",
       "      <td>good</td>\n",
       "      <td>6.0</td>\n",
       "      <td>gas</td>\n",
       "      <td>88705.0</td>\n",
       "      <td>automatic</td>\n",
       "      <td>pickup</td>\n",
       "      <td>white</td>\n",
       "      <td>1.0</td>\n",
       "      <td>2018-10-19</td>\n",
       "      <td>50</td>\n",
       "      <td>2009.354702</td>\n",
       "    </tr>\n",
       "    <tr>\n",
       "      <td>2</td>\n",
       "      <td>5500</td>\n",
       "      <td>2013.0</td>\n",
       "      <td>hyundai sonata</td>\n",
       "      <td>like new</td>\n",
       "      <td>4.0</td>\n",
       "      <td>gas</td>\n",
       "      <td>110000.0</td>\n",
       "      <td>automatic</td>\n",
       "      <td>sedan</td>\n",
       "      <td>red</td>\n",
       "      <td>NaN</td>\n",
       "      <td>2019-02-07</td>\n",
       "      <td>79</td>\n",
       "      <td>2013.000000</td>\n",
       "    </tr>\n",
       "    <tr>\n",
       "      <td>3</td>\n",
       "      <td>1500</td>\n",
       "      <td>2003.0</td>\n",
       "      <td>ford f-150</td>\n",
       "      <td>fair</td>\n",
       "      <td>8.0</td>\n",
       "      <td>gas</td>\n",
       "      <td>NaN</td>\n",
       "      <td>automatic</td>\n",
       "      <td>pickup</td>\n",
       "      <td>NaN</td>\n",
       "      <td>NaN</td>\n",
       "      <td>2019-03-22</td>\n",
       "      <td>9</td>\n",
       "      <td>2003.000000</td>\n",
       "    </tr>\n",
       "    <tr>\n",
       "      <td>4</td>\n",
       "      <td>14900</td>\n",
       "      <td>2017.0</td>\n",
       "      <td>chrysler 200</td>\n",
       "      <td>excellent</td>\n",
       "      <td>4.0</td>\n",
       "      <td>gas</td>\n",
       "      <td>80903.0</td>\n",
       "      <td>automatic</td>\n",
       "      <td>sedan</td>\n",
       "      <td>black</td>\n",
       "      <td>NaN</td>\n",
       "      <td>2019-04-02</td>\n",
       "      <td>28</td>\n",
       "      <td>2017.000000</td>\n",
       "    </tr>\n",
       "  </tbody>\n",
       "</table>\n",
       "</div>"
      ],
      "text/plain": [
       "   price  model_year           model  condition  cylinders fuel  odometer  \\\n",
       "0   9400      2011.0          bmw x5       good        6.0  gas  145000.0   \n",
       "1  25500         NaN      ford f-150       good        6.0  gas   88705.0   \n",
       "2   5500      2013.0  hyundai sonata   like new        4.0  gas  110000.0   \n",
       "3   1500      2003.0      ford f-150       fair        8.0  gas       NaN   \n",
       "4  14900      2017.0    chrysler 200  excellent        4.0  gas   80903.0   \n",
       "\n",
       "  transmission    type paint_color  is_4wd date_posted  days_listed  \\\n",
       "0    automatic     SUV         NaN     1.0  2018-06-23           19   \n",
       "1    automatic  pickup       white     1.0  2018-10-19           50   \n",
       "2    automatic   sedan         red     NaN  2019-02-07           79   \n",
       "3    automatic  pickup         NaN     NaN  2019-03-22            9   \n",
       "4    automatic   sedan       black     NaN  2019-04-02           28   \n",
       "\n",
       "   model_year_full  \n",
       "0      2011.000000  \n",
       "1      2009.354702  \n",
       "2      2013.000000  \n",
       "3      2003.000000  \n",
       "4      2017.000000  "
      ]
     },
     "execution_count": 10,
     "metadata": {},
     "output_type": "execute_result"
    }
   ],
   "source": [
    "data['model_year_full'] = data['model_year'].fillna(data.groupby('model')['model_year'].transform('mean'))\n",
    "data.head()"
   ]
  },
  {
   "cell_type": "code",
   "execution_count": 11,
   "metadata": {},
   "outputs": [],
   "source": [
    "data['odometer_full'] = data['odometer'].fillna(data.groupby(['model_year','transmission'])['odometer'].transform('median'))\n",
    "\n",
    "\n",
    "#data['odometer'] =data['odometer'].fillna('median',inplace=True)"
   ]
  },
  {
   "cell_type": "code",
   "execution_count": 12,
   "metadata": {
    "scrolled": true
   },
   "outputs": [
    {
     "data": {
      "text/html": [
       "<div>\n",
       "<style scoped>\n",
       "    .dataframe tbody tr th:only-of-type {\n",
       "        vertical-align: middle;\n",
       "    }\n",
       "\n",
       "    .dataframe tbody tr th {\n",
       "        vertical-align: top;\n",
       "    }\n",
       "\n",
       "    .dataframe thead th {\n",
       "        text-align: right;\n",
       "    }\n",
       "</style>\n",
       "<table border=\"1\" class=\"dataframe\">\n",
       "  <thead>\n",
       "    <tr style=\"text-align: right;\">\n",
       "      <th></th>\n",
       "      <th>price</th>\n",
       "      <th>model_year</th>\n",
       "      <th>model</th>\n",
       "      <th>condition</th>\n",
       "      <th>cylinders</th>\n",
       "      <th>fuel</th>\n",
       "      <th>odometer</th>\n",
       "      <th>transmission</th>\n",
       "      <th>type</th>\n",
       "      <th>paint_color</th>\n",
       "      <th>is_4wd</th>\n",
       "      <th>date_posted</th>\n",
       "      <th>days_listed</th>\n",
       "      <th>model_year_full</th>\n",
       "      <th>odometer_full</th>\n",
       "    </tr>\n",
       "  </thead>\n",
       "  <tbody>\n",
       "    <tr>\n",
       "      <td>3</td>\n",
       "      <td>1500</td>\n",
       "      <td>2003.0</td>\n",
       "      <td>ford f-150</td>\n",
       "      <td>fair</td>\n",
       "      <td>8.0</td>\n",
       "      <td>gas</td>\n",
       "      <td>NaN</td>\n",
       "      <td>automatic</td>\n",
       "      <td>pickup</td>\n",
       "      <td>NaN</td>\n",
       "      <td>NaN</td>\n",
       "      <td>2019-03-22</td>\n",
       "      <td>9</td>\n",
       "      <td>2003.0</td>\n",
       "      <td>162932.0</td>\n",
       "    </tr>\n",
       "    <tr>\n",
       "      <td>15</td>\n",
       "      <td>17990</td>\n",
       "      <td>2013.0</td>\n",
       "      <td>ram 1500</td>\n",
       "      <td>excellent</td>\n",
       "      <td>8.0</td>\n",
       "      <td>gas</td>\n",
       "      <td>NaN</td>\n",
       "      <td>automatic</td>\n",
       "      <td>pickup</td>\n",
       "      <td>red</td>\n",
       "      <td>1.0</td>\n",
       "      <td>2018-05-15</td>\n",
       "      <td>111</td>\n",
       "      <td>2013.0</td>\n",
       "      <td>101251.5</td>\n",
       "    </tr>\n",
       "    <tr>\n",
       "      <td>23</td>\n",
       "      <td>7500</td>\n",
       "      <td>2004.0</td>\n",
       "      <td>jeep wrangler</td>\n",
       "      <td>good</td>\n",
       "      <td>6.0</td>\n",
       "      <td>gas</td>\n",
       "      <td>NaN</td>\n",
       "      <td>automatic</td>\n",
       "      <td>SUV</td>\n",
       "      <td>red</td>\n",
       "      <td>1.0</td>\n",
       "      <td>2018-05-17</td>\n",
       "      <td>39</td>\n",
       "      <td>2004.0</td>\n",
       "      <td>159000.0</td>\n",
       "    </tr>\n",
       "    <tr>\n",
       "      <td>24</td>\n",
       "      <td>3950</td>\n",
       "      <td>2009.0</td>\n",
       "      <td>chrysler 200</td>\n",
       "      <td>excellent</td>\n",
       "      <td>4.0</td>\n",
       "      <td>gas</td>\n",
       "      <td>NaN</td>\n",
       "      <td>automatic</td>\n",
       "      <td>sedan</td>\n",
       "      <td>red</td>\n",
       "      <td>NaN</td>\n",
       "      <td>2018-06-11</td>\n",
       "      <td>40</td>\n",
       "      <td>2009.0</td>\n",
       "      <td>132797.0</td>\n",
       "    </tr>\n",
       "    <tr>\n",
       "      <td>25</td>\n",
       "      <td>11499</td>\n",
       "      <td>2017.0</td>\n",
       "      <td>chevrolet malibu</td>\n",
       "      <td>like new</td>\n",
       "      <td>4.0</td>\n",
       "      <td>gas</td>\n",
       "      <td>NaN</td>\n",
       "      <td>automatic</td>\n",
       "      <td>sedan</td>\n",
       "      <td>NaN</td>\n",
       "      <td>NaN</td>\n",
       "      <td>2018-07-26</td>\n",
       "      <td>43</td>\n",
       "      <td>2017.0</td>\n",
       "      <td>42631.0</td>\n",
       "    </tr>\n",
       "    <tr>\n",
       "      <td>...</td>\n",
       "      <td>...</td>\n",
       "      <td>...</td>\n",
       "      <td>...</td>\n",
       "      <td>...</td>\n",
       "      <td>...</td>\n",
       "      <td>...</td>\n",
       "      <td>...</td>\n",
       "      <td>...</td>\n",
       "      <td>...</td>\n",
       "      <td>...</td>\n",
       "      <td>...</td>\n",
       "      <td>...</td>\n",
       "      <td>...</td>\n",
       "      <td>...</td>\n",
       "      <td>...</td>\n",
       "    </tr>\n",
       "    <tr>\n",
       "      <td>51498</td>\n",
       "      <td>15900</td>\n",
       "      <td>2011.0</td>\n",
       "      <td>gmc sierra 1500</td>\n",
       "      <td>excellent</td>\n",
       "      <td>8.0</td>\n",
       "      <td>gas</td>\n",
       "      <td>NaN</td>\n",
       "      <td>automatic</td>\n",
       "      <td>truck</td>\n",
       "      <td>NaN</td>\n",
       "      <td>1.0</td>\n",
       "      <td>2019-01-25</td>\n",
       "      <td>69</td>\n",
       "      <td>2011.0</td>\n",
       "      <td>124000.0</td>\n",
       "    </tr>\n",
       "    <tr>\n",
       "      <td>51507</td>\n",
       "      <td>29500</td>\n",
       "      <td>2012.0</td>\n",
       "      <td>toyota tundra</td>\n",
       "      <td>good</td>\n",
       "      <td>8.0</td>\n",
       "      <td>gas</td>\n",
       "      <td>NaN</td>\n",
       "      <td>automatic</td>\n",
       "      <td>pickup</td>\n",
       "      <td>grey</td>\n",
       "      <td>1.0</td>\n",
       "      <td>2018-05-01</td>\n",
       "      <td>31</td>\n",
       "      <td>2012.0</td>\n",
       "      <td>112244.0</td>\n",
       "    </tr>\n",
       "    <tr>\n",
       "      <td>51516</td>\n",
       "      <td>8999</td>\n",
       "      <td>2011.0</td>\n",
       "      <td>jeep grand cherokee</td>\n",
       "      <td>good</td>\n",
       "      <td>6.0</td>\n",
       "      <td>gas</td>\n",
       "      <td>NaN</td>\n",
       "      <td>automatic</td>\n",
       "      <td>SUV</td>\n",
       "      <td>white</td>\n",
       "      <td>1.0</td>\n",
       "      <td>2018-11-01</td>\n",
       "      <td>51</td>\n",
       "      <td>2011.0</td>\n",
       "      <td>124000.0</td>\n",
       "    </tr>\n",
       "    <tr>\n",
       "      <td>51519</td>\n",
       "      <td>11750</td>\n",
       "      <td>2015.0</td>\n",
       "      <td>honda accord</td>\n",
       "      <td>excellent</td>\n",
       "      <td>4.0</td>\n",
       "      <td>gas</td>\n",
       "      <td>NaN</td>\n",
       "      <td>automatic</td>\n",
       "      <td>coupe</td>\n",
       "      <td>NaN</td>\n",
       "      <td>NaN</td>\n",
       "      <td>2018-11-24</td>\n",
       "      <td>89</td>\n",
       "      <td>2015.0</td>\n",
       "      <td>80056.0</td>\n",
       "    </tr>\n",
       "    <tr>\n",
       "      <td>51524</td>\n",
       "      <td>6300</td>\n",
       "      <td>2014.0</td>\n",
       "      <td>nissan altima</td>\n",
       "      <td>good</td>\n",
       "      <td>4.0</td>\n",
       "      <td>gas</td>\n",
       "      <td>NaN</td>\n",
       "      <td>automatic</td>\n",
       "      <td>sedan</td>\n",
       "      <td>NaN</td>\n",
       "      <td>NaN</td>\n",
       "      <td>2018-06-05</td>\n",
       "      <td>10</td>\n",
       "      <td>2014.0</td>\n",
       "      <td>91000.0</td>\n",
       "    </tr>\n",
       "  </tbody>\n",
       "</table>\n",
       "<p>7892 rows × 15 columns</p>\n",
       "</div>"
      ],
      "text/plain": [
       "       price  model_year                model  condition  cylinders fuel  \\\n",
       "3       1500      2003.0           ford f-150       fair        8.0  gas   \n",
       "15     17990      2013.0             ram 1500  excellent        8.0  gas   \n",
       "23      7500      2004.0        jeep wrangler       good        6.0  gas   \n",
       "24      3950      2009.0         chrysler 200  excellent        4.0  gas   \n",
       "25     11499      2017.0     chevrolet malibu   like new        4.0  gas   \n",
       "...      ...         ...                  ...        ...        ...  ...   \n",
       "51498  15900      2011.0      gmc sierra 1500  excellent        8.0  gas   \n",
       "51507  29500      2012.0        toyota tundra       good        8.0  gas   \n",
       "51516   8999      2011.0  jeep grand cherokee       good        6.0  gas   \n",
       "51519  11750      2015.0         honda accord  excellent        4.0  gas   \n",
       "51524   6300      2014.0        nissan altima       good        4.0  gas   \n",
       "\n",
       "       odometer transmission    type paint_color  is_4wd date_posted  \\\n",
       "3           NaN    automatic  pickup         NaN     NaN  2019-03-22   \n",
       "15          NaN    automatic  pickup         red     1.0  2018-05-15   \n",
       "23          NaN    automatic     SUV         red     1.0  2018-05-17   \n",
       "24          NaN    automatic   sedan         red     NaN  2018-06-11   \n",
       "25          NaN    automatic   sedan         NaN     NaN  2018-07-26   \n",
       "...         ...          ...     ...         ...     ...         ...   \n",
       "51498       NaN    automatic   truck         NaN     1.0  2019-01-25   \n",
       "51507       NaN    automatic  pickup        grey     1.0  2018-05-01   \n",
       "51516       NaN    automatic     SUV       white     1.0  2018-11-01   \n",
       "51519       NaN    automatic   coupe         NaN     NaN  2018-11-24   \n",
       "51524       NaN    automatic   sedan         NaN     NaN  2018-06-05   \n",
       "\n",
       "       days_listed  model_year_full  odometer_full  \n",
       "3                9           2003.0       162932.0  \n",
       "15             111           2013.0       101251.5  \n",
       "23              39           2004.0       159000.0  \n",
       "24              40           2009.0       132797.0  \n",
       "25              43           2017.0        42631.0  \n",
       "...            ...              ...            ...  \n",
       "51498           69           2011.0       124000.0  \n",
       "51507           31           2012.0       112244.0  \n",
       "51516           51           2011.0       124000.0  \n",
       "51519           89           2015.0        80056.0  \n",
       "51524           10           2014.0        91000.0  \n",
       "\n",
       "[7892 rows x 15 columns]"
      ]
     },
     "execution_count": 12,
     "metadata": {},
     "output_type": "execute_result"
    }
   ],
   "source": [
    "data[data['odometer'].isnull()]\n"
   ]
  },
  {
   "cell_type": "markdown",
   "metadata": {},
   "source": [
    "<div class=\"alert alert-block alert-danger\">\n",
    "<b>Reviewer's comment</b> <a class=\"tocSkip\"></a>\n",
    "    \n",
    "~Very good idea to use transmission. But we need 2 columns. 1970 and 2000 car will have different values. Could you use transmission and year? Or transmision and type? Sedan and truck will have different values too. :)~ \n",
    "</div>\n",
    "\n",
    "<div class=\"alert alert-block alert-success\">\n",
    "<b>Reviewer's comment. V.2.</b> <a class=\"tocSkip\"></a>\n",
    "    \n",
    "Well done!\n",
    "</div>"
   ]
  },
  {
   "cell_type": "code",
   "execution_count": 13,
   "metadata": {},
   "outputs": [
    {
     "data": {
      "text/html": [
       "<div>\n",
       "<style scoped>\n",
       "    .dataframe tbody tr th:only-of-type {\n",
       "        vertical-align: middle;\n",
       "    }\n",
       "\n",
       "    .dataframe tbody tr th {\n",
       "        vertical-align: top;\n",
       "    }\n",
       "\n",
       "    .dataframe thead th {\n",
       "        text-align: right;\n",
       "    }\n",
       "</style>\n",
       "<table border=\"1\" class=\"dataframe\">\n",
       "  <thead>\n",
       "    <tr style=\"text-align: right;\">\n",
       "      <th></th>\n",
       "      <th>price</th>\n",
       "      <th>model_year</th>\n",
       "      <th>model</th>\n",
       "      <th>condition</th>\n",
       "      <th>cylinders</th>\n",
       "      <th>fuel</th>\n",
       "      <th>odometer</th>\n",
       "      <th>transmission</th>\n",
       "      <th>type</th>\n",
       "      <th>paint_color</th>\n",
       "      <th>is_4wd</th>\n",
       "      <th>date_posted</th>\n",
       "      <th>days_listed</th>\n",
       "      <th>model_year_full</th>\n",
       "      <th>odometer_full</th>\n",
       "    </tr>\n",
       "  </thead>\n",
       "  <tbody>\n",
       "    <tr>\n",
       "      <td>0</td>\n",
       "      <td>9400</td>\n",
       "      <td>2011.0</td>\n",
       "      <td>bmw x5</td>\n",
       "      <td>good</td>\n",
       "      <td>6.0</td>\n",
       "      <td>gas</td>\n",
       "      <td>145000.0</td>\n",
       "      <td>automatic</td>\n",
       "      <td>SUV</td>\n",
       "      <td>NaN</td>\n",
       "      <td>1.0</td>\n",
       "      <td>2018-06-23</td>\n",
       "      <td>19</td>\n",
       "      <td>2011.000000</td>\n",
       "      <td>145000.0</td>\n",
       "    </tr>\n",
       "    <tr>\n",
       "      <td>1</td>\n",
       "      <td>25500</td>\n",
       "      <td>NaN</td>\n",
       "      <td>ford f-150</td>\n",
       "      <td>good</td>\n",
       "      <td>6.0</td>\n",
       "      <td>gas</td>\n",
       "      <td>88705.0</td>\n",
       "      <td>automatic</td>\n",
       "      <td>pickup</td>\n",
       "      <td>white</td>\n",
       "      <td>1.0</td>\n",
       "      <td>2018-10-19</td>\n",
       "      <td>50</td>\n",
       "      <td>2009.354702</td>\n",
       "      <td>88705.0</td>\n",
       "    </tr>\n",
       "    <tr>\n",
       "      <td>2</td>\n",
       "      <td>5500</td>\n",
       "      <td>2013.0</td>\n",
       "      <td>hyundai sonata</td>\n",
       "      <td>like new</td>\n",
       "      <td>4.0</td>\n",
       "      <td>gas</td>\n",
       "      <td>110000.0</td>\n",
       "      <td>automatic</td>\n",
       "      <td>sedan</td>\n",
       "      <td>red</td>\n",
       "      <td>NaN</td>\n",
       "      <td>2019-02-07</td>\n",
       "      <td>79</td>\n",
       "      <td>2013.000000</td>\n",
       "      <td>110000.0</td>\n",
       "    </tr>\n",
       "    <tr>\n",
       "      <td>3</td>\n",
       "      <td>1500</td>\n",
       "      <td>2003.0</td>\n",
       "      <td>ford f-150</td>\n",
       "      <td>fair</td>\n",
       "      <td>8.0</td>\n",
       "      <td>gas</td>\n",
       "      <td>NaN</td>\n",
       "      <td>automatic</td>\n",
       "      <td>pickup</td>\n",
       "      <td>NaN</td>\n",
       "      <td>NaN</td>\n",
       "      <td>2019-03-22</td>\n",
       "      <td>9</td>\n",
       "      <td>2003.000000</td>\n",
       "      <td>162932.0</td>\n",
       "    </tr>\n",
       "    <tr>\n",
       "      <td>4</td>\n",
       "      <td>14900</td>\n",
       "      <td>2017.0</td>\n",
       "      <td>chrysler 200</td>\n",
       "      <td>excellent</td>\n",
       "      <td>4.0</td>\n",
       "      <td>gas</td>\n",
       "      <td>80903.0</td>\n",
       "      <td>automatic</td>\n",
       "      <td>sedan</td>\n",
       "      <td>black</td>\n",
       "      <td>NaN</td>\n",
       "      <td>2019-04-02</td>\n",
       "      <td>28</td>\n",
       "      <td>2017.000000</td>\n",
       "      <td>80903.0</td>\n",
       "    </tr>\n",
       "  </tbody>\n",
       "</table>\n",
       "</div>"
      ],
      "text/plain": [
       "   price  model_year           model  condition  cylinders fuel  odometer  \\\n",
       "0   9400      2011.0          bmw x5       good        6.0  gas  145000.0   \n",
       "1  25500         NaN      ford f-150       good        6.0  gas   88705.0   \n",
       "2   5500      2013.0  hyundai sonata   like new        4.0  gas  110000.0   \n",
       "3   1500      2003.0      ford f-150       fair        8.0  gas       NaN   \n",
       "4  14900      2017.0    chrysler 200  excellent        4.0  gas   80903.0   \n",
       "\n",
       "  transmission    type paint_color  is_4wd date_posted  days_listed  \\\n",
       "0    automatic     SUV         NaN     1.0  2018-06-23           19   \n",
       "1    automatic  pickup       white     1.0  2018-10-19           50   \n",
       "2    automatic   sedan         red     NaN  2019-02-07           79   \n",
       "3    automatic  pickup         NaN     NaN  2019-03-22            9   \n",
       "4    automatic   sedan       black     NaN  2019-04-02           28   \n",
       "\n",
       "   model_year_full  odometer_full  \n",
       "0      2011.000000       145000.0  \n",
       "1      2009.354702        88705.0  \n",
       "2      2013.000000       110000.0  \n",
       "3      2003.000000       162932.0  \n",
       "4      2017.000000        80903.0  "
      ]
     },
     "execution_count": 13,
     "metadata": {},
     "output_type": "execute_result"
    }
   ],
   "source": [
    "data.head()"
   ]
  },
  {
   "cell_type": "code",
   "execution_count": 14,
   "metadata": {},
   "outputs": [],
   "source": [
    "data['is_4wd'].fillna(0, inplace=True)"
   ]
  },
  {
   "cell_type": "code",
   "execution_count": 15,
   "metadata": {
    "scrolled": true
   },
   "outputs": [
    {
     "data": {
      "text/html": [
       "<div>\n",
       "<style scoped>\n",
       "    .dataframe tbody tr th:only-of-type {\n",
       "        vertical-align: middle;\n",
       "    }\n",
       "\n",
       "    .dataframe tbody tr th {\n",
       "        vertical-align: top;\n",
       "    }\n",
       "\n",
       "    .dataframe thead th {\n",
       "        text-align: right;\n",
       "    }\n",
       "</style>\n",
       "<table border=\"1\" class=\"dataframe\">\n",
       "  <thead>\n",
       "    <tr style=\"text-align: right;\">\n",
       "      <th></th>\n",
       "      <th>price</th>\n",
       "      <th>model_year</th>\n",
       "      <th>model</th>\n",
       "      <th>condition</th>\n",
       "      <th>cylinders</th>\n",
       "      <th>fuel</th>\n",
       "      <th>odometer</th>\n",
       "      <th>transmission</th>\n",
       "      <th>type</th>\n",
       "      <th>paint_color</th>\n",
       "      <th>is_4wd</th>\n",
       "      <th>date_posted</th>\n",
       "      <th>days_listed</th>\n",
       "      <th>model_year_full</th>\n",
       "      <th>odometer_full</th>\n",
       "    </tr>\n",
       "  </thead>\n",
       "  <tbody>\n",
       "    <tr>\n",
       "      <td>0</td>\n",
       "      <td>9400</td>\n",
       "      <td>2011.0</td>\n",
       "      <td>bmw x5</td>\n",
       "      <td>good</td>\n",
       "      <td>6.0</td>\n",
       "      <td>gas</td>\n",
       "      <td>145000.0</td>\n",
       "      <td>automatic</td>\n",
       "      <td>SUV</td>\n",
       "      <td>NaN</td>\n",
       "      <td>1</td>\n",
       "      <td>2018-06-23</td>\n",
       "      <td>19</td>\n",
       "      <td>2011.000000</td>\n",
       "      <td>145000.0</td>\n",
       "    </tr>\n",
       "    <tr>\n",
       "      <td>1</td>\n",
       "      <td>25500</td>\n",
       "      <td>NaN</td>\n",
       "      <td>ford f-150</td>\n",
       "      <td>good</td>\n",
       "      <td>6.0</td>\n",
       "      <td>gas</td>\n",
       "      <td>88705.0</td>\n",
       "      <td>automatic</td>\n",
       "      <td>pickup</td>\n",
       "      <td>white</td>\n",
       "      <td>1</td>\n",
       "      <td>2018-10-19</td>\n",
       "      <td>50</td>\n",
       "      <td>2009.354702</td>\n",
       "      <td>88705.0</td>\n",
       "    </tr>\n",
       "    <tr>\n",
       "      <td>2</td>\n",
       "      <td>5500</td>\n",
       "      <td>2013.0</td>\n",
       "      <td>hyundai sonata</td>\n",
       "      <td>like new</td>\n",
       "      <td>4.0</td>\n",
       "      <td>gas</td>\n",
       "      <td>110000.0</td>\n",
       "      <td>automatic</td>\n",
       "      <td>sedan</td>\n",
       "      <td>red</td>\n",
       "      <td>0</td>\n",
       "      <td>2019-02-07</td>\n",
       "      <td>79</td>\n",
       "      <td>2013.000000</td>\n",
       "      <td>110000.0</td>\n",
       "    </tr>\n",
       "    <tr>\n",
       "      <td>3</td>\n",
       "      <td>1500</td>\n",
       "      <td>2003.0</td>\n",
       "      <td>ford f-150</td>\n",
       "      <td>fair</td>\n",
       "      <td>8.0</td>\n",
       "      <td>gas</td>\n",
       "      <td>NaN</td>\n",
       "      <td>automatic</td>\n",
       "      <td>pickup</td>\n",
       "      <td>NaN</td>\n",
       "      <td>0</td>\n",
       "      <td>2019-03-22</td>\n",
       "      <td>9</td>\n",
       "      <td>2003.000000</td>\n",
       "      <td>162932.0</td>\n",
       "    </tr>\n",
       "    <tr>\n",
       "      <td>4</td>\n",
       "      <td>14900</td>\n",
       "      <td>2017.0</td>\n",
       "      <td>chrysler 200</td>\n",
       "      <td>excellent</td>\n",
       "      <td>4.0</td>\n",
       "      <td>gas</td>\n",
       "      <td>80903.0</td>\n",
       "      <td>automatic</td>\n",
       "      <td>sedan</td>\n",
       "      <td>black</td>\n",
       "      <td>0</td>\n",
       "      <td>2019-04-02</td>\n",
       "      <td>28</td>\n",
       "      <td>2017.000000</td>\n",
       "      <td>80903.0</td>\n",
       "    </tr>\n",
       "  </tbody>\n",
       "</table>\n",
       "</div>"
      ],
      "text/plain": [
       "   price  model_year           model  condition  cylinders fuel  odometer  \\\n",
       "0   9400      2011.0          bmw x5       good        6.0  gas  145000.0   \n",
       "1  25500         NaN      ford f-150       good        6.0  gas   88705.0   \n",
       "2   5500      2013.0  hyundai sonata   like new        4.0  gas  110000.0   \n",
       "3   1500      2003.0      ford f-150       fair        8.0  gas       NaN   \n",
       "4  14900      2017.0    chrysler 200  excellent        4.0  gas   80903.0   \n",
       "\n",
       "  transmission    type paint_color  is_4wd date_posted  days_listed  \\\n",
       "0    automatic     SUV         NaN       1  2018-06-23           19   \n",
       "1    automatic  pickup       white       1  2018-10-19           50   \n",
       "2    automatic   sedan         red       0  2019-02-07           79   \n",
       "3    automatic  pickup         NaN       0  2019-03-22            9   \n",
       "4    automatic   sedan       black       0  2019-04-02           28   \n",
       "\n",
       "   model_year_full  odometer_full  \n",
       "0      2011.000000       145000.0  \n",
       "1      2009.354702        88705.0  \n",
       "2      2013.000000       110000.0  \n",
       "3      2003.000000       162932.0  \n",
       "4      2017.000000        80903.0  "
      ]
     },
     "execution_count": 15,
     "metadata": {},
     "output_type": "execute_result"
    }
   ],
   "source": [
    "data['is_4wd'] = data['is_4wd'].astype(int)\n",
    "data.head()"
   ]
  },
  {
   "cell_type": "code",
   "execution_count": 16,
   "metadata": {},
   "outputs": [
    {
     "data": {
      "text/html": [
       "<div>\n",
       "<style scoped>\n",
       "    .dataframe tbody tr th:only-of-type {\n",
       "        vertical-align: middle;\n",
       "    }\n",
       "\n",
       "    .dataframe tbody tr th {\n",
       "        vertical-align: top;\n",
       "    }\n",
       "\n",
       "    .dataframe thead th {\n",
       "        text-align: right;\n",
       "    }\n",
       "</style>\n",
       "<table border=\"1\" class=\"dataframe\">\n",
       "  <thead>\n",
       "    <tr style=\"text-align: right;\">\n",
       "      <th></th>\n",
       "      <th>price</th>\n",
       "      <th>model_year</th>\n",
       "      <th>model</th>\n",
       "      <th>condition</th>\n",
       "      <th>cylinders</th>\n",
       "      <th>fuel</th>\n",
       "      <th>odometer</th>\n",
       "      <th>transmission</th>\n",
       "      <th>type</th>\n",
       "      <th>paint_color</th>\n",
       "      <th>is_4wd</th>\n",
       "      <th>date_posted</th>\n",
       "      <th>days_listed</th>\n",
       "      <th>model_year_full</th>\n",
       "      <th>odometer_full</th>\n",
       "      <th>cylinders_full</th>\n",
       "    </tr>\n",
       "  </thead>\n",
       "  <tbody>\n",
       "  </tbody>\n",
       "</table>\n",
       "</div>"
      ],
      "text/plain": [
       "Empty DataFrame\n",
       "Columns: [price, model_year, model, condition, cylinders, fuel, odometer, transmission, type, paint_color, is_4wd, date_posted, days_listed, model_year_full, odometer_full, cylinders_full]\n",
       "Index: []"
      ]
     },
     "execution_count": 16,
     "metadata": {},
     "output_type": "execute_result"
    }
   ],
   "source": [
    "data['cylinders_full'] = data['cylinders'].fillna(data.groupby('model')['cylinders'].transform('mean'))\n",
    "data[data['cylinders_full'].isnull()]"
   ]
  },
  {
   "cell_type": "code",
   "execution_count": 17,
   "metadata": {
    "scrolled": true
   },
   "outputs": [
    {
     "data": {
      "text/plain": [
       "model              model_year\n",
       "acura tl           2005.0        31\n",
       "                   2007.0        30\n",
       "                   2008.0        28\n",
       "                   2012.0        27\n",
       "                   2006.0        24\n",
       "                                 ..\n",
       "volkswagen passat  2009.0         3\n",
       "                   1995.0         1\n",
       "                   1999.0         1\n",
       "                   2002.0         1\n",
       "                   2018.0         1\n",
       "Name: model_year, Length: 2226, dtype: int64"
      ]
     },
     "execution_count": 17,
     "metadata": {},
     "output_type": "execute_result"
    }
   ],
   "source": [
    "data.groupby('model')['model_year'].value_counts()"
   ]
  },
  {
   "cell_type": "code",
   "execution_count": 18,
   "metadata": {},
   "outputs": [
    {
     "data": {
      "text/html": [
       "<div>\n",
       "<style scoped>\n",
       "    .dataframe tbody tr th:only-of-type {\n",
       "        vertical-align: middle;\n",
       "    }\n",
       "\n",
       "    .dataframe tbody tr th {\n",
       "        vertical-align: top;\n",
       "    }\n",
       "\n",
       "    .dataframe thead th {\n",
       "        text-align: right;\n",
       "    }\n",
       "</style>\n",
       "<table border=\"1\" class=\"dataframe\">\n",
       "  <thead>\n",
       "    <tr style=\"text-align: right;\">\n",
       "      <th></th>\n",
       "      <th>price</th>\n",
       "      <th>model_year</th>\n",
       "      <th>model</th>\n",
       "      <th>condition</th>\n",
       "      <th>cylinders</th>\n",
       "      <th>fuel</th>\n",
       "      <th>odometer</th>\n",
       "      <th>transmission</th>\n",
       "      <th>type</th>\n",
       "      <th>paint_color</th>\n",
       "      <th>is_4wd</th>\n",
       "      <th>date_posted</th>\n",
       "      <th>days_listed</th>\n",
       "      <th>model_year_full</th>\n",
       "      <th>odometer_full</th>\n",
       "      <th>cylinders_full</th>\n",
       "    </tr>\n",
       "  </thead>\n",
       "  <tbody>\n",
       "    <tr>\n",
       "      <td>0</td>\n",
       "      <td>9400</td>\n",
       "      <td>2011.0</td>\n",
       "      <td>bmw x5</td>\n",
       "      <td>good</td>\n",
       "      <td>6.0</td>\n",
       "      <td>gas</td>\n",
       "      <td>145000.0</td>\n",
       "      <td>automatic</td>\n",
       "      <td>SUV</td>\n",
       "      <td>unknown</td>\n",
       "      <td>1</td>\n",
       "      <td>2018-06-23</td>\n",
       "      <td>19</td>\n",
       "      <td>2011.000000</td>\n",
       "      <td>145000.0</td>\n",
       "      <td>6.0</td>\n",
       "    </tr>\n",
       "    <tr>\n",
       "      <td>1</td>\n",
       "      <td>25500</td>\n",
       "      <td>NaN</td>\n",
       "      <td>ford f-150</td>\n",
       "      <td>good</td>\n",
       "      <td>6.0</td>\n",
       "      <td>gas</td>\n",
       "      <td>88705.0</td>\n",
       "      <td>automatic</td>\n",
       "      <td>pickup</td>\n",
       "      <td>white</td>\n",
       "      <td>1</td>\n",
       "      <td>2018-10-19</td>\n",
       "      <td>50</td>\n",
       "      <td>2009.354702</td>\n",
       "      <td>88705.0</td>\n",
       "      <td>6.0</td>\n",
       "    </tr>\n",
       "    <tr>\n",
       "      <td>2</td>\n",
       "      <td>5500</td>\n",
       "      <td>2013.0</td>\n",
       "      <td>hyundai sonata</td>\n",
       "      <td>like new</td>\n",
       "      <td>4.0</td>\n",
       "      <td>gas</td>\n",
       "      <td>110000.0</td>\n",
       "      <td>automatic</td>\n",
       "      <td>sedan</td>\n",
       "      <td>red</td>\n",
       "      <td>0</td>\n",
       "      <td>2019-02-07</td>\n",
       "      <td>79</td>\n",
       "      <td>2013.000000</td>\n",
       "      <td>110000.0</td>\n",
       "      <td>4.0</td>\n",
       "    </tr>\n",
       "    <tr>\n",
       "      <td>3</td>\n",
       "      <td>1500</td>\n",
       "      <td>2003.0</td>\n",
       "      <td>ford f-150</td>\n",
       "      <td>fair</td>\n",
       "      <td>8.0</td>\n",
       "      <td>gas</td>\n",
       "      <td>NaN</td>\n",
       "      <td>automatic</td>\n",
       "      <td>pickup</td>\n",
       "      <td>unknown</td>\n",
       "      <td>0</td>\n",
       "      <td>2019-03-22</td>\n",
       "      <td>9</td>\n",
       "      <td>2003.000000</td>\n",
       "      <td>162932.0</td>\n",
       "      <td>8.0</td>\n",
       "    </tr>\n",
       "    <tr>\n",
       "      <td>4</td>\n",
       "      <td>14900</td>\n",
       "      <td>2017.0</td>\n",
       "      <td>chrysler 200</td>\n",
       "      <td>excellent</td>\n",
       "      <td>4.0</td>\n",
       "      <td>gas</td>\n",
       "      <td>80903.0</td>\n",
       "      <td>automatic</td>\n",
       "      <td>sedan</td>\n",
       "      <td>black</td>\n",
       "      <td>0</td>\n",
       "      <td>2019-04-02</td>\n",
       "      <td>28</td>\n",
       "      <td>2017.000000</td>\n",
       "      <td>80903.0</td>\n",
       "      <td>4.0</td>\n",
       "    </tr>\n",
       "  </tbody>\n",
       "</table>\n",
       "</div>"
      ],
      "text/plain": [
       "   price  model_year           model  condition  cylinders fuel  odometer  \\\n",
       "0   9400      2011.0          bmw x5       good        6.0  gas  145000.0   \n",
       "1  25500         NaN      ford f-150       good        6.0  gas   88705.0   \n",
       "2   5500      2013.0  hyundai sonata   like new        4.0  gas  110000.0   \n",
       "3   1500      2003.0      ford f-150       fair        8.0  gas       NaN   \n",
       "4  14900      2017.0    chrysler 200  excellent        4.0  gas   80903.0   \n",
       "\n",
       "  transmission    type paint_color  is_4wd date_posted  days_listed  \\\n",
       "0    automatic     SUV     unknown       1  2018-06-23           19   \n",
       "1    automatic  pickup       white       1  2018-10-19           50   \n",
       "2    automatic   sedan         red       0  2019-02-07           79   \n",
       "3    automatic  pickup     unknown       0  2019-03-22            9   \n",
       "4    automatic   sedan       black       0  2019-04-02           28   \n",
       "\n",
       "   model_year_full  odometer_full  cylinders_full  \n",
       "0      2011.000000       145000.0             6.0  \n",
       "1      2009.354702        88705.0             6.0  \n",
       "2      2013.000000       110000.0             4.0  \n",
       "3      2003.000000       162932.0             8.0  \n",
       "4      2017.000000        80903.0             4.0  "
      ]
     },
     "execution_count": 18,
     "metadata": {},
     "output_type": "execute_result"
    }
   ],
   "source": [
    "\n",
    "data[\"paint_color\"].fillna('unknown',inplace=True)\n",
    "data.head()\n",
    "\n",
    "\n"
   ]
  },
  {
   "cell_type": "markdown",
   "metadata": {},
   "source": [
    "<div class=\"alert alert-block alert-danger\">\n",
    "<b>Reviewer's comment</b> <a class=\"tocSkip\"></a>\n",
    "    \n",
    "~Let's start with this cell. Could you move it upper? It help to fill all missing values.~ \n",
    "</div>\n",
    "\n",
    "<div class=\"alert alert-block alert-success\">\n",
    "<b>Reviewer's comment. V.2.</b> <a class=\"tocSkip\"></a>\n",
    "    \n",
    "Yep!\n",
    "</div>"
   ]
  },
  {
   "cell_type": "markdown",
   "metadata": {},
   "source": [
    "I filled all the missing values odometer missing values were filled with median value because of the outliers and added to new column odometer full,  is_4wd missing values were filled with 0 as Boolean value data type changed to int.   Cylinders were filled with mean values as no outliers. Model year missing values were filled with mean in new column ‘model year full    of the year per model as we needed for further calculations. Paint color missing values were filled with dummy value “unknown”    "
   ]
  },
  {
   "cell_type": "markdown",
   "metadata": {},
   "source": [
    "<div class=\"alert alert-block alert-success\">\n",
    "<b>Reviewer's comment</b> <a class=\"tocSkip\"></a>\n",
    "    \n",
    "Very good!</div>"
   ]
  },
  {
   "cell_type": "markdown",
   "metadata": {},
   "source": [
    "## Make calculations and add them to the table"
   ]
  },
  {
   "cell_type": "code",
   "execution_count": 19,
   "metadata": {},
   "outputs": [],
   "source": [
    "data['date_posted'] = pd.to_datetime(data['date_posted'])"
   ]
  },
  {
   "cell_type": "code",
   "execution_count": 20,
   "metadata": {},
   "outputs": [
    {
     "data": {
      "text/html": [
       "<div>\n",
       "<style scoped>\n",
       "    .dataframe tbody tr th:only-of-type {\n",
       "        vertical-align: middle;\n",
       "    }\n",
       "\n",
       "    .dataframe tbody tr th {\n",
       "        vertical-align: top;\n",
       "    }\n",
       "\n",
       "    .dataframe thead th {\n",
       "        text-align: right;\n",
       "    }\n",
       "</style>\n",
       "<table border=\"1\" class=\"dataframe\">\n",
       "  <thead>\n",
       "    <tr style=\"text-align: right;\">\n",
       "      <th></th>\n",
       "      <th>price</th>\n",
       "      <th>model_year</th>\n",
       "      <th>model</th>\n",
       "      <th>condition</th>\n",
       "      <th>cylinders</th>\n",
       "      <th>fuel</th>\n",
       "      <th>odometer</th>\n",
       "      <th>transmission</th>\n",
       "      <th>type</th>\n",
       "      <th>paint_color</th>\n",
       "      <th>is_4wd</th>\n",
       "      <th>date_posted</th>\n",
       "      <th>days_listed</th>\n",
       "      <th>model_year_full</th>\n",
       "      <th>odometer_full</th>\n",
       "      <th>cylinders_full</th>\n",
       "      <th>weekday</th>\n",
       "    </tr>\n",
       "  </thead>\n",
       "  <tbody>\n",
       "    <tr>\n",
       "      <td>0</td>\n",
       "      <td>9400</td>\n",
       "      <td>2011.0</td>\n",
       "      <td>bmw x5</td>\n",
       "      <td>good</td>\n",
       "      <td>6.0</td>\n",
       "      <td>gas</td>\n",
       "      <td>145000.0</td>\n",
       "      <td>automatic</td>\n",
       "      <td>SUV</td>\n",
       "      <td>unknown</td>\n",
       "      <td>1</td>\n",
       "      <td>2018-06-23</td>\n",
       "      <td>19</td>\n",
       "      <td>2011.000000</td>\n",
       "      <td>145000.0</td>\n",
       "      <td>6.0</td>\n",
       "      <td>5</td>\n",
       "    </tr>\n",
       "    <tr>\n",
       "      <td>1</td>\n",
       "      <td>25500</td>\n",
       "      <td>NaN</td>\n",
       "      <td>ford f-150</td>\n",
       "      <td>good</td>\n",
       "      <td>6.0</td>\n",
       "      <td>gas</td>\n",
       "      <td>88705.0</td>\n",
       "      <td>automatic</td>\n",
       "      <td>pickup</td>\n",
       "      <td>white</td>\n",
       "      <td>1</td>\n",
       "      <td>2018-10-19</td>\n",
       "      <td>50</td>\n",
       "      <td>2009.354702</td>\n",
       "      <td>88705.0</td>\n",
       "      <td>6.0</td>\n",
       "      <td>4</td>\n",
       "    </tr>\n",
       "    <tr>\n",
       "      <td>2</td>\n",
       "      <td>5500</td>\n",
       "      <td>2013.0</td>\n",
       "      <td>hyundai sonata</td>\n",
       "      <td>like new</td>\n",
       "      <td>4.0</td>\n",
       "      <td>gas</td>\n",
       "      <td>110000.0</td>\n",
       "      <td>automatic</td>\n",
       "      <td>sedan</td>\n",
       "      <td>red</td>\n",
       "      <td>0</td>\n",
       "      <td>2019-02-07</td>\n",
       "      <td>79</td>\n",
       "      <td>2013.000000</td>\n",
       "      <td>110000.0</td>\n",
       "      <td>4.0</td>\n",
       "      <td>3</td>\n",
       "    </tr>\n",
       "    <tr>\n",
       "      <td>3</td>\n",
       "      <td>1500</td>\n",
       "      <td>2003.0</td>\n",
       "      <td>ford f-150</td>\n",
       "      <td>fair</td>\n",
       "      <td>8.0</td>\n",
       "      <td>gas</td>\n",
       "      <td>NaN</td>\n",
       "      <td>automatic</td>\n",
       "      <td>pickup</td>\n",
       "      <td>unknown</td>\n",
       "      <td>0</td>\n",
       "      <td>2019-03-22</td>\n",
       "      <td>9</td>\n",
       "      <td>2003.000000</td>\n",
       "      <td>162932.0</td>\n",
       "      <td>8.0</td>\n",
       "      <td>4</td>\n",
       "    </tr>\n",
       "    <tr>\n",
       "      <td>4</td>\n",
       "      <td>14900</td>\n",
       "      <td>2017.0</td>\n",
       "      <td>chrysler 200</td>\n",
       "      <td>excellent</td>\n",
       "      <td>4.0</td>\n",
       "      <td>gas</td>\n",
       "      <td>80903.0</td>\n",
       "      <td>automatic</td>\n",
       "      <td>sedan</td>\n",
       "      <td>black</td>\n",
       "      <td>0</td>\n",
       "      <td>2019-04-02</td>\n",
       "      <td>28</td>\n",
       "      <td>2017.000000</td>\n",
       "      <td>80903.0</td>\n",
       "      <td>4.0</td>\n",
       "      <td>1</td>\n",
       "    </tr>\n",
       "  </tbody>\n",
       "</table>\n",
       "</div>"
      ],
      "text/plain": [
       "   price  model_year           model  condition  cylinders fuel  odometer  \\\n",
       "0   9400      2011.0          bmw x5       good        6.0  gas  145000.0   \n",
       "1  25500         NaN      ford f-150       good        6.0  gas   88705.0   \n",
       "2   5500      2013.0  hyundai sonata   like new        4.0  gas  110000.0   \n",
       "3   1500      2003.0      ford f-150       fair        8.0  gas       NaN   \n",
       "4  14900      2017.0    chrysler 200  excellent        4.0  gas   80903.0   \n",
       "\n",
       "  transmission    type paint_color  is_4wd date_posted  days_listed  \\\n",
       "0    automatic     SUV     unknown       1  2018-06-23           19   \n",
       "1    automatic  pickup       white       1  2018-10-19           50   \n",
       "2    automatic   sedan         red       0  2019-02-07           79   \n",
       "3    automatic  pickup     unknown       0  2019-03-22            9   \n",
       "4    automatic   sedan       black       0  2019-04-02           28   \n",
       "\n",
       "   model_year_full  odometer_full  cylinders_full  weekday  \n",
       "0      2011.000000       145000.0             6.0        5  \n",
       "1      2009.354702        88705.0             6.0        4  \n",
       "2      2013.000000       110000.0             4.0        3  \n",
       "3      2003.000000       162932.0             8.0        4  \n",
       "4      2017.000000        80903.0             4.0        1  "
      ]
     },
     "execution_count": 20,
     "metadata": {},
     "output_type": "execute_result"
    }
   ],
   "source": [
    "data['weekday']=data['date_posted'].dt.weekday\n",
    "data.head()"
   ]
  },
  {
   "cell_type": "code",
   "execution_count": 21,
   "metadata": {},
   "outputs": [],
   "source": [
    "data['model_year_full'] = data['model_year_full'].astype(int)"
   ]
  },
  {
   "cell_type": "code",
   "execution_count": 22,
   "metadata": {},
   "outputs": [],
   "source": [
    "data['date_posted_year'] = data['date_posted'].dt.year"
   ]
  },
  {
   "cell_type": "code",
   "execution_count": 23,
   "metadata": {
    "scrolled": true
   },
   "outputs": [
    {
     "name": "stdout",
     "output_type": "stream",
     "text": [
      "<class 'pandas.core.frame.DataFrame'>\n",
      "RangeIndex: 51525 entries, 0 to 51524\n",
      "Data columns (total 18 columns):\n",
      "price               51525 non-null int64\n",
      "model_year          47906 non-null float64\n",
      "model               51525 non-null object\n",
      "condition           51525 non-null object\n",
      "cylinders           46265 non-null float64\n",
      "fuel                51525 non-null object\n",
      "odometer            43633 non-null float64\n",
      "transmission        51525 non-null object\n",
      "type                51525 non-null object\n",
      "paint_color         51525 non-null object\n",
      "is_4wd              51525 non-null int64\n",
      "date_posted         51525 non-null datetime64[ns]\n",
      "days_listed         51525 non-null int64\n",
      "model_year_full     51525 non-null int64\n",
      "odometer_full       50974 non-null float64\n",
      "cylinders_full      51525 non-null float64\n",
      "weekday             51525 non-null int64\n",
      "date_posted_year    51525 non-null int64\n",
      "dtypes: datetime64[ns](1), float64(5), int64(6), object(6)\n",
      "memory usage: 7.1+ MB\n"
     ]
    }
   ],
   "source": [
    "\n",
    "\n",
    "data.info()"
   ]
  },
  {
   "cell_type": "markdown",
   "metadata": {},
   "source": [
    "<div class=\"alert alert-block alert-success\">\n",
    "<b>Reviewer's comment</b> <a class=\"tocSkip\"></a>\n",
    "    \n",
    "Well done!</div>"
   ]
  },
  {
   "cell_type": "code",
   "execution_count": 24,
   "metadata": {},
   "outputs": [
    {
     "data": {
      "text/html": [
       "<div>\n",
       "<style scoped>\n",
       "    .dataframe tbody tr th:only-of-type {\n",
       "        vertical-align: middle;\n",
       "    }\n",
       "\n",
       "    .dataframe tbody tr th {\n",
       "        vertical-align: top;\n",
       "    }\n",
       "\n",
       "    .dataframe thead th {\n",
       "        text-align: right;\n",
       "    }\n",
       "</style>\n",
       "<table border=\"1\" class=\"dataframe\">\n",
       "  <thead>\n",
       "    <tr style=\"text-align: right;\">\n",
       "      <th></th>\n",
       "      <th>price</th>\n",
       "      <th>model_year</th>\n",
       "      <th>model</th>\n",
       "      <th>condition</th>\n",
       "      <th>cylinders</th>\n",
       "      <th>fuel</th>\n",
       "      <th>odometer</th>\n",
       "      <th>transmission</th>\n",
       "      <th>type</th>\n",
       "      <th>paint_color</th>\n",
       "      <th>is_4wd</th>\n",
       "      <th>date_posted</th>\n",
       "      <th>days_listed</th>\n",
       "      <th>model_year_full</th>\n",
       "      <th>odometer_full</th>\n",
       "      <th>cylinders_full</th>\n",
       "      <th>weekday</th>\n",
       "      <th>date_posted_year</th>\n",
       "      <th>vehicle_age</th>\n",
       "    </tr>\n",
       "  </thead>\n",
       "  <tbody>\n",
       "    <tr>\n",
       "      <td>0</td>\n",
       "      <td>9400</td>\n",
       "      <td>2011.0</td>\n",
       "      <td>bmw x5</td>\n",
       "      <td>good</td>\n",
       "      <td>6.0</td>\n",
       "      <td>gas</td>\n",
       "      <td>145000.0</td>\n",
       "      <td>automatic</td>\n",
       "      <td>SUV</td>\n",
       "      <td>unknown</td>\n",
       "      <td>1</td>\n",
       "      <td>2018-06-23</td>\n",
       "      <td>19</td>\n",
       "      <td>2011</td>\n",
       "      <td>145000.0</td>\n",
       "      <td>6.0</td>\n",
       "      <td>5</td>\n",
       "      <td>2018</td>\n",
       "      <td>8</td>\n",
       "    </tr>\n",
       "    <tr>\n",
       "      <td>1</td>\n",
       "      <td>25500</td>\n",
       "      <td>NaN</td>\n",
       "      <td>ford f-150</td>\n",
       "      <td>good</td>\n",
       "      <td>6.0</td>\n",
       "      <td>gas</td>\n",
       "      <td>88705.0</td>\n",
       "      <td>automatic</td>\n",
       "      <td>pickup</td>\n",
       "      <td>white</td>\n",
       "      <td>1</td>\n",
       "      <td>2018-10-19</td>\n",
       "      <td>50</td>\n",
       "      <td>2009</td>\n",
       "      <td>88705.0</td>\n",
       "      <td>6.0</td>\n",
       "      <td>4</td>\n",
       "      <td>2018</td>\n",
       "      <td>10</td>\n",
       "    </tr>\n",
       "    <tr>\n",
       "      <td>2</td>\n",
       "      <td>5500</td>\n",
       "      <td>2013.0</td>\n",
       "      <td>hyundai sonata</td>\n",
       "      <td>like new</td>\n",
       "      <td>4.0</td>\n",
       "      <td>gas</td>\n",
       "      <td>110000.0</td>\n",
       "      <td>automatic</td>\n",
       "      <td>sedan</td>\n",
       "      <td>red</td>\n",
       "      <td>0</td>\n",
       "      <td>2019-02-07</td>\n",
       "      <td>79</td>\n",
       "      <td>2013</td>\n",
       "      <td>110000.0</td>\n",
       "      <td>4.0</td>\n",
       "      <td>3</td>\n",
       "      <td>2019</td>\n",
       "      <td>7</td>\n",
       "    </tr>\n",
       "    <tr>\n",
       "      <td>3</td>\n",
       "      <td>1500</td>\n",
       "      <td>2003.0</td>\n",
       "      <td>ford f-150</td>\n",
       "      <td>fair</td>\n",
       "      <td>8.0</td>\n",
       "      <td>gas</td>\n",
       "      <td>NaN</td>\n",
       "      <td>automatic</td>\n",
       "      <td>pickup</td>\n",
       "      <td>unknown</td>\n",
       "      <td>0</td>\n",
       "      <td>2019-03-22</td>\n",
       "      <td>9</td>\n",
       "      <td>2003</td>\n",
       "      <td>162932.0</td>\n",
       "      <td>8.0</td>\n",
       "      <td>4</td>\n",
       "      <td>2019</td>\n",
       "      <td>17</td>\n",
       "    </tr>\n",
       "    <tr>\n",
       "      <td>4</td>\n",
       "      <td>14900</td>\n",
       "      <td>2017.0</td>\n",
       "      <td>chrysler 200</td>\n",
       "      <td>excellent</td>\n",
       "      <td>4.0</td>\n",
       "      <td>gas</td>\n",
       "      <td>80903.0</td>\n",
       "      <td>automatic</td>\n",
       "      <td>sedan</td>\n",
       "      <td>black</td>\n",
       "      <td>0</td>\n",
       "      <td>2019-04-02</td>\n",
       "      <td>28</td>\n",
       "      <td>2017</td>\n",
       "      <td>80903.0</td>\n",
       "      <td>4.0</td>\n",
       "      <td>1</td>\n",
       "      <td>2019</td>\n",
       "      <td>3</td>\n",
       "    </tr>\n",
       "  </tbody>\n",
       "</table>\n",
       "</div>"
      ],
      "text/plain": [
       "   price  model_year           model  condition  cylinders fuel  odometer  \\\n",
       "0   9400      2011.0          bmw x5       good        6.0  gas  145000.0   \n",
       "1  25500         NaN      ford f-150       good        6.0  gas   88705.0   \n",
       "2   5500      2013.0  hyundai sonata   like new        4.0  gas  110000.0   \n",
       "3   1500      2003.0      ford f-150       fair        8.0  gas       NaN   \n",
       "4  14900      2017.0    chrysler 200  excellent        4.0  gas   80903.0   \n",
       "\n",
       "  transmission    type paint_color  is_4wd date_posted  days_listed  \\\n",
       "0    automatic     SUV     unknown       1  2018-06-23           19   \n",
       "1    automatic  pickup       white       1  2018-10-19           50   \n",
       "2    automatic   sedan         red       0  2019-02-07           79   \n",
       "3    automatic  pickup     unknown       0  2019-03-22            9   \n",
       "4    automatic   sedan       black       0  2019-04-02           28   \n",
       "\n",
       "   model_year_full  odometer_full  cylinders_full  weekday  date_posted_year  \\\n",
       "0             2011       145000.0             6.0        5              2018   \n",
       "1             2009        88705.0             6.0        4              2018   \n",
       "2             2013       110000.0             4.0        3              2019   \n",
       "3             2003       162932.0             8.0        4              2019   \n",
       "4             2017        80903.0             4.0        1              2019   \n",
       "\n",
       "   vehicle_age  \n",
       "0            8  \n",
       "1           10  \n",
       "2            7  \n",
       "3           17  \n",
       "4            3  "
      ]
     },
     "execution_count": 24,
     "metadata": {},
     "output_type": "execute_result"
    }
   ],
   "source": [
    "data['vehicle_age'] = data['date_posted_year'] - data['model_year_full']+1\n",
    "#data[\"vehicle_age\"].replace({0: 1}, inplace=True)\n",
    "data[\"odometer_full\"].replace({0: 1}, inplace=True)\n",
    "data.head()"
   ]
  },
  {
   "cell_type": "markdown",
   "metadata": {},
   "source": [
    "<div class=\"alert alert-block alert-danger\">\n",
    "<b>Reviewer's comment</b> <a class=\"tocSkip\"></a>\n",
    "    \n",
    "~For age we need to use:~\n",
    "~data['vehicle_age'] = data['date_posted_year'] - data['model_year_full'] + 1~\n",
    "    \n",
    "~It help us to avoid nulls. :)~\n",
    "\n",
    "</div>\n",
    "\n",
    "<div class=\"alert alert-block alert-success\">\n",
    "<b>Reviewer's comment. V.2.</b> <a class=\"tocSkip\"></a>\n",
    "    \n",
    "Very good!\n",
    "</div>"
   ]
  },
  {
   "cell_type": "code",
   "execution_count": 25,
   "metadata": {},
   "outputs": [
    {
     "data": {
      "text/html": [
       "<div>\n",
       "<style scoped>\n",
       "    .dataframe tbody tr th:only-of-type {\n",
       "        vertical-align: middle;\n",
       "    }\n",
       "\n",
       "    .dataframe tbody tr th {\n",
       "        vertical-align: top;\n",
       "    }\n",
       "\n",
       "    .dataframe thead th {\n",
       "        text-align: right;\n",
       "    }\n",
       "</style>\n",
       "<table border=\"1\" class=\"dataframe\">\n",
       "  <thead>\n",
       "    <tr style=\"text-align: right;\">\n",
       "      <th></th>\n",
       "      <th>price</th>\n",
       "      <th>model_year</th>\n",
       "      <th>model</th>\n",
       "      <th>condition</th>\n",
       "      <th>cylinders</th>\n",
       "      <th>fuel</th>\n",
       "      <th>odometer</th>\n",
       "      <th>transmission</th>\n",
       "      <th>type</th>\n",
       "      <th>paint_color</th>\n",
       "      <th>is_4wd</th>\n",
       "      <th>date_posted</th>\n",
       "      <th>days_listed</th>\n",
       "      <th>model_year_full</th>\n",
       "      <th>odometer_full</th>\n",
       "      <th>cylinders_full</th>\n",
       "      <th>weekday</th>\n",
       "      <th>date_posted_year</th>\n",
       "      <th>vehicle_age</th>\n",
       "      <th>avg_mil</th>\n",
       "    </tr>\n",
       "  </thead>\n",
       "  <tbody>\n",
       "    <tr>\n",
       "      <td>159</td>\n",
       "      <td>23300</td>\n",
       "      <td>NaN</td>\n",
       "      <td>nissan frontier crew cab sv</td>\n",
       "      <td>good</td>\n",
       "      <td>NaN</td>\n",
       "      <td>gas</td>\n",
       "      <td>NaN</td>\n",
       "      <td>other</td>\n",
       "      <td>pickup</td>\n",
       "      <td>grey</td>\n",
       "      <td>1</td>\n",
       "      <td>2018-07-24</td>\n",
       "      <td>73</td>\n",
       "      <td>2017</td>\n",
       "      <td>NaN</td>\n",
       "      <td>6.0</td>\n",
       "      <td>1</td>\n",
       "      <td>2018</td>\n",
       "      <td>2</td>\n",
       "      <td>NaN</td>\n",
       "    </tr>\n",
       "    <tr>\n",
       "      <td>260</td>\n",
       "      <td>14975</td>\n",
       "      <td>NaN</td>\n",
       "      <td>toyota 4runner</td>\n",
       "      <td>good</td>\n",
       "      <td>6.0</td>\n",
       "      <td>gas</td>\n",
       "      <td>NaN</td>\n",
       "      <td>automatic</td>\n",
       "      <td>SUV</td>\n",
       "      <td>silver</td>\n",
       "      <td>0</td>\n",
       "      <td>2018-05-13</td>\n",
       "      <td>57</td>\n",
       "      <td>2006</td>\n",
       "      <td>NaN</td>\n",
       "      <td>6.0</td>\n",
       "      <td>6</td>\n",
       "      <td>2018</td>\n",
       "      <td>13</td>\n",
       "      <td>NaN</td>\n",
       "    </tr>\n",
       "    <tr>\n",
       "      <td>370</td>\n",
       "      <td>4700</td>\n",
       "      <td>NaN</td>\n",
       "      <td>kia soul</td>\n",
       "      <td>good</td>\n",
       "      <td>NaN</td>\n",
       "      <td>gas</td>\n",
       "      <td>NaN</td>\n",
       "      <td>manual</td>\n",
       "      <td>sedan</td>\n",
       "      <td>white</td>\n",
       "      <td>0</td>\n",
       "      <td>2019-01-14</td>\n",
       "      <td>50</td>\n",
       "      <td>2013</td>\n",
       "      <td>NaN</td>\n",
       "      <td>4.0</td>\n",
       "      <td>0</td>\n",
       "      <td>2019</td>\n",
       "      <td>7</td>\n",
       "      <td>NaN</td>\n",
       "    </tr>\n",
       "    <tr>\n",
       "      <td>586</td>\n",
       "      <td>26000</td>\n",
       "      <td>NaN</td>\n",
       "      <td>toyota rav4</td>\n",
       "      <td>like new</td>\n",
       "      <td>4.0</td>\n",
       "      <td>gas</td>\n",
       "      <td>NaN</td>\n",
       "      <td>automatic</td>\n",
       "      <td>SUV</td>\n",
       "      <td>unknown</td>\n",
       "      <td>0</td>\n",
       "      <td>2018-08-09</td>\n",
       "      <td>29</td>\n",
       "      <td>2009</td>\n",
       "      <td>NaN</td>\n",
       "      <td>4.0</td>\n",
       "      <td>3</td>\n",
       "      <td>2018</td>\n",
       "      <td>10</td>\n",
       "      <td>NaN</td>\n",
       "    </tr>\n",
       "    <tr>\n",
       "      <td>659</td>\n",
       "      <td>8400</td>\n",
       "      <td>NaN</td>\n",
       "      <td>volkswagen jetta</td>\n",
       "      <td>good</td>\n",
       "      <td>4.0</td>\n",
       "      <td>diesel</td>\n",
       "      <td>NaN</td>\n",
       "      <td>manual</td>\n",
       "      <td>wagon</td>\n",
       "      <td>unknown</td>\n",
       "      <td>0</td>\n",
       "      <td>2018-10-22</td>\n",
       "      <td>37</td>\n",
       "      <td>2010</td>\n",
       "      <td>NaN</td>\n",
       "      <td>4.0</td>\n",
       "      <td>0</td>\n",
       "      <td>2018</td>\n",
       "      <td>9</td>\n",
       "      <td>NaN</td>\n",
       "    </tr>\n",
       "    <tr>\n",
       "      <td>...</td>\n",
       "      <td>...</td>\n",
       "      <td>...</td>\n",
       "      <td>...</td>\n",
       "      <td>...</td>\n",
       "      <td>...</td>\n",
       "      <td>...</td>\n",
       "      <td>...</td>\n",
       "      <td>...</td>\n",
       "      <td>...</td>\n",
       "      <td>...</td>\n",
       "      <td>...</td>\n",
       "      <td>...</td>\n",
       "      <td>...</td>\n",
       "      <td>...</td>\n",
       "      <td>...</td>\n",
       "      <td>...</td>\n",
       "      <td>...</td>\n",
       "      <td>...</td>\n",
       "      <td>...</td>\n",
       "      <td>...</td>\n",
       "    </tr>\n",
       "    <tr>\n",
       "      <td>51195</td>\n",
       "      <td>21999</td>\n",
       "      <td>NaN</td>\n",
       "      <td>ram 2500</td>\n",
       "      <td>good</td>\n",
       "      <td>6.0</td>\n",
       "      <td>diesel</td>\n",
       "      <td>NaN</td>\n",
       "      <td>automatic</td>\n",
       "      <td>truck</td>\n",
       "      <td>white</td>\n",
       "      <td>1</td>\n",
       "      <td>2018-05-10</td>\n",
       "      <td>35</td>\n",
       "      <td>2009</td>\n",
       "      <td>NaN</td>\n",
       "      <td>6.0</td>\n",
       "      <td>3</td>\n",
       "      <td>2018</td>\n",
       "      <td>10</td>\n",
       "      <td>NaN</td>\n",
       "    </tr>\n",
       "    <tr>\n",
       "      <td>51222</td>\n",
       "      <td>1000</td>\n",
       "      <td>NaN</td>\n",
       "      <td>acura tl</td>\n",
       "      <td>good</td>\n",
       "      <td>6.0</td>\n",
       "      <td>gas</td>\n",
       "      <td>NaN</td>\n",
       "      <td>automatic</td>\n",
       "      <td>sedan</td>\n",
       "      <td>grey</td>\n",
       "      <td>0</td>\n",
       "      <td>2018-12-09</td>\n",
       "      <td>23</td>\n",
       "      <td>2007</td>\n",
       "      <td>NaN</td>\n",
       "      <td>6.0</td>\n",
       "      <td>6</td>\n",
       "      <td>2018</td>\n",
       "      <td>12</td>\n",
       "      <td>NaN</td>\n",
       "    </tr>\n",
       "    <tr>\n",
       "      <td>51257</td>\n",
       "      <td>6500</td>\n",
       "      <td>NaN</td>\n",
       "      <td>toyota corolla</td>\n",
       "      <td>good</td>\n",
       "      <td>4.0</td>\n",
       "      <td>gas</td>\n",
       "      <td>NaN</td>\n",
       "      <td>automatic</td>\n",
       "      <td>sedan</td>\n",
       "      <td>white</td>\n",
       "      <td>0</td>\n",
       "      <td>2018-10-16</td>\n",
       "      <td>75</td>\n",
       "      <td>2010</td>\n",
       "      <td>NaN</td>\n",
       "      <td>4.0</td>\n",
       "      <td>1</td>\n",
       "      <td>2018</td>\n",
       "      <td>9</td>\n",
       "      <td>NaN</td>\n",
       "    </tr>\n",
       "    <tr>\n",
       "      <td>51295</td>\n",
       "      <td>3850</td>\n",
       "      <td>NaN</td>\n",
       "      <td>hyundai elantra</td>\n",
       "      <td>excellent</td>\n",
       "      <td>4.0</td>\n",
       "      <td>gas</td>\n",
       "      <td>NaN</td>\n",
       "      <td>automatic</td>\n",
       "      <td>sedan</td>\n",
       "      <td>silver</td>\n",
       "      <td>0</td>\n",
       "      <td>2019-03-16</td>\n",
       "      <td>83</td>\n",
       "      <td>2012</td>\n",
       "      <td>NaN</td>\n",
       "      <td>4.0</td>\n",
       "      <td>5</td>\n",
       "      <td>2019</td>\n",
       "      <td>8</td>\n",
       "      <td>NaN</td>\n",
       "    </tr>\n",
       "    <tr>\n",
       "      <td>51399</td>\n",
       "      <td>4400</td>\n",
       "      <td>NaN</td>\n",
       "      <td>kia sorento</td>\n",
       "      <td>excellent</td>\n",
       "      <td>6.0</td>\n",
       "      <td>gas</td>\n",
       "      <td>NaN</td>\n",
       "      <td>automatic</td>\n",
       "      <td>SUV</td>\n",
       "      <td>silver</td>\n",
       "      <td>0</td>\n",
       "      <td>2018-08-21</td>\n",
       "      <td>23</td>\n",
       "      <td>2012</td>\n",
       "      <td>NaN</td>\n",
       "      <td>6.0</td>\n",
       "      <td>1</td>\n",
       "      <td>2018</td>\n",
       "      <td>7</td>\n",
       "      <td>NaN</td>\n",
       "    </tr>\n",
       "  </tbody>\n",
       "</table>\n",
       "<p>551 rows × 20 columns</p>\n",
       "</div>"
      ],
      "text/plain": [
       "       price  model_year                        model  condition  cylinders  \\\n",
       "159    23300         NaN  nissan frontier crew cab sv       good        NaN   \n",
       "260    14975         NaN               toyota 4runner       good        6.0   \n",
       "370     4700         NaN                     kia soul       good        NaN   \n",
       "586    26000         NaN                  toyota rav4   like new        4.0   \n",
       "659     8400         NaN             volkswagen jetta       good        4.0   \n",
       "...      ...         ...                          ...        ...        ...   \n",
       "51195  21999         NaN                     ram 2500       good        6.0   \n",
       "51222   1000         NaN                     acura tl       good        6.0   \n",
       "51257   6500         NaN               toyota corolla       good        4.0   \n",
       "51295   3850         NaN              hyundai elantra  excellent        4.0   \n",
       "51399   4400         NaN                  kia sorento  excellent        6.0   \n",
       "\n",
       "         fuel  odometer transmission    type paint_color  is_4wd date_posted  \\\n",
       "159       gas       NaN        other  pickup        grey       1  2018-07-24   \n",
       "260       gas       NaN    automatic     SUV      silver       0  2018-05-13   \n",
       "370       gas       NaN       manual   sedan       white       0  2019-01-14   \n",
       "586       gas       NaN    automatic     SUV     unknown       0  2018-08-09   \n",
       "659    diesel       NaN       manual   wagon     unknown       0  2018-10-22   \n",
       "...       ...       ...          ...     ...         ...     ...         ...   \n",
       "51195  diesel       NaN    automatic   truck       white       1  2018-05-10   \n",
       "51222     gas       NaN    automatic   sedan        grey       0  2018-12-09   \n",
       "51257     gas       NaN    automatic   sedan       white       0  2018-10-16   \n",
       "51295     gas       NaN    automatic   sedan      silver       0  2019-03-16   \n",
       "51399     gas       NaN    automatic     SUV      silver       0  2018-08-21   \n",
       "\n",
       "       days_listed  model_year_full  odometer_full  cylinders_full  weekday  \\\n",
       "159             73             2017            NaN             6.0        1   \n",
       "260             57             2006            NaN             6.0        6   \n",
       "370             50             2013            NaN             4.0        0   \n",
       "586             29             2009            NaN             4.0        3   \n",
       "659             37             2010            NaN             4.0        0   \n",
       "...            ...              ...            ...             ...      ...   \n",
       "51195           35             2009            NaN             6.0        3   \n",
       "51222           23             2007            NaN             6.0        6   \n",
       "51257           75             2010            NaN             4.0        1   \n",
       "51295           83             2012            NaN             4.0        5   \n",
       "51399           23             2012            NaN             6.0        1   \n",
       "\n",
       "       date_posted_year  vehicle_age  avg_mil  \n",
       "159                2018            2      NaN  \n",
       "260                2018           13      NaN  \n",
       "370                2019            7      NaN  \n",
       "586                2018           10      NaN  \n",
       "659                2018            9      NaN  \n",
       "...                 ...          ...      ...  \n",
       "51195              2018           10      NaN  \n",
       "51222              2018           12      NaN  \n",
       "51257              2018            9      NaN  \n",
       "51295              2019            8      NaN  \n",
       "51399              2018            7      NaN  \n",
       "\n",
       "[551 rows x 20 columns]"
      ]
     },
     "execution_count": 25,
     "metadata": {},
     "output_type": "execute_result"
    }
   ],
   "source": [
    "data['avg_mil']= data['odometer_full']/data['vehicle_age']\n",
    "data[data['avg_mil'].isnull()]\n",
    "#data['avg_mil'].fillna(0, inplace=True)"
   ]
  },
  {
   "cell_type": "code",
   "execution_count": 26,
   "metadata": {},
   "outputs": [
    {
     "data": {
      "text/html": [
       "<div>\n",
       "<style scoped>\n",
       "    .dataframe tbody tr th:only-of-type {\n",
       "        vertical-align: middle;\n",
       "    }\n",
       "\n",
       "    .dataframe tbody tr th {\n",
       "        vertical-align: top;\n",
       "    }\n",
       "\n",
       "    .dataframe thead th {\n",
       "        text-align: right;\n",
       "    }\n",
       "</style>\n",
       "<table border=\"1\" class=\"dataframe\">\n",
       "  <thead>\n",
       "    <tr style=\"text-align: right;\">\n",
       "      <th></th>\n",
       "      <th>price</th>\n",
       "      <th>model_year</th>\n",
       "      <th>model</th>\n",
       "      <th>condition</th>\n",
       "      <th>cylinders</th>\n",
       "      <th>fuel</th>\n",
       "      <th>odometer</th>\n",
       "      <th>transmission</th>\n",
       "      <th>type</th>\n",
       "      <th>paint_color</th>\n",
       "      <th>is_4wd</th>\n",
       "      <th>date_posted</th>\n",
       "      <th>days_listed</th>\n",
       "      <th>model_year_full</th>\n",
       "      <th>odometer_full</th>\n",
       "      <th>cylinders_full</th>\n",
       "      <th>weekday</th>\n",
       "      <th>date_posted_year</th>\n",
       "      <th>vehicle_age</th>\n",
       "      <th>avg_mil</th>\n",
       "    </tr>\n",
       "  </thead>\n",
       "  <tbody>\n",
       "    <tr>\n",
       "      <td>21083</td>\n",
       "      <td>20000</td>\n",
       "      <td>1962.0</td>\n",
       "      <td>chevrolet impala</td>\n",
       "      <td>good</td>\n",
       "      <td>6.0</td>\n",
       "      <td>gas</td>\n",
       "      <td>0.0</td>\n",
       "      <td>automatic</td>\n",
       "      <td>sedan</td>\n",
       "      <td>blue</td>\n",
       "      <td>0</td>\n",
       "      <td>2019-02-14</td>\n",
       "      <td>57</td>\n",
       "      <td>1962</td>\n",
       "      <td>1.0</td>\n",
       "      <td>6.000000</td>\n",
       "      <td>3</td>\n",
       "      <td>2019</td>\n",
       "      <td>58</td>\n",
       "      <td>0.017241</td>\n",
       "    </tr>\n",
       "    <tr>\n",
       "      <td>41228</td>\n",
       "      <td>1</td>\n",
       "      <td>1966.0</td>\n",
       "      <td>chevrolet malibu</td>\n",
       "      <td>fair</td>\n",
       "      <td>8.0</td>\n",
       "      <td>gas</td>\n",
       "      <td>0.0</td>\n",
       "      <td>manual</td>\n",
       "      <td>convertible</td>\n",
       "      <td>blue</td>\n",
       "      <td>0</td>\n",
       "      <td>2019-04-08</td>\n",
       "      <td>22</td>\n",
       "      <td>1966</td>\n",
       "      <td>1.0</td>\n",
       "      <td>8.000000</td>\n",
       "      <td>0</td>\n",
       "      <td>2019</td>\n",
       "      <td>54</td>\n",
       "      <td>0.018519</td>\n",
       "    </tr>\n",
       "    <tr>\n",
       "      <td>7517</td>\n",
       "      <td>10500</td>\n",
       "      <td>1966.0</td>\n",
       "      <td>chevrolet impala</td>\n",
       "      <td>fair</td>\n",
       "      <td>8.0</td>\n",
       "      <td>gas</td>\n",
       "      <td>0.0</td>\n",
       "      <td>automatic</td>\n",
       "      <td>convertible</td>\n",
       "      <td>yellow</td>\n",
       "      <td>0</td>\n",
       "      <td>2019-03-16</td>\n",
       "      <td>27</td>\n",
       "      <td>1966</td>\n",
       "      <td>1.0</td>\n",
       "      <td>8.000000</td>\n",
       "      <td>5</td>\n",
       "      <td>2019</td>\n",
       "      <td>54</td>\n",
       "      <td>0.018519</td>\n",
       "    </tr>\n",
       "    <tr>\n",
       "      <td>33893</td>\n",
       "      <td>6250</td>\n",
       "      <td>1968.0</td>\n",
       "      <td>chrysler 300</td>\n",
       "      <td>good</td>\n",
       "      <td>8.0</td>\n",
       "      <td>gas</td>\n",
       "      <td>0.0</td>\n",
       "      <td>automatic</td>\n",
       "      <td>coupe</td>\n",
       "      <td>green</td>\n",
       "      <td>0</td>\n",
       "      <td>2018-10-01</td>\n",
       "      <td>9</td>\n",
       "      <td>1968</td>\n",
       "      <td>1.0</td>\n",
       "      <td>8.000000</td>\n",
       "      <td>0</td>\n",
       "      <td>2018</td>\n",
       "      <td>51</td>\n",
       "      <td>0.019608</td>\n",
       "    </tr>\n",
       "    <tr>\n",
       "      <td>27609</td>\n",
       "      <td>49000</td>\n",
       "      <td>1969.0</td>\n",
       "      <td>chevrolet camaro</td>\n",
       "      <td>like new</td>\n",
       "      <td>8.0</td>\n",
       "      <td>gas</td>\n",
       "      <td>0.0</td>\n",
       "      <td>manual</td>\n",
       "      <td>coupe</td>\n",
       "      <td>custom</td>\n",
       "      <td>0</td>\n",
       "      <td>2019-03-12</td>\n",
       "      <td>40</td>\n",
       "      <td>1969</td>\n",
       "      <td>1.0</td>\n",
       "      <td>8.000000</td>\n",
       "      <td>1</td>\n",
       "      <td>2019</td>\n",
       "      <td>51</td>\n",
       "      <td>0.019608</td>\n",
       "    </tr>\n",
       "    <tr>\n",
       "      <td>2049</td>\n",
       "      <td>30000</td>\n",
       "      <td>1969.0</td>\n",
       "      <td>chevrolet corvette</td>\n",
       "      <td>excellent</td>\n",
       "      <td>8.0</td>\n",
       "      <td>other</td>\n",
       "      <td>0.0</td>\n",
       "      <td>automatic</td>\n",
       "      <td>convertible</td>\n",
       "      <td>white</td>\n",
       "      <td>0</td>\n",
       "      <td>2018-08-01</td>\n",
       "      <td>20</td>\n",
       "      <td>1969</td>\n",
       "      <td>1.0</td>\n",
       "      <td>8.000000</td>\n",
       "      <td>2</td>\n",
       "      <td>2018</td>\n",
       "      <td>50</td>\n",
       "      <td>0.020000</td>\n",
       "    </tr>\n",
       "    <tr>\n",
       "      <td>23025</td>\n",
       "      <td>4500</td>\n",
       "      <td>1970.0</td>\n",
       "      <td>ford f-250</td>\n",
       "      <td>good</td>\n",
       "      <td>8.0</td>\n",
       "      <td>gas</td>\n",
       "      <td>0.0</td>\n",
       "      <td>automatic</td>\n",
       "      <td>pickup</td>\n",
       "      <td>white</td>\n",
       "      <td>0</td>\n",
       "      <td>2018-09-04</td>\n",
       "      <td>21</td>\n",
       "      <td>1970</td>\n",
       "      <td>1.0</td>\n",
       "      <td>8.000000</td>\n",
       "      <td>1</td>\n",
       "      <td>2018</td>\n",
       "      <td>49</td>\n",
       "      <td>0.020408</td>\n",
       "    </tr>\n",
       "    <tr>\n",
       "      <td>28799</td>\n",
       "      <td>45900</td>\n",
       "      <td>1971.0</td>\n",
       "      <td>chevrolet camaro</td>\n",
       "      <td>like new</td>\n",
       "      <td>NaN</td>\n",
       "      <td>gas</td>\n",
       "      <td>0.0</td>\n",
       "      <td>manual</td>\n",
       "      <td>coupe</td>\n",
       "      <td>orange</td>\n",
       "      <td>0</td>\n",
       "      <td>2019-01-10</td>\n",
       "      <td>75</td>\n",
       "      <td>1971</td>\n",
       "      <td>1.0</td>\n",
       "      <td>6.887097</td>\n",
       "      <td>3</td>\n",
       "      <td>2019</td>\n",
       "      <td>49</td>\n",
       "      <td>0.020408</td>\n",
       "    </tr>\n",
       "    <tr>\n",
       "      <td>30251</td>\n",
       "      <td>2750</td>\n",
       "      <td>1984.0</td>\n",
       "      <td>chevrolet silverado 2500hd</td>\n",
       "      <td>fair</td>\n",
       "      <td>8.0</td>\n",
       "      <td>gas</td>\n",
       "      <td>0.0</td>\n",
       "      <td>automatic</td>\n",
       "      <td>truck</td>\n",
       "      <td>blue</td>\n",
       "      <td>0</td>\n",
       "      <td>2018-11-20</td>\n",
       "      <td>54</td>\n",
       "      <td>1984</td>\n",
       "      <td>1.0</td>\n",
       "      <td>8.000000</td>\n",
       "      <td>1</td>\n",
       "      <td>2018</td>\n",
       "      <td>35</td>\n",
       "      <td>0.028571</td>\n",
       "    </tr>\n",
       "    <tr>\n",
       "      <td>37252</td>\n",
       "      <td>1290</td>\n",
       "      <td>1988.0</td>\n",
       "      <td>ford f-150</td>\n",
       "      <td>good</td>\n",
       "      <td>8.0</td>\n",
       "      <td>gas</td>\n",
       "      <td>0.0</td>\n",
       "      <td>manual</td>\n",
       "      <td>pickup</td>\n",
       "      <td>brown</td>\n",
       "      <td>1</td>\n",
       "      <td>2019-02-23</td>\n",
       "      <td>53</td>\n",
       "      <td>1988</td>\n",
       "      <td>1.0</td>\n",
       "      <td>8.000000</td>\n",
       "      <td>5</td>\n",
       "      <td>2019</td>\n",
       "      <td>32</td>\n",
       "      <td>0.031250</td>\n",
       "    </tr>\n",
       "  </tbody>\n",
       "</table>\n",
       "</div>"
      ],
      "text/plain": [
       "       price  model_year                       model  condition  cylinders  \\\n",
       "21083  20000      1962.0            chevrolet impala       good        6.0   \n",
       "41228      1      1966.0            chevrolet malibu       fair        8.0   \n",
       "7517   10500      1966.0            chevrolet impala       fair        8.0   \n",
       "33893   6250      1968.0                chrysler 300       good        8.0   \n",
       "27609  49000      1969.0            chevrolet camaro   like new        8.0   \n",
       "2049   30000      1969.0          chevrolet corvette  excellent        8.0   \n",
       "23025   4500      1970.0                  ford f-250       good        8.0   \n",
       "28799  45900      1971.0            chevrolet camaro   like new        NaN   \n",
       "30251   2750      1984.0  chevrolet silverado 2500hd       fair        8.0   \n",
       "37252   1290      1988.0                  ford f-150       good        8.0   \n",
       "\n",
       "        fuel  odometer transmission         type paint_color  is_4wd  \\\n",
       "21083    gas       0.0    automatic        sedan        blue       0   \n",
       "41228    gas       0.0       manual  convertible        blue       0   \n",
       "7517     gas       0.0    automatic  convertible      yellow       0   \n",
       "33893    gas       0.0    automatic        coupe       green       0   \n",
       "27609    gas       0.0       manual        coupe      custom       0   \n",
       "2049   other       0.0    automatic  convertible       white       0   \n",
       "23025    gas       0.0    automatic       pickup       white       0   \n",
       "28799    gas       0.0       manual        coupe      orange       0   \n",
       "30251    gas       0.0    automatic        truck        blue       0   \n",
       "37252    gas       0.0       manual       pickup       brown       1   \n",
       "\n",
       "      date_posted  days_listed  model_year_full  odometer_full  \\\n",
       "21083  2019-02-14           57             1962            1.0   \n",
       "41228  2019-04-08           22             1966            1.0   \n",
       "7517   2019-03-16           27             1966            1.0   \n",
       "33893  2018-10-01            9             1968            1.0   \n",
       "27609  2019-03-12           40             1969            1.0   \n",
       "2049   2018-08-01           20             1969            1.0   \n",
       "23025  2018-09-04           21             1970            1.0   \n",
       "28799  2019-01-10           75             1971            1.0   \n",
       "30251  2018-11-20           54             1984            1.0   \n",
       "37252  2019-02-23           53             1988            1.0   \n",
       "\n",
       "       cylinders_full  weekday  date_posted_year  vehicle_age   avg_mil  \n",
       "21083        6.000000        3              2019           58  0.017241  \n",
       "41228        8.000000        0              2019           54  0.018519  \n",
       "7517         8.000000        5              2019           54  0.018519  \n",
       "33893        8.000000        0              2018           51  0.019608  \n",
       "27609        8.000000        1              2019           51  0.019608  \n",
       "2049         8.000000        2              2018           50  0.020000  \n",
       "23025        8.000000        1              2018           49  0.020408  \n",
       "28799        6.887097        3              2019           49  0.020408  \n",
       "30251        8.000000        1              2018           35  0.028571  \n",
       "37252        8.000000        5              2019           32  0.031250  "
      ]
     },
     "execution_count": 26,
     "metadata": {},
     "output_type": "execute_result"
    }
   ],
   "source": [
    "data.sort_values(by='avg_mil',ascending=True).head(10)"
   ]
  },
  {
   "cell_type": "code",
   "execution_count": 27,
   "metadata": {},
   "outputs": [
    {
     "name": "stdout",
     "output_type": "stream",
     "text": [
      "<class 'pandas.core.frame.DataFrame'>\n",
      "RangeIndex: 51525 entries, 0 to 51524\n",
      "Data columns (total 20 columns):\n",
      "price               51525 non-null int64\n",
      "model_year          47906 non-null float64\n",
      "model               51525 non-null object\n",
      "condition           51525 non-null object\n",
      "cylinders           46265 non-null float64\n",
      "fuel                51525 non-null object\n",
      "odometer            43633 non-null float64\n",
      "transmission        51525 non-null object\n",
      "type                51525 non-null object\n",
      "paint_color         51525 non-null object\n",
      "is_4wd              51525 non-null int64\n",
      "date_posted         51525 non-null datetime64[ns]\n",
      "days_listed         51525 non-null int64\n",
      "model_year_full     51525 non-null int64\n",
      "odometer_full       50974 non-null float64\n",
      "cylinders_full      51525 non-null float64\n",
      "weekday             51525 non-null int64\n",
      "date_posted_year    51525 non-null int64\n",
      "vehicle_age         51525 non-null int64\n",
      "avg_mil             50974 non-null float64\n",
      "dtypes: datetime64[ns](1), float64(6), int64(7), object(6)\n",
      "memory usage: 7.9+ MB\n"
     ]
    }
   ],
   "source": [
    "data.info()"
   ]
  },
  {
   "cell_type": "code",
   "execution_count": 28,
   "metadata": {},
   "outputs": [],
   "source": [
    "data[\"condition\"].replace({\"new\":\"5\",\"like new\":\"4\",\"excellent\":\"3\",\"good\":\"2\",\"fair\":\"1\",\"salvage\":\"0\"}, inplace=True)"
   ]
  },
  {
   "cell_type": "code",
   "execution_count": 29,
   "metadata": {},
   "outputs": [],
   "source": [
    "data['condition'] = data['condition'].astype(int)"
   ]
  },
  {
   "cell_type": "markdown",
   "metadata": {},
   "source": [
    "I made several calculations date posted datatype changed to date type I added weekday column Added column model year full and changed type to int, new column added ‘date posted year’ I   calculated vehicle age and add to new column with same name same as with avg mil .Changed some values that were equal to 0to 1 in” vehicle age” and “odometer” for further calculation Condition were replaced as requested "
   ]
  },
  {
   "cell_type": "markdown",
   "metadata": {},
   "source": [
    "<div class=\"alert alert-block alert-success\">\n",
    "<b>Reviewer's comment.</b> <a class=\"tocSkip\"></a>\n",
    "    \n",
    "So, we are ready for the next part! </div>"
   ]
  },
  {
   "cell_type": "markdown",
   "metadata": {},
   "source": [
    "## Carry out exploratory data analysis"
   ]
  },
  {
   "cell_type": "markdown",
   "metadata": {},
   "source": [
    "* Study the following parameters: price, vehicle's age when the ad was placed, mileage, number of cylinders, and condition. Plot histograms for each of these parameters. Study how outliers affect the form and readability of the histograms."
   ]
  },
  {
   "cell_type": "markdown",
   "metadata": {},
   "source": [
    " Histogram of Price\n"
   ]
  },
  {
   "cell_type": "code",
   "execution_count": 30,
   "metadata": {},
   "outputs": [
    {
     "data": {
      "text/plain": [
       "<matplotlib.axes._subplots.AxesSubplot at 0x7ff0dcf61990>"
      ]
     },
     "execution_count": 30,
     "metadata": {},
     "output_type": "execute_result"
    },
    {
     "data": {
      "image/png": "[encoded data removed]",
      "text/plain": [
       "<Figure size 432x288 with 1 Axes>"
      ]
     },
     "metadata": {
      "needs_background": "light"
     },
     "output_type": "display_data"
    }
   ],
   "source": [
    "data['price'].hist(color='red')"
   ]
  },
  {
   "cell_type": "markdown",
   "metadata": {},
   "source": [
    "Histogram of Age"
   ]
  },
  {
   "cell_type": "code",
   "execution_count": 31,
   "metadata": {},
   "outputs": [
    {
     "data": {
      "text/plain": [
       "<matplotlib.axes._subplots.AxesSubplot at 0x7ff0dce65450>"
      ]
     },
     "execution_count": 31,
     "metadata": {},
     "output_type": "execute_result"
    },
    {
     "data": {
      "image/png": "[encoded data removed]",
      "text/plain": [
       "<Figure size 432x288 with 1 Axes>"
      ]
     },
     "metadata": {
      "needs_background": "light"
     },
     "output_type": "display_data"
    }
   ],
   "source": [
    "data['vehicle_age'].hist(color='black')"
   ]
  },
  {
   "cell_type": "markdown",
   "metadata": {},
   "source": [
    "Histogram of avg_mil"
   ]
  },
  {
   "cell_type": "code",
   "execution_count": 32,
   "metadata": {},
   "outputs": [
    {
     "data": {
      "text/plain": [
       "<matplotlib.axes._subplots.AxesSubplot at 0x7ff0dce4b2d0>"
      ]
     },
     "execution_count": 32,
     "metadata": {},
     "output_type": "execute_result"
    },
    {
     "data": {
      "image/png": "[encoded data removed]",
      "text/plain": [
       "<Figure size 432x288 with 1 Axes>"
      ]
     },
     "metadata": {
      "needs_background": "light"
     },
     "output_type": "display_data"
    }
   ],
   "source": [
    "data['avg_mil'].hist(color='blue')"
   ]
  },
  {
   "cell_type": "markdown",
   "metadata": {},
   "source": [
    "Histogram of cylinders"
   ]
  },
  {
   "cell_type": "code",
   "execution_count": 33,
   "metadata": {},
   "outputs": [
    {
     "data": {
      "text/plain": [
       "<matplotlib.axes._subplots.AxesSubplot at 0x7ff0dc42e850>"
      ]
     },
     "execution_count": 33,
     "metadata": {},
     "output_type": "execute_result"
    },
    {
     "data": {
      "image/png": "[encoded data removed]",
      "text/plain": [
       "<Figure size 432x288 with 1 Axes>"
      ]
     },
     "metadata": {
      "needs_background": "light"
     },
     "output_type": "display_data"
    }
   ],
   "source": [
    "data['cylinders'].hist(color='yellow')"
   ]
  },
  {
   "cell_type": "markdown",
   "metadata": {},
   "source": [
    "Histogram of condition"
   ]
  },
  {
   "cell_type": "code",
   "execution_count": 34,
   "metadata": {
    "scrolled": true
   },
   "outputs": [
    {
     "data": {
      "text/plain": [
       "<matplotlib.axes._subplots.AxesSubplot at 0x7ff0d3eb5910>"
      ]
     },
     "execution_count": 34,
     "metadata": {},
     "output_type": "execute_result"
    },
    {
     "data": {
      "image/png": "[encoded data removed]",
      "text/plain": [
       "<Figure size 432x288 with 1 Axes>"
      ]
     },
     "metadata": {
      "needs_background": "light"
     },
     "output_type": "display_data"
    }
   ],
   "source": [
    "data['condition'].hist(color='yellow')"
   ]
  },
  {
   "cell_type": "markdown",
   "metadata": {},
   "source": [
    "<div class=\"alert alert-block alert-success\">\n",
    "<b>Reviewer's comment</b> <a class=\"tocSkip\"></a>\n",
    "    \n",
    "So, we see old data. Let's choose outliers! \n",
    "\n",
    "\n",
    "</div>"
   ]
  },
  {
   "cell_type": "code",
   "execution_count": 35,
   "metadata": {
    "scrolled": true
   },
   "outputs": [
    {
     "data": {
      "text/html": [
       "<div>\n",
       "<style scoped>\n",
       "    .dataframe tbody tr th:only-of-type {\n",
       "        vertical-align: middle;\n",
       "    }\n",
       "\n",
       "    .dataframe tbody tr th {\n",
       "        vertical-align: top;\n",
       "    }\n",
       "\n",
       "    .dataframe thead th {\n",
       "        text-align: right;\n",
       "    }\n",
       "</style>\n",
       "<table border=\"1\" class=\"dataframe\">\n",
       "  <thead>\n",
       "    <tr style=\"text-align: right;\">\n",
       "      <th></th>\n",
       "      <th>price</th>\n",
       "      <th>model_year</th>\n",
       "      <th>condition</th>\n",
       "      <th>cylinders</th>\n",
       "      <th>odometer</th>\n",
       "      <th>is_4wd</th>\n",
       "      <th>days_listed</th>\n",
       "      <th>model_year_full</th>\n",
       "      <th>odometer_full</th>\n",
       "      <th>cylinders_full</th>\n",
       "      <th>weekday</th>\n",
       "      <th>date_posted_year</th>\n",
       "      <th>vehicle_age</th>\n",
       "      <th>avg_mil</th>\n",
       "    </tr>\n",
       "  </thead>\n",
       "  <tbody>\n",
       "    <tr>\n",
       "      <td>count</td>\n",
       "      <td>51525.000000</td>\n",
       "      <td>47906.000000</td>\n",
       "      <td>51525.000000</td>\n",
       "      <td>46265.000000</td>\n",
       "      <td>43633.000000</td>\n",
       "      <td>51525.000000</td>\n",
       "      <td>51525.00000</td>\n",
       "      <td>51525.000000</td>\n",
       "      <td>50974.000000</td>\n",
       "      <td>51525.000000</td>\n",
       "      <td>51525.000000</td>\n",
       "      <td>51525.000000</td>\n",
       "      <td>51525.000000</td>\n",
       "      <td>50974.000000</td>\n",
       "    </tr>\n",
       "    <tr>\n",
       "      <td>mean</td>\n",
       "      <td>12132.464920</td>\n",
       "      <td>2009.750470</td>\n",
       "      <td>2.637535</td>\n",
       "      <td>6.125235</td>\n",
       "      <td>115553.461738</td>\n",
       "      <td>0.496303</td>\n",
       "      <td>39.55476</td>\n",
       "      <td>2009.710917</td>\n",
       "      <td>115225.065151</td>\n",
       "      <td>6.124281</td>\n",
       "      <td>3.005434</td>\n",
       "      <td>2018.307462</td>\n",
       "      <td>9.596545</td>\n",
       "      <td>14413.854154</td>\n",
       "    </tr>\n",
       "    <tr>\n",
       "      <td>std</td>\n",
       "      <td>10040.803015</td>\n",
       "      <td>6.282065</td>\n",
       "      <td>0.712447</td>\n",
       "      <td>1.660360</td>\n",
       "      <td>65094.611341</td>\n",
       "      <td>0.499991</td>\n",
       "      <td>28.20427</td>\n",
       "      <td>6.100053</td>\n",
       "      <td>62403.471529</td>\n",
       "      <td>1.644649</td>\n",
       "      <td>1.997759</td>\n",
       "      <td>0.461447</td>\n",
       "      <td>6.113648</td>\n",
       "      <td>8627.223509</td>\n",
       "    </tr>\n",
       "    <tr>\n",
       "      <td>min</td>\n",
       "      <td>1.000000</td>\n",
       "      <td>1908.000000</td>\n",
       "      <td>0.000000</td>\n",
       "      <td>3.000000</td>\n",
       "      <td>0.000000</td>\n",
       "      <td>0.000000</td>\n",
       "      <td>0.00000</td>\n",
       "      <td>1908.000000</td>\n",
       "      <td>1.000000</td>\n",
       "      <td>3.000000</td>\n",
       "      <td>0.000000</td>\n",
       "      <td>2018.000000</td>\n",
       "      <td>1.000000</td>\n",
       "      <td>0.017241</td>\n",
       "    </tr>\n",
       "    <tr>\n",
       "      <td>25%</td>\n",
       "      <td>5000.000000</td>\n",
       "      <td>2006.000000</td>\n",
       "      <td>2.000000</td>\n",
       "      <td>4.000000</td>\n",
       "      <td>70000.000000</td>\n",
       "      <td>0.000000</td>\n",
       "      <td>19.00000</td>\n",
       "      <td>2007.000000</td>\n",
       "      <td>72905.000000</td>\n",
       "      <td>4.000000</td>\n",
       "      <td>1.000000</td>\n",
       "      <td>2018.000000</td>\n",
       "      <td>5.000000</td>\n",
       "      <td>9696.432692</td>\n",
       "    </tr>\n",
       "    <tr>\n",
       "      <td>50%</td>\n",
       "      <td>9000.000000</td>\n",
       "      <td>2011.000000</td>\n",
       "      <td>3.000000</td>\n",
       "      <td>6.000000</td>\n",
       "      <td>113000.000000</td>\n",
       "      <td>0.000000</td>\n",
       "      <td>33.00000</td>\n",
       "      <td>2011.000000</td>\n",
       "      <td>113656.000000</td>\n",
       "      <td>6.000000</td>\n",
       "      <td>3.000000</td>\n",
       "      <td>2018.000000</td>\n",
       "      <td>9.000000</td>\n",
       "      <td>13172.454545</td>\n",
       "    </tr>\n",
       "    <tr>\n",
       "      <td>75%</td>\n",
       "      <td>16839.000000</td>\n",
       "      <td>2014.000000</td>\n",
       "      <td>3.000000</td>\n",
       "      <td>8.000000</td>\n",
       "      <td>155000.000000</td>\n",
       "      <td>1.000000</td>\n",
       "      <td>53.00000</td>\n",
       "      <td>2014.000000</td>\n",
       "      <td>153000.000000</td>\n",
       "      <td>8.000000</td>\n",
       "      <td>5.000000</td>\n",
       "      <td>2019.000000</td>\n",
       "      <td>13.000000</td>\n",
       "      <td>17500.000000</td>\n",
       "    </tr>\n",
       "    <tr>\n",
       "      <td>max</td>\n",
       "      <td>375000.000000</td>\n",
       "      <td>2019.000000</td>\n",
       "      <td>5.000000</td>\n",
       "      <td>12.000000</td>\n",
       "      <td>990000.000000</td>\n",
       "      <td>1.000000</td>\n",
       "      <td>271.00000</td>\n",
       "      <td>2019.000000</td>\n",
       "      <td>990000.000000</td>\n",
       "      <td>12.000000</td>\n",
       "      <td>6.000000</td>\n",
       "      <td>2019.000000</td>\n",
       "      <td>111.000000</td>\n",
       "      <td>373200.000000</td>\n",
       "    </tr>\n",
       "  </tbody>\n",
       "</table>\n",
       "</div>"
      ],
      "text/plain": [
       "               price    model_year     condition     cylinders       odometer  \\\n",
       "count   51525.000000  47906.000000  51525.000000  46265.000000   43633.000000   \n",
       "mean    12132.464920   2009.750470      2.637535      6.125235  115553.461738   \n",
       "std     10040.803015      6.282065      0.712447      1.660360   65094.611341   \n",
       "min         1.000000   1908.000000      0.000000      3.000000       0.000000   \n",
       "25%      5000.000000   2006.000000      2.000000      4.000000   70000.000000   \n",
       "50%      9000.000000   2011.000000      3.000000      6.000000  113000.000000   \n",
       "75%     16839.000000   2014.000000      3.000000      8.000000  155000.000000   \n",
       "max    375000.000000   2019.000000      5.000000     12.000000  990000.000000   \n",
       "\n",
       "             is_4wd  days_listed  model_year_full  odometer_full  \\\n",
       "count  51525.000000  51525.00000     51525.000000   50974.000000   \n",
       "mean       0.496303     39.55476      2009.710917  115225.065151   \n",
       "std        0.499991     28.20427         6.100053   62403.471529   \n",
       "min        0.000000      0.00000      1908.000000       1.000000   \n",
       "25%        0.000000     19.00000      2007.000000   72905.000000   \n",
       "50%        0.000000     33.00000      2011.000000  113656.000000   \n",
       "75%        1.000000     53.00000      2014.000000  153000.000000   \n",
       "max        1.000000    271.00000      2019.000000  990000.000000   \n",
       "\n",
       "       cylinders_full       weekday  date_posted_year   vehicle_age  \\\n",
       "count    51525.000000  51525.000000      51525.000000  51525.000000   \n",
       "mean         6.124281      3.005434       2018.307462      9.596545   \n",
       "std          1.644649      1.997759          0.461447      6.113648   \n",
       "min          3.000000      0.000000       2018.000000      1.000000   \n",
       "25%          4.000000      1.000000       2018.000000      5.000000   \n",
       "50%          6.000000      3.000000       2018.000000      9.000000   \n",
       "75%          8.000000      5.000000       2019.000000     13.000000   \n",
       "max         12.000000      6.000000       2019.000000    111.000000   \n",
       "\n",
       "             avg_mil  \n",
       "count   50974.000000  \n",
       "mean    14413.854154  \n",
       "std      8627.223509  \n",
       "min         0.017241  \n",
       "25%      9696.432692  \n",
       "50%     13172.454545  \n",
       "75%     17500.000000  \n",
       "max    373200.000000  "
      ]
     },
     "execution_count": 35,
     "metadata": {},
     "output_type": "execute_result"
    }
   ],
   "source": [
    "data.describe()"
   ]
  },
  {
   "cell_type": "code",
   "execution_count": 36,
   "metadata": {},
   "outputs": [
    {
     "name": "stdout",
     "output_type": "stream",
     "text": [
      "Vehicle price limit is: 34597.5\n"
     ]
    },
    {
     "data": {
      "image/png": "[encoded data removed]",
      "text/plain": [
       "<Figure size 360x360 with 1 Axes>"
      ]
     },
     "metadata": {
      "needs_background": "light"
     },
     "output_type": "display_data"
    }
   ],
   "source": [
    "Q1 = data['price'].quantile(0.25)\n",
    "Q3 = data['price'].quantile(0.75)\n",
    "IQR = Q3 - Q1\n",
    "data['price'].plot(kind='box', figsize=(5, 5),grid=True)\n",
    "plt.hlines(y=Q1-1.5*IQR, xmin=0.9, xmax=1.1, color= 'red')\n",
    "plt.hlines(y=Q3+1.5*IQR, xmin=0.9, xmax=1.1, color= 'red')\n",
    "print('Vehicle price limit is:', Q3+1.5*IQR)"
   ]
  },
  {
   "cell_type": "code",
   "execution_count": 37,
   "metadata": {},
   "outputs": [
    {
     "name": "stdout",
     "output_type": "stream",
     "text": [
      "Vvehicle age limit is: 25.0\n"
     ]
    },
    {
     "data": {
      "image/png": "[encoded data removed]",
      "text/plain": [
       "<Figure size 360x360 with 1 Axes>"
      ]
     },
     "metadata": {
      "needs_background": "light"
     },
     "output_type": "display_data"
    }
   ],
   "source": [
    "#data['vehicle_age'].plot(kind='box', figsize=(5, 5),grid=True)\n",
    "Q1 = data['vehicle_age'].quantile(0.25)\n",
    "Q3 = data['vehicle_age'].quantile(0.75)\n",
    "IQR = Q3 - Q1\n",
    "data['vehicle_age'].plot(kind='box', figsize=(5, 5),grid=True)\n",
    "plt.hlines(y=Q1-1.5*IQR, xmin=0.9, xmax=1.1, color= 'red')\n",
    "plt.hlines(y=Q3+1.5*IQR, xmin=0.9, xmax=1.1, color= 'red')\n",
    "print('Vvehicle age limit is:', Q3+1.5*IQR)\n"
   ]
  },
  {
   "cell_type": "code",
   "execution_count": 38,
   "metadata": {},
   "outputs": [
    {
     "name": "stdout",
     "output_type": "stream",
     "text": [
      "Vvehicle avg mil limit is: 29205.35096153846\n"
     ]
    },
    {
     "data": {
      "image/png": "[encoded data removed]",
      "text/plain": [
       "<Figure size 360x360 with 1 Axes>"
      ]
     },
     "metadata": {
      "needs_background": "light"
     },
     "output_type": "display_data"
    }
   ],
   "source": [
    "Q1 = data['avg_mil'].quantile(0.25)\n",
    "Q3 = data['avg_mil'].quantile(0.75)\n",
    "IQR = Q3 - Q1\n",
    "data['avg_mil'].plot(kind='box', figsize=(5, 5),grid=True)\n",
    "plt.hlines(y=Q1-1.5*IQR, xmin=0.9, xmax=1.1, color= 'red')\n",
    "plt.hlines(y=Q3+1.5*IQR, xmin=0.9, xmax=1.1, color= 'red')\n",
    "print('Vvehicle avg mil limit is:', Q3+1.5*IQR)"
   ]
  },
  {
   "cell_type": "code",
   "execution_count": 39,
   "metadata": {},
   "outputs": [
    {
     "name": "stdout",
     "output_type": "stream",
     "text": [
      "Vvehicle cylinders limit is: 14.0\n"
     ]
    },
    {
     "data": {
      "image/png": "[encoded data removed]",
      "text/plain": [
       "<Figure size 360x360 with 1 Axes>"
      ]
     },
     "metadata": {
      "needs_background": "light"
     },
     "output_type": "display_data"
    }
   ],
   "source": [
    "Q1 = data['cylinders'].quantile(0.25)\n",
    "Q3 = data['cylinders'].quantile(0.75)\n",
    "IQR = Q3 - Q1\n",
    "data['cylinders'].plot(kind='box', figsize=(5, 5),grid=True)\n",
    "plt.hlines(y=Q1-1.5*IQR, xmin=0.9, xmax=1.1, color= 'red')\n",
    "plt.hlines(y=Q3+1.5*IQR, xmin=0.9, xmax=1.1, color= 'red')\n",
    "print('Vvehicle cylinders limit is:', Q3+1.5*IQR)"
   ]
  },
  {
   "cell_type": "code",
   "execution_count": 40,
   "metadata": {},
   "outputs": [
    {
     "name": "stdout",
     "output_type": "stream",
     "text": [
      "Vvehicle condition limit is: 4.5\n"
     ]
    },
    {
     "data": {
      "image/png": "[encoded data removed]",
      "text/plain": [
       "<Figure size 360x360 with 1 Axes>"
      ]
     },
     "metadata": {
      "needs_background": "light"
     },
     "output_type": "display_data"
    }
   ],
   "source": [
    "Q1 = data['condition'].quantile(0.25)\n",
    "Q3 = data['condition'].quantile(0.75)\n",
    "IQR = Q3 - Q1\n",
    "data['condition'].plot(kind='box', figsize=(5, 5),grid=True)\n",
    "plt.hlines(y=Q1-1.5*IQR, xmin=0.9, xmax=1.1, color= 'red')\n",
    "plt.hlines(y=Q3+1.5*IQR, xmin=0.9, xmax=1.1, color= 'red')\n",
    "print('Vvehicle condition limit is:', Q3+1.5*IQR)"
   ]
  },
  {
   "cell_type": "code",
   "execution_count": 41,
   "metadata": {},
   "outputs": [
    {
     "data": {
      "text/html": [
       "<div>\n",
       "<style scoped>\n",
       "    .dataframe tbody tr th:only-of-type {\n",
       "        vertical-align: middle;\n",
       "    }\n",
       "\n",
       "    .dataframe tbody tr th {\n",
       "        vertical-align: top;\n",
       "    }\n",
       "\n",
       "    .dataframe thead th {\n",
       "        text-align: right;\n",
       "    }\n",
       "</style>\n",
       "<table border=\"1\" class=\"dataframe\">\n",
       "  <thead>\n",
       "    <tr style=\"text-align: right;\">\n",
       "      <th></th>\n",
       "      <th>price</th>\n",
       "      <th>model_year</th>\n",
       "      <th>model</th>\n",
       "      <th>condition</th>\n",
       "      <th>cylinders</th>\n",
       "      <th>fuel</th>\n",
       "      <th>odometer</th>\n",
       "      <th>transmission</th>\n",
       "      <th>type</th>\n",
       "      <th>paint_color</th>\n",
       "      <th>is_4wd</th>\n",
       "      <th>date_posted</th>\n",
       "      <th>days_listed</th>\n",
       "      <th>model_year_full</th>\n",
       "      <th>odometer_full</th>\n",
       "      <th>cylinders_full</th>\n",
       "      <th>weekday</th>\n",
       "      <th>date_posted_year</th>\n",
       "      <th>vehicle_age</th>\n",
       "      <th>avg_mil</th>\n",
       "    </tr>\n",
       "  </thead>\n",
       "  <tbody>\n",
       "    <tr>\n",
       "      <td>0</td>\n",
       "      <td>9400</td>\n",
       "      <td>2011.0</td>\n",
       "      <td>bmw x5</td>\n",
       "      <td>2</td>\n",
       "      <td>6.0</td>\n",
       "      <td>gas</td>\n",
       "      <td>145000.0</td>\n",
       "      <td>automatic</td>\n",
       "      <td>SUV</td>\n",
       "      <td>unknown</td>\n",
       "      <td>1</td>\n",
       "      <td>2018-06-23</td>\n",
       "      <td>19</td>\n",
       "      <td>2011</td>\n",
       "      <td>145000.0</td>\n",
       "      <td>6.0</td>\n",
       "      <td>5</td>\n",
       "      <td>2018</td>\n",
       "      <td>8</td>\n",
       "      <td>18125.000000</td>\n",
       "    </tr>\n",
       "    <tr>\n",
       "      <td>1</td>\n",
       "      <td>25500</td>\n",
       "      <td>NaN</td>\n",
       "      <td>ford f-150</td>\n",
       "      <td>2</td>\n",
       "      <td>6.0</td>\n",
       "      <td>gas</td>\n",
       "      <td>88705.0</td>\n",
       "      <td>automatic</td>\n",
       "      <td>pickup</td>\n",
       "      <td>white</td>\n",
       "      <td>1</td>\n",
       "      <td>2018-10-19</td>\n",
       "      <td>50</td>\n",
       "      <td>2009</td>\n",
       "      <td>88705.0</td>\n",
       "      <td>6.0</td>\n",
       "      <td>4</td>\n",
       "      <td>2018</td>\n",
       "      <td>10</td>\n",
       "      <td>8870.500000</td>\n",
       "    </tr>\n",
       "    <tr>\n",
       "      <td>2</td>\n",
       "      <td>5500</td>\n",
       "      <td>2013.0</td>\n",
       "      <td>hyundai sonata</td>\n",
       "      <td>4</td>\n",
       "      <td>4.0</td>\n",
       "      <td>gas</td>\n",
       "      <td>110000.0</td>\n",
       "      <td>automatic</td>\n",
       "      <td>sedan</td>\n",
       "      <td>red</td>\n",
       "      <td>0</td>\n",
       "      <td>2019-02-07</td>\n",
       "      <td>79</td>\n",
       "      <td>2013</td>\n",
       "      <td>110000.0</td>\n",
       "      <td>4.0</td>\n",
       "      <td>3</td>\n",
       "      <td>2019</td>\n",
       "      <td>7</td>\n",
       "      <td>15714.285714</td>\n",
       "    </tr>\n",
       "    <tr>\n",
       "      <td>3</td>\n",
       "      <td>1500</td>\n",
       "      <td>2003.0</td>\n",
       "      <td>ford f-150</td>\n",
       "      <td>1</td>\n",
       "      <td>8.0</td>\n",
       "      <td>gas</td>\n",
       "      <td>NaN</td>\n",
       "      <td>automatic</td>\n",
       "      <td>pickup</td>\n",
       "      <td>unknown</td>\n",
       "      <td>0</td>\n",
       "      <td>2019-03-22</td>\n",
       "      <td>9</td>\n",
       "      <td>2003</td>\n",
       "      <td>162932.0</td>\n",
       "      <td>8.0</td>\n",
       "      <td>4</td>\n",
       "      <td>2019</td>\n",
       "      <td>17</td>\n",
       "      <td>9584.235294</td>\n",
       "    </tr>\n",
       "    <tr>\n",
       "      <td>4</td>\n",
       "      <td>14900</td>\n",
       "      <td>2017.0</td>\n",
       "      <td>chrysler 200</td>\n",
       "      <td>3</td>\n",
       "      <td>4.0</td>\n",
       "      <td>gas</td>\n",
       "      <td>80903.0</td>\n",
       "      <td>automatic</td>\n",
       "      <td>sedan</td>\n",
       "      <td>black</td>\n",
       "      <td>0</td>\n",
       "      <td>2019-04-02</td>\n",
       "      <td>28</td>\n",
       "      <td>2017</td>\n",
       "      <td>80903.0</td>\n",
       "      <td>4.0</td>\n",
       "      <td>1</td>\n",
       "      <td>2019</td>\n",
       "      <td>3</td>\n",
       "      <td>26967.666667</td>\n",
       "    </tr>\n",
       "  </tbody>\n",
       "</table>\n",
       "</div>"
      ],
      "text/plain": [
       "   price  model_year           model  condition  cylinders fuel  odometer  \\\n",
       "0   9400      2011.0          bmw x5          2        6.0  gas  145000.0   \n",
       "1  25500         NaN      ford f-150          2        6.0  gas   88705.0   \n",
       "2   5500      2013.0  hyundai sonata          4        4.0  gas  110000.0   \n",
       "3   1500      2003.0      ford f-150          1        8.0  gas       NaN   \n",
       "4  14900      2017.0    chrysler 200          3        4.0  gas   80903.0   \n",
       "\n",
       "  transmission    type paint_color  is_4wd date_posted  days_listed  \\\n",
       "0    automatic     SUV     unknown       1  2018-06-23           19   \n",
       "1    automatic  pickup       white       1  2018-10-19           50   \n",
       "2    automatic   sedan         red       0  2019-02-07           79   \n",
       "3    automatic  pickup     unknown       0  2019-03-22            9   \n",
       "4    automatic   sedan       black       0  2019-04-02           28   \n",
       "\n",
       "   model_year_full  odometer_full  cylinders_full  weekday  date_posted_year  \\\n",
       "0             2011       145000.0             6.0        5              2018   \n",
       "1             2009        88705.0             6.0        4              2018   \n",
       "2             2013       110000.0             4.0        3              2019   \n",
       "3             2003       162932.0             8.0        4              2019   \n",
       "4             2017        80903.0             4.0        1              2019   \n",
       "\n",
       "   vehicle_age       avg_mil  \n",
       "0            8  18125.000000  \n",
       "1           10   8870.500000  \n",
       "2            7  15714.285714  \n",
       "3           17   9584.235294  \n",
       "4            3  26967.666667  "
      ]
     },
     "execution_count": 41,
     "metadata": {},
     "output_type": "execute_result"
    }
   ],
   "source": [
    "bad_data = data['price'] > 34600\n",
    "bad_data = data['avg_mil']>39000\n",
    "bad_data = data['vehicle_age']>30\n",
    "good_data = data.query('price <= 34600 and avg_mil < 39000 and vehicle_age < 30')\n",
    "good_data.head()\n"
   ]
  },
  {
   "cell_type": "code",
   "execution_count": 42,
   "metadata": {},
   "outputs": [
    {
     "data": {
      "text/plain": [
       "array([[<matplotlib.axes._subplots.AxesSubplot object at 0x7ff0dc26f2d0>]],\n",
       "      dtype=object)"
      ]
     },
     "execution_count": 42,
     "metadata": {},
     "output_type": "execute_result"
    },
    {
     "data": {
      "image/png": "[encoded data removed]",
      "text/plain": [
       "<Figure size 432x288 with 1 Axes>"
      ]
     },
     "metadata": {
      "needs_background": "light"
     },
     "output_type": "display_data"
    },
    {
     "data": {
      "image/png": "[encoded data removed]",
      "text/plain": [
       "<Figure size 432x288 with 1 Axes>"
      ]
     },
     "metadata": {
      "needs_background": "light"
     },
     "output_type": "display_data"
    }
   ],
   "source": [
    "data.hist('price', color='orange')\n",
    "good_data.hist('price', color='red')"
   ]
  },
  {
   "cell_type": "markdown",
   "metadata": {},
   "source": [
    "We see that the price after the change is average at 5000 and max price is around 35000"
   ]
  },
  {
   "cell_type": "code",
   "execution_count": 43,
   "metadata": {},
   "outputs": [
    {
     "data": {
      "text/plain": [
       "array([[<matplotlib.axes._subplots.AxesSubplot object at 0x7ff0dc188550>]],\n",
       "      dtype=object)"
      ]
     },
     "execution_count": 43,
     "metadata": {},
     "output_type": "execute_result"
    },
    {
     "data": {
      "image/png": "[encoded data removed]",
      "text/plain": [
       "<Figure size 432x288 with 1 Axes>"
      ]
     },
     "metadata": {
      "needs_background": "light"
     },
     "output_type": "display_data"
    },
    {
     "data": {
      "image/png": "[encoded data removed]",
      "text/plain": [
       "<Figure size 432x288 with 1 Axes>"
      ]
     },
     "metadata": {
      "needs_background": "light"
     },
     "output_type": "display_data"
    }
   ],
   "source": [
    "data.hist('vehicle_age', color='orange')\n",
    "good_data.hist('vehicle_age', color='red')\n"
   ]
  },
  {
   "cell_type": "markdown",
   "metadata": {},
   "source": [
    "we see that avg age is aroun 9 and max age is "
   ]
  },
  {
   "cell_type": "code",
   "execution_count": 44,
   "metadata": {},
   "outputs": [
    {
     "data": {
      "text/plain": [
       "array([[<matplotlib.axes._subplots.AxesSubplot object at 0x7ff0d3c88b10>]],\n",
       "      dtype=object)"
      ]
     },
     "execution_count": 44,
     "metadata": {},
     "output_type": "execute_result"
    },
    {
     "data": {
      "image/png": "[encoded data removed]",
      "text/plain": [
       "<Figure size 432x288 with 1 Axes>"
      ]
     },
     "metadata": {
      "needs_background": "light"
     },
     "output_type": "display_data"
    },
    {
     "data": {
      "image/png": "[encoded data removed]",
      "text/plain": [
       "<Figure size 432x288 with 1 Axes>"
      ]
     },
     "metadata": {
      "needs_background": "light"
     },
     "output_type": "display_data"
    }
   ],
   "source": [
    "data.hist('avg_mil', color='blue')\n",
    "good_data.hist('avg_mil', color='green')"
   ]
  },
  {
   "cell_type": "markdown",
   "metadata": {},
   "source": [
    "wee see that avg mil changed to 15000-20000 and max mil is around 40000"
   ]
  },
  {
   "cell_type": "code",
   "execution_count": 45,
   "metadata": {},
   "outputs": [
    {
     "data": {
      "text/html": [
       "<div>\n",
       "<style scoped>\n",
       "    .dataframe tbody tr th:only-of-type {\n",
       "        vertical-align: middle;\n",
       "    }\n",
       "\n",
       "    .dataframe tbody tr th {\n",
       "        vertical-align: top;\n",
       "    }\n",
       "\n",
       "    .dataframe thead th {\n",
       "        text-align: right;\n",
       "    }\n",
       "</style>\n",
       "<table border=\"1\" class=\"dataframe\">\n",
       "  <thead>\n",
       "    <tr style=\"text-align: right;\">\n",
       "      <th></th>\n",
       "      <th>price</th>\n",
       "      <th>model_year</th>\n",
       "      <th>condition</th>\n",
       "      <th>cylinders</th>\n",
       "      <th>odometer</th>\n",
       "      <th>is_4wd</th>\n",
       "      <th>days_listed</th>\n",
       "      <th>model_year_full</th>\n",
       "      <th>odometer_full</th>\n",
       "      <th>cylinders_full</th>\n",
       "      <th>weekday</th>\n",
       "      <th>date_posted_year</th>\n",
       "      <th>vehicle_age</th>\n",
       "      <th>avg_mil</th>\n",
       "    </tr>\n",
       "  </thead>\n",
       "  <tbody>\n",
       "    <tr>\n",
       "      <td>count</td>\n",
       "      <td>51525.000000</td>\n",
       "      <td>47906.000000</td>\n",
       "      <td>51525.000000</td>\n",
       "      <td>46265.000000</td>\n",
       "      <td>43633.000000</td>\n",
       "      <td>51525.000000</td>\n",
       "      <td>51525.00000</td>\n",
       "      <td>51525.000000</td>\n",
       "      <td>50974.000000</td>\n",
       "      <td>51525.000000</td>\n",
       "      <td>51525.000000</td>\n",
       "      <td>51525.000000</td>\n",
       "      <td>51525.000000</td>\n",
       "      <td>50974.000000</td>\n",
       "    </tr>\n",
       "    <tr>\n",
       "      <td>mean</td>\n",
       "      <td>12132.464920</td>\n",
       "      <td>2009.750470</td>\n",
       "      <td>2.637535</td>\n",
       "      <td>6.125235</td>\n",
       "      <td>115553.461738</td>\n",
       "      <td>0.496303</td>\n",
       "      <td>39.55476</td>\n",
       "      <td>2009.710917</td>\n",
       "      <td>115225.065151</td>\n",
       "      <td>6.124281</td>\n",
       "      <td>3.005434</td>\n",
       "      <td>2018.307462</td>\n",
       "      <td>9.596545</td>\n",
       "      <td>14413.854154</td>\n",
       "    </tr>\n",
       "    <tr>\n",
       "      <td>std</td>\n",
       "      <td>10040.803015</td>\n",
       "      <td>6.282065</td>\n",
       "      <td>0.712447</td>\n",
       "      <td>1.660360</td>\n",
       "      <td>65094.611341</td>\n",
       "      <td>0.499991</td>\n",
       "      <td>28.20427</td>\n",
       "      <td>6.100053</td>\n",
       "      <td>62403.471529</td>\n",
       "      <td>1.644649</td>\n",
       "      <td>1.997759</td>\n",
       "      <td>0.461447</td>\n",
       "      <td>6.113648</td>\n",
       "      <td>8627.223509</td>\n",
       "    </tr>\n",
       "    <tr>\n",
       "      <td>min</td>\n",
       "      <td>1.000000</td>\n",
       "      <td>1908.000000</td>\n",
       "      <td>0.000000</td>\n",
       "      <td>3.000000</td>\n",
       "      <td>0.000000</td>\n",
       "      <td>0.000000</td>\n",
       "      <td>0.00000</td>\n",
       "      <td>1908.000000</td>\n",
       "      <td>1.000000</td>\n",
       "      <td>3.000000</td>\n",
       "      <td>0.000000</td>\n",
       "      <td>2018.000000</td>\n",
       "      <td>1.000000</td>\n",
       "      <td>0.017241</td>\n",
       "    </tr>\n",
       "    <tr>\n",
       "      <td>25%</td>\n",
       "      <td>5000.000000</td>\n",
       "      <td>2006.000000</td>\n",
       "      <td>2.000000</td>\n",
       "      <td>4.000000</td>\n",
       "      <td>70000.000000</td>\n",
       "      <td>0.000000</td>\n",
       "      <td>19.00000</td>\n",
       "      <td>2007.000000</td>\n",
       "      <td>72905.000000</td>\n",
       "      <td>4.000000</td>\n",
       "      <td>1.000000</td>\n",
       "      <td>2018.000000</td>\n",
       "      <td>5.000000</td>\n",
       "      <td>9696.432692</td>\n",
       "    </tr>\n",
       "    <tr>\n",
       "      <td>50%</td>\n",
       "      <td>9000.000000</td>\n",
       "      <td>2011.000000</td>\n",
       "      <td>3.000000</td>\n",
       "      <td>6.000000</td>\n",
       "      <td>113000.000000</td>\n",
       "      <td>0.000000</td>\n",
       "      <td>33.00000</td>\n",
       "      <td>2011.000000</td>\n",
       "      <td>113656.000000</td>\n",
       "      <td>6.000000</td>\n",
       "      <td>3.000000</td>\n",
       "      <td>2018.000000</td>\n",
       "      <td>9.000000</td>\n",
       "      <td>13172.454545</td>\n",
       "    </tr>\n",
       "    <tr>\n",
       "      <td>75%</td>\n",
       "      <td>16839.000000</td>\n",
       "      <td>2014.000000</td>\n",
       "      <td>3.000000</td>\n",
       "      <td>8.000000</td>\n",
       "      <td>155000.000000</td>\n",
       "      <td>1.000000</td>\n",
       "      <td>53.00000</td>\n",
       "      <td>2014.000000</td>\n",
       "      <td>153000.000000</td>\n",
       "      <td>8.000000</td>\n",
       "      <td>5.000000</td>\n",
       "      <td>2019.000000</td>\n",
       "      <td>13.000000</td>\n",
       "      <td>17500.000000</td>\n",
       "    </tr>\n",
       "    <tr>\n",
       "      <td>max</td>\n",
       "      <td>375000.000000</td>\n",
       "      <td>2019.000000</td>\n",
       "      <td>5.000000</td>\n",
       "      <td>12.000000</td>\n",
       "      <td>990000.000000</td>\n",
       "      <td>1.000000</td>\n",
       "      <td>271.00000</td>\n",
       "      <td>2019.000000</td>\n",
       "      <td>990000.000000</td>\n",
       "      <td>12.000000</td>\n",
       "      <td>6.000000</td>\n",
       "      <td>2019.000000</td>\n",
       "      <td>111.000000</td>\n",
       "      <td>373200.000000</td>\n",
       "    </tr>\n",
       "  </tbody>\n",
       "</table>\n",
       "</div>"
      ],
      "text/plain": [
       "               price    model_year     condition     cylinders       odometer  \\\n",
       "count   51525.000000  47906.000000  51525.000000  46265.000000   43633.000000   \n",
       "mean    12132.464920   2009.750470      2.637535      6.125235  115553.461738   \n",
       "std     10040.803015      6.282065      0.712447      1.660360   65094.611341   \n",
       "min         1.000000   1908.000000      0.000000      3.000000       0.000000   \n",
       "25%      5000.000000   2006.000000      2.000000      4.000000   70000.000000   \n",
       "50%      9000.000000   2011.000000      3.000000      6.000000  113000.000000   \n",
       "75%     16839.000000   2014.000000      3.000000      8.000000  155000.000000   \n",
       "max    375000.000000   2019.000000      5.000000     12.000000  990000.000000   \n",
       "\n",
       "             is_4wd  days_listed  model_year_full  odometer_full  \\\n",
       "count  51525.000000  51525.00000     51525.000000   50974.000000   \n",
       "mean       0.496303     39.55476      2009.710917  115225.065151   \n",
       "std        0.499991     28.20427         6.100053   62403.471529   \n",
       "min        0.000000      0.00000      1908.000000       1.000000   \n",
       "25%        0.000000     19.00000      2007.000000   72905.000000   \n",
       "50%        0.000000     33.00000      2011.000000  113656.000000   \n",
       "75%        1.000000     53.00000      2014.000000  153000.000000   \n",
       "max        1.000000    271.00000      2019.000000  990000.000000   \n",
       "\n",
       "       cylinders_full       weekday  date_posted_year   vehicle_age  \\\n",
       "count    51525.000000  51525.000000      51525.000000  51525.000000   \n",
       "mean         6.124281      3.005434       2018.307462      9.596545   \n",
       "std          1.644649      1.997759          0.461447      6.113648   \n",
       "min          3.000000      0.000000       2018.000000      1.000000   \n",
       "25%          4.000000      1.000000       2018.000000      5.000000   \n",
       "50%          6.000000      3.000000       2018.000000      9.000000   \n",
       "75%          8.000000      5.000000       2019.000000     13.000000   \n",
       "max         12.000000      6.000000       2019.000000    111.000000   \n",
       "\n",
       "             avg_mil  \n",
       "count   50974.000000  \n",
       "mean    14413.854154  \n",
       "std      8627.223509  \n",
       "min         0.017241  \n",
       "25%      9696.432692  \n",
       "50%     13172.454545  \n",
       "75%     17500.000000  \n",
       "max    373200.000000  "
      ]
     },
     "execution_count": 45,
     "metadata": {},
     "output_type": "execute_result"
    }
   ],
   "source": [
    "data.describe()"
   ]
  },
  {
   "cell_type": "code",
   "execution_count": 46,
   "metadata": {
    "scrolled": true
   },
   "outputs": [
    {
     "data": {
      "text/html": [
       "<div>\n",
       "<style scoped>\n",
       "    .dataframe tbody tr th:only-of-type {\n",
       "        vertical-align: middle;\n",
       "    }\n",
       "\n",
       "    .dataframe tbody tr th {\n",
       "        vertical-align: top;\n",
       "    }\n",
       "\n",
       "    .dataframe thead th {\n",
       "        text-align: right;\n",
       "    }\n",
       "</style>\n",
       "<table border=\"1\" class=\"dataframe\">\n",
       "  <thead>\n",
       "    <tr style=\"text-align: right;\">\n",
       "      <th></th>\n",
       "      <th>price</th>\n",
       "      <th>model_year</th>\n",
       "      <th>condition</th>\n",
       "      <th>cylinders</th>\n",
       "      <th>odometer</th>\n",
       "      <th>is_4wd</th>\n",
       "      <th>days_listed</th>\n",
       "      <th>model_year_full</th>\n",
       "      <th>odometer_full</th>\n",
       "      <th>cylinders_full</th>\n",
       "      <th>weekday</th>\n",
       "      <th>date_posted_year</th>\n",
       "      <th>vehicle_age</th>\n",
       "      <th>avg_mil</th>\n",
       "    </tr>\n",
       "  </thead>\n",
       "  <tbody>\n",
       "    <tr>\n",
       "      <td>count</td>\n",
       "      <td>48210.000000</td>\n",
       "      <td>45216.000000</td>\n",
       "      <td>48210.000000</td>\n",
       "      <td>43292.000000</td>\n",
       "      <td>41171.000000</td>\n",
       "      <td>48210.000000</td>\n",
       "      <td>48210.000000</td>\n",
       "      <td>48210.000000</td>\n",
       "      <td>48210.000000</td>\n",
       "      <td>48210.000000</td>\n",
       "      <td>48210.000000</td>\n",
       "      <td>48210.000000</td>\n",
       "      <td>48210.000000</td>\n",
       "      <td>48210.000000</td>\n",
       "    </tr>\n",
       "    <tr>\n",
       "      <td>mean</td>\n",
       "      <td>11029.569259</td>\n",
       "      <td>2009.724146</td>\n",
       "      <td>2.621635</td>\n",
       "      <td>6.072184</td>\n",
       "      <td>117792.662262</td>\n",
       "      <td>0.486393</td>\n",
       "      <td>39.539556</td>\n",
       "      <td>2009.691641</td>\n",
       "      <td>117452.624466</td>\n",
       "      <td>6.071744</td>\n",
       "      <td>3.003713</td>\n",
       "      <td>2018.309956</td>\n",
       "      <td>9.618316</td>\n",
       "      <td>13859.810726</td>\n",
       "    </tr>\n",
       "    <tr>\n",
       "      <td>std</td>\n",
       "      <td>7782.475962</td>\n",
       "      <td>5.377511</td>\n",
       "      <td>0.705120</td>\n",
       "      <td>1.657540</td>\n",
       "      <td>62817.909885</td>\n",
       "      <td>0.499820</td>\n",
       "      <td>28.210064</td>\n",
       "      <td>5.249370</td>\n",
       "      <td>60214.032257</td>\n",
       "      <td>1.641890</td>\n",
       "      <td>1.995672</td>\n",
       "      <td>0.462480</td>\n",
       "      <td>5.259551</td>\n",
       "      <td>6407.585779</td>\n",
       "    </tr>\n",
       "    <tr>\n",
       "      <td>min</td>\n",
       "      <td>1.000000</td>\n",
       "      <td>1990.000000</td>\n",
       "      <td>0.000000</td>\n",
       "      <td>3.000000</td>\n",
       "      <td>0.000000</td>\n",
       "      <td>0.000000</td>\n",
       "      <td>0.000000</td>\n",
       "      <td>1990.000000</td>\n",
       "      <td>1.000000</td>\n",
       "      <td>3.000000</td>\n",
       "      <td>0.000000</td>\n",
       "      <td>2018.000000</td>\n",
       "      <td>1.000000</td>\n",
       "      <td>0.034483</td>\n",
       "    </tr>\n",
       "    <tr>\n",
       "      <td>25%</td>\n",
       "      <td>4995.000000</td>\n",
       "      <td>2006.000000</td>\n",
       "      <td>2.000000</td>\n",
       "      <td>4.000000</td>\n",
       "      <td>73919.000000</td>\n",
       "      <td>0.000000</td>\n",
       "      <td>19.000000</td>\n",
       "      <td>2006.000000</td>\n",
       "      <td>77000.000000</td>\n",
       "      <td>4.000000</td>\n",
       "      <td>1.000000</td>\n",
       "      <td>2018.000000</td>\n",
       "      <td>6.000000</td>\n",
       "      <td>9758.714286</td>\n",
       "    </tr>\n",
       "    <tr>\n",
       "      <td>50%</td>\n",
       "      <td>8900.000000</td>\n",
       "      <td>2011.000000</td>\n",
       "      <td>3.000000</td>\n",
       "      <td>6.000000</td>\n",
       "      <td>115600.000000</td>\n",
       "      <td>0.000000</td>\n",
       "      <td>33.000000</td>\n",
       "      <td>2010.000000</td>\n",
       "      <td>117000.000000</td>\n",
       "      <td>6.000000</td>\n",
       "      <td>3.000000</td>\n",
       "      <td>2018.000000</td>\n",
       "      <td>9.000000</td>\n",
       "      <td>13058.238095</td>\n",
       "    </tr>\n",
       "    <tr>\n",
       "      <td>75%</td>\n",
       "      <td>15648.750000</td>\n",
       "      <td>2014.000000</td>\n",
       "      <td>3.000000</td>\n",
       "      <td>8.000000</td>\n",
       "      <td>156907.000000</td>\n",
       "      <td>1.000000</td>\n",
       "      <td>53.000000</td>\n",
       "      <td>2014.000000</td>\n",
       "      <td>154321.000000</td>\n",
       "      <td>8.000000</td>\n",
       "      <td>5.000000</td>\n",
       "      <td>2019.000000</td>\n",
       "      <td>13.000000</td>\n",
       "      <td>17100.000000</td>\n",
       "    </tr>\n",
       "    <tr>\n",
       "      <td>max</td>\n",
       "      <td>34600.000000</td>\n",
       "      <td>2019.000000</td>\n",
       "      <td>5.000000</td>\n",
       "      <td>12.000000</td>\n",
       "      <td>920000.000000</td>\n",
       "      <td>1.000000</td>\n",
       "      <td>271.000000</td>\n",
       "      <td>2019.000000</td>\n",
       "      <td>920000.000000</td>\n",
       "      <td>12.000000</td>\n",
       "      <td>6.000000</td>\n",
       "      <td>2019.000000</td>\n",
       "      <td>29.000000</td>\n",
       "      <td>38999.500000</td>\n",
       "    </tr>\n",
       "  </tbody>\n",
       "</table>\n",
       "</div>"
      ],
      "text/plain": [
       "              price    model_year     condition     cylinders       odometer  \\\n",
       "count  48210.000000  45216.000000  48210.000000  43292.000000   41171.000000   \n",
       "mean   11029.569259   2009.724146      2.621635      6.072184  117792.662262   \n",
       "std     7782.475962      5.377511      0.705120      1.657540   62817.909885   \n",
       "min        1.000000   1990.000000      0.000000      3.000000       0.000000   \n",
       "25%     4995.000000   2006.000000      2.000000      4.000000   73919.000000   \n",
       "50%     8900.000000   2011.000000      3.000000      6.000000  115600.000000   \n",
       "75%    15648.750000   2014.000000      3.000000      8.000000  156907.000000   \n",
       "max    34600.000000   2019.000000      5.000000     12.000000  920000.000000   \n",
       "\n",
       "             is_4wd   days_listed  model_year_full  odometer_full  \\\n",
       "count  48210.000000  48210.000000     48210.000000   48210.000000   \n",
       "mean       0.486393     39.539556      2009.691641  117452.624466   \n",
       "std        0.499820     28.210064         5.249370   60214.032257   \n",
       "min        0.000000      0.000000      1990.000000       1.000000   \n",
       "25%        0.000000     19.000000      2006.000000   77000.000000   \n",
       "50%        0.000000     33.000000      2010.000000  117000.000000   \n",
       "75%        1.000000     53.000000      2014.000000  154321.000000   \n",
       "max        1.000000    271.000000      2019.000000  920000.000000   \n",
       "\n",
       "       cylinders_full       weekday  date_posted_year   vehicle_age  \\\n",
       "count    48210.000000  48210.000000      48210.000000  48210.000000   \n",
       "mean         6.071744      3.003713       2018.309956      9.618316   \n",
       "std          1.641890      1.995672          0.462480      5.259551   \n",
       "min          3.000000      0.000000       2018.000000      1.000000   \n",
       "25%          4.000000      1.000000       2018.000000      6.000000   \n",
       "50%          6.000000      3.000000       2018.000000      9.000000   \n",
       "75%          8.000000      5.000000       2019.000000     13.000000   \n",
       "max         12.000000      6.000000       2019.000000     29.000000   \n",
       "\n",
       "            avg_mil  \n",
       "count  48210.000000  \n",
       "mean   13859.810726  \n",
       "std     6407.585779  \n",
       "min        0.034483  \n",
       "25%     9758.714286  \n",
       "50%    13058.238095  \n",
       "75%    17100.000000  \n",
       "max    38999.500000  "
      ]
     },
     "execution_count": 46,
     "metadata": {},
     "output_type": "execute_result"
    }
   ],
   "source": [
    "good_data.describe()"
   ]
  },
  {
   "cell_type": "markdown",
   "metadata": {},
   "source": [
    "<div class=\"alert alert-block alert-success\">\n",
    "<b>Reviewer's comment</b> <a class=\"tocSkip\"></a>\n",
    "    \n",
    "So, we compared old and new data. Very good choice for outliers! Now we know more infromation and can move on.\n",
    "\n",
    "</div>\n",
    "\n",
    "<div class=\"alert alert-block alert-warning\">\n",
    "<b>Reviewer's comment</b> <a class=\"tocSkip\"></a>\n",
    "    \n",
    "Also we can compare old and new data on the one graph. :) \n",
    "\n",
    "</div>"
   ]
  },
  {
   "cell_type": "code",
   "execution_count": 47,
   "metadata": {},
   "outputs": [
    {
     "data": {
      "text/plain": [
       "array([[<matplotlib.axes._subplots.AxesSubplot object at 0x7ff0d3bd1f50>]],\n",
       "      dtype=object)"
      ]
     },
     "execution_count": 47,
     "metadata": {},
     "output_type": "execute_result"
    },
    {
     "data": {
      "image/png": "[encoded data removed]",
      "text/plain": [
       "<Figure size 432x288 with 1 Axes>"
      ]
     },
     "metadata": {
      "needs_background": "light"
     },
     "output_type": "display_data"
    }
   ],
   "source": [
    "good_data.hist('days_listed', bins=25, range=(0, 200)) "
   ]
  },
  {
   "cell_type": "code",
   "execution_count": 48,
   "metadata": {},
   "outputs": [
    {
     "name": "stdout",
     "output_type": "stream",
     "text": [
      "104.0\n"
     ]
    },
    {
     "data": {
      "image/png": "[encoded data removed]",
      "text/plain": [
       "<Figure size 360x360 with 1 Axes>"
      ]
     },
     "metadata": {
      "needs_background": "light"
     },
     "output_type": "display_data"
    }
   ],
   "source": [
    "#data.boxplot('days_listed')\n",
    "Q1 = good_data['days_listed'].quantile(0.25)\n",
    "Q3 = good_data['days_listed'].quantile(0.75)\n",
    "IQR = Q3 - Q1\n",
    "good_data['days_listed'].plot(kind='box', figsize=(5, 5),grid=True)\n",
    "plt.hlines(y=Q1-1.5*IQR, xmin=0.9, xmax=1.1, color= 'red')\n",
    "plt.hlines(y=Q3+1.5*IQR, xmin=0.9, xmax=1.1, color= 'red')\n",
    "print(Q3+1.5*IQR)"
   ]
  },
  {
   "cell_type": "code",
   "execution_count": 49,
   "metadata": {},
   "outputs": [
    {
     "data": {
      "text/plain": [
       "(39.539556108691144, 33.0)"
      ]
     },
     "execution_count": 49,
     "metadata": {},
     "output_type": "execute_result"
    }
   ],
   "source": [
    "good_data['days_listed'].mean(),good_data['days_listed'].median()"
   ]
  },
  {
   "cell_type": "markdown",
   "metadata": {},
   "source": [
    "Usually ad stays published around 39 days there is otliers after 100days"
   ]
  },
  {
   "cell_type": "markdown",
   "metadata": {},
   "source": [
    "Ads were removed quickly when the vehicle were sold and they were listed for an abnormally long time because they didn’t sell "
   ]
  },
  {
   "cell_type": "markdown",
   "metadata": {},
   "source": [
    "<div class=\"alert alert-block alert-success\">\n",
    "<b>Reviewer's comment</b> <a class=\"tocSkip\"></a>\n",
    "    \n",
    "Now we have more information about dayes. Very good that you plot a graph! \n",
    "    \n",
    "Describe is great variant to show all information.\n",
    "</div>"
   ]
  },
  {
   "cell_type": "code",
   "execution_count": 50,
   "metadata": {},
   "outputs": [
    {
     "data": {
      "text/plain": [
       "<matplotlib.axes._subplots.AxesSubplot at 0x7ff0d37556d0>"
      ]
     },
     "execution_count": 50,
     "metadata": {},
     "output_type": "execute_result"
    },
    {
     "data": {
      "image/png": "[encoded data removed]",
      "text/plain": [
       "<Figure size 864x360 with 1 Axes>"
      ]
     },
     "metadata": {
      "needs_background": "light"
     },
     "output_type": "display_data"
    }
   ],
   "source": [
    "\n",
    "(good_data\n",
    "  \n",
    "     .pivot_table(index='type', values='price', aggfunc='median')\n",
    "     .plot(grid=True, kind = 'bar', figsize=(12, 5))\n",
    ") "
   ]
  },
  {
   "cell_type": "code",
   "execution_count": 51,
   "metadata": {},
   "outputs": [
    {
     "data": {
      "text/html": [
       "<div>\n",
       "<style scoped>\n",
       "    .dataframe tbody tr th:only-of-type {\n",
       "        vertical-align: middle;\n",
       "    }\n",
       "\n",
       "    .dataframe tbody tr th {\n",
       "        vertical-align: top;\n",
       "    }\n",
       "\n",
       "    .dataframe thead tr th {\n",
       "        text-align: left;\n",
       "    }\n",
       "\n",
       "    .dataframe thead tr:last-of-type th {\n",
       "        text-align: right;\n",
       "    }\n",
       "</style>\n",
       "<table border=\"1\" class=\"dataframe\">\n",
       "  <thead>\n",
       "    <tr>\n",
       "      <th></th>\n",
       "      <th>count</th>\n",
       "      <th>median</th>\n",
       "      <th>mean</th>\n",
       "    </tr>\n",
       "    <tr>\n",
       "      <th></th>\n",
       "      <th>price</th>\n",
       "      <th>price</th>\n",
       "      <th>price</th>\n",
       "    </tr>\n",
       "    <tr>\n",
       "      <th>type</th>\n",
       "      <th></th>\n",
       "      <th></th>\n",
       "      <th></th>\n",
       "    </tr>\n",
       "  </thead>\n",
       "  <tbody>\n",
       "    <tr>\n",
       "      <td>SUV</td>\n",
       "      <td>11803</td>\n",
       "      <td>8500.0</td>\n",
       "      <td>10325.694908</td>\n",
       "    </tr>\n",
       "    <tr>\n",
       "      <td>bus</td>\n",
       "      <td>24</td>\n",
       "      <td>10500.0</td>\n",
       "      <td>17135.666667</td>\n",
       "    </tr>\n",
       "    <tr>\n",
       "      <td>convertible</td>\n",
       "      <td>371</td>\n",
       "      <td>11000.0</td>\n",
       "      <td>12356.698113</td>\n",
       "    </tr>\n",
       "    <tr>\n",
       "      <td>coupe</td>\n",
       "      <td>2054</td>\n",
       "      <td>12000.0</td>\n",
       "      <td>13305.814508</td>\n",
       "    </tr>\n",
       "    <tr>\n",
       "      <td>hatchback</td>\n",
       "      <td>1012</td>\n",
       "      <td>5950.0</td>\n",
       "      <td>6786.825099</td>\n",
       "    </tr>\n",
       "    <tr>\n",
       "      <td>mini-van</td>\n",
       "      <td>1114</td>\n",
       "      <td>6330.5</td>\n",
       "      <td>7849.290844</td>\n",
       "    </tr>\n",
       "    <tr>\n",
       "      <td>offroad</td>\n",
       "      <td>199</td>\n",
       "      <td>11450.0</td>\n",
       "      <td>13322.140704</td>\n",
       "    </tr>\n",
       "    <tr>\n",
       "      <td>other</td>\n",
       "      <td>232</td>\n",
       "      <td>8800.0</td>\n",
       "      <td>10325.211207</td>\n",
       "    </tr>\n",
       "    <tr>\n",
       "      <td>pickup</td>\n",
       "      <td>6371</td>\n",
       "      <td>13500.0</td>\n",
       "      <td>14619.922147</td>\n",
       "    </tr>\n",
       "    <tr>\n",
       "      <td>sedan</td>\n",
       "      <td>11827</td>\n",
       "      <td>5995.0</td>\n",
       "      <td>6887.312421</td>\n",
       "    </tr>\n",
       "  </tbody>\n",
       "</table>\n",
       "</div>"
      ],
      "text/plain": [
       "             count   median          mean\n",
       "             price    price         price\n",
       "type                                     \n",
       "SUV          11803   8500.0  10325.694908\n",
       "bus             24  10500.0  17135.666667\n",
       "convertible    371  11000.0  12356.698113\n",
       "coupe         2054  12000.0  13305.814508\n",
       "hatchback     1012   5950.0   6786.825099\n",
       "mini-van      1114   6330.5   7849.290844\n",
       "offroad        199  11450.0  13322.140704\n",
       "other          232   8800.0  10325.211207\n",
       "pickup        6371  13500.0  14619.922147\n",
       "sedan        11827   5995.0   6887.312421"
      ]
     },
     "execution_count": 51,
     "metadata": {},
     "output_type": "execute_result"
    }
   ],
   "source": [
    "avg_prc_tpe =good_data.pivot_table(index='type', values='price', aggfunc=['count','median', 'mean'])\n",
    "\n",
    "avg_prc_tpe.head(10)"
   ]
  },
  {
   "cell_type": "code",
   "execution_count": 52,
   "metadata": {},
   "outputs": [
    {
     "data": {
      "text/plain": [
       "type\n",
       "SUV            11803\n",
       "bus               24\n",
       "convertible      371\n",
       "coupe           2054\n",
       "hatchback       1012\n",
       "mini-van        1114\n",
       "offroad          199\n",
       "other            232\n",
       "pickup          6371\n",
       "sedan          11827\n",
       "truck          11136\n",
       "van              563\n",
       "wagon           1504\n",
       "Name: days_listed, dtype: int64"
      ]
     },
     "execution_count": 52,
     "metadata": {},
     "output_type": "execute_result"
    }
   ],
   "source": [
    "good_data1 = good_data.groupby('type')['days_listed'].count()\n",
    "good_data1\n"
   ]
  },
  {
   "cell_type": "code",
   "execution_count": 53,
   "metadata": {},
   "outputs": [
    {
     "data": {
      "text/plain": [
       "<matplotlib.axes._subplots.AxesSubplot at 0x7ff0d3cdb090>"
      ]
     },
     "execution_count": 53,
     "metadata": {},
     "output_type": "execute_result"
    },
    {
     "data": {
      "image/png": "[encoded data removed]",
      "text/plain": [
       "<Figure size 864x432 with 1 Axes>"
      ]
     },
     "metadata": {
      "needs_background": "light"
     },
     "output_type": "display_data"
    }
   ],
   "source": [
    "good_data1.plot(grid=True, kind= 'bar', figsize=(12, 6))\n"
   ]
  },
  {
   "cell_type": "markdown",
   "metadata": {},
   "source": [
    "1.sedan=11827 , 2. SUV=11803"
   ]
  },
  {
   "cell_type": "markdown",
   "metadata": {},
   "source": [
    "<div class=\"alert alert-block alert-success\">\n",
    "<b>Reviewer's comment</b> <a class=\"tocSkip\"></a>\n",
    "    \n",
    "Yes, you are right! :) \n",
    "</div>\n",
    "\n",
    "<div class=\"alert alert-block alert-warning\">\n",
    "<b>Reviewer's comment</b> <a class=\"tocSkip\"></a>\n",
    "    \n",
    "Sort values make result more visually attaractive! :) \n",
    "</div>"
   ]
  },
  {
   "cell_type": "code",
   "execution_count": 54,
   "metadata": {},
   "outputs": [
    {
     "data": {
      "text/html": [
       "<div>\n",
       "<style scoped>\n",
       "    .dataframe tbody tr th:only-of-type {\n",
       "        vertical-align: middle;\n",
       "    }\n",
       "\n",
       "    .dataframe tbody tr th {\n",
       "        vertical-align: top;\n",
       "    }\n",
       "\n",
       "    .dataframe thead th {\n",
       "        text-align: right;\n",
       "    }\n",
       "</style>\n",
       "<table border=\"1\" class=\"dataframe\">\n",
       "  <thead>\n",
       "    <tr style=\"text-align: right;\">\n",
       "      <th></th>\n",
       "      <th>price</th>\n",
       "      <th>model_year</th>\n",
       "      <th>model</th>\n",
       "      <th>condition</th>\n",
       "      <th>cylinders</th>\n",
       "      <th>fuel</th>\n",
       "      <th>odometer</th>\n",
       "      <th>transmission</th>\n",
       "      <th>type</th>\n",
       "      <th>paint_color</th>\n",
       "      <th>is_4wd</th>\n",
       "      <th>date_posted</th>\n",
       "      <th>days_listed</th>\n",
       "      <th>model_year_full</th>\n",
       "      <th>odometer_full</th>\n",
       "      <th>cylinders_full</th>\n",
       "      <th>weekday</th>\n",
       "      <th>date_posted_year</th>\n",
       "      <th>vehicle_age</th>\n",
       "      <th>avg_mil</th>\n",
       "    </tr>\n",
       "  </thead>\n",
       "  <tbody>\n",
       "    <tr>\n",
       "      <td>2</td>\n",
       "      <td>5500</td>\n",
       "      <td>2013.0</td>\n",
       "      <td>hyundai sonata</td>\n",
       "      <td>4</td>\n",
       "      <td>4.0</td>\n",
       "      <td>gas</td>\n",
       "      <td>110000.0</td>\n",
       "      <td>automatic</td>\n",
       "      <td>sedan</td>\n",
       "      <td>red</td>\n",
       "      <td>0</td>\n",
       "      <td>2019-02-07</td>\n",
       "      <td>79</td>\n",
       "      <td>2013</td>\n",
       "      <td>110000.0</td>\n",
       "      <td>4.000000</td>\n",
       "      <td>3</td>\n",
       "      <td>2019</td>\n",
       "      <td>7</td>\n",
       "      <td>15714.285714</td>\n",
       "    </tr>\n",
       "    <tr>\n",
       "      <td>4</td>\n",
       "      <td>14900</td>\n",
       "      <td>2017.0</td>\n",
       "      <td>chrysler 200</td>\n",
       "      <td>3</td>\n",
       "      <td>4.0</td>\n",
       "      <td>gas</td>\n",
       "      <td>80903.0</td>\n",
       "      <td>automatic</td>\n",
       "      <td>sedan</td>\n",
       "      <td>black</td>\n",
       "      <td>0</td>\n",
       "      <td>2019-04-02</td>\n",
       "      <td>28</td>\n",
       "      <td>2017</td>\n",
       "      <td>80903.0</td>\n",
       "      <td>4.000000</td>\n",
       "      <td>1</td>\n",
       "      <td>2019</td>\n",
       "      <td>3</td>\n",
       "      <td>26967.666667</td>\n",
       "    </tr>\n",
       "    <tr>\n",
       "      <td>5</td>\n",
       "      <td>14990</td>\n",
       "      <td>2014.0</td>\n",
       "      <td>chrysler 300</td>\n",
       "      <td>3</td>\n",
       "      <td>6.0</td>\n",
       "      <td>gas</td>\n",
       "      <td>57954.0</td>\n",
       "      <td>automatic</td>\n",
       "      <td>sedan</td>\n",
       "      <td>black</td>\n",
       "      <td>1</td>\n",
       "      <td>2018-06-20</td>\n",
       "      <td>15</td>\n",
       "      <td>2014</td>\n",
       "      <td>57954.0</td>\n",
       "      <td>6.000000</td>\n",
       "      <td>2</td>\n",
       "      <td>2018</td>\n",
       "      <td>5</td>\n",
       "      <td>11590.800000</td>\n",
       "    </tr>\n",
       "    <tr>\n",
       "      <td>6</td>\n",
       "      <td>12990</td>\n",
       "      <td>2015.0</td>\n",
       "      <td>toyota camry</td>\n",
       "      <td>3</td>\n",
       "      <td>4.0</td>\n",
       "      <td>gas</td>\n",
       "      <td>79212.0</td>\n",
       "      <td>automatic</td>\n",
       "      <td>sedan</td>\n",
       "      <td>white</td>\n",
       "      <td>0</td>\n",
       "      <td>2018-12-27</td>\n",
       "      <td>73</td>\n",
       "      <td>2015</td>\n",
       "      <td>79212.0</td>\n",
       "      <td>4.000000</td>\n",
       "      <td>3</td>\n",
       "      <td>2018</td>\n",
       "      <td>4</td>\n",
       "      <td>19803.000000</td>\n",
       "    </tr>\n",
       "    <tr>\n",
       "      <td>11</td>\n",
       "      <td>8990</td>\n",
       "      <td>2012.0</td>\n",
       "      <td>honda accord</td>\n",
       "      <td>3</td>\n",
       "      <td>4.0</td>\n",
       "      <td>gas</td>\n",
       "      <td>111142.0</td>\n",
       "      <td>automatic</td>\n",
       "      <td>sedan</td>\n",
       "      <td>grey</td>\n",
       "      <td>0</td>\n",
       "      <td>2019-03-28</td>\n",
       "      <td>29</td>\n",
       "      <td>2012</td>\n",
       "      <td>111142.0</td>\n",
       "      <td>4.000000</td>\n",
       "      <td>3</td>\n",
       "      <td>2019</td>\n",
       "      <td>8</td>\n",
       "      <td>13892.750000</td>\n",
       "    </tr>\n",
       "    <tr>\n",
       "      <td>13</td>\n",
       "      <td>16500</td>\n",
       "      <td>2018.0</td>\n",
       "      <td>hyundai sonata</td>\n",
       "      <td>3</td>\n",
       "      <td>4.0</td>\n",
       "      <td>gas</td>\n",
       "      <td>22104.0</td>\n",
       "      <td>automatic</td>\n",
       "      <td>sedan</td>\n",
       "      <td>silver</td>\n",
       "      <td>0</td>\n",
       "      <td>2019-01-14</td>\n",
       "      <td>29</td>\n",
       "      <td>2018</td>\n",
       "      <td>22104.0</td>\n",
       "      <td>4.000000</td>\n",
       "      <td>0</td>\n",
       "      <td>2019</td>\n",
       "      <td>2</td>\n",
       "      <td>11052.000000</td>\n",
       "    </tr>\n",
       "    <tr>\n",
       "      <td>19</td>\n",
       "      <td>13990</td>\n",
       "      <td>2018.0</td>\n",
       "      <td>hyundai elantra</td>\n",
       "      <td>3</td>\n",
       "      <td>4.0</td>\n",
       "      <td>gas</td>\n",
       "      <td>31932.0</td>\n",
       "      <td>automatic</td>\n",
       "      <td>sedan</td>\n",
       "      <td>red</td>\n",
       "      <td>0</td>\n",
       "      <td>2018-08-25</td>\n",
       "      <td>27</td>\n",
       "      <td>2018</td>\n",
       "      <td>31932.0</td>\n",
       "      <td>4.000000</td>\n",
       "      <td>5</td>\n",
       "      <td>2018</td>\n",
       "      <td>1</td>\n",
       "      <td>31932.000000</td>\n",
       "    </tr>\n",
       "    <tr>\n",
       "      <td>24</td>\n",
       "      <td>3950</td>\n",
       "      <td>2009.0</td>\n",
       "      <td>chrysler 200</td>\n",
       "      <td>3</td>\n",
       "      <td>4.0</td>\n",
       "      <td>gas</td>\n",
       "      <td>NaN</td>\n",
       "      <td>automatic</td>\n",
       "      <td>sedan</td>\n",
       "      <td>red</td>\n",
       "      <td>0</td>\n",
       "      <td>2018-06-11</td>\n",
       "      <td>40</td>\n",
       "      <td>2009</td>\n",
       "      <td>132797.0</td>\n",
       "      <td>4.000000</td>\n",
       "      <td>0</td>\n",
       "      <td>2018</td>\n",
       "      <td>10</td>\n",
       "      <td>13279.700000</td>\n",
       "    </tr>\n",
       "    <tr>\n",
       "      <td>25</td>\n",
       "      <td>11499</td>\n",
       "      <td>2017.0</td>\n",
       "      <td>chevrolet malibu</td>\n",
       "      <td>4</td>\n",
       "      <td>4.0</td>\n",
       "      <td>gas</td>\n",
       "      <td>NaN</td>\n",
       "      <td>automatic</td>\n",
       "      <td>sedan</td>\n",
       "      <td>unknown</td>\n",
       "      <td>0</td>\n",
       "      <td>2018-07-26</td>\n",
       "      <td>43</td>\n",
       "      <td>2017</td>\n",
       "      <td>42631.0</td>\n",
       "      <td>4.000000</td>\n",
       "      <td>3</td>\n",
       "      <td>2018</td>\n",
       "      <td>2</td>\n",
       "      <td>21315.500000</td>\n",
       "    </tr>\n",
       "    <tr>\n",
       "      <td>26</td>\n",
       "      <td>8499</td>\n",
       "      <td>2014.0</td>\n",
       "      <td>ford fusion se</td>\n",
       "      <td>4</td>\n",
       "      <td>4.0</td>\n",
       "      <td>gas</td>\n",
       "      <td>79523.0</td>\n",
       "      <td>automatic</td>\n",
       "      <td>sedan</td>\n",
       "      <td>red</td>\n",
       "      <td>0</td>\n",
       "      <td>2018-10-25</td>\n",
       "      <td>23</td>\n",
       "      <td>2014</td>\n",
       "      <td>79523.0</td>\n",
       "      <td>4.000000</td>\n",
       "      <td>3</td>\n",
       "      <td>2018</td>\n",
       "      <td>5</td>\n",
       "      <td>15904.600000</td>\n",
       "    </tr>\n",
       "    <tr>\n",
       "      <td>27</td>\n",
       "      <td>12999</td>\n",
       "      <td>2015.0</td>\n",
       "      <td>chevrolet impala</td>\n",
       "      <td>4</td>\n",
       "      <td>6.0</td>\n",
       "      <td>gas</td>\n",
       "      <td>39368.0</td>\n",
       "      <td>automatic</td>\n",
       "      <td>sedan</td>\n",
       "      <td>custom</td>\n",
       "      <td>0</td>\n",
       "      <td>2018-05-19</td>\n",
       "      <td>42</td>\n",
       "      <td>2015</td>\n",
       "      <td>39368.0</td>\n",
       "      <td>6.000000</td>\n",
       "      <td>5</td>\n",
       "      <td>2018</td>\n",
       "      <td>4</td>\n",
       "      <td>9842.000000</td>\n",
       "    </tr>\n",
       "    <tr>\n",
       "      <td>29</td>\n",
       "      <td>5495</td>\n",
       "      <td>2010.0</td>\n",
       "      <td>chevrolet impala</td>\n",
       "      <td>3</td>\n",
       "      <td>6.0</td>\n",
       "      <td>gas</td>\n",
       "      <td>NaN</td>\n",
       "      <td>automatic</td>\n",
       "      <td>sedan</td>\n",
       "      <td>white</td>\n",
       "      <td>0</td>\n",
       "      <td>2019-02-18</td>\n",
       "      <td>20</td>\n",
       "      <td>2010</td>\n",
       "      <td>129000.0</td>\n",
       "      <td>6.000000</td>\n",
       "      <td>0</td>\n",
       "      <td>2019</td>\n",
       "      <td>10</td>\n",
       "      <td>12900.000000</td>\n",
       "    </tr>\n",
       "    <tr>\n",
       "      <td>31</td>\n",
       "      <td>11999</td>\n",
       "      <td>2017.0</td>\n",
       "      <td>toyota camry le</td>\n",
       "      <td>3</td>\n",
       "      <td>4.0</td>\n",
       "      <td>gas</td>\n",
       "      <td>35721.0</td>\n",
       "      <td>automatic</td>\n",
       "      <td>sedan</td>\n",
       "      <td>unknown</td>\n",
       "      <td>0</td>\n",
       "      <td>2018-09-13</td>\n",
       "      <td>25</td>\n",
       "      <td>2017</td>\n",
       "      <td>35721.0</td>\n",
       "      <td>4.000000</td>\n",
       "      <td>3</td>\n",
       "      <td>2018</td>\n",
       "      <td>2</td>\n",
       "      <td>17860.500000</td>\n",
       "    </tr>\n",
       "    <tr>\n",
       "      <td>32</td>\n",
       "      <td>9499</td>\n",
       "      <td>2015.0</td>\n",
       "      <td>nissan altima</td>\n",
       "      <td>4</td>\n",
       "      <td>4.0</td>\n",
       "      <td>gas</td>\n",
       "      <td>51848.0</td>\n",
       "      <td>automatic</td>\n",
       "      <td>sedan</td>\n",
       "      <td>grey</td>\n",
       "      <td>0</td>\n",
       "      <td>2018-11-12</td>\n",
       "      <td>7</td>\n",
       "      <td>2015</td>\n",
       "      <td>51848.0</td>\n",
       "      <td>4.000000</td>\n",
       "      <td>0</td>\n",
       "      <td>2018</td>\n",
       "      <td>4</td>\n",
       "      <td>12962.000000</td>\n",
       "    </tr>\n",
       "    <tr>\n",
       "      <td>35</td>\n",
       "      <td>14999</td>\n",
       "      <td>2015.0</td>\n",
       "      <td>dodge charger</td>\n",
       "      <td>2</td>\n",
       "      <td>6.0</td>\n",
       "      <td>gas</td>\n",
       "      <td>63037.0</td>\n",
       "      <td>automatic</td>\n",
       "      <td>sedan</td>\n",
       "      <td>unknown</td>\n",
       "      <td>0</td>\n",
       "      <td>2018-05-11</td>\n",
       "      <td>37</td>\n",
       "      <td>2015</td>\n",
       "      <td>63037.0</td>\n",
       "      <td>6.000000</td>\n",
       "      <td>4</td>\n",
       "      <td>2018</td>\n",
       "      <td>4</td>\n",
       "      <td>15759.250000</td>\n",
       "    </tr>\n",
       "    <tr>\n",
       "      <td>36</td>\n",
       "      <td>10499</td>\n",
       "      <td>2013.0</td>\n",
       "      <td>chrysler 300</td>\n",
       "      <td>2</td>\n",
       "      <td>NaN</td>\n",
       "      <td>gas</td>\n",
       "      <td>88042.0</td>\n",
       "      <td>automatic</td>\n",
       "      <td>sedan</td>\n",
       "      <td>unknown</td>\n",
       "      <td>0</td>\n",
       "      <td>2018-05-05</td>\n",
       "      <td>22</td>\n",
       "      <td>2013</td>\n",
       "      <td>88042.0</td>\n",
       "      <td>6.379928</td>\n",
       "      <td>5</td>\n",
       "      <td>2018</td>\n",
       "      <td>6</td>\n",
       "      <td>14673.666667</td>\n",
       "    </tr>\n",
       "    <tr>\n",
       "      <td>38</td>\n",
       "      <td>7999</td>\n",
       "      <td>2015.0</td>\n",
       "      <td>chrysler 200</td>\n",
       "      <td>2</td>\n",
       "      <td>4.0</td>\n",
       "      <td>gas</td>\n",
       "      <td>NaN</td>\n",
       "      <td>automatic</td>\n",
       "      <td>sedan</td>\n",
       "      <td>unknown</td>\n",
       "      <td>0</td>\n",
       "      <td>2019-03-08</td>\n",
       "      <td>29</td>\n",
       "      <td>2015</td>\n",
       "      <td>80056.0</td>\n",
       "      <td>4.000000</td>\n",
       "      <td>4</td>\n",
       "      <td>2019</td>\n",
       "      <td>5</td>\n",
       "      <td>16011.200000</td>\n",
       "    </tr>\n",
       "    <tr>\n",
       "      <td>46</td>\n",
       "      <td>11200</td>\n",
       "      <td>2015.0</td>\n",
       "      <td>dodge charger</td>\n",
       "      <td>3</td>\n",
       "      <td>6.0</td>\n",
       "      <td>gas</td>\n",
       "      <td>90302.0</td>\n",
       "      <td>automatic</td>\n",
       "      <td>sedan</td>\n",
       "      <td>black</td>\n",
       "      <td>1</td>\n",
       "      <td>2018-07-19</td>\n",
       "      <td>73</td>\n",
       "      <td>2015</td>\n",
       "      <td>90302.0</td>\n",
       "      <td>6.000000</td>\n",
       "      <td>3</td>\n",
       "      <td>2018</td>\n",
       "      <td>4</td>\n",
       "      <td>22575.500000</td>\n",
       "    </tr>\n",
       "    <tr>\n",
       "      <td>48</td>\n",
       "      <td>9500</td>\n",
       "      <td>2014.0</td>\n",
       "      <td>ford focus</td>\n",
       "      <td>3</td>\n",
       "      <td>4.0</td>\n",
       "      <td>diesel</td>\n",
       "      <td>46000.0</td>\n",
       "      <td>automatic</td>\n",
       "      <td>sedan</td>\n",
       "      <td>unknown</td>\n",
       "      <td>0</td>\n",
       "      <td>2018-10-09</td>\n",
       "      <td>24</td>\n",
       "      <td>2014</td>\n",
       "      <td>46000.0</td>\n",
       "      <td>4.000000</td>\n",
       "      <td>1</td>\n",
       "      <td>2018</td>\n",
       "      <td>5</td>\n",
       "      <td>9200.000000</td>\n",
       "    </tr>\n",
       "    <tr>\n",
       "      <td>49</td>\n",
       "      <td>3200</td>\n",
       "      <td>2006.0</td>\n",
       "      <td>honda civic</td>\n",
       "      <td>3</td>\n",
       "      <td>4.0</td>\n",
       "      <td>gas</td>\n",
       "      <td>255390.0</td>\n",
       "      <td>automatic</td>\n",
       "      <td>sedan</td>\n",
       "      <td>blue</td>\n",
       "      <td>0</td>\n",
       "      <td>2018-10-18</td>\n",
       "      <td>23</td>\n",
       "      <td>2006</td>\n",
       "      <td>255390.0</td>\n",
       "      <td>4.000000</td>\n",
       "      <td>3</td>\n",
       "      <td>2018</td>\n",
       "      <td>13</td>\n",
       "      <td>19645.384615</td>\n",
       "    </tr>\n",
       "  </tbody>\n",
       "</table>\n",
       "</div>"
      ],
      "text/plain": [
       "    price  model_year             model  condition  cylinders    fuel  \\\n",
       "2    5500      2013.0    hyundai sonata          4        4.0     gas   \n",
       "4   14900      2017.0      chrysler 200          3        4.0     gas   \n",
       "5   14990      2014.0      chrysler 300          3        6.0     gas   \n",
       "6   12990      2015.0      toyota camry          3        4.0     gas   \n",
       "11   8990      2012.0      honda accord          3        4.0     gas   \n",
       "13  16500      2018.0    hyundai sonata          3        4.0     gas   \n",
       "19  13990      2018.0   hyundai elantra          3        4.0     gas   \n",
       "24   3950      2009.0      chrysler 200          3        4.0     gas   \n",
       "25  11499      2017.0  chevrolet malibu          4        4.0     gas   \n",
       "26   8499      2014.0    ford fusion se          4        4.0     gas   \n",
       "27  12999      2015.0  chevrolet impala          4        6.0     gas   \n",
       "29   5495      2010.0  chevrolet impala          3        6.0     gas   \n",
       "31  11999      2017.0   toyota camry le          3        4.0     gas   \n",
       "32   9499      2015.0     nissan altima          4        4.0     gas   \n",
       "35  14999      2015.0     dodge charger          2        6.0     gas   \n",
       "36  10499      2013.0      chrysler 300          2        NaN     gas   \n",
       "38   7999      2015.0      chrysler 200          2        4.0     gas   \n",
       "46  11200      2015.0     dodge charger          3        6.0     gas   \n",
       "48   9500      2014.0        ford focus          3        4.0  diesel   \n",
       "49   3200      2006.0       honda civic          3        4.0     gas   \n",
       "\n",
       "    odometer transmission   type paint_color  is_4wd date_posted  days_listed  \\\n",
       "2   110000.0    automatic  sedan         red       0  2019-02-07           79   \n",
       "4    80903.0    automatic  sedan       black       0  2019-04-02           28   \n",
       "5    57954.0    automatic  sedan       black       1  2018-06-20           15   \n",
       "6    79212.0    automatic  sedan       white       0  2018-12-27           73   \n",
       "11  111142.0    automatic  sedan        grey       0  2019-03-28           29   \n",
       "13   22104.0    automatic  sedan      silver       0  2019-01-14           29   \n",
       "19   31932.0    automatic  sedan         red       0  2018-08-25           27   \n",
       "24       NaN    automatic  sedan         red       0  2018-06-11           40   \n",
       "25       NaN    automatic  sedan     unknown       0  2018-07-26           43   \n",
       "26   79523.0    automatic  sedan         red       0  2018-10-25           23   \n",
       "27   39368.0    automatic  sedan      custom       0  2018-05-19           42   \n",
       "29       NaN    automatic  sedan       white       0  2019-02-18           20   \n",
       "31   35721.0    automatic  sedan     unknown       0  2018-09-13           25   \n",
       "32   51848.0    automatic  sedan        grey       0  2018-11-12            7   \n",
       "35   63037.0    automatic  sedan     unknown       0  2018-05-11           37   \n",
       "36   88042.0    automatic  sedan     unknown       0  2018-05-05           22   \n",
       "38       NaN    automatic  sedan     unknown       0  2019-03-08           29   \n",
       "46   90302.0    automatic  sedan       black       1  2018-07-19           73   \n",
       "48   46000.0    automatic  sedan     unknown       0  2018-10-09           24   \n",
       "49  255390.0    automatic  sedan        blue       0  2018-10-18           23   \n",
       "\n",
       "    model_year_full  odometer_full  cylinders_full  weekday  date_posted_year  \\\n",
       "2              2013       110000.0        4.000000        3              2019   \n",
       "4              2017        80903.0        4.000000        1              2019   \n",
       "5              2014        57954.0        6.000000        2              2018   \n",
       "6              2015        79212.0        4.000000        3              2018   \n",
       "11             2012       111142.0        4.000000        3              2019   \n",
       "13             2018        22104.0        4.000000        0              2019   \n",
       "19             2018        31932.0        4.000000        5              2018   \n",
       "24             2009       132797.0        4.000000        0              2018   \n",
       "25             2017        42631.0        4.000000        3              2018   \n",
       "26             2014        79523.0        4.000000        3              2018   \n",
       "27             2015        39368.0        6.000000        5              2018   \n",
       "29             2010       129000.0        6.000000        0              2019   \n",
       "31             2017        35721.0        4.000000        3              2018   \n",
       "32             2015        51848.0        4.000000        0              2018   \n",
       "35             2015        63037.0        6.000000        4              2018   \n",
       "36             2013        88042.0        6.379928        5              2018   \n",
       "38             2015        80056.0        4.000000        4              2019   \n",
       "46             2015        90302.0        6.000000        3              2018   \n",
       "48             2014        46000.0        4.000000        1              2018   \n",
       "49             2006       255390.0        4.000000        3              2018   \n",
       "\n",
       "    vehicle_age       avg_mil  \n",
       "2             7  15714.285714  \n",
       "4             3  26967.666667  \n",
       "5             5  11590.800000  \n",
       "6             4  19803.000000  \n",
       "11            8  13892.750000  \n",
       "13            2  11052.000000  \n",
       "19            1  31932.000000  \n",
       "24           10  13279.700000  \n",
       "25            2  21315.500000  \n",
       "26            5  15904.600000  \n",
       "27            4   9842.000000  \n",
       "29           10  12900.000000  \n",
       "31            2  17860.500000  \n",
       "32            4  12962.000000  \n",
       "35            4  15759.250000  \n",
       "36            6  14673.666667  \n",
       "38            5  16011.200000  \n",
       "46            4  22575.500000  \n",
       "48            5   9200.000000  \n",
       "49           13  19645.384615  "
      ]
     },
     "execution_count": 54,
     "metadata": {},
     "output_type": "execute_result"
    }
   ],
   "source": [
    "df_sedan = good_data.query('type == \"sedan\"')\n",
    "df_suv = good_data.query('type == \"SUV\"')\n",
    "df_sedan.head(20)\n"
   ]
  },
  {
   "cell_type": "code",
   "execution_count": 55,
   "metadata": {},
   "outputs": [],
   "source": [
    "df_sedan1 = df_sedan[['price','condition','vehicle_age','odometer','transmission','paint_color']]\n",
    "df_suv1 = df_suv[['price','condition','vehicle_age','odometer','transmission','paint_color']]"
   ]
  },
  {
   "cell_type": "code",
   "execution_count": 56,
   "metadata": {},
   "outputs": [
    {
     "data": {
      "text/plain": [
       "array([[<matplotlib.axes._subplots.AxesSubplot object at 0x7ff0dc260a10>,\n",
       "        <matplotlib.axes._subplots.AxesSubplot object at 0x7ff0d3cf7b50>,\n",
       "        <matplotlib.axes._subplots.AxesSubplot object at 0x7ff0dc2dbf90>,\n",
       "        <matplotlib.axes._subplots.AxesSubplot object at 0x7ff0dc34b5d0>],\n",
       "       [<matplotlib.axes._subplots.AxesSubplot object at 0x7ff0d3edeb90>,\n",
       "        <matplotlib.axes._subplots.AxesSubplot object at 0x7ff0dc408810>,\n",
       "        <matplotlib.axes._subplots.AxesSubplot object at 0x7ff0dc30f210>,\n",
       "        <matplotlib.axes._subplots.AxesSubplot object at 0x7ff0dc2aefd0>],\n",
       "       [<matplotlib.axes._subplots.AxesSubplot object at 0x7ff0dc3bfb50>,\n",
       "        <matplotlib.axes._subplots.AxesSubplot object at 0x7ff0d3abe510>,\n",
       "        <matplotlib.axes._subplots.AxesSubplot object at 0x7ff0d36fc850>,\n",
       "        <matplotlib.axes._subplots.AxesSubplot object at 0x7ff0d36b9bd0>],\n",
       "       [<matplotlib.axes._subplots.AxesSubplot object at 0x7ff0d3671890>,\n",
       "        <matplotlib.axes._subplots.AxesSubplot object at 0x7ff0d362fc10>,\n",
       "        <matplotlib.axes._subplots.AxesSubplot object at 0x7ff0d36658d0>,\n",
       "        <matplotlib.axes._subplots.AxesSubplot object at 0x7ff0d3623c50>]],\n",
       "      dtype=object)"
      ]
     },
     "execution_count": 56,
     "metadata": {},
     "output_type": "execute_result"
    },
    {
     "data": {
      "image/png": "[encoded data removed]",
      "text/plain": [
       "<Figure size 648x648 with 16 Axes>"
      ]
     },
     "metadata": {
      "needs_background": "light"
     },
     "output_type": "display_data"
    }
   ],
   "source": [
    "pd.plotting.scatter_matrix(df_sedan1,figsize = (9,9))"
   ]
  },
  {
   "cell_type": "markdown",
   "metadata": {},
   "source": [
    "as we can see age and milage has negative affect on price condition has possitive affect in sedan type"
   ]
  },
  {
   "cell_type": "code",
   "execution_count": 57,
   "metadata": {},
   "outputs": [
    {
     "data": {
      "image/png": "[encoded data removed]",
      "text/plain": [
       "<Figure size 504x720 with 1 Axes>"
      ]
     },
     "metadata": {
      "needs_background": "light"
     },
     "output_type": "display_data"
    }
   ],
   "source": [
    "#sns.boxplot(x=\"transmission\", y=\"price\", data=data)\n",
    "sns.catplot(x=\"transmission\", y=\"price\",data=df_sedan.query('type ==\"sedan\" and days_listed >= 50'), kind=\"box\", height=10, aspect=.7);\n",
    "              "
   ]
  },
  {
   "cell_type": "markdown",
   "metadata": {},
   "source": [
    "the more expansive  transmition is automatic"
   ]
  },
  {
   "cell_type": "code",
   "execution_count": 58,
   "metadata": {},
   "outputs": [
    {
     "data": {
      "image/png": "[encoded data removed]",
      "text/plain": [
       "<Figure size 576x720 with 1 Axes>"
      ]
     },
     "metadata": {
      "needs_background": "light"
     },
     "output_type": "display_data"
    }
   ],
   "source": [
    "sns.catplot(x=\"paint_color\", y=\"price\",data=df_sedan.query('type==\"sedan\" and days_listed >=50'), kind=\"box\", height=10, aspect=.8);"
   ]
  },
  {
   "cell_type": "markdown",
   "metadata": {},
   "source": [
    "we can see here that paint has affect on final price "
   ]
  },
  {
   "cell_type": "code",
   "execution_count": 59,
   "metadata": {},
   "outputs": [
    {
     "data": {
      "text/plain": [
       "array([[<matplotlib.axes._subplots.AxesSubplot object at 0x7ff0d1b5e210>,\n",
       "        <matplotlib.axes._subplots.AxesSubplot object at 0x7ff0d1a8b6d0>,\n",
       "        <matplotlib.axes._subplots.AxesSubplot object at 0x7ff0d19fde90>,\n",
       "        <matplotlib.axes._subplots.AxesSubplot object at 0x7ff0d19bf6d0>],\n",
       "       [<matplotlib.axes._subplots.AxesSubplot object at 0x7ff0d1932ed0>,\n",
       "        <matplotlib.axes._subplots.AxesSubplot object at 0x7ff0d18f5710>,\n",
       "        <matplotlib.axes._subplots.AxesSubplot object at 0x7ff0d18a9f10>,\n",
       "        <matplotlib.axes._subplots.AxesSubplot object at 0x7ff0d186b750>],\n",
       "       [<matplotlib.axes._subplots.AxesSubplot object at 0x7ff0d18732d0>,\n",
       "        <matplotlib.axes._subplots.AxesSubplot object at 0x7ff0d1827c50>,\n",
       "        <matplotlib.axes._subplots.AxesSubplot object at 0x7ff0d1813f90>,\n",
       "        <matplotlib.axes._subplots.AxesSubplot object at 0x7ff0d17d47d0>],\n",
       "       [<matplotlib.axes._subplots.AxesSubplot object at 0x7ff0d1787fd0>,\n",
       "        <matplotlib.axes._subplots.AxesSubplot object at 0x7ff0d174a810>,\n",
       "        <matplotlib.axes._subplots.AxesSubplot object at 0x7ff0d16fcf90>,\n",
       "        <matplotlib.axes._subplots.AxesSubplot object at 0x7ff0d16bf850>]],\n",
       "      dtype=object)"
      ]
     },
     "execution_count": 59,
     "metadata": {},
     "output_type": "execute_result"
    },
    {
     "data": {
      "image/png": "[encoded data removed]",
      "text/plain": [
       "<Figure size 648x648 with 16 Axes>"
      ]
     },
     "metadata": {
      "needs_background": "light"
     },
     "output_type": "display_data"
    }
   ],
   "source": [
    "pd.plotting.scatter_matrix(df_suv1,figsize = (9,9))"
   ]
  },
  {
   "cell_type": "markdown",
   "metadata": {},
   "source": [
    "same as sedan type we can see age and milage has negative affect on price condition has possitive affect in suv type"
   ]
  },
  {
   "cell_type": "code",
   "execution_count": 60,
   "metadata": {},
   "outputs": [
    {
     "data": {
      "image/png": "[encoded data removed]",
      "text/plain": [
       "<Figure size 504x720 with 1 Axes>"
      ]
     },
     "metadata": {
      "needs_background": "light"
     },
     "output_type": "display_data"
    }
   ],
   "source": [
    "sns.catplot(x=\"transmission\", y=\"price\",data=df_suv.query('type ==\"SUV\" and days_listed >= 50'), kind=\"box\", height=10, aspect=.7);"
   ]
  },
  {
   "cell_type": "markdown",
   "metadata": {},
   "source": [
    "in suv type manual transmition is more expanssive "
   ]
  },
  {
   "cell_type": "code",
   "execution_count": 61,
   "metadata": {},
   "outputs": [
    {
     "data": {
      "image/png": "[encoded data removed]",
      "text/plain": [
       "<Figure size 576x720 with 1 Axes>"
      ]
     },
     "metadata": {
      "needs_background": "light"
     },
     "output_type": "display_data"
    }
   ],
   "source": [
    "sns.catplot(x=\"paint_color\", y=\"price\",data=df_suv.query('type ==\"SUV\" and days_listed >= 50'), kind=\"box\", height=10, aspect=.8);"
   ]
  },
  {
   "cell_type": "markdown",
   "metadata": {},
   "source": [
    "same is here most expanssive car color is black "
   ]
  },
  {
   "cell_type": "markdown",
   "metadata": {},
   "source": [
    "<div class=\"alert alert-block alert-success\">\n",
    "<b>Reviewer's comment</b> <a class=\"tocSkip\"></a>\n",
    "    \n",
    "Excellent step! We compared 2 popular type on popular parametres. Well done! :)  </div>\n",
    "\n",
    "<div class=\"alert alert-block alert-warning\">\n",
    "<b>Reviewer's comment</b> <a class=\"tocSkip\"></a>\n",
    "    \n",
    "Sometimes we can compare parametres on the 1 graph, but for this dataset it is ok.\n",
    "\n",
    "Also, it would be good to show only required information. Corr show all columns, we need less. :) </div>"
   ]
  },
  {
   "cell_type": "markdown",
   "metadata": {},
   "source": [
    "## Overall conclusion"
   ]
  },
  {
   "cell_type": "markdown",
   "metadata": {},
   "source": [
    "There are many factors that influence the price of a vehicle like type mileage age  some are having negative affect for instance age of the car as older the car the lower the price will be or the mileage as the farer the car drove per year the price will be lower as well. On the other hand there is factor that has positive affect like condition and cylinders and there are some factors that have natural affect like color and transmission it depends on the type of the car in SUV type price of the color black is higher than blue and manual transmission is more expansive than automatic but in sedan type price of automatic car is higher the manual. In conclusion all of those factor have effect on the price "
   ]
  },
  {
   "cell_type": "markdown",
   "metadata": {},
   "source": [
    "<div class=\"alert alert-block alert-success\">\n",
    "<b>Reviewer's comment</b> <a class=\"tocSkip\"></a>\n",
    "    \n",
    "Very good final conclusion! We desribe our results.\n",
    "    \n",
    "</div>\n",
    "\n",
    "<div class=\"alert alert-block alert-warning\">\n",
    "<b>Reviewer's comment</b> <a class=\"tocSkip\"></a>\n",
    "    \n",
    "We can write more details and give recommendations. It would be informative for clients. They often read only this part.\n",
    "    \n",
    "Also it would be informative to add correlation matrix here. :) </div>"
   ]
  },
  {
   "cell_type": "markdown",
   "metadata": {},
   "source": [
    "# Project completion checklist\n",
    "\n",
    "Mark the completed tasks with 'x'. Then press Shift+Enter."
   ]
  },
  {
   "cell_type": "markdown",
   "metadata": {},
   "source": [
    "- [x]  file opened\n",
    "- [ ]  files explored (first rows printed, info() method)\n",
    "- [ ]  missing values determined\n",
    "- [ ]  missing values filled in\n",
    "- [ ]  clarification of the discovered missing values provided\n",
    "- [ ]  data types converted\n",
    "- [ ]  explanation of which columns had the data types changed and why\n",
    "- [ ]  calculated and added to the table: day of the week, month, and year the ad was placed\n",
    "- [ ]  calculated and added to the table: the vehicle's age (in years) when the ad was placed\n",
    "- [ ]  calculated and added to the table: the vehicle's average mileage per year\n",
    "- [ ]  the following parameters investigated: price, vehicle's age when the ad was placed, mileage, number of cylinders, and condition\n",
    "- [ ]  histograms for each parameter created\n",
    "- [ ]  task completed: \"Determine the upper limits of outliers, remove the outliers and store them in a separate DataFrame, and continue your work with the filtered data.\"\n",
    "- [ ]  task completed: \"Use the filtered data to plot new histograms. Compare them with the earlier histograms (the ones that included outliers). Draw conclusions for each histogram.\"\n",
    "- [ ]  task completed: \"Study how many days advertisements were displayed (days_listed). Plot a histogram. Calculate the mean and median. Describe the typical lifetime of an ad. Determine when ads were removed quickly, and when they were listed for an abnormally long time.  \"\n",
    "- [ ]  task completed: \"Analyze the number of ads and the average price for each type of vehicle. Plot a graph showing the dependence of the number of ads on the vehicle type. Select the two types with the greatest number of ads. \"\n",
    "- [ ]  task completed: \"What factors impact the price most? Take each of the popular types you detected at the previous stage and study whether the price depends on age, mileage, condition, transmission type, and color. For categorical variables (transmission type and color), plot box-and-whisker charts, and create scatterplots for the rest. When analyzing categorical variables, note that the categories must have at least 50 ads; otherwise, their parameters won't be valid for analysis.  \"\n",
    "- [ ]  each stage has a conclusion\n",
    "- [ ]  overall conclusion drawn"
   ]
  },
  {
   "cell_type": "code",
   "execution_count": null,
   "metadata": {},
   "outputs": [],
   "source": []
  }
 ],
 "metadata": {
  "ExecuteTimeLog": [
   {
    "duration": 285,
    "start_time": "2021-10-30T08:01:50.836Z"
   },
   {
    "duration": 209,
    "start_time": "2021-10-30T08:04:24.396Z"
   },
   {
    "duration": 253,
    "start_time": "2021-10-30T08:08:00.027Z"
   },
   {
    "duration": 224,
    "start_time": "2021-10-30T08:10:37.950Z"
   },
   {
    "duration": 224,
    "start_time": "2021-10-30T08:15:09.472Z"
   },
   {
    "duration": 605,
    "start_time": "2021-10-30T08:15:26.109Z"
   },
   {
    "duration": 822,
    "start_time": "2021-10-30T08:15:40.431Z"
   },
   {
    "duration": 30,
    "start_time": "2021-10-30T08:15:42.921Z"
   },
   {
    "duration": 27,
    "start_time": "2021-10-30T08:16:39.024Z"
   },
   {
    "duration": 52,
    "start_time": "2021-10-30T08:18:42.528Z"
   },
   {
    "duration": 22,
    "start_time": "2021-10-30T08:20:50.507Z"
   },
   {
    "duration": 8,
    "start_time": "2021-10-30T08:29:35.578Z"
   },
   {
    "duration": 10,
    "start_time": "2021-10-30T08:31:07.806Z"
   },
   {
    "duration": 278,
    "start_time": "2021-10-30T08:31:36.027Z"
   },
   {
    "duration": 13,
    "start_time": "2021-10-30T08:32:07.236Z"
   },
   {
    "duration": 13,
    "start_time": "2021-10-30T08:32:29.576Z"
   },
   {
    "duration": 15,
    "start_time": "2021-10-30T08:33:47.885Z"
   },
   {
    "duration": 15,
    "start_time": "2021-10-30T08:33:53.899Z"
   },
   {
    "duration": 16,
    "start_time": "2021-10-30T08:34:57.982Z"
   },
   {
    "duration": 15,
    "start_time": "2021-10-30T08:35:04.400Z"
   },
   {
    "duration": 246,
    "start_time": "2021-10-30T08:35:09.679Z"
   },
   {
    "duration": 39,
    "start_time": "2021-10-30T08:35:35.899Z"
   },
   {
    "duration": 14,
    "start_time": "2021-10-30T08:35:49.776Z"
   },
   {
    "duration": 15,
    "start_time": "2021-10-30T08:38:10.428Z"
   },
   {
    "duration": 47,
    "start_time": "2021-10-30T08:38:28.326Z"
   },
   {
    "duration": 16,
    "start_time": "2021-10-30T08:38:45.304Z"
   },
   {
    "duration": 16,
    "start_time": "2021-10-30T08:38:48.361Z"
   },
   {
    "duration": 15,
    "start_time": "2021-10-30T08:39:18.454Z"
   },
   {
    "duration": 47,
    "start_time": "2021-10-30T08:39:38.200Z"
   },
   {
    "duration": 16,
    "start_time": "2021-10-30T08:40:02.208Z"
   },
   {
    "duration": 15,
    "start_time": "2021-10-30T08:40:10.307Z"
   },
   {
    "duration": 16,
    "start_time": "2021-10-30T08:40:17.973Z"
   },
   {
    "duration": 15,
    "start_time": "2021-10-30T08:40:27.063Z"
   },
   {
    "duration": 17,
    "start_time": "2021-10-30T08:40:38.387Z"
   },
   {
    "duration": 16,
    "start_time": "2021-10-30T08:40:47.523Z"
   },
   {
    "duration": 16,
    "start_time": "2021-10-30T08:40:56.988Z"
   },
   {
    "duration": 47,
    "start_time": "2021-10-30T08:41:03.003Z"
   },
   {
    "duration": 235,
    "start_time": "2021-10-30T08:41:20.733Z"
   },
   {
    "duration": 38,
    "start_time": "2021-10-30T08:41:53.479Z"
   },
   {
    "duration": 25,
    "start_time": "2021-10-30T08:47:49.006Z"
   },
   {
    "duration": 40,
    "start_time": "2021-10-30T08:51:35.712Z"
   },
   {
    "duration": 5245,
    "start_time": "2021-10-30T08:52:07.110Z"
   },
   {
    "duration": 5341,
    "start_time": "2021-10-30T08:52:32.915Z"
   },
   {
    "duration": 236,
    "start_time": "2021-10-30T08:53:44.881Z"
   },
   {
    "duration": 257,
    "start_time": "2021-10-30T08:54:41.655Z"
   },
   {
    "duration": 30,
    "start_time": "2021-10-30T08:55:59.026Z"
   },
   {
    "duration": 12,
    "start_time": "2021-10-30T08:56:04.618Z"
   },
   {
    "duration": 54,
    "start_time": "2021-10-30T08:56:39.420Z"
   },
   {
    "duration": 29,
    "start_time": "2021-10-30T08:57:08.565Z"
   },
   {
    "duration": 32,
    "start_time": "2021-10-30T08:57:35.969Z"
   },
   {
    "duration": 31,
    "start_time": "2021-10-30T08:57:51.269Z"
   },
   {
    "duration": 326,
    "start_time": "2021-10-30T09:11:00.109Z"
   },
   {
    "duration": 11,
    "start_time": "2021-10-30T09:13:40.814Z"
   },
   {
    "duration": 38,
    "start_time": "2021-10-30T09:14:20.891Z"
   },
   {
    "duration": 10,
    "start_time": "2021-10-30T09:14:48.256Z"
   },
   {
    "duration": 40,
    "start_time": "2021-10-30T09:14:51.041Z"
   },
   {
    "duration": 7,
    "start_time": "2021-10-30T09:15:53.427Z"
   },
   {
    "duration": 6,
    "start_time": "2021-10-30T09:16:00.055Z"
   },
   {
    "duration": 6,
    "start_time": "2021-10-30T09:17:27.522Z"
   },
   {
    "duration": 10,
    "start_time": "2021-10-30T09:17:42.054Z"
   },
   {
    "duration": 10,
    "start_time": "2021-10-30T09:19:24.820Z"
   },
   {
    "duration": 10,
    "start_time": "2021-10-30T09:19:28.584Z"
   },
   {
    "duration": 28,
    "start_time": "2021-10-30T09:19:43.587Z"
   },
   {
    "duration": 34,
    "start_time": "2021-10-30T09:20:25.002Z"
   },
   {
    "duration": 18,
    "start_time": "2021-10-30T09:21:51.747Z"
   },
   {
    "duration": 38,
    "start_time": "2021-10-30T09:22:39.085Z"
   },
   {
    "duration": 48,
    "start_time": "2021-10-30T09:39:25.525Z"
   },
   {
    "duration": 37,
    "start_time": "2021-10-30T09:39:41.738Z"
   },
   {
    "duration": 11,
    "start_time": "2021-10-30T09:43:43.024Z"
   },
   {
    "duration": 7,
    "start_time": "2021-10-30T09:44:00.442Z"
   },
   {
    "duration": 11,
    "start_time": "2021-10-30T09:44:13.026Z"
   },
   {
    "duration": 29,
    "start_time": "2021-10-30T09:46:33.980Z"
   },
   {
    "duration": 30,
    "start_time": "2021-10-30T09:47:18.455Z"
   },
   {
    "duration": 36,
    "start_time": "2021-10-30T09:47:46.580Z"
   },
   {
    "duration": 40,
    "start_time": "2021-10-30T09:48:28.670Z"
   },
   {
    "duration": 37,
    "start_time": "2021-10-30T09:48:44.494Z"
   },
   {
    "duration": 39,
    "start_time": "2021-10-30T09:49:37.053Z"
   },
   {
    "duration": 32,
    "start_time": "2021-10-30T09:50:11.150Z"
   },
   {
    "duration": 52,
    "start_time": "2021-10-30T09:50:28.038Z"
   },
   {
    "duration": 12,
    "start_time": "2021-10-30T09:51:02.479Z"
   },
   {
    "duration": 43,
    "start_time": "2021-10-30T09:51:06.423Z"
   },
   {
    "duration": 12,
    "start_time": "2021-10-30T09:51:37.624Z"
   },
   {
    "duration": 43,
    "start_time": "2021-10-30T09:51:42.409Z"
   },
   {
    "duration": 27,
    "start_time": "2021-10-30T09:52:03.154Z"
   },
   {
    "duration": 35,
    "start_time": "2021-10-30T09:53:25.850Z"
   },
   {
    "duration": 41,
    "start_time": "2021-10-30T09:53:35.863Z"
   },
   {
    "duration": 40,
    "start_time": "2021-10-30T10:00:53.020Z"
   },
   {
    "duration": 14,
    "start_time": "2021-10-30T10:06:15.534Z"
   },
   {
    "duration": 40,
    "start_time": "2021-10-30T10:06:19.022Z"
   },
   {
    "duration": 14,
    "start_time": "2021-10-30T10:07:09.812Z"
   },
   {
    "duration": 10,
    "start_time": "2021-10-30T10:07:40.830Z"
   },
   {
    "duration": 10,
    "start_time": "2021-10-30T10:07:44.071Z"
   },
   {
    "duration": 14,
    "start_time": "2021-10-30T10:07:51.945Z"
   },
   {
    "duration": 40,
    "start_time": "2021-10-30T10:07:56.477Z"
   },
   {
    "duration": 26,
    "start_time": "2021-10-30T10:16:01.393Z"
   },
   {
    "duration": 5472,
    "start_time": "2021-10-30T10:17:31.753Z"
   },
   {
    "duration": 5674,
    "start_time": "2021-10-30T10:17:43.784Z"
   },
   {
    "duration": 243,
    "start_time": "2021-10-30T10:18:08.084Z"
   },
   {
    "duration": 228,
    "start_time": "2021-10-30T10:18:22.138Z"
   },
   {
    "duration": 6,
    "start_time": "2021-10-30T10:19:26.744Z"
   },
   {
    "duration": 5,
    "start_time": "2021-10-30T10:19:30.012Z"
   },
   {
    "duration": 21,
    "start_time": "2021-10-30T10:19:45.537Z"
   },
   {
    "duration": 7,
    "start_time": "2021-10-30T10:20:45.297Z"
   },
   {
    "duration": 29,
    "start_time": "2021-10-30T10:20:56.337Z"
   },
   {
    "duration": 24,
    "start_time": "2021-10-30T10:21:05.087Z"
   },
   {
    "duration": 11,
    "start_time": "2021-10-30T10:27:03.897Z"
   },
   {
    "duration": 28,
    "start_time": "2021-10-30T10:27:26.697Z"
   },
   {
    "duration": 24,
    "start_time": "2021-10-30T10:27:50.607Z"
   },
   {
    "duration": 25,
    "start_time": "2021-10-30T10:27:53.339Z"
   },
   {
    "duration": 24,
    "start_time": "2021-10-30T10:28:03.896Z"
   },
   {
    "duration": 23,
    "start_time": "2021-10-30T10:28:06.717Z"
   },
   {
    "duration": 26,
    "start_time": "2021-10-30T10:29:43.473Z"
   },
   {
    "duration": 24,
    "start_time": "2021-10-30T10:29:46.076Z"
   },
   {
    "duration": 91,
    "start_time": "2021-10-30T10:29:57.927Z"
   },
   {
    "duration": 82,
    "start_time": "2021-10-30T10:30:03.042Z"
   },
   {
    "duration": 24,
    "start_time": "2021-10-30T10:30:14.098Z"
   },
   {
    "duration": 25,
    "start_time": "2021-10-30T10:30:19.242Z"
   },
   {
    "duration": 25,
    "start_time": "2021-10-30T10:30:28.347Z"
   },
   {
    "duration": 59,
    "start_time": "2021-10-30T10:46:05.829Z"
   },
   {
    "duration": 234,
    "start_time": "2021-10-30T10:54:46.656Z"
   },
   {
    "duration": 223,
    "start_time": "2021-10-30T10:54:55.468Z"
   },
   {
    "duration": 12,
    "start_time": "2021-10-30T10:56:15.005Z"
   },
   {
    "duration": 5,
    "start_time": "2021-10-30T10:57:30.200Z"
   },
   {
    "duration": 5,
    "start_time": "2021-10-30T10:58:07.461Z"
   },
   {
    "duration": 5,
    "start_time": "2021-10-30T10:58:14.845Z"
   },
   {
    "duration": 6,
    "start_time": "2021-10-30T10:58:22.475Z"
   },
   {
    "duration": 5,
    "start_time": "2021-10-30T10:58:51.770Z"
   },
   {
    "duration": 5,
    "start_time": "2021-10-30T10:58:54.625Z"
   },
   {
    "duration": 6,
    "start_time": "2021-10-30T10:58:58.235Z"
   },
   {
    "duration": 6,
    "start_time": "2021-10-30T10:59:00.320Z"
   },
   {
    "duration": 273,
    "start_time": "2021-10-30T11:00:43.926Z"
   },
   {
    "duration": 49,
    "start_time": "2021-10-30T11:01:00.697Z"
   },
   {
    "duration": 715,
    "start_time": "2021-10-30T11:03:15.458Z"
   },
   {
    "duration": 12,
    "start_time": "2021-10-30T11:03:34.730Z"
   },
   {
    "duration": 270,
    "start_time": "2021-10-30T11:04:09.109Z"
   },
   {
    "duration": 26,
    "start_time": "2021-10-30T11:04:18.979Z"
   },
   {
    "duration": 25,
    "start_time": "2021-10-30T11:06:26.165Z"
   },
   {
    "duration": 404,
    "start_time": "2021-10-30T11:08:47.179Z"
   },
   {
    "duration": 396,
    "start_time": "2021-10-30T11:11:05.089Z"
   },
   {
    "duration": 899,
    "start_time": "2021-10-30T11:12:28.720Z"
   },
   {
    "duration": 111,
    "start_time": "2021-10-30T11:12:32.637Z"
   },
   {
    "duration": 107,
    "start_time": "2021-10-30T11:12:40.363Z"
   },
   {
    "duration": 30,
    "start_time": "2021-10-30T11:12:53.594Z"
   },
   {
    "duration": 27,
    "start_time": "2021-10-30T11:13:11.811Z"
   },
   {
    "duration": 56,
    "start_time": "2021-10-30T11:13:18.162Z"
   },
   {
    "duration": 8,
    "start_time": "2021-10-30T11:13:25.246Z"
   },
   {
    "duration": 38,
    "start_time": "2021-10-30T11:13:40.607Z"
   },
   {
    "duration": 24,
    "start_time": "2021-10-30T11:13:49.038Z"
   },
   {
    "duration": 15,
    "start_time": "2021-10-30T11:14:14.937Z"
   },
   {
    "duration": 25,
    "start_time": "2021-10-30T11:16:48.382Z"
   },
   {
    "duration": 314,
    "start_time": "2021-10-30T11:17:19.685Z"
   },
   {
    "duration": 18,
    "start_time": "2021-10-30T11:17:24.142Z"
   },
   {
    "duration": 42,
    "start_time": "2021-10-30T11:17:26.721Z"
   },
   {
    "duration": 5,
    "start_time": "2021-10-30T11:18:07.942Z"
   },
   {
    "duration": 21,
    "start_time": "2021-10-30T11:18:11.312Z"
   },
   {
    "duration": 342,
    "start_time": "2021-10-30T11:18:18.926Z"
   },
   {
    "duration": 21,
    "start_time": "2021-10-30T11:18:38.747Z"
   },
   {
    "duration": 25,
    "start_time": "2021-10-30T11:18:51.742Z"
   },
   {
    "duration": 5,
    "start_time": "2021-10-30T11:19:00.223Z"
   },
   {
    "duration": 21,
    "start_time": "2021-10-30T11:19:02.423Z"
   },
   {
    "duration": 258,
    "start_time": "2021-10-30T11:19:06.758Z"
   },
   {
    "duration": 7,
    "start_time": "2021-10-30T11:19:31.914Z"
   },
   {
    "duration": 7,
    "start_time": "2021-10-30T11:19:38.501Z"
   },
   {
    "duration": 20,
    "start_time": "2021-10-30T11:19:48.790Z"
   },
   {
    "duration": 24,
    "start_time": "2021-10-30T11:19:58.626Z"
   },
   {
    "duration": 27,
    "start_time": "2021-10-30T11:20:21.696Z"
   },
   {
    "duration": 13,
    "start_time": "2021-10-30T11:20:43.051Z"
   },
   {
    "duration": 51,
    "start_time": "2021-10-30T11:21:55.312Z"
   },
   {
    "duration": 27,
    "start_time": "2021-10-30T11:29:08.389Z"
   },
   {
    "duration": 5,
    "start_time": "2021-10-30T11:29:50.719Z"
   },
   {
    "duration": 49,
    "start_time": "2021-10-30T11:29:56.191Z"
   },
   {
    "duration": 41,
    "start_time": "2021-10-30T11:30:13.880Z"
   },
   {
    "duration": 12,
    "start_time": "2021-10-30T11:31:50.228Z"
   },
   {
    "duration": 228,
    "start_time": "2021-10-30T11:32:29.017Z"
   },
   {
    "duration": 266,
    "start_time": "2021-10-30T11:32:42.651Z"
   },
   {
    "duration": 401,
    "start_time": "2021-10-30T11:34:57.274Z"
   },
   {
    "duration": 385,
    "start_time": "2021-10-30T11:35:10.416Z"
   },
   {
    "duration": 374,
    "start_time": "2021-10-30T11:37:22.807Z"
   },
   {
    "duration": 34,
    "start_time": "2021-10-30T11:42:45.918Z"
   },
   {
    "duration": 19,
    "start_time": "2021-10-30T11:47:11.184Z"
   },
   {
    "duration": 13,
    "start_time": "2021-10-30T11:47:39.394Z"
   },
   {
    "duration": 32,
    "start_time": "2021-10-30T11:47:53.985Z"
   },
   {
    "duration": 21,
    "start_time": "2021-10-30T11:48:05.222Z"
   },
   {
    "duration": 34,
    "start_time": "2021-10-30T11:48:29.657Z"
   },
   {
    "duration": 20,
    "start_time": "2021-10-30T11:48:40.326Z"
   },
   {
    "duration": 25,
    "start_time": "2021-10-30T11:49:09.945Z"
   },
   {
    "duration": 32,
    "start_time": "2021-10-30T11:49:50.179Z"
   },
   {
    "duration": 26,
    "start_time": "2021-10-30T11:49:53.687Z"
   },
   {
    "duration": 46,
    "start_time": "2021-10-30T11:50:04.292Z"
   },
   {
    "duration": 26,
    "start_time": "2021-10-30T11:50:26.242Z"
   },
   {
    "duration": 29,
    "start_time": "2021-10-30T11:51:39.977Z"
   },
   {
    "duration": 254,
    "start_time": "2021-10-30T11:51:52.967Z"
   },
   {
    "duration": 5,
    "start_time": "2021-10-30T11:51:58.210Z"
   },
   {
    "duration": 5,
    "start_time": "2021-10-30T11:52:01.020Z"
   },
   {
    "duration": 47,
    "start_time": "2021-10-30T11:52:04.743Z"
   },
   {
    "duration": 40,
    "start_time": "2021-10-30T11:52:11.540Z"
   },
   {
    "duration": 4,
    "start_time": "2021-10-30T11:56:35.191Z"
   },
   {
    "duration": 5,
    "start_time": "2021-10-30T11:56:37.575Z"
   },
   {
    "duration": 47,
    "start_time": "2021-10-30T11:56:40.112Z"
   },
   {
    "duration": 12,
    "start_time": "2021-10-30T11:59:10.202Z"
   },
   {
    "duration": 49,
    "start_time": "2021-10-30T11:59:16.293Z"
   },
   {
    "duration": 499,
    "start_time": "2021-10-30T12:05:47.322Z"
   },
   {
    "duration": 387,
    "start_time": "2021-10-30T12:05:55.612Z"
   },
   {
    "duration": 355,
    "start_time": "2021-10-30T12:06:00.628Z"
   },
   {
    "duration": 395,
    "start_time": "2021-10-30T12:08:24.657Z"
   },
   {
    "duration": 270,
    "start_time": "2021-10-30T12:08:27.607Z"
   },
   {
    "duration": 411,
    "start_time": "2021-10-30T12:21:23.982Z"
   },
   {
    "duration": 591,
    "start_time": "2021-10-30T12:23:03.746Z"
   },
   {
    "duration": 414,
    "start_time": "2021-10-30T12:23:20.534Z"
   },
   {
    "duration": 398,
    "start_time": "2021-10-30T12:23:52.166Z"
   },
   {
    "duration": 700,
    "start_time": "2021-10-30T12:24:32.039Z"
   },
   {
    "duration": 437,
    "start_time": "2021-10-30T12:24:45.311Z"
   },
   {
    "duration": 119,
    "start_time": "2021-10-30T12:28:34.322Z"
   },
   {
    "duration": 265,
    "start_time": "2021-10-30T12:30:07.506Z"
   },
   {
    "duration": 245,
    "start_time": "2021-10-30T12:30:27.998Z"
   },
   {
    "duration": 265,
    "start_time": "2021-10-30T12:30:41.650Z"
   },
   {
    "duration": 265,
    "start_time": "2021-10-30T12:32:32.219Z"
   },
   {
    "duration": 84,
    "start_time": "2021-10-30T12:56:35.739Z"
   },
   {
    "duration": 77,
    "start_time": "2021-10-30T12:56:58.553Z"
   },
   {
    "duration": 14,
    "start_time": "2021-10-30T12:57:15.699Z"
   },
   {
    "duration": 9,
    "start_time": "2021-10-30T12:57:24.940Z"
   },
   {
    "duration": 9,
    "start_time": "2021-10-30T12:58:12.407Z"
   },
   {
    "duration": 10,
    "start_time": "2021-10-30T13:01:37.001Z"
   },
   {
    "duration": 10,
    "start_time": "2021-10-30T13:03:08.830Z"
   },
   {
    "duration": 56254,
    "start_time": "2021-10-30T13:03:11.424Z"
   },
   {
    "duration": 837278,
    "start_time": "2021-10-30T13:17:33.635Z"
   },
   {
    "duration": 25,
    "start_time": "2021-10-30T14:54:14.349Z"
   },
   {
    "duration": 20,
    "start_time": "2021-10-30T14:54:34.143Z"
   },
   {
    "duration": 54,
    "start_time": "2021-10-30T14:55:43.059Z"
   },
   {
    "duration": 21,
    "start_time": "2021-10-30T14:56:24.471Z"
   },
   {
    "duration": 40,
    "start_time": "2021-10-30T14:56:44.785Z"
   },
   {
    "duration": 209,
    "start_time": "2021-10-31T07:53:27.743Z"
   },
   {
    "duration": 694,
    "start_time": "2021-10-31T07:53:43.618Z"
   },
   {
    "duration": 16,
    "start_time": "2021-10-31T07:53:46.773Z"
   },
   {
    "duration": 203,
    "start_time": "2021-10-31T07:54:04.404Z"
   },
   {
    "duration": 183,
    "start_time": "2021-10-31T07:55:27.767Z"
   },
   {
    "duration": 4436,
    "start_time": "2021-10-31T07:57:30.567Z"
   },
   {
    "duration": 10,
    "start_time": "2021-10-31T07:57:52.617Z"
   },
   {
    "duration": 10,
    "start_time": "2021-10-31T07:57:58.183Z"
   },
   {
    "duration": 8,
    "start_time": "2021-10-31T07:58:21.239Z"
   },
   {
    "duration": 21,
    "start_time": "2021-10-31T07:58:42.865Z"
   },
   {
    "duration": 6536,
    "start_time": "2021-10-31T07:59:47.314Z"
   },
   {
    "duration": 35,
    "start_time": "2021-10-31T07:59:54.927Z"
   },
   {
    "duration": 29,
    "start_time": "2021-10-31T08:00:07.257Z"
   },
   {
    "duration": 2,
    "start_time": "2021-10-31T08:00:53.683Z"
   },
   {
    "duration": 18,
    "start_time": "2021-10-31T08:01:05.620Z"
   },
   {
    "duration": 6,
    "start_time": "2021-10-31T08:02:41.957Z"
   },
   {
    "duration": 31,
    "start_time": "2021-10-31T08:02:46.720Z"
   },
   {
    "duration": 17,
    "start_time": "2021-10-31T08:03:12.564Z"
   },
   {
    "duration": 8,
    "start_time": "2021-10-31T08:03:48.418Z"
   },
   {
    "duration": 18,
    "start_time": "2021-10-31T08:03:55.661Z"
   },
   {
    "duration": 30,
    "start_time": "2021-10-31T08:04:11.651Z"
   },
   {
    "duration": 29,
    "start_time": "2021-10-31T08:04:38.564Z"
   },
   {
    "duration": 7,
    "start_time": "2021-10-31T08:04:44.631Z"
   },
   {
    "duration": 16,
    "start_time": "2021-10-31T08:05:02.672Z"
   },
   {
    "duration": 17,
    "start_time": "2021-10-31T08:05:36.279Z"
   },
   {
    "duration": 15,
    "start_time": "2021-10-31T08:05:42.939Z"
   },
   {
    "duration": 179,
    "start_time": "2021-10-31T08:07:49.992Z"
   },
   {
    "duration": 5,
    "start_time": "2021-10-31T08:07:59.634Z"
   },
   {
    "duration": 16,
    "start_time": "2021-10-31T08:08:08.409Z"
   },
   {
    "duration": 5,
    "start_time": "2021-10-31T08:08:47.272Z"
   },
   {
    "duration": 16,
    "start_time": "2021-10-31T08:08:51.038Z"
   },
   {
    "duration": 5,
    "start_time": "2021-10-31T08:09:25.839Z"
   },
   {
    "duration": 18,
    "start_time": "2021-10-31T08:09:29.194Z"
   },
   {
    "duration": 18,
    "start_time": "2021-10-31T08:10:18.563Z"
   },
   {
    "duration": 33,
    "start_time": "2021-10-31T08:10:53.846Z"
   },
   {
    "duration": 31,
    "start_time": "2021-10-31T08:11:23.603Z"
   },
   {
    "duration": 23,
    "start_time": "2021-10-31T08:12:15.923Z"
   },
   {
    "duration": 35,
    "start_time": "2021-10-31T08:12:25.569Z"
   },
   {
    "duration": 15,
    "start_time": "2021-10-31T08:12:33.858Z"
   },
   {
    "duration": 182,
    "start_time": "2021-10-31T08:13:05.013Z"
   },
   {
    "duration": 186,
    "start_time": "2021-10-31T08:13:12.143Z"
   },
   {
    "duration": 18,
    "start_time": "2021-10-31T08:13:33.278Z"
   },
   {
    "duration": 21,
    "start_time": "2021-10-31T08:14:03.464Z"
   },
   {
    "duration": 4,
    "start_time": "2021-10-31T08:14:09.163Z"
   },
   {
    "duration": 20,
    "start_time": "2021-10-31T08:14:15.818Z"
   },
   {
    "duration": 18,
    "start_time": "2021-10-31T08:14:43.388Z"
   },
   {
    "duration": 16,
    "start_time": "2021-10-31T08:14:48.488Z"
   },
   {
    "duration": 35,
    "start_time": "2021-10-31T08:15:10.583Z"
   },
   {
    "duration": 15,
    "start_time": "2021-10-31T08:15:22.211Z"
   },
   {
    "duration": 190,
    "start_time": "2021-10-31T08:15:42.729Z"
   },
   {
    "duration": 174,
    "start_time": "2021-10-31T08:15:52.719Z"
   },
   {
    "duration": 17,
    "start_time": "2021-10-31T08:16:04.284Z"
   },
   {
    "duration": 25,
    "start_time": "2021-10-31T08:16:12.626Z"
   },
   {
    "duration": 19,
    "start_time": "2021-10-31T08:16:16.176Z"
   },
   {
    "duration": 32,
    "start_time": "2021-10-31T08:16:27.398Z"
   },
   {
    "duration": 20,
    "start_time": "2021-10-31T08:16:36.325Z"
   },
   {
    "duration": 18,
    "start_time": "2021-10-31T08:17:07.252Z"
   },
   {
    "duration": 35,
    "start_time": "2021-10-31T08:17:15.592Z"
   },
   {
    "duration": 18,
    "start_time": "2021-10-31T08:17:25.698Z"
   },
   {
    "duration": 21,
    "start_time": "2021-10-31T08:17:50.482Z"
   },
   {
    "duration": 18,
    "start_time": "2021-10-31T08:18:00.952Z"
   },
   {
    "duration": 18,
    "start_time": "2021-10-31T08:18:15.098Z"
   },
   {
    "duration": 19,
    "start_time": "2021-10-31T08:18:22.179Z"
   },
   {
    "duration": 33,
    "start_time": "2021-10-31T08:18:27.819Z"
   },
   {
    "duration": 16,
    "start_time": "2021-10-31T08:18:36.159Z"
   },
   {
    "duration": 184,
    "start_time": "2021-10-31T08:18:42.276Z"
   },
   {
    "duration": 4,
    "start_time": "2021-10-31T08:18:55.627Z"
   },
   {
    "duration": 17,
    "start_time": "2021-10-31T08:18:59.409Z"
   },
   {
    "duration": 32,
    "start_time": "2021-10-31T08:19:07.117Z"
   },
   {
    "duration": 21,
    "start_time": "2021-10-31T08:19:17.574Z"
   },
   {
    "duration": 35,
    "start_time": "2021-10-31T08:19:23.437Z"
   },
   {
    "duration": 19,
    "start_time": "2021-10-31T08:19:34.145Z"
   },
   {
    "duration": 20,
    "start_time": "2021-10-31T08:19:51.444Z"
   },
   {
    "duration": 2,
    "start_time": "2021-10-31T08:19:53.090Z"
   },
   {
    "duration": 27,
    "start_time": "2021-10-31T08:20:22.835Z"
   },
   {
    "duration": 30,
    "start_time": "2021-10-31T08:21:30.728Z"
   },
   {
    "duration": 24,
    "start_time": "2021-10-31T08:21:49.026Z"
   },
   {
    "duration": 14,
    "start_time": "2021-10-31T08:22:28.445Z"
   },
   {
    "duration": 25,
    "start_time": "2021-10-31T08:22:33.186Z"
   },
   {
    "duration": 4,
    "start_time": "2021-10-31T08:22:57.611Z"
   },
   {
    "duration": 24,
    "start_time": "2021-10-31T08:23:00.965Z"
   },
   {
    "duration": 19,
    "start_time": "2021-10-31T08:23:42.771Z"
   },
   {
    "duration": 18,
    "start_time": "2021-10-31T08:24:00.545Z"
   },
   {
    "duration": 32,
    "start_time": "2021-10-31T08:24:22.371Z"
   },
   {
    "duration": 30,
    "start_time": "2021-10-31T08:25:03.066Z"
   },
   {
    "duration": 7,
    "start_time": "2021-10-31T08:25:41.224Z"
   },
   {
    "duration": 32,
    "start_time": "2021-10-31T08:25:45.233Z"
   },
   {
    "duration": 13,
    "start_time": "2021-10-31T08:26:06.125Z"
   },
   {
    "duration": 175,
    "start_time": "2021-10-31T08:27:03.671Z"
   },
   {
    "duration": 17,
    "start_time": "2021-10-31T08:27:27.961Z"
   },
   {
    "duration": 30,
    "start_time": "2021-10-31T08:27:50.421Z"
   },
   {
    "duration": 8,
    "start_time": "2021-10-31T08:27:55.352Z"
   },
   {
    "duration": 6,
    "start_time": "2021-10-31T08:27:59.161Z"
   },
   {
    "duration": 32,
    "start_time": "2021-10-31T08:28:11.101Z"
   },
   {
    "duration": 165,
    "start_time": "2021-10-31T08:28:50.263Z"
   },
   {
    "duration": 182,
    "start_time": "2021-10-31T08:28:58.169Z"
   },
   {
    "duration": 1271,
    "start_time": "2021-10-31T08:29:40.830Z"
   },
   {
    "duration": 1225,
    "start_time": "2021-10-31T08:30:12.436Z"
   },
   {
    "duration": 25,
    "start_time": "2021-10-31T08:31:40.286Z"
   },
   {
    "duration": 24,
    "start_time": "2021-10-31T08:32:09.960Z"
   },
   {
    "duration": 1171,
    "start_time": "2021-10-31T08:32:23.541Z"
   },
   {
    "duration": 6,
    "start_time": "2021-10-31T08:32:38.308Z"
   },
   {
    "duration": 5,
    "start_time": "2021-10-31T08:32:47.744Z"
   },
   {
    "duration": 5,
    "start_time": "2021-10-31T08:33:01.533Z"
   },
   {
    "duration": 26,
    "start_time": "2021-10-31T08:33:07.688Z"
   },
   {
    "duration": 18,
    "start_time": "2021-10-31T08:34:10.962Z"
   },
   {
    "duration": 26,
    "start_time": "2021-10-31T08:34:16.371Z"
   },
   {
    "duration": 20,
    "start_time": "2021-10-31T08:34:24.438Z"
   },
   {
    "duration": 18,
    "start_time": "2021-10-31T08:38:14.794Z"
   },
   {
    "duration": 25,
    "start_time": "2021-10-31T08:38:19.002Z"
   },
   {
    "duration": 17,
    "start_time": "2021-10-31T08:38:55.977Z"
   },
   {
    "duration": 194,
    "start_time": "2021-10-31T08:41:34.595Z"
   },
   {
    "duration": 16,
    "start_time": "2021-10-31T08:42:33.711Z"
   },
   {
    "duration": 19,
    "start_time": "2021-10-31T08:42:44.669Z"
   },
   {
    "duration": 9,
    "start_time": "2021-10-31T08:44:42.267Z"
   },
   {
    "duration": 18,
    "start_time": "2021-10-31T08:46:36.236Z"
   },
   {
    "duration": 9,
    "start_time": "2021-10-31T08:47:01.378Z"
   },
   {
    "duration": 18,
    "start_time": "2021-10-31T08:47:18.580Z"
   },
   {
    "duration": 50,
    "start_time": "2021-10-31T08:47:18.819Z"
   },
   {
    "duration": 14,
    "start_time": "2021-10-31T08:47:29.831Z"
   },
   {
    "duration": 47,
    "start_time": "2021-10-31T08:48:22.015Z"
   },
   {
    "duration": 24,
    "start_time": "2021-10-31T08:48:35.189Z"
   },
   {
    "duration": 11,
    "start_time": "2021-10-31T08:48:47.170Z"
   },
   {
    "duration": 27,
    "start_time": "2021-10-31T08:48:51.881Z"
   },
   {
    "duration": 22,
    "start_time": "2021-10-31T08:50:29.597Z"
   },
   {
    "duration": 7,
    "start_time": "2021-10-31T08:50:58.089Z"
   },
   {
    "duration": 21,
    "start_time": "2021-10-31T08:51:04.123Z"
   },
   {
    "duration": 27,
    "start_time": "2021-10-31T08:51:35.023Z"
   },
   {
    "duration": 17,
    "start_time": "2021-10-31T08:51:41.201Z"
   },
   {
    "duration": 21,
    "start_time": "2021-10-31T08:52:03.747Z"
   },
   {
    "duration": 184,
    "start_time": "2021-10-31T08:53:46.018Z"
   },
   {
    "duration": 6,
    "start_time": "2021-10-31T08:54:57.578Z"
   },
   {
    "duration": 21,
    "start_time": "2021-10-31T08:55:03.931Z"
   },
   {
    "duration": 214,
    "start_time": "2021-10-31T08:55:35.948Z"
   },
   {
    "duration": 18,
    "start_time": "2021-10-31T08:55:42.879Z"
   },
   {
    "duration": 21,
    "start_time": "2021-10-31T08:56:19.494Z"
   },
   {
    "duration": 20,
    "start_time": "2021-10-31T08:58:16.134Z"
   },
   {
    "duration": 20,
    "start_time": "2021-10-31T08:58:27.442Z"
   },
   {
    "duration": 4,
    "start_time": "2021-10-31T08:59:29.316Z"
   },
   {
    "duration": 176,
    "start_time": "2021-10-31T08:59:32.937Z"
   },
   {
    "duration": 171,
    "start_time": "2021-10-31T08:59:43.793Z"
   },
   {
    "duration": 23,
    "start_time": "2021-10-31T08:59:51.941Z"
   },
   {
    "duration": 22,
    "start_time": "2021-10-31T09:00:01.268Z"
   },
   {
    "duration": 2421,
    "start_time": "2021-10-31T09:00:53.947Z"
   },
   {
    "duration": 6,
    "start_time": "2021-10-31T09:01:22.981Z"
   },
   {
    "duration": 20,
    "start_time": "2021-10-31T09:01:26.947Z"
   },
   {
    "duration": 21,
    "start_time": "2021-10-31T09:01:40.770Z"
   },
   {
    "duration": 20,
    "start_time": "2021-10-31T09:02:01.732Z"
   },
   {
    "duration": 14,
    "start_time": "2021-10-31T09:02:10.463Z"
   },
   {
    "duration": 19,
    "start_time": "2021-10-31T09:02:25.120Z"
   },
   {
    "duration": 22,
    "start_time": "2021-10-31T09:02:47.468Z"
   },
   {
    "duration": 21,
    "start_time": "2021-10-31T09:02:56.723Z"
   },
   {
    "duration": 5,
    "start_time": "2021-10-31T09:05:06.549Z"
   },
   {
    "duration": 18,
    "start_time": "2021-10-31T09:05:18.802Z"
   },
   {
    "duration": 4,
    "start_time": "2021-10-31T09:09:10.282Z"
   },
   {
    "duration": 31,
    "start_time": "2021-10-31T09:09:14.150Z"
   },
   {
    "duration": 36,
    "start_time": "2021-10-31T09:09:52.376Z"
   },
   {
    "duration": 29,
    "start_time": "2021-10-31T09:10:23.323Z"
   },
   {
    "duration": 10,
    "start_time": "2021-10-31T09:10:26.044Z"
   },
   {
    "duration": 23,
    "start_time": "2021-10-31T09:10:34.955Z"
   },
   {
    "duration": 30,
    "start_time": "2021-10-31T09:11:23.799Z"
   },
   {
    "duration": 11,
    "start_time": "2021-10-31T09:12:01.909Z"
   },
   {
    "duration": 18,
    "start_time": "2021-10-31T09:12:14.825Z"
   },
   {
    "duration": 7,
    "start_time": "2021-10-31T09:13:21.724Z"
   },
   {
    "duration": 29,
    "start_time": "2021-10-31T09:13:26.213Z"
   },
   {
    "duration": 18,
    "start_time": "2021-10-31T09:13:32.269Z"
   },
   {
    "duration": 9,
    "start_time": "2021-10-31T09:13:48.306Z"
   },
   {
    "duration": 18,
    "start_time": "2021-10-31T09:13:52.941Z"
   },
   {
    "duration": 12,
    "start_time": "2021-10-31T09:13:58.819Z"
   },
   {
    "duration": 22,
    "start_time": "2021-10-31T09:14:45.108Z"
   },
   {
    "duration": 21,
    "start_time": "2021-10-31T09:15:12.779Z"
   },
   {
    "duration": 9,
    "start_time": "2021-10-31T09:31:07.578Z"
   },
   {
    "duration": 188,
    "start_time": "2021-10-31T09:31:12.444Z"
   },
   {
    "duration": 18,
    "start_time": "2021-10-31T09:31:29.956Z"
   },
   {
    "duration": 10,
    "start_time": "2021-10-31T09:32:21.450Z"
   },
   {
    "duration": 19,
    "start_time": "2021-10-31T09:32:25.517Z"
   },
   {
    "duration": 27,
    "start_time": "2021-10-31T09:32:41.390Z"
   },
   {
    "duration": 33,
    "start_time": "2021-10-31T09:32:54.902Z"
   },
   {
    "duration": 10,
    "start_time": "2021-10-31T09:40:07.224Z"
   },
   {
    "duration": 17,
    "start_time": "2021-10-31T09:40:14.107Z"
   },
   {
    "duration": 26,
    "start_time": "2021-10-31T09:40:51.344Z"
   },
   {
    "duration": 17,
    "start_time": "2021-10-31T09:41:07.500Z"
   },
   {
    "duration": 23,
    "start_time": "2021-10-31T09:47:51.224Z"
   },
   {
    "duration": 22,
    "start_time": "2021-10-31T09:47:55.109Z"
   },
   {
    "duration": 4,
    "start_time": "2021-10-31T09:52:39.917Z"
   },
   {
    "duration": 21,
    "start_time": "2021-10-31T09:52:42.504Z"
   },
   {
    "duration": 8,
    "start_time": "2021-10-31T09:57:00.868Z"
   },
   {
    "duration": 28,
    "start_time": "2021-10-31T09:57:06.861Z"
   },
   {
    "duration": 22,
    "start_time": "2021-10-31T09:57:25.930Z"
   },
   {
    "duration": 4,
    "start_time": "2021-10-31T09:59:22.031Z"
   },
   {
    "duration": 26,
    "start_time": "2021-10-31T09:59:28.706Z"
   },
   {
    "duration": 22,
    "start_time": "2021-10-31T10:00:11.711Z"
   },
   {
    "duration": 23,
    "start_time": "2021-10-31T10:00:24.656Z"
   },
   {
    "duration": 39,
    "start_time": "2021-10-31T10:01:31.778Z"
   },
   {
    "duration": 24,
    "start_time": "2021-10-31T10:01:38.656Z"
   },
   {
    "duration": 179,
    "start_time": "2021-10-31T10:04:34.390Z"
   },
   {
    "duration": 186,
    "start_time": "2021-10-31T10:04:39.819Z"
   },
   {
    "duration": 220,
    "start_time": "2021-10-31T10:05:20.416Z"
   },
   {
    "duration": 268,
    "start_time": "2021-10-31T10:05:50.228Z"
   },
   {
    "duration": 209,
    "start_time": "2021-10-31T10:06:32.619Z"
   },
   {
    "duration": 191,
    "start_time": "2021-10-31T10:07:09.038Z"
   },
   {
    "duration": 170,
    "start_time": "2021-10-31T10:08:17.501Z"
   },
   {
    "duration": 415,
    "start_time": "2021-10-31T10:13:08.728Z"
   },
   {
    "duration": 515,
    "start_time": "2021-10-31T10:14:19.987Z"
   },
   {
    "duration": 349,
    "start_time": "2021-10-31T10:15:01.762Z"
   },
   {
    "duration": 1134,
    "start_time": "2021-10-31T10:16:10.402Z"
   },
   {
    "duration": 206,
    "start_time": "2021-10-31T10:16:27.774Z"
   },
   {
    "duration": 339,
    "start_time": "2021-10-31T10:17:33.954Z"
   },
   {
    "duration": 441,
    "start_time": "2021-10-31T10:20:03.756Z"
   },
   {
    "duration": 195,
    "start_time": "2021-10-31T10:20:39.402Z"
   },
   {
    "duration": 509,
    "start_time": "2021-10-31T10:22:47.709Z"
   },
   {
    "duration": 25,
    "start_time": "2021-10-31T10:22:56.608Z"
   },
   {
    "duration": 448,
    "start_time": "2021-10-31T10:23:02.093Z"
   },
   {
    "duration": 1039,
    "start_time": "2021-10-31T10:24:05.677Z"
   },
   {
    "duration": 20,
    "start_time": "2021-10-31T10:24:26.273Z"
   },
   {
    "duration": 15,
    "start_time": "2021-10-31T10:25:03.913Z"
   },
   {
    "duration": 9,
    "start_time": "2021-10-31T10:25:06.604Z"
   },
   {
    "duration": 24,
    "start_time": "2021-10-31T10:25:40.542Z"
   },
   {
    "duration": 19,
    "start_time": "2021-10-31T10:26:14.079Z"
   },
   {
    "duration": 33,
    "start_time": "2021-10-31T10:26:54.937Z"
   },
   {
    "duration": 34,
    "start_time": "2021-10-31T10:27:05.886Z"
   },
   {
    "duration": 176,
    "start_time": "2021-10-31T10:27:20.031Z"
   },
   {
    "duration": 185,
    "start_time": "2021-10-31T10:27:34.654Z"
   },
   {
    "duration": 4,
    "start_time": "2021-10-31T10:27:47.239Z"
   },
   {
    "duration": 29,
    "start_time": "2021-10-31T10:29:21.606Z"
   },
   {
    "duration": 5,
    "start_time": "2021-10-31T10:32:06.651Z"
   },
   {
    "duration": 5,
    "start_time": "2021-10-31T10:32:11.200Z"
   },
   {
    "duration": 5,
    "start_time": "2021-10-31T10:32:47.573Z"
   },
   {
    "duration": 6,
    "start_time": "2021-10-31T10:32:52.863Z"
   },
   {
    "duration": 20,
    "start_time": "2021-10-31T10:33:05.314Z"
   },
   {
    "duration": 21,
    "start_time": "2021-10-31T10:34:04.024Z"
   },
   {
    "duration": 210,
    "start_time": "2021-10-31T10:35:29.864Z"
   },
   {
    "duration": 5,
    "start_time": "2021-10-31T10:35:37.358Z"
   },
   {
    "duration": 21,
    "start_time": "2021-10-31T10:35:49.970Z"
   },
   {
    "duration": 986,
    "start_time": "2021-10-31T10:36:01.882Z"
   },
   {
    "duration": 7,
    "start_time": "2021-10-31T10:36:15.272Z"
   },
   {
    "duration": 26,
    "start_time": "2021-10-31T10:36:20.025Z"
   },
   {
    "duration": 29,
    "start_time": "2021-10-31T10:36:29.944Z"
   },
   {
    "duration": 19,
    "start_time": "2021-10-31T10:36:42.467Z"
   },
   {
    "duration": 19,
    "start_time": "2021-10-31T10:37:04.689Z"
   },
   {
    "duration": 215,
    "start_time": "2021-10-31T10:37:14.195Z"
   },
   {
    "duration": 962,
    "start_time": "2021-10-31T10:37:18.306Z"
   },
   {
    "duration": 939,
    "start_time": "2021-10-31T10:37:47.030Z"
   },
   {
    "duration": 248,
    "start_time": "2021-10-31T10:47:39.919Z"
   },
   {
    "duration": 212,
    "start_time": "2021-10-31T10:47:40.944Z"
   },
   {
    "duration": 146,
    "start_time": "2021-10-31T11:01:14.500Z"
   },
   {
    "duration": 5112,
    "start_time": "2021-10-31T11:02:14.092Z"
   },
   {
    "duration": 127,
    "start_time": "2021-10-31T11:02:34.414Z"
   },
   {
    "duration": 366,
    "start_time": "2021-10-31T11:03:16.907Z"
   },
   {
    "duration": 215,
    "start_time": "2021-10-31T11:03:55.819Z"
   },
   {
    "duration": 129,
    "start_time": "2021-10-31T11:04:10.326Z"
   },
   {
    "duration": 62,
    "start_time": "2021-10-31T11:05:05.211Z"
   },
   {
    "duration": 63,
    "start_time": "2021-10-31T11:06:36.013Z"
   },
   {
    "duration": 5,
    "start_time": "2021-10-31T11:07:58.280Z"
   },
   {
    "duration": 5,
    "start_time": "2021-10-31T11:08:03.530Z"
   },
   {
    "duration": 187,
    "start_time": "2021-10-31T11:08:33.394Z"
   },
   {
    "duration": 5,
    "start_time": "2021-10-31T11:09:23.673Z"
   },
   {
    "duration": 6,
    "start_time": "2021-10-31T11:09:53.869Z"
   },
   {
    "duration": 171,
    "start_time": "2021-10-31T11:12:47.915Z"
   },
   {
    "duration": 6,
    "start_time": "2021-10-31T11:13:35.500Z"
   },
   {
    "duration": 5,
    "start_time": "2021-10-31T11:14:17.839Z"
   },
   {
    "duration": 6,
    "start_time": "2021-10-31T11:15:13.742Z"
   },
   {
    "duration": 21,
    "start_time": "2021-10-31T11:15:17.507Z"
   },
   {
    "duration": 23,
    "start_time": "2021-10-31T11:16:49.462Z"
   },
   {
    "duration": 28,
    "start_time": "2021-10-31T11:18:42.091Z"
   },
   {
    "duration": 30,
    "start_time": "2021-10-31T11:19:54.620Z"
   },
   {
    "duration": 30,
    "start_time": "2021-10-31T11:20:07.681Z"
   },
   {
    "duration": 25,
    "start_time": "2021-10-31T11:20:52.463Z"
   },
   {
    "duration": 43,
    "start_time": "2021-10-31T11:21:50.103Z"
   },
   {
    "duration": 33,
    "start_time": "2021-10-31T11:24:58.455Z"
   },
   {
    "duration": 37,
    "start_time": "2021-10-31T11:25:30.481Z"
   },
   {
    "duration": 15,
    "start_time": "2021-10-31T11:26:19.805Z"
   },
   {
    "duration": 15,
    "start_time": "2021-10-31T11:26:33.514Z"
   },
   {
    "duration": 180,
    "start_time": "2021-10-31T11:38:59.219Z"
   },
   {
    "duration": 178,
    "start_time": "2021-10-31T11:39:14.308Z"
   },
   {
    "duration": 4,
    "start_time": "2021-10-31T11:39:30.335Z"
   },
   {
    "duration": 38,
    "start_time": "2021-10-31T11:39:41.672Z"
   },
   {
    "duration": 53,
    "start_time": "2021-10-31T11:40:08.558Z"
   },
   {
    "duration": 50,
    "start_time": "2021-10-31T11:40:36.078Z"
   },
   {
    "duration": 49,
    "start_time": "2021-10-31T11:40:51.478Z"
   },
   {
    "duration": 52,
    "start_time": "2021-10-31T11:41:57.764Z"
   },
   {
    "duration": 58,
    "start_time": "2021-10-31T11:42:04.332Z"
   },
   {
    "duration": 58,
    "start_time": "2021-10-31T11:42:16.974Z"
   },
   {
    "duration": 4,
    "start_time": "2021-10-31T11:42:52.512Z"
   },
   {
    "duration": 58,
    "start_time": "2021-10-31T11:42:55.367Z"
   },
   {
    "duration": 6,
    "start_time": "2021-10-31T11:43:03.554Z"
   },
   {
    "duration": 63,
    "start_time": "2021-10-31T11:43:07.923Z"
   },
   {
    "duration": 65,
    "start_time": "2021-10-31T11:43:20.618Z"
   },
   {
    "duration": 19,
    "start_time": "2021-10-31T11:46:47.684Z"
   },
   {
    "duration": 48,
    "start_time": "2021-10-31T11:46:54.483Z"
   },
   {
    "duration": 7,
    "start_time": "2021-10-31T11:47:32.426Z"
   },
   {
    "duration": 67,
    "start_time": "2021-10-31T11:47:35.937Z"
   },
   {
    "duration": 212,
    "start_time": "2021-10-31T11:48:35.545Z"
   },
   {
    "duration": 156,
    "start_time": "2021-10-31T11:49:13.151Z"
   },
   {
    "duration": 161,
    "start_time": "2021-10-31T11:49:27.837Z"
   },
   {
    "duration": 1202,
    "start_time": "2021-10-31T11:51:16.525Z"
   },
   {
    "duration": 256,
    "start_time": "2021-10-31T11:52:19.903Z"
   },
   {
    "duration": 226,
    "start_time": "2021-10-31T11:56:52.404Z"
   },
   {
    "duration": 191,
    "start_time": "2021-10-31T11:57:45.673Z"
   },
   {
    "duration": 183,
    "start_time": "2021-10-31T11:57:56.468Z"
   },
   {
    "duration": 250,
    "start_time": "2021-10-31T11:58:05.009Z"
   },
   {
    "duration": 123,
    "start_time": "2021-10-31T11:58:14.470Z"
   },
   {
    "duration": 178,
    "start_time": "2021-10-31T11:59:24.383Z"
   },
   {
    "duration": 1279,
    "start_time": "2021-10-31T12:00:24.789Z"
   },
   {
    "duration": 8,
    "start_time": "2021-10-31T12:02:00.343Z"
   },
   {
    "duration": 21,
    "start_time": "2021-10-31T12:02:04.672Z"
   },
   {
    "duration": 233,
    "start_time": "2021-10-31T12:02:17.392Z"
   },
   {
    "duration": 1943,
    "start_time": "2021-10-31T12:03:09.683Z"
   },
   {
    "duration": 215,
    "start_time": "2021-10-31T12:03:59.782Z"
   },
   {
    "duration": 225,
    "start_time": "2021-10-31T12:04:23.931Z"
   },
   {
    "duration": 143,
    "start_time": "2021-10-31T12:04:34.467Z"
   },
   {
    "duration": 141,
    "start_time": "2021-10-31T12:05:05.167Z"
   },
   {
    "duration": 138,
    "start_time": "2021-10-31T12:05:26.187Z"
   },
   {
    "duration": 149,
    "start_time": "2021-10-31T12:05:45.322Z"
   },
   {
    "duration": 381,
    "start_time": "2021-10-31T12:10:59.211Z"
   },
   {
    "duration": 140,
    "start_time": "2021-10-31T12:11:13.258Z"
   },
   {
    "duration": 353,
    "start_time": "2021-10-31T12:14:12.506Z"
   },
   {
    "duration": 229,
    "start_time": "2021-10-31T12:14:37.821Z"
   },
   {
    "duration": 339,
    "start_time": "2021-10-31T12:14:45.824Z"
   },
   {
    "duration": 368,
    "start_time": "2021-10-31T12:14:51.126Z"
   },
   {
    "duration": 220,
    "start_time": "2021-10-31T12:15:27.774Z"
   },
   {
    "duration": 205,
    "start_time": "2021-10-31T12:16:35.780Z"
   },
   {
    "duration": 204,
    "start_time": "2021-10-31T12:17:33.953Z"
   },
   {
    "duration": 62,
    "start_time": "2021-10-31T12:24:44.457Z"
   },
   {
    "duration": 59,
    "start_time": "2021-10-31T12:27:36.597Z"
   },
   {
    "duration": 74,
    "start_time": "2021-10-31T12:28:45.097Z"
   },
   {
    "duration": 83,
    "start_time": "2021-10-31T12:29:39.964Z"
   },
   {
    "duration": 135,
    "start_time": "2021-10-31T12:30:21.306Z"
   },
   {
    "duration": 237,
    "start_time": "2021-10-31T12:31:26.630Z"
   },
   {
    "duration": 239,
    "start_time": "2021-10-31T12:31:53.929Z"
   },
   {
    "duration": 238,
    "start_time": "2021-10-31T12:33:10.086Z"
   },
   {
    "duration": 195,
    "start_time": "2021-10-31T12:33:42.938Z"
   },
   {
    "duration": 190,
    "start_time": "2021-10-31T12:33:52.699Z"
   },
   {
    "duration": 272,
    "start_time": "2021-10-31T12:34:26.689Z"
   },
   {
    "duration": 209,
    "start_time": "2021-10-31T12:37:09.515Z"
   },
   {
    "duration": 272,
    "start_time": "2021-10-31T12:37:57.784Z"
   },
   {
    "duration": 268,
    "start_time": "2021-10-31T12:38:26.342Z"
   },
   {
    "duration": 251,
    "start_time": "2021-10-31T12:41:08.053Z"
   },
   {
    "duration": 295,
    "start_time": "2021-10-31T12:41:19.967Z"
   },
   {
    "duration": 243,
    "start_time": "2021-10-31T12:42:44.418Z"
   },
   {
    "duration": 2216,
    "start_time": "2021-10-31T12:43:38.390Z"
   },
   {
    "duration": 247,
    "start_time": "2021-10-31T12:43:58.583Z"
   },
   {
    "duration": 238,
    "start_time": "2021-10-31T12:44:39.529Z"
   },
   {
    "duration": 255,
    "start_time": "2021-10-31T12:45:10.636Z"
   },
   {
    "duration": 234,
    "start_time": "2021-10-31T12:49:39.738Z"
   },
   {
    "duration": 239,
    "start_time": "2021-10-31T12:51:27.915Z"
   },
   {
    "duration": 6,
    "start_time": "2021-10-31T12:54:33.573Z"
   },
   {
    "duration": 238,
    "start_time": "2021-10-31T12:55:34.669Z"
   },
   {
    "duration": 2263,
    "start_time": "2021-10-31T12:59:51.119Z"
   },
   {
    "duration": 68,
    "start_time": "2021-10-31T13:00:21.480Z"
   },
   {
    "duration": 261,
    "start_time": "2021-10-31T13:00:33.194Z"
   },
   {
    "duration": 238,
    "start_time": "2021-10-31T13:00:46.933Z"
   },
   {
    "duration": 239,
    "start_time": "2021-10-31T13:01:07.576Z"
   },
   {
    "duration": 235,
    "start_time": "2021-10-31T13:01:20.544Z"
   },
   {
    "duration": 231,
    "start_time": "2021-10-31T13:01:29.528Z"
   },
   {
    "duration": 238,
    "start_time": "2021-10-31T13:02:23.457Z"
   },
   {
    "duration": 233,
    "start_time": "2021-10-31T13:02:30.853Z"
   },
   {
    "duration": 220,
    "start_time": "2021-10-31T13:03:03.209Z"
   },
   {
    "duration": 1851,
    "start_time": "2021-10-31T13:11:47.924Z"
   },
   {
    "duration": 36,
    "start_time": "2021-10-31T13:14:54.962Z"
   },
   {
    "duration": 5,
    "start_time": "2021-10-31T13:16:18.101Z"
   },
   {
    "duration": 203,
    "start_time": "2021-10-31T13:21:34.022Z"
   },
   {
    "duration": 224,
    "start_time": "2021-10-31T13:21:44.923Z"
   },
   {
    "duration": 199,
    "start_time": "2021-10-31T13:23:46.666Z"
   },
   {
    "duration": 195,
    "start_time": "2021-10-31T13:25:11.754Z"
   },
   {
    "duration": 219,
    "start_time": "2021-10-31T13:26:39.383Z"
   },
   {
    "duration": 228,
    "start_time": "2021-10-31T13:27:04.748Z"
   },
   {
    "duration": 204,
    "start_time": "2021-10-31T13:27:36.278Z"
   },
   {
    "duration": 199,
    "start_time": "2021-10-31T13:27:51.419Z"
   },
   {
    "duration": 217,
    "start_time": "2021-10-31T13:28:39.539Z"
   },
   {
    "duration": 212,
    "start_time": "2021-10-31T13:29:09.083Z"
   },
   {
    "duration": 13,
    "start_time": "2021-10-31T13:30:58.508Z"
   },
   {
    "duration": 17,
    "start_time": "2021-10-31T13:31:12.312Z"
   },
   {
    "duration": 16,
    "start_time": "2021-10-31T13:32:52.117Z"
   },
   {
    "duration": 4,
    "start_time": "2021-10-31T13:33:28.261Z"
   },
   {
    "duration": 398,
    "start_time": "2021-10-31T13:36:56.258Z"
   },
   {
    "duration": 844,
    "start_time": "2021-10-31T13:37:11.722Z"
   },
   {
    "duration": 800,
    "start_time": "2021-10-31T13:38:54.261Z"
   },
   {
    "duration": 350,
    "start_time": "2021-10-31T13:39:49.416Z"
   },
   {
    "duration": 770,
    "start_time": "2021-10-31T13:40:23.497Z"
   },
   {
    "duration": 23,
    "start_time": "2021-10-31T13:43:45.381Z"
   },
   {
    "duration": 72,
    "start_time": "2021-10-31T13:44:55.454Z"
   },
   {
    "duration": 189,
    "start_time": "2021-10-31T13:47:38.797Z"
   },
   {
    "duration": 6,
    "start_time": "2021-10-31T13:47:48.035Z"
   },
   {
    "duration": 179,
    "start_time": "2021-10-31T13:47:51.979Z"
   },
   {
    "duration": 177,
    "start_time": "2021-10-31T13:48:02.884Z"
   },
   {
    "duration": 93,
    "start_time": "2021-10-31T13:48:34.729Z"
   },
   {
    "duration": 14,
    "start_time": "2021-10-31T13:48:37.237Z"
   },
   {
    "duration": 6,
    "start_time": "2021-10-31T13:49:13.441Z"
   },
   {
    "duration": 8,
    "start_time": "2021-10-31T13:49:31.900Z"
   },
   {
    "duration": 4397,
    "start_time": "2021-10-31T13:51:28.181Z"
   },
   {
    "duration": 180,
    "start_time": "2021-10-31T13:51:42.485Z"
   },
   {
    "duration": 218,
    "start_time": "2021-10-31T13:53:10.090Z"
   },
   {
    "duration": 195,
    "start_time": "2021-10-31T13:53:15.348Z"
   },
   {
    "duration": 149,
    "start_time": "2021-10-31T13:55:37.669Z"
   },
   {
    "duration": 197,
    "start_time": "2021-10-31T13:55:53.748Z"
   },
   {
    "duration": 205,
    "start_time": "2021-10-31T13:57:09.980Z"
   },
   {
    "duration": 5,
    "start_time": "2021-10-31T13:59:34.720Z"
   },
   {
    "duration": 8,
    "start_time": "2021-10-31T13:59:57.170Z"
   },
   {
    "duration": 211,
    "start_time": "2021-10-31T14:00:17.582Z"
   },
   {
    "duration": 177,
    "start_time": "2021-10-31T14:01:15.498Z"
   },
   {
    "duration": 187,
    "start_time": "2021-10-31T14:03:41.671Z"
   },
   {
    "duration": 4,
    "start_time": "2021-10-31T14:05:06.039Z"
   },
   {
    "duration": 5,
    "start_time": "2021-10-31T14:05:25.866Z"
   },
   {
    "duration": 181,
    "start_time": "2021-10-31T14:06:04.460Z"
   },
   {
    "duration": 1597,
    "start_time": "2021-10-31T14:06:56.327Z"
   },
   {
    "duration": 3389,
    "start_time": "2021-10-31T14:07:21.196Z"
   },
   {
    "duration": 320,
    "start_time": "2021-10-31T14:07:41.132Z"
   },
   {
    "duration": 216,
    "start_time": "2021-10-31T14:08:23.992Z"
   },
   {
    "duration": 137,
    "start_time": "2021-10-31T14:12:24.293Z"
   },
   {
    "duration": 199,
    "start_time": "2021-10-31T14:21:27.455Z"
   },
   {
    "duration": 495,
    "start_time": "2021-10-31T14:26:02.840Z"
   },
   {
    "duration": 4374,
    "start_time": "2021-10-31T14:26:15.388Z"
   },
   {
    "duration": 78,
    "start_time": "2021-10-31T14:26:34.286Z"
   },
   {
    "duration": 36,
    "start_time": "2021-10-31T14:26:46.904Z"
   },
   {
    "duration": 4350,
    "start_time": "2021-10-31T14:27:09.390Z"
   },
   {
    "duration": 21,
    "start_time": "2021-10-31T14:27:22.502Z"
   },
   {
    "duration": 190,
    "start_time": "2021-10-31T14:27:26.653Z"
   },
   {
    "duration": 10,
    "start_time": "2021-10-31T14:27:38.548Z"
   },
   {
    "duration": 21,
    "start_time": "2021-10-31T14:27:41.488Z"
   },
   {
    "duration": 4,
    "start_time": "2021-10-31T14:27:44.952Z"
   },
   {
    "duration": 8,
    "start_time": "2021-10-31T14:27:47.577Z"
   },
   {
    "duration": 16,
    "start_time": "2021-10-31T14:27:51.853Z"
   },
   {
    "duration": 15,
    "start_time": "2021-10-31T14:28:03.598Z"
   },
   {
    "duration": 6,
    "start_time": "2021-10-31T14:28:20.070Z"
   },
   {
    "duration": 305,
    "start_time": "2021-11-01T08:30:47.002Z"
   },
   {
    "duration": 234,
    "start_time": "2021-11-01T08:30:52.842Z"
   },
   {
    "duration": 947,
    "start_time": "2021-11-01T08:31:03.126Z"
   },
   {
    "duration": 14,
    "start_time": "2021-11-01T08:31:17.350Z"
   },
   {
    "duration": 270,
    "start_time": "2021-11-01T08:31:20.739Z"
   },
   {
    "duration": 501,
    "start_time": "2021-11-01T08:31:32.376Z"
   },
   {
    "duration": 5538,
    "start_time": "2021-11-01T08:32:40.944Z"
   },
   {
    "duration": 60,
    "start_time": "2021-11-01T08:33:00.764Z"
   },
   {
    "duration": 9,
    "start_time": "2021-11-01T08:33:03.864Z"
   },
   {
    "duration": 39,
    "start_time": "2021-11-01T08:33:07.763Z"
   },
   {
    "duration": 25,
    "start_time": "2021-11-01T08:33:10.370Z"
   },
   {
    "duration": 56,
    "start_time": "2021-11-01T08:33:31.296Z"
   },
   {
    "duration": 15,
    "start_time": "2021-11-01T08:33:33.840Z"
   },
   {
    "duration": 16,
    "start_time": "2021-11-01T08:33:36.787Z"
   },
   {
    "duration": 21,
    "start_time": "2021-11-01T08:33:39.921Z"
   },
   {
    "duration": 246,
    "start_time": "2021-11-01T08:33:45.666Z"
   },
   {
    "duration": 25,
    "start_time": "2021-11-01T08:34:52.856Z"
   },
   {
    "duration": 24,
    "start_time": "2021-11-01T08:34:56.211Z"
   },
   {
    "duration": 36,
    "start_time": "2021-11-01T08:35:00.726Z"
   },
   {
    "duration": 17,
    "start_time": "2021-11-01T08:35:05.215Z"
   },
   {
    "duration": 35,
    "start_time": "2021-11-01T08:35:07.536Z"
   },
   {
    "duration": 5,
    "start_time": "2021-11-01T08:35:15.666Z"
   },
   {
    "duration": 12,
    "start_time": "2021-11-01T08:35:17.945Z"
   },
   {
    "duration": 30,
    "start_time": "2021-11-01T08:35:23.000Z"
   },
   {
    "duration": 29,
    "start_time": "2021-11-01T08:35:42.698Z"
   },
   {
    "duration": 18,
    "start_time": "2021-11-01T08:35:58.839Z"
   },
   {
    "duration": 6,
    "start_time": "2021-11-01T08:36:01.566Z"
   },
   {
    "duration": 88,
    "start_time": "2021-11-01T08:36:04.573Z"
   },
   {
    "duration": 27,
    "start_time": "2021-11-01T08:36:09.740Z"
   },
   {
    "duration": 948,
    "start_time": "2021-11-01T08:36:13.192Z"
   },
   {
    "duration": 14,
    "start_time": "2021-11-01T08:36:16.570Z"
   },
   {
    "duration": 11,
    "start_time": "2021-11-01T08:36:19.228Z"
   },
   {
    "duration": 100,
    "start_time": "2021-11-01T08:36:29.106Z"
   },
   {
    "duration": 240,
    "start_time": "2021-11-01T08:36:32.724Z"
   },
   {
    "duration": 604,
    "start_time": "2021-11-01T08:36:35.537Z"
   },
   {
    "duration": 252,
    "start_time": "2021-11-01T08:36:40.417Z"
   },
   {
    "duration": 333,
    "start_time": "2021-11-01T08:36:43.700Z"
   },
   {
    "duration": 8,
    "start_time": "2021-11-01T08:36:59.019Z"
   },
   {
    "duration": 7,
    "start_time": "2021-11-01T08:37:59.316Z"
   },
   {
    "duration": 8,
    "start_time": "2021-11-01T08:38:21.904Z"
   },
   {
    "duration": 8,
    "start_time": "2021-11-01T08:38:42.815Z"
   },
   {
    "duration": 7,
    "start_time": "2021-11-01T08:38:57.170Z"
   },
   {
    "duration": 1688,
    "start_time": "2021-11-01T08:40:49.614Z"
   },
   {
    "duration": 256,
    "start_time": "2021-11-01T08:42:55.280Z"
   },
   {
    "duration": 240,
    "start_time": "2021-11-01T08:43:05.280Z"
   },
   {
    "duration": 6,
    "start_time": "2021-11-01T08:44:17.146Z"
   },
   {
    "duration": 28,
    "start_time": "2021-11-01T08:44:45.763Z"
   },
   {
    "duration": 24,
    "start_time": "2021-11-01T08:45:39.873Z"
   },
   {
    "duration": 255,
    "start_time": "2021-11-01T08:46:06.621Z"
   },
   {
    "duration": 26,
    "start_time": "2021-11-01T08:46:21.862Z"
   },
   {
    "duration": 24,
    "start_time": "2021-11-01T08:47:27.682Z"
   },
   {
    "duration": 25,
    "start_time": "2021-11-01T08:47:36.231Z"
   },
   {
    "duration": 262,
    "start_time": "2021-11-01T08:48:47.697Z"
   },
   {
    "duration": 417,
    "start_time": "2021-11-01T08:50:01.369Z"
   },
   {
    "duration": 7,
    "start_time": "2021-11-01T08:50:49.862Z"
   },
   {
    "duration": 1091,
    "start_time": "2021-11-01T08:51:18.965Z"
   },
   {
    "duration": 1067,
    "start_time": "2021-11-01T08:52:00.767Z"
   },
   {
    "duration": 1074,
    "start_time": "2021-11-01T08:52:23.208Z"
   },
   {
    "duration": 7,
    "start_time": "2021-11-01T08:52:48.890Z"
   },
   {
    "duration": 1162,
    "start_time": "2021-11-01T08:53:23.071Z"
   },
   {
    "duration": 1286,
    "start_time": "2021-11-01T08:55:35.910Z"
   },
   {
    "duration": 480,
    "start_time": "2021-11-01T08:57:14.165Z"
   },
   {
    "duration": 575,
    "start_time": "2021-11-01T09:02:25.426Z"
   },
   {
    "duration": 592,
    "start_time": "2021-11-01T09:02:54.016Z"
   },
   {
    "duration": 1093,
    "start_time": "2021-11-01T09:04:39.436Z"
   },
   {
    "duration": 1173,
    "start_time": "2021-11-01T09:05:55.846Z"
   },
   {
    "duration": 1186,
    "start_time": "2021-11-01T09:06:17.895Z"
   },
   {
    "duration": 1052,
    "start_time": "2021-11-01T09:06:29.520Z"
   },
   {
    "duration": 5,
    "start_time": "2021-11-01T09:08:18.224Z"
   },
   {
    "duration": 97,
    "start_time": "2021-11-01T09:08:22.446Z"
   },
   {
    "duration": 1119,
    "start_time": "2021-11-01T09:09:11.458Z"
   },
   {
    "duration": 7,
    "start_time": "2021-11-01T09:10:55.318Z"
   },
   {
    "duration": 8,
    "start_time": "2021-11-01T09:11:23.354Z"
   },
   {
    "duration": 69,
    "start_time": "2021-11-01T09:16:47.698Z"
   },
   {
    "duration": 81,
    "start_time": "2021-11-01T09:17:01.422Z"
   },
   {
    "duration": 223,
    "start_time": "2021-11-01T09:17:22.782Z"
   },
   {
    "duration": 241,
    "start_time": "2021-11-01T09:24:15.417Z"
   },
   {
    "duration": 204,
    "start_time": "2021-11-01T09:24:29.564Z"
   },
   {
    "duration": 226,
    "start_time": "2021-11-01T09:25:03.310Z"
   },
   {
    "duration": 13,
    "start_time": "2021-11-01T09:25:15.103Z"
   },
   {
    "duration": 351,
    "start_time": "2021-11-01T09:26:32.664Z"
   },
   {
    "duration": 83,
    "start_time": "2021-11-01T09:27:52.600Z"
   },
   {
    "duration": 78,
    "start_time": "2021-11-01T09:28:14.690Z"
   },
   {
    "duration": 264,
    "start_time": "2021-11-01T09:28:24.787Z"
   },
   {
    "duration": 209,
    "start_time": "2021-11-01T09:28:34.860Z"
   },
   {
    "duration": 210,
    "start_time": "2021-11-01T09:28:53.080Z"
   },
   {
    "duration": 230,
    "start_time": "2021-11-01T09:30:03.235Z"
   },
   {
    "duration": 9,
    "start_time": "2021-11-01T09:32:12.726Z"
   },
   {
    "duration": 10,
    "start_time": "2021-11-01T09:32:42.788Z"
   },
   {
    "duration": 11,
    "start_time": "2021-11-01T09:32:59.404Z"
   },
   {
    "duration": 102,
    "start_time": "2021-11-01T09:33:03.167Z"
   },
   {
    "duration": 676,
    "start_time": "2021-11-01T09:37:24.551Z"
   },
   {
    "duration": 147,
    "start_time": "2021-11-01T09:38:17.395Z"
   },
   {
    "duration": 27,
    "start_time": "2021-11-01T09:38:19.525Z"
   },
   {
    "duration": 28,
    "start_time": "2021-11-01T09:38:29.818Z"
   },
   {
    "duration": 1861,
    "start_time": "2021-11-01T09:40:02.288Z"
   },
   {
    "duration": 303,
    "start_time": "2021-11-01T09:41:28.043Z"
   },
   {
    "duration": 680,
    "start_time": "2021-11-01T09:42:29.406Z"
   },
   {
    "duration": 296,
    "start_time": "2021-11-01T09:45:25.590Z"
   },
   {
    "duration": 5528,
    "start_time": "2021-11-01T09:47:39.066Z"
   },
   {
    "duration": 475,
    "start_time": "2021-11-01T09:48:14.207Z"
   },
   {
    "duration": 582,
    "start_time": "2021-11-01T09:48:24.701Z"
   },
   {
    "duration": 469,
    "start_time": "2021-11-01T09:48:33.398Z"
   },
   {
    "duration": 632,
    "start_time": "2021-11-01T09:48:39.756Z"
   },
   {
    "duration": 506,
    "start_time": "2021-11-01T09:48:44.663Z"
   },
   {
    "duration": 518,
    "start_time": "2021-11-01T09:48:49.761Z"
   },
   {
    "duration": 470,
    "start_time": "2021-11-01T09:48:54.037Z"
   },
   {
    "duration": 386,
    "start_time": "2021-11-01T09:49:04.943Z"
   },
   {
    "duration": 491,
    "start_time": "2021-11-01T09:49:11.033Z"
   },
   {
    "duration": 485,
    "start_time": "2021-11-01T09:49:16.701Z"
   },
   {
    "duration": 500,
    "start_time": "2021-11-01T09:49:21.762Z"
   },
   {
    "duration": 511,
    "start_time": "2021-11-01T09:49:26.259Z"
   },
   {
    "duration": 597,
    "start_time": "2021-11-01T09:49:38.217Z"
   },
   {
    "duration": 21,
    "start_time": "2021-11-01T10:01:09.055Z"
   },
   {
    "duration": 21,
    "start_time": "2021-11-01T10:01:16.353Z"
   },
   {
    "duration": 21,
    "start_time": "2021-11-01T10:01:22.958Z"
   },
   {
    "duration": 38,
    "start_time": "2021-11-01T10:01:32.358Z"
   },
   {
    "duration": 3,
    "start_time": "2021-11-01T10:02:01.581Z"
   },
   {
    "duration": 3,
    "start_time": "2021-11-01T10:02:04.292Z"
   },
   {
    "duration": 32,
    "start_time": "2021-11-01T10:02:09.168Z"
   },
   {
    "duration": 22,
    "start_time": "2021-11-01T10:02:20.990Z"
   },
   {
    "duration": 122,
    "start_time": "2021-11-01T10:02:31.354Z"
   },
   {
    "duration": 116,
    "start_time": "2021-11-01T10:02:34.532Z"
   },
   {
    "duration": 20,
    "start_time": "2021-11-01T10:02:36.877Z"
   },
   {
    "duration": 36,
    "start_time": "2021-11-01T10:02:46.428Z"
   },
   {
    "duration": 20,
    "start_time": "2021-11-01T10:02:53.642Z"
   },
   {
    "duration": 7,
    "start_time": "2021-11-01T10:03:55.873Z"
   },
   {
    "duration": 3642,
    "start_time": "2021-11-01T10:04:07.835Z"
   },
   {
    "duration": 3334,
    "start_time": "2021-11-01T10:04:25.503Z"
   },
   {
    "duration": 3427,
    "start_time": "2021-11-01T10:05:00.083Z"
   },
   {
    "duration": 3698,
    "start_time": "2021-11-01T10:05:43.323Z"
   },
   {
    "duration": 108,
    "start_time": "2021-11-01T10:06:25.404Z"
   },
   {
    "duration": 21,
    "start_time": "2021-11-01T10:06:26.738Z"
   },
   {
    "duration": 53,
    "start_time": "2021-11-01T10:06:33.332Z"
   },
   {
    "duration": 8,
    "start_time": "2021-11-01T10:06:36.151Z"
   },
   {
    "duration": 34,
    "start_time": "2021-11-01T10:06:38.703Z"
   },
   {
    "duration": 23,
    "start_time": "2021-11-01T10:06:41.982Z"
   },
   {
    "duration": 24,
    "start_time": "2021-11-01T10:06:57.344Z"
   },
   {
    "duration": 34,
    "start_time": "2021-11-01T10:07:04.102Z"
   },
   {
    "duration": 9,
    "start_time": "2021-11-01T10:07:23.102Z"
   },
   {
    "duration": 8,
    "start_time": "2021-11-01T10:07:26.914Z"
   },
   {
    "duration": 28,
    "start_time": "2021-11-01T10:07:31.974Z"
   },
   {
    "duration": 35,
    "start_time": "2021-11-01T10:07:59.185Z"
   },
   {
    "duration": 34,
    "start_time": "2021-11-01T10:08:35.931Z"
   },
   {
    "duration": 117,
    "start_time": "2021-11-01T10:08:50.620Z"
   },
   {
    "duration": 21,
    "start_time": "2021-11-01T10:08:52.892Z"
   },
   {
    "duration": 26,
    "start_time": "2021-11-01T10:09:21.072Z"
   },
   {
    "duration": 6,
    "start_time": "2021-11-01T10:10:54.647Z"
   },
   {
    "duration": 10,
    "start_time": "2021-11-01T10:10:59.100Z"
   },
   {
    "duration": 21,
    "start_time": "2021-11-01T10:11:44.860Z"
   },
   {
    "duration": 23,
    "start_time": "2021-11-01T10:11:51.420Z"
   },
   {
    "duration": 239,
    "start_time": "2021-11-01T10:12:08.161Z"
   },
   {
    "duration": 15,
    "start_time": "2021-11-01T10:12:38.557Z"
   },
   {
    "duration": 16,
    "start_time": "2021-11-01T10:12:53.876Z"
   },
   {
    "duration": 31,
    "start_time": "2021-11-01T10:13:22.623Z"
   },
   {
    "duration": 25,
    "start_time": "2021-11-01T10:13:34.820Z"
   },
   {
    "duration": 240,
    "start_time": "2021-11-01T10:14:24.659Z"
   },
   {
    "duration": 665,
    "start_time": "2021-11-01T10:14:39.255Z"
   },
   {
    "duration": 24,
    "start_time": "2021-11-01T10:14:53.835Z"
   },
   {
    "duration": 28,
    "start_time": "2021-11-01T10:17:06.826Z"
   },
   {
    "duration": 5801,
    "start_time": "2021-11-01T10:17:52.796Z"
   },
   {
    "duration": 20,
    "start_time": "2021-11-01T10:18:11.403Z"
   },
   {
    "duration": 5678,
    "start_time": "2021-11-01T10:18:35.564Z"
   },
   {
    "duration": 5936,
    "start_time": "2021-11-01T10:19:09.606Z"
   },
   {
    "duration": 21,
    "start_time": "2021-11-01T10:19:33.803Z"
   },
   {
    "duration": 25,
    "start_time": "2021-11-01T10:19:57.014Z"
   },
   {
    "duration": 6146,
    "start_time": "2021-11-01T10:20:52.229Z"
   },
   {
    "duration": 380,
    "start_time": "2021-11-01T10:21:13.336Z"
   },
   {
    "duration": 5705,
    "start_time": "2021-11-01T10:21:17.521Z"
   },
   {
    "duration": 5683,
    "start_time": "2021-11-01T10:21:31.438Z"
   },
   {
    "duration": 9,
    "start_time": "2021-11-01T10:22:04.874Z"
   },
   {
    "duration": 6,
    "start_time": "2021-11-01T10:22:52.516Z"
   },
   {
    "duration": 6,
    "start_time": "2021-11-01T10:22:57.550Z"
   },
   {
    "duration": 6,
    "start_time": "2021-11-01T10:23:15.763Z"
   },
   {
    "duration": 251,
    "start_time": "2021-11-01T10:23:38.427Z"
   },
   {
    "duration": 243,
    "start_time": "2021-11-01T10:23:59.237Z"
   },
   {
    "duration": 27,
    "start_time": "2021-11-01T10:24:13.888Z"
   },
   {
    "duration": 68,
    "start_time": "2021-11-01T10:25:26.308Z"
   },
   {
    "duration": 11,
    "start_time": "2021-11-01T10:25:53.986Z"
   },
   {
    "duration": 41,
    "start_time": "2021-11-01T10:26:25.845Z"
   },
   {
    "duration": 6491,
    "start_time": "2021-11-01T10:27:42.242Z"
   },
   {
    "duration": 357,
    "start_time": "2021-11-01T10:27:48.378Z"
   },
   {
    "duration": 341,
    "start_time": "2021-11-01T10:27:48.396Z"
   },
   {
    "duration": 257,
    "start_time": "2021-11-01T10:28:00.137Z"
   },
   {
    "duration": 6547,
    "start_time": "2021-11-01T10:28:03.882Z"
   },
   {
    "duration": 361,
    "start_time": "2021-11-01T10:28:10.071Z"
   },
   {
    "duration": 233,
    "start_time": "2021-11-01T10:28:14.262Z"
   },
   {
    "duration": 21,
    "start_time": "2021-11-01T10:28:27.372Z"
   },
   {
    "duration": 29,
    "start_time": "2021-11-01T10:28:30.375Z"
   },
   {
    "duration": 6019,
    "start_time": "2021-11-01T10:28:36.357Z"
   },
   {
    "duration": 380,
    "start_time": "2021-11-01T10:28:41.999Z"
   },
   {
    "duration": 6402,
    "start_time": "2021-11-01T10:28:43.977Z"
   },
   {
    "duration": 360,
    "start_time": "2021-11-01T10:28:50.021Z"
   },
   {
    "duration": 351,
    "start_time": "2021-11-01T10:28:50.032Z"
   },
   {
    "duration": 343,
    "start_time": "2021-11-01T10:28:50.041Z"
   },
   {
    "duration": 27,
    "start_time": "2021-11-01T10:28:51.474Z"
   },
   {
    "duration": 14,
    "start_time": "2021-11-01T10:28:53.952Z"
   },
   {
    "duration": 11,
    "start_time": "2021-11-01T10:28:54.957Z"
   },
   {
    "duration": 264,
    "start_time": "2021-11-01T10:29:03.042Z"
   },
   {
    "duration": 247,
    "start_time": "2021-11-01T10:30:08.327Z"
   },
   {
    "duration": 266,
    "start_time": "2021-11-01T10:30:52.225Z"
   },
   {
    "duration": 6126,
    "start_time": "2021-11-01T10:31:45.275Z"
   },
   {
    "duration": 11,
    "start_time": "2021-11-01T10:32:10.032Z"
   },
   {
    "duration": 5775,
    "start_time": "2021-11-01T10:32:16.108Z"
   },
   {
    "duration": 37,
    "start_time": "2021-11-01T10:33:16.677Z"
   },
   {
    "duration": 5,
    "start_time": "2021-11-01T10:33:23.072Z"
   },
   {
    "duration": 26,
    "start_time": "2021-11-01T10:33:27.613Z"
   },
   {
    "duration": 1571,
    "start_time": "2021-11-01T10:33:33.552Z"
   },
   {
    "duration": 111,
    "start_time": "2021-11-01T10:35:20.756Z"
   },
   {
    "duration": 20,
    "start_time": "2021-11-01T10:35:23.125Z"
   },
   {
    "duration": 19,
    "start_time": "2021-11-01T10:35:26.429Z"
   },
   {
    "duration": 26,
    "start_time": "2021-11-01T10:35:27.851Z"
   },
   {
    "duration": 51,
    "start_time": "2021-11-01T10:35:28.856Z"
   },
   {
    "duration": 53,
    "start_time": "2021-11-01T10:35:32.461Z"
   },
   {
    "duration": 13,
    "start_time": "2021-11-01T10:35:39.675Z"
   },
   {
    "duration": 17,
    "start_time": "2021-11-01T10:35:42.415Z"
   },
   {
    "duration": 15,
    "start_time": "2021-11-01T10:35:56.372Z"
   },
   {
    "duration": 12,
    "start_time": "2021-11-01T10:36:00.358Z"
   },
   {
    "duration": 5871,
    "start_time": "2021-11-01T10:36:07.571Z"
   },
   {
    "duration": 362,
    "start_time": "2021-11-01T10:36:13.083Z"
   },
   {
    "duration": 361,
    "start_time": "2021-11-01T10:36:13.085Z"
   },
   {
    "duration": 37,
    "start_time": "2021-11-01T10:36:20.610Z"
   },
   {
    "duration": 46,
    "start_time": "2021-11-01T10:36:27.150Z"
   },
   {
    "duration": 16,
    "start_time": "2021-11-01T10:36:35.813Z"
   },
   {
    "duration": 31,
    "start_time": "2021-11-01T10:36:38.295Z"
   },
   {
    "duration": 5,
    "start_time": "2021-11-01T10:36:44.276Z"
   },
   {
    "duration": 12,
    "start_time": "2021-11-01T10:36:46.811Z"
   },
   {
    "duration": 24,
    "start_time": "2021-11-01T10:36:50.129Z"
   },
   {
    "duration": 17,
    "start_time": "2021-11-01T10:36:52.859Z"
   },
   {
    "duration": 6,
    "start_time": "2021-11-01T10:36:55.262Z"
   },
   {
    "duration": 77,
    "start_time": "2021-11-01T10:36:57.753Z"
   },
   {
    "duration": 79,
    "start_time": "2021-11-01T10:37:00.366Z"
   },
   {
    "duration": 1458,
    "start_time": "2021-11-01T10:47:24.689Z"
   },
   {
    "duration": 12,
    "start_time": "2021-11-01T10:51:11.729Z"
   },
   {
    "duration": 12,
    "start_time": "2021-11-01T10:51:41.633Z"
   },
   {
    "duration": 10,
    "start_time": "2021-11-01T10:51:58.462Z"
   },
   {
    "duration": 10,
    "start_time": "2021-11-01T10:52:11.050Z"
   },
   {
    "duration": 11,
    "start_time": "2021-11-01T11:12:37.454Z"
   },
   {
    "duration": 268,
    "start_time": "2021-11-01T11:30:39.164Z"
   },
   {
    "duration": 254,
    "start_time": "2021-11-01T11:30:54.002Z"
   },
   {
    "duration": 278,
    "start_time": "2021-11-01T11:31:28.296Z"
   },
   {
    "duration": 4,
    "start_time": "2021-11-01T11:32:17.465Z"
   },
   {
    "duration": 25,
    "start_time": "2021-11-01T11:32:22.977Z"
   },
   {
    "duration": 25,
    "start_time": "2021-11-01T11:32:28.920Z"
   },
   {
    "duration": 27,
    "start_time": "2021-11-01T11:32:40.288Z"
   },
   {
    "duration": 7,
    "start_time": "2021-11-01T11:32:51.568Z"
   },
   {
    "duration": 31,
    "start_time": "2021-11-01T11:32:53.985Z"
   },
   {
    "duration": 4,
    "start_time": "2021-11-01T11:32:57.371Z"
   },
   {
    "duration": 11,
    "start_time": "2021-11-01T11:33:00.045Z"
   },
   {
    "duration": 8,
    "start_time": "2021-11-01T11:33:06.993Z"
   },
   {
    "duration": 596,
    "start_time": "2021-11-01T11:47:56.744Z"
   },
   {
    "duration": 826,
    "start_time": "2021-11-01T11:48:19.361Z"
   },
   {
    "duration": 704,
    "start_time": "2021-11-01T11:48:47.668Z"
   },
   {
    "duration": 509,
    "start_time": "2021-11-01T11:49:21.985Z"
   },
   {
    "duration": 570,
    "start_time": "2021-11-01T11:49:40.840Z"
   },
   {
    "duration": 248,
    "start_time": "2021-11-01T11:50:38.983Z"
   },
   {
    "duration": 241,
    "start_time": "2021-11-01T11:51:05.710Z"
   },
   {
    "duration": 245,
    "start_time": "2021-11-01T11:51:45.836Z"
   },
   {
    "duration": 510,
    "start_time": "2021-11-01T11:53:43.585Z"
   },
   {
    "duration": 239,
    "start_time": "2021-11-01T11:53:53.667Z"
   },
   {
    "duration": 222,
    "start_time": "2021-11-01T11:54:58.452Z"
   },
   {
    "duration": 243,
    "start_time": "2021-11-01T11:56:03.153Z"
   },
   {
    "duration": 234,
    "start_time": "2021-11-01T11:56:50.967Z"
   },
   {
    "duration": 227,
    "start_time": "2021-11-01T11:58:27.841Z"
   },
   {
    "duration": 346,
    "start_time": "2021-11-01T11:59:04.149Z"
   },
   {
    "duration": 1351,
    "start_time": "2021-11-01T11:59:54.894Z"
   },
   {
    "duration": 1336,
    "start_time": "2021-11-01T12:00:06.969Z"
   },
   {
    "duration": 3270,
    "start_time": "2021-11-01T12:02:29.200Z"
   },
   {
    "duration": 528,
    "start_time": "2021-11-01T12:02:59.466Z"
   },
   {
    "duration": 347,
    "start_time": "2021-11-01T12:03:53.798Z"
   },
   {
    "duration": 192,
    "start_time": "2021-11-01T12:05:06.027Z"
   },
   {
    "duration": 198,
    "start_time": "2021-11-01T12:05:13.162Z"
   },
   {
    "duration": 199,
    "start_time": "2021-11-01T12:05:47.242Z"
   },
   {
    "duration": 250,
    "start_time": "2021-11-01T12:07:17.949Z"
   },
   {
    "duration": 272,
    "start_time": "2021-11-01T12:11:00.756Z"
   },
   {
    "duration": 222,
    "start_time": "2021-11-01T12:11:44.571Z"
   },
   {
    "duration": 251,
    "start_time": "2021-11-01T12:12:16.881Z"
   },
   {
    "duration": 219,
    "start_time": "2021-11-01T12:12:36.065Z"
   },
   {
    "duration": 277,
    "start_time": "2021-11-01T12:13:16.321Z"
   },
   {
    "duration": 247,
    "start_time": "2021-11-01T12:13:41.766Z"
   },
   {
    "duration": 1178,
    "start_time": "2021-11-01T12:15:51.428Z"
   },
   {
    "duration": 245,
    "start_time": "2021-11-01T12:16:01.161Z"
   },
   {
    "duration": 240,
    "start_time": "2021-11-01T12:16:43.627Z"
   },
   {
    "duration": 259,
    "start_time": "2021-11-01T12:17:33.199Z"
   },
   {
    "duration": 228,
    "start_time": "2021-11-01T12:17:43.144Z"
   },
   {
    "duration": 224,
    "start_time": "2021-11-01T12:18:11.981Z"
   },
   {
    "duration": 87,
    "start_time": "2021-11-01T12:18:43.098Z"
   },
   {
    "duration": 440,
    "start_time": "2021-11-01T12:20:34.254Z"
   },
   {
    "duration": 252,
    "start_time": "2021-11-01T12:21:17.212Z"
   },
   {
    "duration": 339,
    "start_time": "2021-11-01T12:22:09.818Z"
   },
   {
    "duration": 533,
    "start_time": "2021-11-01T12:22:23.248Z"
   },
   {
    "duration": 235,
    "start_time": "2021-11-01T12:23:08.628Z"
   },
   {
    "duration": 273,
    "start_time": "2021-11-01T12:23:47.477Z"
   },
   {
    "duration": 241,
    "start_time": "2021-11-01T12:24:12.556Z"
   },
   {
    "duration": 293,
    "start_time": "2021-11-01T12:24:23.545Z"
   },
   {
    "duration": 255,
    "start_time": "2021-11-01T12:24:57.190Z"
   },
   {
    "duration": 253,
    "start_time": "2021-11-01T12:25:11.972Z"
   },
   {
    "duration": 247,
    "start_time": "2021-11-01T12:25:32.492Z"
   },
   {
    "duration": 246,
    "start_time": "2021-11-01T12:26:38.587Z"
   },
   {
    "duration": 374,
    "start_time": "2021-11-01T12:27:56.862Z"
   },
   {
    "duration": 257,
    "start_time": "2021-11-01T12:28:08.131Z"
   },
   {
    "duration": 3048,
    "start_time": "2021-11-01T12:28:53.394Z"
   },
   {
    "duration": 194,
    "start_time": "2021-11-01T12:29:37.037Z"
   },
   {
    "duration": 337,
    "start_time": "2021-11-01T12:30:47.192Z"
   },
   {
    "duration": 611,
    "start_time": "2021-11-01T12:30:56.417Z"
   },
   {
    "duration": 234,
    "start_time": "2021-11-01T12:31:37.000Z"
   },
   {
    "duration": 235,
    "start_time": "2021-11-01T12:39:35.814Z"
   },
   {
    "duration": 3,
    "start_time": "2021-11-01T12:44:09.932Z"
   },
   {
    "duration": 3,
    "start_time": "2021-11-01T12:44:12.677Z"
   },
   {
    "duration": 73,
    "start_time": "2021-11-01T12:45:12.162Z"
   },
   {
    "duration": 353,
    "start_time": "2021-11-01T12:46:16.977Z"
   },
   {
    "duration": 349,
    "start_time": "2021-11-01T12:46:49.051Z"
   },
   {
    "duration": 359,
    "start_time": "2021-11-01T12:49:02.282Z"
   },
   {
    "duration": 240,
    "start_time": "2021-11-01T13:07:15.744Z"
   },
   {
    "duration": 536,
    "start_time": "2021-11-01T13:07:28.771Z"
   },
   {
    "duration": 417,
    "start_time": "2021-11-01T13:07:59.408Z"
   },
   {
    "duration": 12,
    "start_time": "2021-11-01T13:13:47.542Z"
   },
   {
    "duration": 12,
    "start_time": "2021-11-01T13:13:53.617Z"
   },
   {
    "duration": 12,
    "start_time": "2021-11-01T13:14:02.048Z"
   },
   {
    "duration": 11,
    "start_time": "2021-11-01T13:14:47.966Z"
   },
   {
    "duration": 12,
    "start_time": "2021-11-01T13:15:09.591Z"
   },
   {
    "duration": 27,
    "start_time": "2021-11-01T13:15:36.112Z"
   },
   {
    "duration": 12,
    "start_time": "2021-11-01T13:15:58.161Z"
   },
   {
    "duration": 980,
    "start_time": "2021-11-01T13:17:54.335Z"
   },
   {
    "duration": 1121,
    "start_time": "2021-11-01T13:18:23.445Z"
   },
   {
    "duration": 356,
    "start_time": "2021-11-01T13:41:16.967Z"
   },
   {
    "duration": 28,
    "start_time": "2021-11-01T13:42:02.478Z"
   },
   {
    "duration": 26,
    "start_time": "2021-11-01T13:42:51.308Z"
   },
   {
    "duration": 25,
    "start_time": "2021-11-01T13:43:27.037Z"
   },
   {
    "duration": 23,
    "start_time": "2021-11-01T13:43:33.814Z"
   },
   {
    "duration": 27,
    "start_time": "2021-11-01T13:46:06.886Z"
   },
   {
    "duration": 33,
    "start_time": "2021-11-01T13:46:53.612Z"
   },
   {
    "duration": 358,
    "start_time": "2021-11-01T13:47:32.851Z"
   },
   {
    "duration": 112,
    "start_time": "2021-11-01T13:48:46.637Z"
   },
   {
    "duration": 26,
    "start_time": "2021-11-01T13:48:52.127Z"
   },
   {
    "duration": 4,
    "start_time": "2021-11-01T13:49:07.806Z"
   },
   {
    "duration": 21,
    "start_time": "2021-11-01T13:49:10.248Z"
   },
   {
    "duration": 39,
    "start_time": "2021-11-01T13:50:25.157Z"
   },
   {
    "duration": 606,
    "start_time": "2021-11-01T13:51:15.034Z"
   },
   {
    "duration": 900,
    "start_time": "2021-11-01T13:51:29.154Z"
   },
   {
    "duration": 11,
    "start_time": "2021-11-01T13:51:44.253Z"
   },
   {
    "duration": 6670,
    "start_time": "2021-11-01T13:53:20.330Z"
   },
   {
    "duration": 5948,
    "start_time": "2021-11-01T13:53:39.472Z"
   },
   {
    "duration": 6287,
    "start_time": "2021-11-01T13:53:55.694Z"
   },
   {
    "duration": 6076,
    "start_time": "2021-11-01T13:54:17.386Z"
   },
   {
    "duration": 15,
    "start_time": "2021-11-01T13:54:24.694Z"
   },
   {
    "duration": 29,
    "start_time": "2021-11-01T13:54:27.465Z"
   },
   {
    "duration": 5629,
    "start_time": "2021-11-01T13:54:32.162Z"
   },
   {
    "duration": 41,
    "start_time": "2021-11-01T13:54:43.216Z"
   },
   {
    "duration": 5,
    "start_time": "2021-11-01T13:54:49.048Z"
   },
   {
    "duration": 12,
    "start_time": "2021-11-01T13:54:51.868Z"
   },
   {
    "duration": 27,
    "start_time": "2021-11-01T13:54:55.589Z"
   },
   {
    "duration": 6647,
    "start_time": "2021-11-01T13:54:59.519Z"
   },
   {
    "duration": 288,
    "start_time": "2021-11-01T13:55:05.881Z"
   },
   {
    "duration": 1055,
    "start_time": "2021-11-01T13:55:22.397Z"
   },
   {
    "duration": 6486,
    "start_time": "2021-11-01T13:55:27.797Z"
   },
   {
    "duration": 5683,
    "start_time": "2021-11-01T13:55:38.191Z"
   },
   {
    "duration": 13,
    "start_time": "2021-11-01T13:56:17.384Z"
   },
   {
    "duration": 16,
    "start_time": "2021-11-01T13:56:20.774Z"
   },
   {
    "duration": 9,
    "start_time": "2021-11-01T13:56:26.520Z"
   },
   {
    "duration": 1076,
    "start_time": "2021-11-01T13:56:43.172Z"
   },
   {
    "duration": 5829,
    "start_time": "2021-11-01T13:57:21.720Z"
   },
   {
    "duration": 1057,
    "start_time": "2021-11-01T13:57:35.459Z"
   },
   {
    "duration": 3,
    "start_time": "2021-11-02T08:27:09.994Z"
   },
   {
    "duration": 293,
    "start_time": "2021-11-02T08:27:15.828Z"
   },
   {
    "duration": 267,
    "start_time": "2021-11-02T08:27:27.322Z"
   },
   {
    "duration": 1255,
    "start_time": "2021-11-02T08:27:31.052Z"
   },
   {
    "duration": 20,
    "start_time": "2021-11-02T08:27:33.138Z"
   },
   {
    "duration": 20,
    "start_time": "2021-11-02T08:27:39.890Z"
   },
   {
    "duration": 38,
    "start_time": "2021-11-02T08:27:43.023Z"
   },
   {
    "duration": 6,
    "start_time": "2021-11-02T08:27:46.281Z"
   },
   {
    "duration": 24,
    "start_time": "2021-11-02T08:27:48.500Z"
   },
   {
    "duration": 18,
    "start_time": "2021-11-02T08:27:51.662Z"
   },
   {
    "duration": 35,
    "start_time": "2021-11-02T08:27:55.368Z"
   },
   {
    "duration": 11,
    "start_time": "2021-11-02T08:27:57.576Z"
   },
   {
    "duration": 11,
    "start_time": "2021-11-02T08:28:00.168Z"
   },
   {
    "duration": 14,
    "start_time": "2021-11-02T08:28:00.937Z"
   },
   {
    "duration": 4,
    "start_time": "2021-11-02T08:28:01.536Z"
   },
   {
    "duration": 14,
    "start_time": "2021-11-02T08:28:02.449Z"
   },
   {
    "duration": 17,
    "start_time": "2021-11-02T08:28:03.138Z"
   },
   {
    "duration": 18,
    "start_time": "2021-11-02T08:28:05.245Z"
   },
   {
    "duration": 21,
    "start_time": "2021-11-02T08:28:07.279Z"
   },
   {
    "duration": 26,
    "start_time": "2021-11-02T08:28:08.058Z"
   },
   {
    "duration": 14,
    "start_time": "2021-11-02T08:28:11.869Z"
   },
   {
    "duration": 22,
    "start_time": "2021-11-02T08:28:12.711Z"
   },
   {
    "duration": 4,
    "start_time": "2021-11-02T08:28:14.480Z"
   },
   {
    "duration": 9,
    "start_time": "2021-11-02T08:28:15.317Z"
   },
   {
    "duration": 23,
    "start_time": "2021-11-02T08:28:16.232Z"
   },
   {
    "duration": 22,
    "start_time": "2021-11-02T08:28:16.822Z"
   },
   {
    "duration": 16,
    "start_time": "2021-11-02T08:28:17.957Z"
   },
   {
    "duration": 5,
    "start_time": "2021-11-02T08:28:18.800Z"
   },
   {
    "duration": 50,
    "start_time": "2021-11-02T08:28:19.702Z"
   },
   {
    "duration": 22,
    "start_time": "2021-11-02T08:28:20.462Z"
   },
   {
    "duration": 10,
    "start_time": "2021-11-02T08:28:21.441Z"
   },
   {
    "duration": 8,
    "start_time": "2021-11-02T08:28:22.217Z"
   },
   {
    "duration": 73,
    "start_time": "2021-11-02T08:28:27.875Z"
   },
   {
    "duration": 152,
    "start_time": "2021-11-02T08:28:31.053Z"
   },
   {
    "duration": 349,
    "start_time": "2021-11-02T08:28:35.299Z"
   },
   {
    "duration": 137,
    "start_time": "2021-11-02T08:28:56.433Z"
   },
   {
    "duration": 205,
    "start_time": "2021-11-02T08:29:00.077Z"
   },
   {
    "duration": 666,
    "start_time": "2021-11-02T08:29:14.822Z"
   },
   {
    "duration": 203,
    "start_time": "2021-11-02T08:29:19.307Z"
   },
   {
    "duration": 647,
    "start_time": "2021-11-02T08:29:27.192Z"
   },
   {
    "duration": 6,
    "start_time": "2021-11-02T08:29:57.977Z"
   },
   {
    "duration": 6,
    "start_time": "2021-11-02T08:30:02.239Z"
   },
   {
    "duration": 18,
    "start_time": "2021-11-02T08:30:06.755Z"
   },
   {
    "duration": 50,
    "start_time": "2021-11-02T08:30:20.573Z"
   },
   {
    "duration": 67,
    "start_time": "2021-11-02T08:30:48.392Z"
   },
   {
    "duration": 141,
    "start_time": "2021-11-02T08:31:13.038Z"
   },
   {
    "duration": 196,
    "start_time": "2021-11-02T08:31:16.487Z"
   },
   {
    "duration": 206,
    "start_time": "2021-11-02T08:31:22.055Z"
   },
   {
    "duration": 209,
    "start_time": "2021-11-02T08:31:30.857Z"
   },
   {
    "duration": 209,
    "start_time": "2021-11-02T08:31:39.229Z"
   },
   {
    "duration": 216,
    "start_time": "2021-11-02T08:32:48.079Z"
   },
   {
    "duration": 151,
    "start_time": "2021-11-02T08:32:54.620Z"
   },
   {
    "duration": 5,
    "start_time": "2021-11-02T08:40:35.854Z"
   },
   {
    "duration": 28,
    "start_time": "2021-11-02T08:40:56.776Z"
   },
   {
    "duration": 14,
    "start_time": "2021-11-02T08:42:03.015Z"
   },
   {
    "duration": 18,
    "start_time": "2021-11-02T08:42:30.768Z"
   },
   {
    "duration": 256,
    "start_time": "2021-11-02T08:44:45.093Z"
   },
   {
    "duration": 267,
    "start_time": "2021-11-02T08:45:03.588Z"
   },
   {
    "duration": 20,
    "start_time": "2021-11-02T08:45:15.648Z"
   },
   {
    "duration": 19,
    "start_time": "2021-11-02T08:45:30.107Z"
   },
   {
    "duration": 18,
    "start_time": "2021-11-02T08:45:46.763Z"
   },
   {
    "duration": 18,
    "start_time": "2021-11-02T08:45:55.670Z"
   },
   {
    "duration": 18,
    "start_time": "2021-11-02T08:46:11.804Z"
   },
   {
    "duration": 26,
    "start_time": "2021-11-02T08:46:21.841Z"
   },
   {
    "duration": 40,
    "start_time": "2021-11-02T08:46:26.608Z"
   },
   {
    "duration": 41,
    "start_time": "2021-11-02T08:46:40.156Z"
   },
   {
    "duration": 218,
    "start_time": "2021-11-02T08:50:36.097Z"
   },
   {
    "duration": 18,
    "start_time": "2021-11-02T08:51:12.584Z"
   },
   {
    "duration": 207,
    "start_time": "2021-11-02T08:51:32.474Z"
   },
   {
    "duration": 42,
    "start_time": "2021-11-02T09:08:30.524Z"
   },
   {
    "duration": 40,
    "start_time": "2021-11-02T09:11:12.340Z"
   },
   {
    "duration": 41,
    "start_time": "2021-11-02T09:13:34.151Z"
   },
   {
    "duration": 36,
    "start_time": "2021-11-02T09:13:39.060Z"
   },
   {
    "duration": 39,
    "start_time": "2021-11-02T09:15:15.292Z"
   },
   {
    "duration": 38,
    "start_time": "2021-11-02T09:15:20.648Z"
   },
   {
    "duration": 493,
    "start_time": "2021-11-02T09:15:57.683Z"
   },
   {
    "duration": 387,
    "start_time": "2021-11-02T09:16:56.528Z"
   },
   {
    "duration": 407,
    "start_time": "2021-11-02T09:17:20.063Z"
   },
   {
    "duration": 222,
    "start_time": "2021-11-02T09:17:50.152Z"
   },
   {
    "duration": 159,
    "start_time": "2021-11-02T09:18:04.942Z"
   },
   {
    "duration": 273,
    "start_time": "2021-11-02T09:18:58.672Z"
   },
   {
    "duration": 18,
    "start_time": "2021-11-02T09:19:09.324Z"
   },
   {
    "duration": 11,
    "start_time": "2021-11-02T09:19:23.841Z"
   },
   {
    "duration": 265,
    "start_time": "2021-11-02T09:19:38.797Z"
   },
   {
    "duration": 770,
    "start_time": "2021-11-02T09:20:54.972Z"
   },
   {
    "duration": 911,
    "start_time": "2021-11-02T09:21:06.429Z"
   },
   {
    "duration": 844,
    "start_time": "2021-11-02T09:21:37.751Z"
   },
   {
    "duration": 634,
    "start_time": "2021-11-02T09:22:02.603Z"
   },
   {
    "duration": 8,
    "start_time": "2021-11-02T09:22:32.513Z"
   },
   {
    "duration": 901,
    "start_time": "2021-11-02T09:22:43.430Z"
   },
   {
    "duration": 6,
    "start_time": "2021-11-02T09:25:15.456Z"
   },
   {
    "duration": 269,
    "start_time": "2021-11-02T09:29:18.908Z"
   },
   {
    "duration": 82,
    "start_time": "2021-11-02T09:29:30.323Z"
   },
   {
    "duration": 84,
    "start_time": "2021-11-02T09:29:51.399Z"
   },
   {
    "duration": 818,
    "start_time": "2021-11-02T09:44:28.921Z"
   },
   {
    "duration": 1000,
    "start_time": "2021-11-02T09:50:39.560Z"
   },
   {
    "duration": 854,
    "start_time": "2021-11-02T09:50:46.490Z"
   },
   {
    "duration": 436,
    "start_time": "2021-11-02T13:52:29.862Z"
   },
   {
    "duration": 1641,
    "start_time": "2021-11-02T13:52:34.555Z"
   },
   {
    "duration": 33,
    "start_time": "2021-11-02T13:52:37.704Z"
   },
   {
    "duration": 481,
    "start_time": "2021-11-02T13:52:53.531Z"
   },
   {
    "duration": 36,
    "start_time": "2021-11-02T13:53:02.682Z"
   },
   {
    "duration": 45,
    "start_time": "2021-11-02T13:53:05.410Z"
   },
   {
    "duration": 29,
    "start_time": "2021-11-02T13:53:11.622Z"
   },
   {
    "duration": 29,
    "start_time": "2021-11-02T13:53:14.231Z"
   },
   {
    "duration": 15,
    "start_time": "2021-11-02T13:53:19.842Z"
   },
   {
    "duration": 20,
    "start_time": "2021-11-02T13:53:20.440Z"
   },
   {
    "duration": 24,
    "start_time": "2021-11-02T13:53:20.894Z"
   },
   {
    "duration": 6,
    "start_time": "2021-11-02T13:53:21.106Z"
   },
   {
    "duration": 27,
    "start_time": "2021-11-02T13:53:21.325Z"
   },
   {
    "duration": 26,
    "start_time": "2021-11-02T13:53:21.522Z"
   },
   {
    "duration": 27,
    "start_time": "2021-11-02T13:53:21.708Z"
   },
   {
    "duration": 37,
    "start_time": "2021-11-02T13:53:21.910Z"
   },
   {
    "duration": 45,
    "start_time": "2021-11-02T13:53:22.128Z"
   },
   {
    "duration": 19,
    "start_time": "2021-11-02T13:53:22.737Z"
   },
   {
    "duration": 33,
    "start_time": "2021-11-02T13:53:22.960Z"
   },
   {
    "duration": 7,
    "start_time": "2021-11-02T13:53:23.725Z"
   },
   {
    "duration": 12,
    "start_time": "2021-11-02T13:53:24.098Z"
   },
   {
    "duration": 29,
    "start_time": "2021-11-02T13:53:24.311Z"
   },
   {
    "duration": 32,
    "start_time": "2021-11-02T13:53:24.551Z"
   },
   {
    "duration": 17,
    "start_time": "2021-11-02T13:53:24.758Z"
   },
   {
    "duration": 5,
    "start_time": "2021-11-02T13:53:24.989Z"
   },
   {
    "duration": 86,
    "start_time": "2021-11-02T13:53:25.248Z"
   },
   {
    "duration": 28,
    "start_time": "2021-11-02T13:53:25.539Z"
   },
   {
    "duration": 14,
    "start_time": "2021-11-02T13:53:25.959Z"
   },
   {
    "duration": 12,
    "start_time": "2021-11-02T13:53:26.964Z"
   },
   {
    "duration": 120,
    "start_time": "2021-11-02T14:13:40.635Z"
   },
   {
    "duration": 27,
    "start_time": "2021-11-02T14:13:44.478Z"
   },
   {
    "duration": 13,
    "start_time": "2021-11-02T14:13:55.268Z"
   },
   {
    "duration": 5,
    "start_time": "2021-11-02T14:14:02.469Z"
   },
   {
    "duration": 23,
    "start_time": "2021-11-02T14:14:04.944Z"
   },
   {
    "duration": 30,
    "start_time": "2021-11-02T14:14:08.951Z"
   },
   {
    "duration": 26,
    "start_time": "2021-11-02T14:14:12.302Z"
   },
   {
    "duration": 38,
    "start_time": "2021-11-02T14:14:42.015Z"
   },
   {
    "duration": 46,
    "start_time": "2021-11-02T14:14:42.206Z"
   },
   {
    "duration": 16,
    "start_time": "2021-11-02T14:14:42.712Z"
   },
   {
    "duration": 33,
    "start_time": "2021-11-02T14:14:42.882Z"
   },
   {
    "duration": 5,
    "start_time": "2021-11-02T14:14:43.059Z"
   },
   {
    "duration": 12,
    "start_time": "2021-11-02T14:14:43.227Z"
   },
   {
    "duration": 30,
    "start_time": "2021-11-02T14:14:43.405Z"
   },
   {
    "duration": 28,
    "start_time": "2021-11-02T14:14:43.588Z"
   },
   {
    "duration": 19,
    "start_time": "2021-11-02T14:14:43.771Z"
   },
   {
    "duration": 6,
    "start_time": "2021-11-02T14:14:43.962Z"
   },
   {
    "duration": 87,
    "start_time": "2021-11-02T14:14:44.159Z"
   },
   {
    "duration": 26,
    "start_time": "2021-11-02T14:14:44.332Z"
   },
   {
    "duration": 14,
    "start_time": "2021-11-02T14:14:44.537Z"
   },
   {
    "duration": 12,
    "start_time": "2021-11-02T14:14:44.726Z"
   },
   {
    "duration": 121,
    "start_time": "2021-11-02T14:14:45.323Z"
   },
   {
    "duration": 253,
    "start_time": "2021-11-02T14:14:45.517Z"
   },
   {
    "duration": 615,
    "start_time": "2021-11-02T14:14:45.774Z"
   },
   {
    "duration": 251,
    "start_time": "2021-11-02T14:14:46.392Z"
   },
   {
    "duration": 365,
    "start_time": "2021-11-02T14:14:46.646Z"
   },
   {
    "duration": 248,
    "start_time": "2021-11-02T14:14:47.014Z"
   },
   {
    "duration": 925,
    "start_time": "2021-11-02T14:14:47.265Z"
   },
   {
    "duration": 42,
    "start_time": "2021-11-02T14:14:48.151Z"
   },
   {
    "duration": 29,
    "start_time": "2021-11-02T14:14:48.166Z"
   },
   {
    "duration": 26,
    "start_time": "2021-11-02T14:14:48.174Z"
   },
   {
    "duration": 20,
    "start_time": "2021-11-02T14:14:48.181Z"
   },
   {
    "duration": 5,
    "start_time": "2021-11-02T14:14:48.198Z"
   },
   {
    "duration": -1,
    "start_time": "2021-11-02T14:14:48.205Z"
   },
   {
    "duration": -5,
    "start_time": "2021-11-02T14:14:48.210Z"
   },
   {
    "duration": 590,
    "start_time": "2021-11-02T14:14:48.922Z"
   },
   {
    "duration": 184,
    "start_time": "2021-11-02T14:14:49.331Z"
   },
   {
    "duration": 387,
    "start_time": "2021-11-02T14:14:49.777Z"
   },
   {
    "duration": 167,
    "start_time": "2021-11-02T14:14:50.000Z"
   },
   {
    "duration": 436,
    "start_time": "2021-11-02T14:14:50.197Z"
   },
   {
    "duration": 384,
    "start_time": "2021-11-02T14:14:54.894Z"
   },
   {
    "duration": 137,
    "start_time": "2021-11-02T14:15:30.476Z"
   },
   {
    "duration": 660,
    "start_time": "2021-11-02T14:15:34.646Z"
   },
   {
    "duration": 623,
    "start_time": "2021-11-02T14:15:39.193Z"
   },
   {
    "duration": 399,
    "start_time": "2021-11-02T14:15:43.601Z"
   },
   {
    "duration": 9,
    "start_time": "2021-11-02T14:15:49.093Z"
   },
   {
    "duration": 131,
    "start_time": "2021-11-02T15:14:57.711Z"
   },
   {
    "duration": 59,
    "start_time": "2021-11-02T15:14:57.846Z"
   },
   {
    "duration": 27,
    "start_time": "2021-11-02T15:14:57.909Z"
   },
   {
    "duration": 83,
    "start_time": "2021-11-02T15:14:57.939Z"
   },
   {
    "duration": 8,
    "start_time": "2021-11-02T15:14:58.025Z"
   },
   {
    "duration": 37,
    "start_time": "2021-11-02T15:14:58.036Z"
   },
   {
    "duration": 48,
    "start_time": "2021-11-02T15:14:58.075Z"
   },
   {
    "duration": 76,
    "start_time": "2021-11-02T15:14:58.127Z"
   },
   {
    "duration": 14,
    "start_time": "2021-11-02T15:14:58.205Z"
   },
   {
    "duration": 16,
    "start_time": "2021-11-02T15:14:58.221Z"
   },
   {
    "duration": 21,
    "start_time": "2021-11-02T15:14:58.239Z"
   },
   {
    "duration": 43,
    "start_time": "2021-11-02T15:14:58.263Z"
   },
   {
    "duration": 27,
    "start_time": "2021-11-02T15:14:58.308Z"
   },
   {
    "duration": 27,
    "start_time": "2021-11-02T15:14:58.337Z"
   },
   {
    "duration": 45,
    "start_time": "2021-11-02T15:14:58.367Z"
   },
   {
    "duration": 36,
    "start_time": "2021-11-02T15:14:58.414Z"
   },
   {
    "duration": 65,
    "start_time": "2021-11-02T15:14:58.452Z"
   },
   {
    "duration": 19,
    "start_time": "2021-11-02T15:14:58.520Z"
   },
   {
    "duration": 61,
    "start_time": "2021-11-02T15:14:58.541Z"
   },
   {
    "duration": 5,
    "start_time": "2021-11-02T15:14:58.604Z"
   },
   {
    "duration": 20,
    "start_time": "2021-11-02T15:14:58.612Z"
   },
   {
    "duration": 33,
    "start_time": "2021-11-02T15:14:58.635Z"
   },
   {
    "duration": 53,
    "start_time": "2021-11-02T15:14:58.674Z"
   },
   {
    "duration": 18,
    "start_time": "2021-11-02T15:14:58.731Z"
   },
   {
    "duration": 6,
    "start_time": "2021-11-02T15:14:58.751Z"
   },
   {
    "duration": 125,
    "start_time": "2021-11-02T15:14:58.760Z"
   },
   {
    "duration": 34,
    "start_time": "2021-11-02T15:14:58.887Z"
   },
   {
    "duration": 15,
    "start_time": "2021-11-02T15:14:58.924Z"
   },
   {
    "duration": 21,
    "start_time": "2021-11-02T15:14:58.941Z"
   },
   {
    "duration": 127,
    "start_time": "2021-11-02T15:14:58.965Z"
   },
   {
    "duration": 277,
    "start_time": "2021-11-02T15:14:59.095Z"
   },
   {
    "duration": 628,
    "start_time": "2021-11-02T15:14:59.375Z"
   },
   {
    "duration": 244,
    "start_time": "2021-11-02T15:15:00.006Z"
   },
   {
    "duration": 366,
    "start_time": "2021-11-02T15:15:00.252Z"
   },
   {
    "duration": 265,
    "start_time": "2021-11-02T15:15:00.621Z"
   },
   {
    "duration": 1049,
    "start_time": "2021-11-02T15:15:00.889Z"
   },
   {
    "duration": 145,
    "start_time": "2021-11-02T15:15:01.796Z"
   },
   {
    "duration": 11,
    "start_time": "2021-11-02T15:15:01.932Z"
   },
   {
    "duration": 0,
    "start_time": "2021-11-02T15:15:01.944Z"
   },
   {
    "duration": -3,
    "start_time": "2021-11-02T15:15:01.948Z"
   },
   {
    "duration": -4,
    "start_time": "2021-11-02T15:15:01.951Z"
   },
   {
    "duration": -6,
    "start_time": "2021-11-02T15:15:01.954Z"
   },
   {
    "duration": -7,
    "start_time": "2021-11-02T15:15:01.957Z"
   },
   {
    "duration": -11,
    "start_time": "2021-11-02T15:15:01.962Z"
   },
   {
    "duration": -12,
    "start_time": "2021-11-02T15:15:01.965Z"
   },
   {
    "duration": -14,
    "start_time": "2021-11-02T15:15:01.968Z"
   },
   {
    "duration": -15,
    "start_time": "2021-11-02T15:15:01.971Z"
   },
   {
    "duration": -18,
    "start_time": "2021-11-02T15:15:01.975Z"
   },
   {
    "duration": -20,
    "start_time": "2021-11-02T15:15:01.978Z"
   },
   {
    "duration": -22,
    "start_time": "2021-11-02T15:15:01.982Z"
   },
   {
    "duration": -24,
    "start_time": "2021-11-02T15:15:01.985Z"
   },
   {
    "duration": -28,
    "start_time": "2021-11-02T15:15:01.990Z"
   },
   {
    "duration": 6,
    "start_time": "2021-11-02T15:15:01.994Z"
   },
   {
    "duration": 3,
    "start_time": "2021-11-02T15:15:01.998Z"
   },
   {
    "duration": 2,
    "start_time": "2021-11-02T15:15:02.001Z"
   },
   {
    "duration": 0,
    "start_time": "2021-11-02T15:15:02.004Z"
   },
   {
    "duration": -3,
    "start_time": "2021-11-02T15:15:02.008Z"
   },
   {
    "duration": -5,
    "start_time": "2021-11-02T15:15:02.011Z"
   },
   {
    "duration": -7,
    "start_time": "2021-11-02T15:15:02.015Z"
   },
   {
    "duration": -9,
    "start_time": "2021-11-02T15:15:02.018Z"
   },
   {
    "duration": 5,
    "start_time": "2021-11-02T15:16:36.809Z"
   },
   {
    "duration": 8,
    "start_time": "2021-11-02T15:18:04.495Z"
   },
   {
    "duration": 294,
    "start_time": "2021-11-02T15:18:41.742Z"
   },
   {
    "duration": 3,
    "start_time": "2021-11-02T15:20:27.205Z"
   },
   {
    "duration": 3,
    "start_time": "2021-11-02T15:20:30.144Z"
   },
   {
    "duration": 323,
    "start_time": "2021-11-02T15:21:25.751Z"
   },
   {
    "duration": 317,
    "start_time": "2021-11-02T15:22:32.500Z"
   },
   {
    "duration": 460,
    "start_time": "2021-11-02T15:22:41.363Z"
   },
   {
    "duration": 373,
    "start_time": "2021-11-02T15:23:31.435Z"
   },
   {
    "duration": 432,
    "start_time": "2021-11-02T15:25:22.404Z"
   },
   {
    "duration": 313,
    "start_time": "2021-11-02T15:26:16.283Z"
   },
   {
    "duration": 102,
    "start_time": "2021-11-02T15:26:24.533Z"
   },
   {
    "duration": 227,
    "start_time": "2021-11-02T15:27:09.041Z"
   },
   {
    "duration": 248,
    "start_time": "2021-11-02T15:27:29.385Z"
   },
   {
    "duration": 221,
    "start_time": "2021-11-02T15:27:47.068Z"
   },
   {
    "duration": 246,
    "start_time": "2021-11-02T15:28:27.689Z"
   },
   {
    "duration": 237,
    "start_time": "2021-11-02T15:29:10.119Z"
   },
   {
    "duration": 221,
    "start_time": "2021-11-02T15:29:55.889Z"
   },
   {
    "duration": 44,
    "start_time": "2021-11-02T15:31:25.172Z"
   },
   {
    "duration": 781,
    "start_time": "2021-11-02T15:31:37.680Z"
   },
   {
    "duration": 630,
    "start_time": "2021-11-02T15:32:41.572Z"
   },
   {
    "duration": 610,
    "start_time": "2021-11-02T15:33:28.673Z"
   },
   {
    "duration": 613,
    "start_time": "2021-11-02T15:34:10.389Z"
   },
   {
    "duration": 613,
    "start_time": "2021-11-02T15:34:13.553Z"
   },
   {
    "duration": 99,
    "start_time": "2021-11-02T15:34:21.417Z"
   },
   {
    "duration": 99,
    "start_time": "2021-11-02T15:34:27.995Z"
   },
   {
    "duration": 239,
    "start_time": "2021-11-02T15:35:26.617Z"
   },
   {
    "duration": 53,
    "start_time": "2021-11-02T15:35:57.900Z"
   },
   {
    "duration": 12,
    "start_time": "2021-11-02T15:36:18.515Z"
   },
   {
    "duration": 418,
    "start_time": "2021-11-02T15:36:22.505Z"
   },
   {
    "duration": 413,
    "start_time": "2021-11-02T15:37:20.967Z"
   },
   {
    "duration": 426,
    "start_time": "2021-11-02T15:37:54.097Z"
   },
   {
    "duration": 405,
    "start_time": "2021-11-02T15:37:59.213Z"
   },
   {
    "duration": 407,
    "start_time": "2021-11-02T15:38:04.664Z"
   },
   {
    "duration": 455,
    "start_time": "2021-11-02T15:38:23.137Z"
   },
   {
    "duration": 391,
    "start_time": "2021-11-02T15:38:47.243Z"
   },
   {
    "duration": 120,
    "start_time": "2021-11-02T15:39:06.537Z"
   },
   {
    "duration": 28,
    "start_time": "2021-11-02T15:39:06.659Z"
   },
   {
    "duration": 27,
    "start_time": "2021-11-02T15:39:06.702Z"
   },
   {
    "duration": 89,
    "start_time": "2021-11-02T15:39:06.731Z"
   },
   {
    "duration": 7,
    "start_time": "2021-11-02T15:39:06.823Z"
   },
   {
    "duration": 68,
    "start_time": "2021-11-02T15:39:06.833Z"
   },
   {
    "duration": 31,
    "start_time": "2021-11-02T15:39:06.904Z"
   },
   {
    "duration": 77,
    "start_time": "2021-11-02T15:39:06.937Z"
   },
   {
    "duration": 9514,
    "start_time": "2021-11-02T15:39:07.019Z"
   },
   {
    "duration": 38,
    "start_time": "2021-11-02T15:39:16.500Z"
   },
   {
    "duration": 37,
    "start_time": "2021-11-02T15:39:16.503Z"
   },
   {
    "duration": 35,
    "start_time": "2021-11-02T15:39:16.506Z"
   },
   {
    "duration": 33,
    "start_time": "2021-11-02T15:39:16.509Z"
   },
   {
    "duration": 27,
    "start_time": "2021-11-02T15:39:16.517Z"
   },
   {
    "duration": 25,
    "start_time": "2021-11-02T15:39:16.520Z"
   },
   {
    "duration": 22,
    "start_time": "2021-11-02T15:39:16.524Z"
   },
   {
    "duration": 21,
    "start_time": "2021-11-02T15:39:16.527Z"
   },
   {
    "duration": 15,
    "start_time": "2021-11-02T15:39:16.534Z"
   },
   {
    "duration": -3,
    "start_time": "2021-11-02T15:39:16.553Z"
   },
   {
    "duration": -6,
    "start_time": "2021-11-02T15:39:16.557Z"
   },
   {
    "duration": -8,
    "start_time": "2021-11-02T15:39:16.561Z"
   },
   {
    "duration": -12,
    "start_time": "2021-11-02T15:39:16.566Z"
   },
   {
    "duration": -19,
    "start_time": "2021-11-02T15:39:16.574Z"
   },
   {
    "duration": -22,
    "start_time": "2021-11-02T15:39:16.578Z"
   },
   {
    "duration": -28,
    "start_time": "2021-11-02T15:39:16.586Z"
   },
   {
    "duration": -31,
    "start_time": "2021-11-02T15:39:16.590Z"
   },
   {
    "duration": -45,
    "start_time": "2021-11-02T15:39:16.605Z"
   },
   {
    "duration": -243,
    "start_time": "2021-11-02T15:39:16.804Z"
   },
   {
    "duration": -305,
    "start_time": "2021-11-02T15:39:16.868Z"
   },
   {
    "duration": -308,
    "start_time": "2021-11-02T15:39:16.872Z"
   },
   {
    "duration": -310,
    "start_time": "2021-11-02T15:39:16.875Z"
   },
   {
    "duration": -311,
    "start_time": "2021-11-02T15:39:16.878Z"
   },
   {
    "duration": -313,
    "start_time": "2021-11-02T15:39:16.881Z"
   },
   {
    "duration": -315,
    "start_time": "2021-11-02T15:39:16.884Z"
   },
   {
    "duration": -316,
    "start_time": "2021-11-02T15:39:16.887Z"
   },
   {
    "duration": -318,
    "start_time": "2021-11-02T15:39:16.891Z"
   },
   {
    "duration": -320,
    "start_time": "2021-11-02T15:39:16.894Z"
   },
   {
    "duration": -322,
    "start_time": "2021-11-02T15:39:16.898Z"
   },
   {
    "duration": -301,
    "start_time": "2021-11-02T15:39:16.901Z"
   },
   {
    "duration": -302,
    "start_time": "2021-11-02T15:39:16.904Z"
   },
   {
    "duration": -305,
    "start_time": "2021-11-02T15:39:16.908Z"
   },
   {
    "duration": -307,
    "start_time": "2021-11-02T15:39:16.911Z"
   },
   {
    "duration": -308,
    "start_time": "2021-11-02T15:39:16.914Z"
   },
   {
    "duration": -311,
    "start_time": "2021-11-02T15:39:16.918Z"
   },
   {
    "duration": -314,
    "start_time": "2021-11-02T15:39:16.923Z"
   },
   {
    "duration": -317,
    "start_time": "2021-11-02T15:39:16.927Z"
   },
   {
    "duration": -319,
    "start_time": "2021-11-02T15:39:16.931Z"
   },
   {
    "duration": -322,
    "start_time": "2021-11-02T15:39:16.935Z"
   },
   {
    "duration": -325,
    "start_time": "2021-11-02T15:39:16.939Z"
   },
   {
    "duration": -326,
    "start_time": "2021-11-02T15:39:16.942Z"
   },
   {
    "duration": -328,
    "start_time": "2021-11-02T15:39:16.945Z"
   },
   {
    "duration": -331,
    "start_time": "2021-11-02T15:39:16.949Z"
   },
   {
    "duration": -333,
    "start_time": "2021-11-02T15:39:16.952Z"
   },
   {
    "duration": -344,
    "start_time": "2021-11-02T15:39:16.965Z"
   },
   {
    "duration": -349,
    "start_time": "2021-11-02T15:39:16.971Z"
   },
   {
    "duration": -352,
    "start_time": "2021-11-02T15:39:16.975Z"
   },
   {
    "duration": -357,
    "start_time": "2021-11-02T15:39:16.981Z"
   },
   {
    "duration": -359,
    "start_time": "2021-11-02T15:39:16.985Z"
   },
   {
    "duration": -362,
    "start_time": "2021-11-02T15:39:16.989Z"
   },
   {
    "duration": -365,
    "start_time": "2021-11-02T15:39:16.993Z"
   },
   {
    "duration": -367,
    "start_time": "2021-11-02T15:39:16.996Z"
   },
   {
    "duration": 413,
    "start_time": "2021-11-02T15:39:38.061Z"
   },
   {
    "duration": 407,
    "start_time": "2021-11-02T15:39:41.635Z"
   },
   {
    "duration": 57,
    "start_time": "2021-11-02T15:39:45.305Z"
   },
   {
    "duration": 11,
    "start_time": "2021-11-02T15:39:46.058Z"
   },
   {
    "duration": 422,
    "start_time": "2021-11-02T15:39:47.099Z"
   },
   {
    "duration": 1130,
    "start_time": "2021-11-02T15:40:32.491Z"
   },
   {
    "duration": 115,
    "start_time": "2021-11-02T15:41:15.365Z"
   },
   {
    "duration": 28,
    "start_time": "2021-11-02T15:41:15.578Z"
   },
   {
    "duration": 29,
    "start_time": "2021-11-02T15:41:15.831Z"
   },
   {
    "duration": 54,
    "start_time": "2021-11-02T15:41:16.076Z"
   },
   {
    "duration": 7,
    "start_time": "2021-11-02T15:41:16.307Z"
   },
   {
    "duration": 37,
    "start_time": "2021-11-02T15:41:16.531Z"
   },
   {
    "duration": 25,
    "start_time": "2021-11-02T15:41:16.761Z"
   },
   {
    "duration": 50,
    "start_time": "2021-11-02T15:41:25.596Z"
   },
   {
    "duration": 9126,
    "start_time": "2021-11-02T15:41:31.974Z"
   },
   {
    "duration": 9395,
    "start_time": "2021-11-02T15:42:20.708Z"
   },
   {
    "duration": 13,
    "start_time": "2021-11-02T15:43:21.336Z"
   },
   {
    "duration": 121,
    "start_time": "2021-11-02T15:43:31.701Z"
   },
   {
    "duration": 15,
    "start_time": "2021-11-02T15:43:31.929Z"
   },
   {
    "duration": 167,
    "start_time": "2021-11-02T15:43:36.530Z"
   },
   {
    "duration": 7,
    "start_time": "2021-11-02T15:43:55.535Z"
   },
   {
    "duration": 8,
    "start_time": "2021-11-02T15:44:01.820Z"
   },
   {
    "duration": 53,
    "start_time": "2021-11-02T15:44:07.468Z"
   },
   {
    "duration": 22,
    "start_time": "2021-11-02T15:44:08.036Z"
   },
   {
    "duration": 5,
    "start_time": "2021-11-02T15:44:09.959Z"
   },
   {
    "duration": 26,
    "start_time": "2021-11-02T15:44:09.967Z"
   },
   {
    "duration": 29,
    "start_time": "2021-11-02T15:44:10.158Z"
   },
   {
    "duration": 25,
    "start_time": "2021-11-02T15:44:10.803Z"
   },
   {
    "duration": 34,
    "start_time": "2021-11-02T15:44:11.629Z"
   },
   {
    "duration": 46,
    "start_time": "2021-11-02T15:44:12.297Z"
   },
   {
    "duration": 20,
    "start_time": "2021-11-02T15:44:14.405Z"
   },
   {
    "duration": 32,
    "start_time": "2021-11-02T15:44:15.134Z"
   },
   {
    "duration": 5,
    "start_time": "2021-11-02T15:44:15.776Z"
   },
   {
    "duration": 12,
    "start_time": "2021-11-02T15:44:16.550Z"
   },
   {
    "duration": 32,
    "start_time": "2021-11-02T15:44:17.400Z"
   },
   {
    "duration": 28,
    "start_time": "2021-11-02T15:44:18.070Z"
   },
   {
    "duration": 64,
    "start_time": "2021-11-02T15:44:19.144Z"
   },
   {
    "duration": 73,
    "start_time": "2021-11-02T15:44:20.054Z"
   },
   {
    "duration": 27,
    "start_time": "2021-11-02T15:44:20.674Z"
   },
   {
    "duration": 15,
    "start_time": "2021-11-02T15:44:21.871Z"
   },
   {
    "duration": 14,
    "start_time": "2021-11-02T15:44:22.761Z"
   },
   {
    "duration": 295,
    "start_time": "2021-11-02T15:44:26.623Z"
   },
   {
    "duration": 448,
    "start_time": "2021-11-02T15:44:28.397Z"
   },
   {
    "duration": 270,
    "start_time": "2021-11-02T15:44:29.674Z"
   },
   {
    "duration": 297,
    "start_time": "2021-11-02T15:44:30.968Z"
   },
   {
    "duration": 299,
    "start_time": "2021-11-02T15:44:32.570Z"
   },
   {
    "duration": 98,
    "start_time": "2021-11-02T15:44:33.115Z"
   },
   {
    "duration": 239,
    "start_time": "2021-11-02T15:44:35.148Z"
   },
   {
    "duration": 325,
    "start_time": "2021-11-02T15:44:36.257Z"
   },
   {
    "duration": 217,
    "start_time": "2021-11-02T15:44:36.869Z"
   },
   {
    "duration": 242,
    "start_time": "2021-11-02T15:44:37.414Z"
   },
   {
    "duration": 237,
    "start_time": "2021-11-02T15:44:38.074Z"
   },
   {
    "duration": 44,
    "start_time": "2021-11-02T15:44:38.703Z"
   },
   {
    "duration": 607,
    "start_time": "2021-11-02T15:44:39.559Z"
   },
   {
    "duration": 583,
    "start_time": "2021-11-02T15:44:41.354Z"
   },
   {
    "duration": 563,
    "start_time": "2021-11-02T15:44:42.551Z"
   },
   {
    "duration": 92,
    "start_time": "2021-11-02T15:44:43.541Z"
   },
   {
    "duration": 91,
    "start_time": "2021-11-02T15:44:44.412Z"
   },
   {
    "duration": 457,
    "start_time": "2021-11-02T15:44:45.457Z"
   },
   {
    "duration": 232,
    "start_time": "2021-11-02T15:44:47.044Z"
   },
   {
    "duration": 9,
    "start_time": "2021-11-02T15:44:48.213Z"
   },
   {
    "duration": 424,
    "start_time": "2021-11-02T15:44:51.561Z"
   },
   {
    "duration": 55,
    "start_time": "2021-11-02T15:44:53.298Z"
   },
   {
    "duration": 13,
    "start_time": "2021-11-02T15:44:54.336Z"
   },
   {
    "duration": 404,
    "start_time": "2021-11-02T15:44:55.525Z"
   },
   {
    "duration": 436,
    "start_time": "2021-11-02T15:45:02.628Z"
   },
   {
    "duration": 511,
    "start_time": "2021-11-02T15:45:09.841Z"
   },
   {
    "duration": 24,
    "start_time": "2021-11-02T15:48:31.101Z"
   },
   {
    "duration": 57252,
    "start_time": "2021-11-02T15:51:07.179Z"
   },
   {
    "duration": 1167,
    "start_time": "2021-11-02T15:55:33.824Z"
   },
   {
    "duration": 158,
    "start_time": "2021-11-02T17:32:35.441Z"
   },
   {
    "duration": 28,
    "start_time": "2021-11-02T17:32:35.601Z"
   },
   {
    "duration": 32,
    "start_time": "2021-11-02T17:32:35.632Z"
   },
   {
    "duration": 90,
    "start_time": "2021-11-02T17:32:35.667Z"
   },
   {
    "duration": 7,
    "start_time": "2021-11-02T17:32:35.761Z"
   },
   {
    "duration": 39,
    "start_time": "2021-11-02T17:32:35.802Z"
   },
   {
    "duration": 24,
    "start_time": "2021-11-02T17:32:35.843Z"
   },
   {
    "duration": 106,
    "start_time": "2021-11-02T17:32:35.869Z"
   },
   {
    "duration": 15773,
    "start_time": "2021-11-02T17:32:36.002Z"
   },
   {
    "duration": 525,
    "start_time": "2021-11-02T17:32:51.257Z"
   },
   {
    "duration": 511,
    "start_time": "2021-11-02T17:32:51.273Z"
   },
   {
    "duration": 497,
    "start_time": "2021-11-02T17:32:51.289Z"
   },
   {
    "duration": 492,
    "start_time": "2021-11-02T17:32:51.296Z"
   },
   {
    "duration": 487,
    "start_time": "2021-11-02T17:32:51.303Z"
   },
   {
    "duration": 483,
    "start_time": "2021-11-02T17:32:51.309Z"
   },
   {
    "duration": 480,
    "start_time": "2021-11-02T17:32:51.315Z"
   },
   {
    "duration": 477,
    "start_time": "2021-11-02T17:32:51.320Z"
   },
   {
    "duration": 475,
    "start_time": "2021-11-02T17:32:51.324Z"
   },
   {
    "duration": 472,
    "start_time": "2021-11-02T17:32:51.329Z"
   },
   {
    "duration": 469,
    "start_time": "2021-11-02T17:32:51.334Z"
   },
   {
    "duration": 468,
    "start_time": "2021-11-02T17:32:51.337Z"
   },
   {
    "duration": 466,
    "start_time": "2021-11-02T17:32:51.341Z"
   },
   {
    "duration": 464,
    "start_time": "2021-11-02T17:32:51.345Z"
   },
   {
    "duration": 456,
    "start_time": "2021-11-02T17:32:51.355Z"
   },
   {
    "duration": 455,
    "start_time": "2021-11-02T17:32:51.358Z"
   },
   {
    "duration": 454,
    "start_time": "2021-11-02T17:32:51.362Z"
   },
   {
    "duration": 453,
    "start_time": "2021-11-02T17:32:51.365Z"
   },
   {
    "duration": 441,
    "start_time": "2021-11-02T17:32:51.379Z"
   },
   {
    "duration": 426,
    "start_time": "2021-11-02T17:32:51.396Z"
   },
   {
    "duration": 424,
    "start_time": "2021-11-02T17:32:51.400Z"
   },
   {
    "duration": 424,
    "start_time": "2021-11-02T17:32:51.402Z"
   },
   {
    "duration": 421,
    "start_time": "2021-11-02T17:32:51.407Z"
   },
   {
    "duration": 421,
    "start_time": "2021-11-02T17:32:51.410Z"
   },
   {
    "duration": 418,
    "start_time": "2021-11-02T17:32:51.415Z"
   },
   {
    "duration": 416,
    "start_time": "2021-11-02T17:32:51.419Z"
   },
   {
    "duration": 414,
    "start_time": "2021-11-02T17:32:51.423Z"
   },
   {
    "duration": 202,
    "start_time": "2021-11-02T17:32:51.637Z"
   },
   {
    "duration": 201,
    "start_time": "2021-11-02T17:32:51.640Z"
   },
   {
    "duration": 260,
    "start_time": "2021-11-02T17:32:51.643Z"
   },
   {
    "duration": 260,
    "start_time": "2021-11-02T17:32:51.646Z"
   },
   {
    "duration": 259,
    "start_time": "2021-11-02T17:32:51.649Z"
   },
   {
    "duration": 258,
    "start_time": "2021-11-02T17:32:51.653Z"
   },
   {
    "duration": 256,
    "start_time": "2021-11-02T17:32:51.657Z"
   },
   {
    "duration": 255,
    "start_time": "2021-11-02T17:32:51.660Z"
   },
   {
    "duration": 255,
    "start_time": "2021-11-02T17:32:51.662Z"
   },
   {
    "duration": 255,
    "start_time": "2021-11-02T17:32:51.665Z"
   },
   {
    "duration": 254,
    "start_time": "2021-11-02T17:32:51.668Z"
   },
   {
    "duration": 253,
    "start_time": "2021-11-02T17:32:51.671Z"
   },
   {
    "duration": 252,
    "start_time": "2021-11-02T17:32:51.674Z"
   },
   {
    "duration": 253,
    "start_time": "2021-11-02T17:32:51.676Z"
   },
   {
    "duration": 252,
    "start_time": "2021-11-02T17:32:51.679Z"
   },
   {
    "duration": 253,
    "start_time": "2021-11-02T17:32:51.681Z"
   },
   {
    "duration": 318,
    "start_time": "2021-11-02T17:32:51.684Z"
   },
   {
    "duration": 317,
    "start_time": "2021-11-02T17:32:51.687Z"
   },
   {
    "duration": 317,
    "start_time": "2021-11-02T17:32:51.689Z"
   },
   {
    "duration": 317,
    "start_time": "2021-11-02T17:32:51.692Z"
   },
   {
    "duration": 317,
    "start_time": "2021-11-02T17:32:51.694Z"
   },
   {
    "duration": 316,
    "start_time": "2021-11-02T17:32:51.697Z"
   },
   {
    "duration": 308,
    "start_time": "2021-11-02T17:32:51.707Z"
   },
   {
    "duration": 305,
    "start_time": "2021-11-02T17:32:51.712Z"
   },
   {
    "duration": 301,
    "start_time": "2021-11-02T17:32:51.718Z"
   },
   {
    "duration": 297,
    "start_time": "2021-11-02T17:32:51.723Z"
   },
   {
    "duration": 148,
    "start_time": "2021-11-02T17:34:22.553Z"
   },
   {
    "duration": 580,
    "start_time": "2021-11-02T17:34:32.117Z"
   },
   {
    "duration": 27,
    "start_time": "2021-11-02T17:34:36.859Z"
   },
   {
    "duration": 28,
    "start_time": "2021-11-02T17:34:41.713Z"
   },
   {
    "duration": 54,
    "start_time": "2021-11-02T17:34:43.484Z"
   },
   {
    "duration": 7,
    "start_time": "2021-11-02T17:34:44.263Z"
   },
   {
    "duration": 38,
    "start_time": "2021-11-02T17:34:44.928Z"
   },
   {
    "duration": 24,
    "start_time": "2021-11-02T17:34:45.731Z"
   },
   {
    "duration": 53,
    "start_time": "2021-11-02T17:34:48.528Z"
   },
   {
    "duration": 9716,
    "start_time": "2021-11-02T17:34:49.465Z"
   },
   {
    "duration": 490,
    "start_time": "2021-11-02T17:34:58.694Z"
   },
   {
    "duration": 478,
    "start_time": "2021-11-02T17:34:58.708Z"
   },
   {
    "duration": 10306,
    "start_time": "2021-11-02T17:35:32.124Z"
   },
   {
    "duration": 12,
    "start_time": "2021-11-02T17:36:01.005Z"
   },
   {
    "duration": 569,
    "start_time": "2021-11-02T17:36:18.793Z"
   },
   {
    "duration": 553,
    "start_time": "2021-11-02T17:36:18.811Z"
   },
   {
    "duration": 549,
    "start_time": "2021-11-02T17:36:18.816Z"
   },
   {
    "duration": 544,
    "start_time": "2021-11-02T17:36:18.822Z"
   },
   {
    "duration": 541,
    "start_time": "2021-11-02T17:36:18.827Z"
   },
   {
    "duration": 9663,
    "start_time": "2021-11-02T17:36:22.677Z"
   },
   {
    "duration": 46,
    "start_time": "2021-11-02T17:36:39.209Z"
   },
   {
    "duration": 31,
    "start_time": "2021-11-02T17:36:46.443Z"
   },
   {
    "duration": 5,
    "start_time": "2021-11-02T17:36:47.936Z"
   },
   {
    "duration": 23,
    "start_time": "2021-11-02T17:36:50.405Z"
   },
   {
    "duration": 26,
    "start_time": "2021-11-02T17:36:51.935Z"
   },
   {
    "duration": 28,
    "start_time": "2021-11-02T17:36:56.150Z"
   },
   {
    "duration": 37,
    "start_time": "2021-11-02T17:36:58.296Z"
   },
   {
    "duration": 41,
    "start_time": "2021-11-02T17:36:59.252Z"
   },
   {
    "duration": 19,
    "start_time": "2021-11-02T17:37:03.782Z"
   },
   {
    "duration": 32,
    "start_time": "2021-11-02T17:37:04.525Z"
   },
   {
    "duration": 6,
    "start_time": "2021-11-02T17:37:09.475Z"
   },
   {
    "duration": 12,
    "start_time": "2021-11-02T17:37:10.271Z"
   },
   {
    "duration": 30,
    "start_time": "2021-11-02T17:37:11.402Z"
   },
   {
    "duration": 27,
    "start_time": "2021-11-02T17:37:16.309Z"
   },
   {
    "duration": 61,
    "start_time": "2021-11-02T17:37:24.770Z"
   },
   {
    "duration": 67,
    "start_time": "2021-11-02T17:37:26.073Z"
   },
   {
    "duration": 29,
    "start_time": "2021-11-02T17:37:26.794Z"
   },
   {
    "duration": 15,
    "start_time": "2021-11-02T17:37:27.736Z"
   },
   {
    "duration": 15,
    "start_time": "2021-11-02T17:37:27.985Z"
   },
   {
    "duration": 56,
    "start_time": "2021-11-02T17:37:47.772Z"
   },
   {
    "duration": 615,
    "start_time": "2021-11-02T17:37:49.101Z"
   },
   {
    "duration": 697,
    "start_time": "2021-11-02T17:37:51.296Z"
   },
   {
    "duration": 363,
    "start_time": "2021-11-02T17:37:58.093Z"
   },
   {
    "duration": 21,
    "start_time": "2021-11-02T17:38:04.847Z"
   },
   {
    "duration": 40,
    "start_time": "2021-11-02T17:38:27.119Z"
   },
   {
    "duration": 49979,
    "start_time": "2021-11-02T17:38:49.072Z"
   },
   {
    "duration": 57,
    "start_time": "2021-11-02T17:39:39.053Z"
   },
   {
    "duration": 450,
    "start_time": "2021-11-02T17:45:40.066Z"
   },
   {
    "duration": 25,
    "start_time": "2021-11-02T17:45:40.519Z"
   },
   {
    "duration": 152588,
    "start_time": "2021-11-02T17:45:40.546Z"
   },
   {
    "duration": 49149,
    "start_time": "2021-11-02T17:48:51.002Z"
   },
   {
    "duration": 50280,
    "start_time": "2021-11-02T17:50:45.169Z"
   },
   {
    "duration": 369,
    "start_time": "2021-11-02T17:54:07.159Z"
   },
   {
    "duration": 419,
    "start_time": "2021-11-02T17:54:15.746Z"
   },
   {
    "duration": 52958,
    "start_time": "2021-11-02T17:54:31.173Z"
   },
   {
    "duration": 2901,
    "start_time": "2021-11-02T17:55:24.133Z"
   },
   {
    "duration": 11354,
    "start_time": "2021-11-02T17:55:45.189Z"
   },
   {
    "duration": 126,
    "start_time": "2021-11-02T17:56:24.449Z"
   },
   {
    "duration": 373,
    "start_time": "2021-11-02T17:56:34.745Z"
   },
   {
    "duration": 50772,
    "start_time": "2021-11-02T17:56:49.706Z"
   },
   {
    "duration": 1773,
    "start_time": "2021-11-03T08:17:41.777Z"
   },
   {
    "duration": 34,
    "start_time": "2021-11-03T08:17:43.552Z"
   },
   {
    "duration": 45,
    "start_time": "2021-11-03T08:17:43.589Z"
   },
   {
    "duration": 57,
    "start_time": "2021-11-03T08:17:43.637Z"
   },
   {
    "duration": 9,
    "start_time": "2021-11-03T08:17:43.707Z"
   },
   {
    "duration": 57,
    "start_time": "2021-11-03T08:17:43.718Z"
   },
   {
    "duration": 32,
    "start_time": "2021-11-03T08:17:43.778Z"
   },
   {
    "duration": 54,
    "start_time": "2021-11-03T08:17:43.812Z"
   },
   {
    "duration": 12,
    "start_time": "2021-11-03T08:17:43.870Z"
   },
   {
    "duration": 76,
    "start_time": "2021-11-03T08:17:43.886Z"
   },
   {
    "duration": 21,
    "start_time": "2021-11-03T08:17:43.964Z"
   },
   {
    "duration": 22,
    "start_time": "2021-11-03T08:17:43.987Z"
   },
   {
    "duration": 34,
    "start_time": "2021-11-03T08:17:44.011Z"
   },
   {
    "duration": 27,
    "start_time": "2021-11-03T08:17:44.047Z"
   },
   {
    "duration": 41,
    "start_time": "2021-11-03T08:17:44.076Z"
   },
   {
    "duration": 34,
    "start_time": "2021-11-03T08:17:44.120Z"
   },
   {
    "duration": 59,
    "start_time": "2021-11-03T08:17:44.156Z"
   },
   {
    "duration": 19,
    "start_time": "2021-11-03T08:17:44.217Z"
   },
   {
    "duration": 31,
    "start_time": "2021-11-03T08:17:44.238Z"
   },
   {
    "duration": 5,
    "start_time": "2021-11-03T08:17:44.272Z"
   },
   {
    "duration": 36,
    "start_time": "2021-11-03T08:17:44.278Z"
   },
   {
    "duration": 36,
    "start_time": "2021-11-03T08:17:44.315Z"
   },
   {
    "duration": 22,
    "start_time": "2021-11-03T08:17:44.353Z"
   },
   {
    "duration": 54,
    "start_time": "2021-11-03T08:17:44.376Z"
   },
   {
    "duration": 49,
    "start_time": "2021-11-03T08:17:44.432Z"
   },
   {
    "duration": 54,
    "start_time": "2021-11-03T08:17:44.483Z"
   },
   {
    "duration": 24,
    "start_time": "2021-11-03T08:17:44.543Z"
   },
   {
    "duration": 25,
    "start_time": "2021-11-03T08:17:44.569Z"
   },
   {
    "duration": 216,
    "start_time": "2021-11-03T08:17:44.596Z"
   },
   {
    "duration": 199,
    "start_time": "2021-11-03T08:17:44.814Z"
   },
   {
    "duration": 191,
    "start_time": "2021-11-03T08:17:45.015Z"
   },
   {
    "duration": 203,
    "start_time": "2021-11-03T08:17:45.208Z"
   },
   {
    "duration": 199,
    "start_time": "2021-11-03T08:17:45.413Z"
   },
   {
    "duration": 65,
    "start_time": "2021-11-03T08:17:45.613Z"
   },
   {
    "duration": 175,
    "start_time": "2021-11-03T08:17:45.679Z"
   },
   {
    "duration": 160,
    "start_time": "2021-11-03T08:17:45.856Z"
   },
   {
    "duration": 216,
    "start_time": "2021-11-03T08:17:46.018Z"
   },
   {
    "duration": 170,
    "start_time": "2021-11-03T08:17:46.236Z"
   },
   {
    "duration": 154,
    "start_time": "2021-11-03T08:17:46.408Z"
   },
   {
    "duration": 28,
    "start_time": "2021-11-03T08:17:46.564Z"
   },
   {
    "duration": 420,
    "start_time": "2021-11-03T08:17:46.594Z"
   },
   {
    "duration": 397,
    "start_time": "2021-11-03T08:17:47.016Z"
   },
   {
    "duration": 404,
    "start_time": "2021-11-03T08:17:47.415Z"
   },
   {
    "duration": 104,
    "start_time": "2021-11-03T08:17:47.821Z"
   },
   {
    "duration": 96,
    "start_time": "2021-11-03T08:17:47.927Z"
   },
   {
    "duration": 259,
    "start_time": "2021-11-03T08:17:48.026Z"
   },
   {
    "duration": 161,
    "start_time": "2021-11-03T08:17:48.287Z"
   },
   {
    "duration": 7,
    "start_time": "2021-11-03T08:17:48.451Z"
   },
   {
    "duration": 387,
    "start_time": "2021-11-03T08:17:48.460Z"
   },
   {
    "duration": 67,
    "start_time": "2021-11-03T08:17:48.851Z"
   },
   {
    "duration": 11,
    "start_time": "2021-11-03T08:17:48.921Z"
   },
   {
    "duration": 425,
    "start_time": "2021-11-03T08:17:48.935Z"
   },
   {
    "duration": 49,
    "start_time": "2021-11-03T08:17:49.363Z"
   },
   {
    "duration": 54293,
    "start_time": "2021-11-03T08:17:49.415Z"
   },
   {
    "duration": 765,
    "start_time": "2021-11-03T08:18:43.710Z"
   },
   {
    "duration": 807,
    "start_time": "2021-11-03T08:18:44.477Z"
   },
   {
    "duration": 11,
    "start_time": "2021-11-03T08:18:45.285Z"
   },
   {
    "duration": 570,
    "start_time": "2021-11-03T08:18:45.306Z"
   },
   {
    "duration": 8,
    "start_time": "2021-11-03T08:18:45.877Z"
   },
   {
    "duration": 26,
    "start_time": "2021-11-03T08:18:45.887Z"
   },
   {
    "duration": 980,
    "start_time": "2021-11-03T08:18:45.915Z"
   },
   {
    "duration": 17,
    "start_time": "2021-11-03T08:18:46.897Z"
   },
   {
    "duration": 428,
    "start_time": "2021-11-03T08:27:38.462Z"
   },
   {
    "duration": 422,
    "start_time": "2021-11-03T08:27:59.312Z"
   },
   {
    "duration": 438,
    "start_time": "2021-11-03T08:29:25.310Z"
   },
   {
    "duration": 39,
    "start_time": "2021-11-03T08:31:34.886Z"
   },
   {
    "duration": 49,
    "start_time": "2021-11-03T08:31:40.487Z"
   },
   {
    "duration": 61,
    "start_time": "2021-11-03T08:32:12.866Z"
   },
   {
    "duration": 72,
    "start_time": "2021-11-03T08:32:17.246Z"
   },
   {
    "duration": 1624,
    "start_time": "2021-11-03T08:32:41.355Z"
   },
   {
    "duration": 33,
    "start_time": "2021-11-03T08:32:42.982Z"
   },
   {
    "duration": 207,
    "start_time": "2021-11-03T08:32:43.018Z"
   },
   {
    "duration": 60,
    "start_time": "2021-11-03T08:32:43.244Z"
   },
   {
    "duration": 8,
    "start_time": "2021-11-03T08:32:43.852Z"
   },
   {
    "duration": 39,
    "start_time": "2021-11-03T08:32:44.386Z"
   },
   {
    "duration": 33,
    "start_time": "2021-11-03T08:32:45.028Z"
   },
   {
    "duration": 45,
    "start_time": "2021-11-03T08:32:48.041Z"
   },
   {
    "duration": 12,
    "start_time": "2021-11-03T08:32:48.622Z"
   },
   {
    "duration": 48,
    "start_time": "2021-11-03T08:32:49.406Z"
   },
   {
    "duration": 21,
    "start_time": "2021-11-03T08:32:50.351Z"
   },
   {
    "duration": 5,
    "start_time": "2021-11-03T08:32:51.208Z"
   },
   {
    "duration": 21,
    "start_time": "2021-11-03T08:32:52.073Z"
   },
   {
    "duration": 28,
    "start_time": "2021-11-03T08:32:53.589Z"
   },
   {
    "duration": 28,
    "start_time": "2021-11-03T08:32:54.632Z"
   },
   {
    "duration": 36,
    "start_time": "2021-11-03T08:32:55.693Z"
   },
   {
    "duration": 47,
    "start_time": "2021-11-03T08:32:56.912Z"
   },
   {
    "duration": 14,
    "start_time": "2021-11-03T08:33:00.434Z"
   },
   {
    "duration": 23,
    "start_time": "2021-11-03T08:33:01.384Z"
   },
   {
    "duration": 4,
    "start_time": "2021-11-03T08:33:02.879Z"
   },
   {
    "duration": 10,
    "start_time": "2021-11-03T08:33:04.353Z"
   },
   {
    "duration": 25,
    "start_time": "2021-11-03T08:33:05.498Z"
   },
   {
    "duration": 20,
    "start_time": "2021-11-03T08:33:06.728Z"
   },
   {
    "duration": 45,
    "start_time": "2021-11-03T08:33:08.572Z"
   },
   {
    "duration": 44,
    "start_time": "2021-11-03T08:33:10.615Z"
   },
   {
    "duration": 48,
    "start_time": "2021-11-03T08:35:32.885Z"
   },
   {
    "duration": 22,
    "start_time": "2021-11-03T08:36:05.920Z"
   },
   {
    "duration": 6,
    "start_time": "2021-11-03T08:36:30.199Z"
   },
   {
    "duration": 53,
    "start_time": "2021-11-03T08:36:35.311Z"
   },
   {
    "duration": 531,
    "start_time": "2021-11-03T08:36:59.176Z"
   },
   {
    "duration": 1579,
    "start_time": "2021-11-03T08:37:22.229Z"
   },
   {
    "duration": 100,
    "start_time": "2021-11-03T08:37:37.756Z"
   },
   {
    "duration": 21,
    "start_time": "2021-11-03T08:38:49.562Z"
   },
   {
    "duration": 40,
    "start_time": "2021-11-03T08:38:56.250Z"
   },
   {
    "duration": 19,
    "start_time": "2021-11-03T08:39:18.005Z"
   },
   {
    "duration": 15,
    "start_time": "2021-11-03T08:39:34.564Z"
   },
   {
    "duration": 15,
    "start_time": "2021-11-03T08:39:45.617Z"
   },
   {
    "duration": 92,
    "start_time": "2021-11-03T08:39:50.568Z"
   },
   {
    "duration": 16,
    "start_time": "2021-11-03T08:39:53.194Z"
   },
   {
    "duration": 9,
    "start_time": "2021-11-03T08:40:08.386Z"
   },
   {
    "duration": 29,
    "start_time": "2021-11-03T08:40:15.135Z"
   },
   {
    "duration": 14,
    "start_time": "2021-11-03T08:40:22.638Z"
   },
   {
    "duration": 411,
    "start_time": "2021-11-03T08:40:43.696Z"
   },
   {
    "duration": 98,
    "start_time": "2021-11-03T08:40:48.948Z"
   },
   {
    "duration": 15,
    "start_time": "2021-11-03T08:40:50.239Z"
   },
   {
    "duration": 15,
    "start_time": "2021-11-03T08:40:57.180Z"
   },
   {
    "duration": 28,
    "start_time": "2021-11-03T08:41:02.672Z"
   },
   {
    "duration": 14,
    "start_time": "2021-11-03T08:41:17.931Z"
   },
   {
    "duration": 15,
    "start_time": "2021-11-03T08:41:25.770Z"
   },
   {
    "duration": 3,
    "start_time": "2021-11-03T08:41:26.548Z"
   },
   {
    "duration": 17,
    "start_time": "2021-11-03T08:41:27.441Z"
   },
   {
    "duration": 21,
    "start_time": "2021-11-03T08:41:28.472Z"
   },
   {
    "duration": 20,
    "start_time": "2021-11-03T08:41:29.388Z"
   },
   {
    "duration": 23,
    "start_time": "2021-11-03T08:41:30.398Z"
   },
   {
    "duration": 30,
    "start_time": "2021-11-03T08:41:31.561Z"
   },
   {
    "duration": 14,
    "start_time": "2021-11-03T08:41:34.432Z"
   },
   {
    "duration": 22,
    "start_time": "2021-11-03T08:41:35.059Z"
   },
   {
    "duration": 4,
    "start_time": "2021-11-03T08:41:35.900Z"
   },
   {
    "duration": 9,
    "start_time": "2021-11-03T08:41:37.763Z"
   },
   {
    "duration": 42,
    "start_time": "2021-11-03T08:41:37.774Z"
   },
   {
    "duration": 18,
    "start_time": "2021-11-03T08:41:39.291Z"
   },
   {
    "duration": 19,
    "start_time": "2021-11-03T08:41:48.677Z"
   },
   {
    "duration": 51,
    "start_time": "2021-11-03T08:41:54.948Z"
   },
   {
    "duration": 20,
    "start_time": "2021-11-03T08:44:00.434Z"
   },
   {
    "duration": 11,
    "start_time": "2021-11-03T08:44:13.320Z"
   },
   {
    "duration": 55,
    "start_time": "2021-11-03T08:44:18.274Z"
   },
   {
    "duration": 20,
    "start_time": "2021-11-03T08:45:11.132Z"
   },
   {
    "duration": 13,
    "start_time": "2021-11-03T08:45:15.337Z"
   },
   {
    "duration": 55,
    "start_time": "2021-11-03T08:45:45.048Z"
   },
   {
    "duration": 164,
    "start_time": "2021-11-03T08:46:08.044Z"
   },
   {
    "duration": 370,
    "start_time": "2021-11-03T08:46:22.791Z"
   },
   {
    "duration": 34,
    "start_time": "2021-11-03T08:47:55.749Z"
   },
   {
    "duration": 398,
    "start_time": "2021-11-03T08:48:02.832Z"
   },
   {
    "duration": 40,
    "start_time": "2021-11-03T08:48:21.232Z"
   },
   {
    "duration": 8,
    "start_time": "2021-11-03T08:48:41.331Z"
   },
   {
    "duration": 264,
    "start_time": "2021-11-03T08:48:41.883Z"
   },
   {
    "duration": 32,
    "start_time": "2021-11-03T08:49:12.003Z"
   },
   {
    "duration": 373,
    "start_time": "2021-11-03T08:49:28.264Z"
   },
   {
    "duration": 72,
    "start_time": "2021-11-03T08:49:35.685Z"
   },
   {
    "duration": 17,
    "start_time": "2021-11-03T08:50:28.002Z"
   },
   {
    "duration": 58,
    "start_time": "2021-11-03T08:50:49.289Z"
   },
   {
    "duration": 27,
    "start_time": "2021-11-03T08:51:14.825Z"
   },
   {
    "duration": 388,
    "start_time": "2021-11-03T08:51:24.166Z"
   },
   {
    "duration": 369,
    "start_time": "2021-11-03T08:51:24.913Z"
   },
   {
    "duration": 879,
    "start_time": "2021-11-03T08:51:29.690Z"
   },
   {
    "duration": 66,
    "start_time": "2021-11-03T08:51:31.856Z"
   },
   {
    "duration": 53,
    "start_time": "2021-11-03T08:51:47.622Z"
   },
   {
    "duration": 626,
    "start_time": "2021-11-03T08:52:01.510Z"
   },
   {
    "duration": 357,
    "start_time": "2021-11-03T08:52:38.930Z"
   },
   {
    "duration": 12,
    "start_time": "2021-11-03T08:53:17.672Z"
   },
   {
    "duration": 8,
    "start_time": "2021-11-03T08:53:18.246Z"
   },
   {
    "duration": 326,
    "start_time": "2021-11-03T08:53:26.519Z"
   },
   {
    "duration": 69,
    "start_time": "2021-11-03T08:54:01.395Z"
   },
   {
    "duration": 242,
    "start_time": "2021-11-03T08:54:12.977Z"
   },
   {
    "duration": 386,
    "start_time": "2021-11-03T08:54:35.284Z"
   },
   {
    "duration": 4,
    "start_time": "2021-11-03T08:54:35.988Z"
   },
   {
    "duration": 345,
    "start_time": "2021-11-03T08:54:41.719Z"
   },
   {
    "duration": 94,
    "start_time": "2021-11-03T08:55:02.365Z"
   },
   {
    "duration": 15,
    "start_time": "2021-11-03T08:55:02.461Z"
   },
   {
    "duration": 29,
    "start_time": "2021-11-03T08:55:02.478Z"
   },
   {
    "duration": 39,
    "start_time": "2021-11-03T08:55:02.509Z"
   },
   {
    "duration": 6,
    "start_time": "2021-11-03T08:55:02.550Z"
   },
   {
    "duration": 50,
    "start_time": "2021-11-03T08:55:02.558Z"
   },
   {
    "duration": 19,
    "start_time": "2021-11-03T08:55:02.610Z"
   },
   {
    "duration": 39,
    "start_time": "2021-11-03T08:55:02.632Z"
   },
   {
    "duration": 36,
    "start_time": "2021-11-03T08:55:02.673Z"
   },
   {
    "duration": 45,
    "start_time": "2021-11-03T08:55:02.711Z"
   },
   {
    "duration": 21,
    "start_time": "2021-11-03T08:55:02.758Z"
   },
   {
    "duration": 28,
    "start_time": "2021-11-03T08:55:02.781Z"
   },
   {
    "duration": 33,
    "start_time": "2021-11-03T08:55:02.810Z"
   },
   {
    "duration": 18,
    "start_time": "2021-11-03T08:55:02.845Z"
   },
   {
    "duration": 18,
    "start_time": "2021-11-03T08:55:02.865Z"
   },
   {
    "duration": 44,
    "start_time": "2021-11-03T08:55:02.885Z"
   },
   {
    "duration": 29,
    "start_time": "2021-11-03T08:55:02.931Z"
   },
   {
    "duration": 49,
    "start_time": "2021-11-03T08:55:02.962Z"
   },
   {
    "duration": 24,
    "start_time": "2021-11-03T08:55:03.012Z"
   },
   {
    "duration": 21,
    "start_time": "2021-11-03T08:55:03.037Z"
   },
   {
    "duration": 47,
    "start_time": "2021-11-03T08:55:03.060Z"
   },
   {
    "duration": 25,
    "start_time": "2021-11-03T08:55:03.109Z"
   },
   {
    "duration": 20,
    "start_time": "2021-11-03T08:55:03.140Z"
   },
   {
    "duration": 43,
    "start_time": "2021-11-03T08:55:03.163Z"
   },
   {
    "duration": 51,
    "start_time": "2021-11-03T08:55:03.209Z"
   },
   {
    "duration": 20,
    "start_time": "2021-11-03T08:55:03.262Z"
   },
   {
    "duration": 31,
    "start_time": "2021-11-03T08:55:03.284Z"
   },
   {
    "duration": 21,
    "start_time": "2021-11-03T08:55:03.317Z"
   },
   {
    "duration": 205,
    "start_time": "2021-11-03T08:55:03.340Z"
   },
   {
    "duration": 206,
    "start_time": "2021-11-03T08:55:03.547Z"
   },
   {
    "duration": 205,
    "start_time": "2021-11-03T08:55:03.755Z"
   },
   {
    "duration": 212,
    "start_time": "2021-11-03T08:55:03.962Z"
   },
   {
    "duration": 194,
    "start_time": "2021-11-03T08:55:04.176Z"
   },
   {
    "duration": 82,
    "start_time": "2021-11-03T08:55:04.372Z"
   },
   {
    "duration": 164,
    "start_time": "2021-11-03T08:55:04.456Z"
   },
   {
    "duration": 162,
    "start_time": "2021-11-03T08:55:04.622Z"
   },
   {
    "duration": 184,
    "start_time": "2021-11-03T08:55:04.786Z"
   },
   {
    "duration": 181,
    "start_time": "2021-11-03T08:55:04.972Z"
   },
   {
    "duration": 161,
    "start_time": "2021-11-03T08:55:05.155Z"
   },
   {
    "duration": 29,
    "start_time": "2021-11-03T08:55:05.317Z"
   },
   {
    "duration": 415,
    "start_time": "2021-11-03T08:55:05.348Z"
   },
   {
    "duration": 417,
    "start_time": "2021-11-03T08:55:05.765Z"
   },
   {
    "duration": 416,
    "start_time": "2021-11-03T08:55:06.185Z"
   },
   {
    "duration": 76,
    "start_time": "2021-11-03T08:55:06.606Z"
   },
   {
    "duration": 83,
    "start_time": "2021-11-03T08:55:06.684Z"
   },
   {
    "duration": 249,
    "start_time": "2021-11-03T08:55:06.769Z"
   },
   {
    "duration": 165,
    "start_time": "2021-11-03T08:55:07.019Z"
   },
   {
    "duration": 6,
    "start_time": "2021-11-03T08:55:07.186Z"
   },
   {
    "duration": 290,
    "start_time": "2021-11-03T08:55:07.194Z"
   },
   {
    "duration": 66,
    "start_time": "2021-11-03T08:55:07.487Z"
   },
   {
    "duration": 10,
    "start_time": "2021-11-03T08:55:07.556Z"
   },
   {
    "duration": 417,
    "start_time": "2021-11-03T08:55:07.569Z"
   },
   {
    "duration": 61,
    "start_time": "2021-11-03T08:55:07.989Z"
   },
   {
    "duration": 461,
    "start_time": "2021-11-03T08:55:08.052Z"
   },
   {
    "duration": 439,
    "start_time": "2021-11-03T08:55:08.515Z"
   },
   {
    "duration": 433,
    "start_time": "2021-11-03T08:55:08.955Z"
   },
   {
    "duration": 17,
    "start_time": "2021-11-03T08:55:09.390Z"
   },
   {
    "duration": 831,
    "start_time": "2021-11-03T08:55:09.409Z"
   },
   {
    "duration": 10,
    "start_time": "2021-11-03T08:55:10.243Z"
   },
   {
    "duration": 34,
    "start_time": "2021-11-03T08:55:10.255Z"
   },
   {
    "duration": 803,
    "start_time": "2021-11-03T08:55:10.291Z"
   },
   {
    "duration": 15,
    "start_time": "2021-11-03T08:55:11.097Z"
   },
   {
    "duration": 98,
    "start_time": "2021-11-03T08:55:11.267Z"
   },
   {
    "duration": 15,
    "start_time": "2021-11-03T08:55:11.942Z"
   },
   {
    "duration": 21,
    "start_time": "2021-11-03T08:55:12.792Z"
   },
   {
    "duration": 42,
    "start_time": "2021-11-03T08:55:13.580Z"
   },
   {
    "duration": 7,
    "start_time": "2021-11-03T08:55:14.448Z"
   },
   {
    "duration": 28,
    "start_time": "2021-11-03T08:55:15.391Z"
   },
   {
    "duration": 22,
    "start_time": "2021-11-03T08:55:16.728Z"
   },
   {
    "duration": 41,
    "start_time": "2021-11-03T08:55:22.150Z"
   },
   {
    "duration": 11,
    "start_time": "2021-11-03T08:55:25.476Z"
   },
   {
    "duration": 27,
    "start_time": "2021-11-03T08:55:26.420Z"
   },
   {
    "duration": 15,
    "start_time": "2021-11-03T08:55:27.403Z"
   },
   {
    "duration": 4,
    "start_time": "2021-11-03T08:55:28.206Z"
   },
   {
    "duration": 15,
    "start_time": "2021-11-03T08:55:29.080Z"
   },
   {
    "duration": 20,
    "start_time": "2021-11-03T08:55:30.011Z"
   },
   {
    "duration": 29,
    "start_time": "2021-11-03T08:55:30.948Z"
   },
   {
    "duration": 24,
    "start_time": "2021-11-03T08:55:31.690Z"
   },
   {
    "duration": 29,
    "start_time": "2021-11-03T08:55:32.568Z"
   },
   {
    "duration": 13,
    "start_time": "2021-11-03T08:55:35.470Z"
   },
   {
    "duration": 23,
    "start_time": "2021-11-03T08:55:36.265Z"
   },
   {
    "duration": 4,
    "start_time": "2021-11-03T08:55:38.090Z"
   },
   {
    "duration": 22,
    "start_time": "2021-11-03T08:55:38.096Z"
   },
   {
    "duration": 23,
    "start_time": "2021-11-03T08:55:39.306Z"
   },
   {
    "duration": 29,
    "start_time": "2021-11-03T08:55:40.323Z"
   },
   {
    "duration": 19,
    "start_time": "2021-11-03T08:55:48.238Z"
   },
   {
    "duration": 11,
    "start_time": "2021-11-03T08:55:59.670Z"
   },
   {
    "duration": 53,
    "start_time": "2021-11-03T08:56:01.937Z"
   },
   {
    "duration": 21,
    "start_time": "2021-11-03T08:56:02.740Z"
   },
   {
    "duration": 13,
    "start_time": "2021-11-03T08:56:06.186Z"
   },
   {
    "duration": 9,
    "start_time": "2021-11-03T08:56:07.082Z"
   },
   {
    "duration": 316,
    "start_time": "2021-11-03T08:56:11.223Z"
   },
   {
    "duration": 198,
    "start_time": "2021-11-03T08:56:13.345Z"
   },
   {
    "duration": 197,
    "start_time": "2021-11-03T08:56:15.024Z"
   },
   {
    "duration": 193,
    "start_time": "2021-11-03T08:56:16.931Z"
   },
   {
    "duration": 174,
    "start_time": "2021-11-03T08:56:22.816Z"
   },
   {
    "duration": 75,
    "start_time": "2021-11-03T08:56:23.815Z"
   },
   {
    "duration": 163,
    "start_time": "2021-11-03T08:56:24.656Z"
   },
   {
    "duration": 147,
    "start_time": "2021-11-03T08:56:25.452Z"
   },
   {
    "duration": 174,
    "start_time": "2021-11-03T08:56:26.323Z"
   },
   {
    "duration": 160,
    "start_time": "2021-11-03T08:56:27.172Z"
   },
   {
    "duration": 227,
    "start_time": "2021-11-03T08:56:27.993Z"
   },
   {
    "duration": 45,
    "start_time": "2021-11-03T08:56:28.978Z"
   },
   {
    "duration": 476,
    "start_time": "2021-11-03T08:56:30.330Z"
   },
   {
    "duration": 643,
    "start_time": "2021-11-03T08:56:31.976Z"
   },
   {
    "duration": 235,
    "start_time": "2021-11-03T08:56:42.971Z"
   },
   {
    "duration": 153,
    "start_time": "2021-11-03T08:56:43.960Z"
   },
   {
    "duration": 6,
    "start_time": "2021-11-03T08:56:44.560Z"
   },
   {
    "duration": 276,
    "start_time": "2021-11-03T08:56:47.800Z"
   },
   {
    "duration": 36,
    "start_time": "2021-11-03T08:56:49.258Z"
   },
   {
    "duration": 8,
    "start_time": "2021-11-03T08:56:52.937Z"
   },
   {
    "duration": 261,
    "start_time": "2021-11-03T08:56:54.265Z"
   },
   {
    "duration": 34,
    "start_time": "2021-11-03T08:56:59.891Z"
   },
   {
    "duration": 426,
    "start_time": "2021-11-03T08:57:06.192Z"
   },
   {
    "duration": 457,
    "start_time": "2021-11-03T08:57:11.004Z"
   },
   {
    "duration": 402,
    "start_time": "2021-11-03T08:57:15.583Z"
   },
   {
    "duration": 312,
    "start_time": "2021-11-03T08:59:55.317Z"
   },
   {
    "duration": 474,
    "start_time": "2021-11-03T09:00:56.051Z"
   },
   {
    "duration": 1103,
    "start_time": "2021-11-03T09:02:12.806Z"
   },
   {
    "duration": 702,
    "start_time": "2021-11-03T09:04:25.449Z"
   },
   {
    "duration": 12,
    "start_time": "2021-11-03T09:05:51.146Z"
   },
   {
    "duration": 13,
    "start_time": "2021-11-03T09:06:19.119Z"
   },
   {
    "duration": 353,
    "start_time": "2021-11-03T09:06:28.298Z"
   },
   {
    "duration": 9,
    "start_time": "2021-11-03T09:06:35.292Z"
   },
   {
    "duration": 6,
    "start_time": "2021-11-03T09:07:22.004Z"
   },
   {
    "duration": 457,
    "start_time": "2021-11-03T09:08:04.360Z"
   },
   {
    "duration": 661,
    "start_time": "2021-11-03T09:08:09.758Z"
   },
   {
    "duration": 34,
    "start_time": "2021-11-03T09:08:47.633Z"
   },
   {
    "duration": 751,
    "start_time": "2021-11-03T09:10:20.678Z"
   },
   {
    "duration": 637,
    "start_time": "2021-11-03T09:10:43.902Z"
   },
   {
    "duration": 34,
    "start_time": "2021-11-03T09:10:59.500Z"
   },
   {
    "duration": 33,
    "start_time": "2021-11-03T09:11:27.897Z"
   },
   {
    "duration": 377,
    "start_time": "2021-11-03T09:12:32.903Z"
   },
   {
    "duration": 673,
    "start_time": "2021-11-03T09:14:12.117Z"
   },
   {
    "duration": 512,
    "start_time": "2021-11-03T09:14:24.533Z"
   },
   {
    "duration": 595,
    "start_time": "2021-11-03T09:14:31.917Z"
   },
   {
    "duration": 814,
    "start_time": "2021-11-03T09:15:53.083Z"
   },
   {
    "duration": 768,
    "start_time": "2021-11-03T09:18:54.371Z"
   },
   {
    "duration": 448,
    "start_time": "2021-11-03T09:19:04.047Z"
   },
   {
    "duration": 349,
    "start_time": "2021-11-03T09:19:17.245Z"
   },
   {
    "duration": 350,
    "start_time": "2021-11-03T09:19:41.430Z"
   },
   {
    "duration": 399,
    "start_time": "2021-11-03T09:20:12.263Z"
   },
   {
    "duration": 355,
    "start_time": "2021-11-03T09:21:10.654Z"
   },
   {
    "duration": 199,
    "start_time": "2021-11-03T09:21:21.064Z"
   },
   {
    "duration": 163,
    "start_time": "2021-11-03T09:21:50.049Z"
   },
   {
    "duration": 384,
    "start_time": "2021-11-03T09:22:27.234Z"
   },
   {
    "duration": 683,
    "start_time": "2021-11-03T09:23:26.257Z"
   },
   {
    "duration": 1010,
    "start_time": "2021-11-03T09:24:15.413Z"
   },
   {
    "duration": 576,
    "start_time": "2021-11-03T09:24:45.883Z"
   },
   {
    "duration": 581,
    "start_time": "2021-11-03T09:24:55.642Z"
   },
   {
    "duration": 652,
    "start_time": "2021-11-03T09:25:16.241Z"
   },
   {
    "duration": 550,
    "start_time": "2021-11-03T09:25:38.034Z"
   },
   {
    "duration": 344,
    "start_time": "2021-11-03T09:25:52.326Z"
   },
   {
    "duration": 460,
    "start_time": "2021-11-03T09:25:59.196Z"
   },
   {
    "duration": 560,
    "start_time": "2021-11-03T09:26:08.032Z"
   },
   {
    "duration": 5,
    "start_time": "2021-11-03T09:27:02.780Z"
   },
   {
    "duration": 5,
    "start_time": "2021-11-03T09:27:06.965Z"
   },
   {
    "duration": 357,
    "start_time": "2021-11-03T09:27:24.039Z"
   },
   {
    "duration": 356,
    "start_time": "2021-11-03T09:28:22.989Z"
   },
   {
    "duration": 801,
    "start_time": "2021-11-03T09:29:00.036Z"
   },
   {
    "duration": 862,
    "start_time": "2021-11-03T09:29:12.233Z"
   },
   {
    "duration": 564,
    "start_time": "2021-11-03T09:29:23.134Z"
   },
   {
    "duration": 726,
    "start_time": "2021-11-03T09:29:32.635Z"
   },
   {
    "duration": 726,
    "start_time": "2021-11-03T09:29:40.793Z"
   },
   {
    "duration": 666,
    "start_time": "2021-11-03T09:30:24.370Z"
   },
   {
    "duration": 649,
    "start_time": "2021-11-03T09:30:50.502Z"
   },
   {
    "duration": 633,
    "start_time": "2021-11-03T09:31:08.719Z"
   },
   {
    "duration": 1044,
    "start_time": "2021-11-03T09:31:57.679Z"
   },
   {
    "duration": 55,
    "start_time": "2021-11-03T09:32:46.595Z"
   },
   {
    "duration": 41,
    "start_time": "2021-11-03T09:33:41.407Z"
   },
   {
    "duration": 383,
    "start_time": "2021-11-03T09:34:08.344Z"
   },
   {
    "duration": 352,
    "start_time": "2021-11-03T09:34:16.760Z"
   },
   {
    "duration": 366,
    "start_time": "2021-11-03T09:34:29.136Z"
   },
   {
    "duration": 400,
    "start_time": "2021-11-03T09:34:41.418Z"
   },
   {
    "duration": 391,
    "start_time": "2021-11-03T09:34:57.441Z"
   },
   {
    "duration": 368,
    "start_time": "2021-11-03T09:35:05.569Z"
   },
   {
    "duration": 650,
    "start_time": "2021-11-03T09:37:35.660Z"
   },
   {
    "duration": 496,
    "start_time": "2021-11-03T09:38:15.979Z"
   },
   {
    "duration": 416,
    "start_time": "2021-11-03T09:38:35.087Z"
   },
   {
    "duration": 422,
    "start_time": "2021-11-03T09:39:17.093Z"
   },
   {
    "duration": 624,
    "start_time": "2021-11-03T09:39:38.614Z"
   },
   {
    "duration": 977,
    "start_time": "2021-11-03T09:40:03.082Z"
   },
   {
    "duration": 749,
    "start_time": "2021-11-03T09:40:36.632Z"
   },
   {
    "duration": 376,
    "start_time": "2021-11-03T09:43:07.832Z"
   },
   {
    "duration": 391,
    "start_time": "2021-11-03T09:43:13.561Z"
   },
   {
    "duration": 6,
    "start_time": "2021-11-03T09:43:45.905Z"
   },
   {
    "duration": 3542,
    "start_time": "2021-11-03T09:43:50.347Z"
   },
   {
    "duration": 6,
    "start_time": "2021-11-03T09:44:47.422Z"
   },
   {
    "duration": 4017,
    "start_time": "2021-11-03T09:45:55.144Z"
   },
   {
    "duration": 412,
    "start_time": "2021-11-03T09:52:52.921Z"
   },
   {
    "duration": 13,
    "start_time": "2021-11-03T09:57:20.567Z"
   },
   {
    "duration": 648,
    "start_time": "2021-11-03T10:01:25.410Z"
   },
   {
    "duration": 9,
    "start_time": "2021-11-03T10:03:10.740Z"
   },
   {
    "duration": 87,
    "start_time": "2021-11-03T10:18:22.046Z"
   },
   {
    "duration": 15,
    "start_time": "2021-11-03T10:18:22.271Z"
   },
   {
    "duration": 21,
    "start_time": "2021-11-03T10:18:22.525Z"
   },
   {
    "duration": 42,
    "start_time": "2021-11-03T10:18:22.775Z"
   },
   {
    "duration": 7,
    "start_time": "2021-11-03T10:18:23.055Z"
   },
   {
    "duration": 28,
    "start_time": "2021-11-03T10:18:23.312Z"
   },
   {
    "duration": 21,
    "start_time": "2021-11-03T10:18:23.591Z"
   },
   {
    "duration": 31,
    "start_time": "2021-11-03T10:18:25.666Z"
   },
   {
    "duration": 10,
    "start_time": "2021-11-03T10:18:26.169Z"
   },
   {
    "duration": 28,
    "start_time": "2021-11-03T10:18:26.666Z"
   },
   {
    "duration": 15,
    "start_time": "2021-11-03T10:18:27.043Z"
   },
   {
    "duration": 4,
    "start_time": "2021-11-03T10:18:27.459Z"
   },
   {
    "duration": 16,
    "start_time": "2021-11-03T10:18:27.917Z"
   },
   {
    "duration": 19,
    "start_time": "2021-11-03T10:18:28.322Z"
   },
   {
    "duration": 18,
    "start_time": "2021-11-03T10:18:28.734Z"
   },
   {
    "duration": 23,
    "start_time": "2021-11-03T10:18:29.164Z"
   },
   {
    "duration": 29,
    "start_time": "2021-11-03T10:18:29.567Z"
   },
   {
    "duration": 13,
    "start_time": "2021-11-03T10:18:30.646Z"
   },
   {
    "duration": 24,
    "start_time": "2021-11-03T10:18:31.195Z"
   },
   {
    "duration": 5,
    "start_time": "2021-11-03T10:18:31.546Z"
   },
   {
    "duration": 10,
    "start_time": "2021-11-03T10:18:31.917Z"
   },
   {
    "duration": 23,
    "start_time": "2021-11-03T10:18:32.289Z"
   },
   {
    "duration": 18,
    "start_time": "2021-11-03T10:18:32.635Z"
   },
   {
    "duration": 22,
    "start_time": "2021-11-03T10:18:32.996Z"
   },
   {
    "duration": 54,
    "start_time": "2021-11-03T10:18:33.409Z"
   },
   {
    "duration": 22,
    "start_time": "2021-11-03T10:18:33.987Z"
   },
   {
    "duration": 16,
    "start_time": "2021-11-03T10:18:34.505Z"
   },
   {
    "duration": 8,
    "start_time": "2021-11-03T10:18:35.195Z"
   },
   {
    "duration": 195,
    "start_time": "2021-11-03T10:18:37.438Z"
   },
   {
    "duration": 507,
    "start_time": "2021-11-03T10:18:38.080Z"
   },
   {
    "duration": 197,
    "start_time": "2021-11-03T10:18:38.687Z"
   },
   {
    "duration": 194,
    "start_time": "2021-11-03T10:18:39.213Z"
   },
   {
    "duration": 187,
    "start_time": "2021-11-03T10:18:39.774Z"
   },
   {
    "duration": 72,
    "start_time": "2021-11-03T10:18:40.053Z"
   },
   {
    "duration": 162,
    "start_time": "2021-11-03T10:18:40.352Z"
   },
   {
    "duration": 145,
    "start_time": "2021-11-03T10:18:40.758Z"
   },
   {
    "duration": 214,
    "start_time": "2021-11-03T10:18:41.096Z"
   },
   {
    "duration": 154,
    "start_time": "2021-11-03T10:18:41.372Z"
   },
   {
    "duration": 144,
    "start_time": "2021-11-03T10:18:41.619Z"
   },
   {
    "duration": 30,
    "start_time": "2021-11-03T10:18:41.899Z"
   },
   {
    "duration": 408,
    "start_time": "2021-11-03T10:18:42.181Z"
   },
   {
    "duration": 401,
    "start_time": "2021-11-03T10:18:42.962Z"
   },
   {
    "duration": 405,
    "start_time": "2021-11-03T10:18:43.669Z"
   },
   {
    "duration": 68,
    "start_time": "2021-11-03T10:18:44.323Z"
   },
   {
    "duration": 72,
    "start_time": "2021-11-03T10:18:44.691Z"
   },
   {
    "duration": 233,
    "start_time": "2021-11-03T10:18:45.046Z"
   },
   {
    "duration": 152,
    "start_time": "2021-11-03T10:18:45.438Z"
   },
   {
    "duration": 7,
    "start_time": "2021-11-03T10:18:45.801Z"
   },
   {
    "duration": 278,
    "start_time": "2021-11-03T10:18:46.864Z"
   },
   {
    "duration": 40,
    "start_time": "2021-11-03T10:18:47.204Z"
   },
   {
    "duration": 8,
    "start_time": "2021-11-03T10:18:47.544Z"
   },
   {
    "duration": 274,
    "start_time": "2021-11-03T10:18:47.874Z"
   },
   {
    "duration": 33,
    "start_time": "2021-11-03T10:18:48.536Z"
   },
   {
    "duration": 6,
    "start_time": "2021-11-03T10:18:48.893Z"
   },
   {
    "duration": 13,
    "start_time": "2021-11-03T10:18:49.244Z"
   },
   {
    "duration": 3864,
    "start_time": "2021-11-03T10:18:49.617Z"
   },
   {
    "duration": 490,
    "start_time": "2021-11-03T10:18:53.484Z"
   },
   {
    "duration": 661,
    "start_time": "2021-11-03T10:18:53.976Z"
   },
   {
    "duration": 121,
    "start_time": "2021-11-03T10:18:54.639Z"
   },
   {
    "duration": 549,
    "start_time": "2021-11-03T10:18:54.213Z"
   },
   {
    "duration": 544,
    "start_time": "2021-11-03T10:18:54.219Z"
   },
   {
    "duration": 541,
    "start_time": "2021-11-03T10:18:54.223Z"
   },
   {
    "duration": 1623,
    "start_time": "2021-11-03T12:12:00.652Z"
   },
   {
    "duration": 28,
    "start_time": "2021-11-03T12:12:02.278Z"
   },
   {
    "duration": 38,
    "start_time": "2021-11-03T12:12:02.309Z"
   },
   {
    "duration": 68,
    "start_time": "2021-11-03T12:12:02.349Z"
   },
   {
    "duration": 8,
    "start_time": "2021-11-03T12:12:02.419Z"
   },
   {
    "duration": 65,
    "start_time": "2021-11-03T12:12:02.429Z"
   },
   {
    "duration": 37,
    "start_time": "2021-11-03T12:12:02.498Z"
   },
   {
    "duration": 79,
    "start_time": "2021-11-03T12:12:02.541Z"
   },
   {
    "duration": 14,
    "start_time": "2021-11-03T12:12:02.623Z"
   },
   {
    "duration": 88,
    "start_time": "2021-11-03T12:12:02.640Z"
   },
   {
    "duration": 23,
    "start_time": "2021-11-03T12:12:02.731Z"
   },
   {
    "duration": 27,
    "start_time": "2021-11-03T12:12:02.757Z"
   },
   {
    "duration": 51,
    "start_time": "2021-11-03T12:12:02.788Z"
   },
   {
    "duration": 54,
    "start_time": "2021-11-03T12:12:02.842Z"
   },
   {
    "duration": 37,
    "start_time": "2021-11-03T12:12:02.898Z"
   },
   {
    "duration": 58,
    "start_time": "2021-11-03T12:12:02.937Z"
   },
   {
    "duration": 43,
    "start_time": "2021-11-03T12:12:02.998Z"
   },
   {
    "duration": 43,
    "start_time": "2021-11-03T12:12:03.043Z"
   },
   {
    "duration": 34,
    "start_time": "2021-11-03T12:12:03.089Z"
   },
   {
    "duration": 5,
    "start_time": "2021-11-03T12:12:03.125Z"
   },
   {
    "duration": 13,
    "start_time": "2021-11-03T12:12:03.133Z"
   },
   {
    "duration": 60,
    "start_time": "2021-11-03T12:12:03.148Z"
   },
   {
    "duration": 33,
    "start_time": "2021-11-03T12:12:03.214Z"
   },
   {
    "duration": 59,
    "start_time": "2021-11-03T12:12:03.251Z"
   },
   {
    "duration": 112,
    "start_time": "2021-11-03T12:12:03.313Z"
   },
   {
    "duration": 26,
    "start_time": "2021-11-03T12:12:03.428Z"
   },
   {
    "duration": 35,
    "start_time": "2021-11-03T12:12:03.456Z"
   },
   {
    "duration": 14,
    "start_time": "2021-11-03T12:12:03.494Z"
   },
   {
    "duration": 355,
    "start_time": "2021-11-03T12:12:03.510Z"
   },
   {
    "duration": 321,
    "start_time": "2021-11-03T12:12:03.869Z"
   },
   {
    "duration": 359,
    "start_time": "2021-11-03T12:12:04.193Z"
   },
   {
    "duration": 395,
    "start_time": "2021-11-03T12:12:04.554Z"
   },
   {
    "duration": 293,
    "start_time": "2021-11-03T12:12:04.951Z"
   },
   {
    "duration": 111,
    "start_time": "2021-11-03T12:12:05.247Z"
   },
   {
    "duration": 252,
    "start_time": "2021-11-03T12:12:05.361Z"
   },
   {
    "duration": 235,
    "start_time": "2021-11-03T12:12:05.616Z"
   },
   {
    "duration": 328,
    "start_time": "2021-11-03T12:12:05.854Z"
   },
   {
    "duration": 248,
    "start_time": "2021-11-03T12:12:06.185Z"
   },
   {
    "duration": 232,
    "start_time": "2021-11-03T12:12:06.435Z"
   },
   {
    "duration": 49,
    "start_time": "2021-11-03T12:12:06.670Z"
   },
   {
    "duration": 612,
    "start_time": "2021-11-03T12:12:06.721Z"
   },
   {
    "duration": 586,
    "start_time": "2021-11-03T12:12:07.335Z"
   },
   {
    "duration": 607,
    "start_time": "2021-11-03T12:12:07.923Z"
   },
   {
    "duration": 110,
    "start_time": "2021-11-03T12:12:08.532Z"
   },
   {
    "duration": 104,
    "start_time": "2021-11-03T12:12:08.644Z"
   },
   {
    "duration": 364,
    "start_time": "2021-11-03T12:12:08.751Z"
   },
   {
    "duration": 234,
    "start_time": "2021-11-03T12:12:09.117Z"
   },
   {
    "duration": 8,
    "start_time": "2021-11-03T12:12:09.354Z"
   },
   {
    "duration": 525,
    "start_time": "2021-11-03T12:12:09.381Z"
   },
   {
    "duration": 52,
    "start_time": "2021-11-03T12:12:09.909Z"
   },
   {
    "duration": 10,
    "start_time": "2021-11-03T12:12:09.983Z"
   },
   {
    "duration": 411,
    "start_time": "2021-11-03T12:12:09.995Z"
   },
   {
    "duration": 77,
    "start_time": "2021-11-03T12:12:10.408Z"
   },
   {
    "duration": 8,
    "start_time": "2021-11-03T12:12:10.487Z"
   },
   {
    "duration": 15,
    "start_time": "2021-11-03T12:12:10.498Z"
   },
   {
    "duration": 11092,
    "start_time": "2021-11-03T12:12:10.516Z"
   },
   {
    "duration": 1407,
    "start_time": "2021-11-03T12:12:21.611Z"
   },
   {
    "duration": 2779,
    "start_time": "2021-11-03T12:12:23.021Z"
   },
   {
    "duration": 135,
    "start_time": "2021-11-03T12:12:25.803Z"
   },
   {
    "duration": 1328,
    "start_time": "2021-11-03T12:12:24.614Z"
   },
   {
    "duration": 1327,
    "start_time": "2021-11-03T12:12:24.617Z"
   },
   {
    "duration": 1328,
    "start_time": "2021-11-03T12:12:24.618Z"
   },
   {
    "duration": 10047,
    "start_time": "2021-11-03T12:12:38.074Z"
   },
   {
    "duration": 1059,
    "start_time": "2021-11-03T12:12:48.123Z"
   },
   {
    "duration": 1697,
    "start_time": "2021-11-03T12:12:49.185Z"
   },
   {
    "duration": 1674,
    "start_time": "2021-11-03T14:56:34.275Z"
   },
   {
    "duration": 32,
    "start_time": "2021-11-03T14:56:35.952Z"
   },
   {
    "duration": 44,
    "start_time": "2021-11-03T14:56:35.988Z"
   },
   {
    "duration": 106,
    "start_time": "2021-11-03T14:56:36.036Z"
   },
   {
    "duration": 11,
    "start_time": "2021-11-03T14:56:36.145Z"
   },
   {
    "duration": 76,
    "start_time": "2021-11-03T14:56:36.159Z"
   },
   {
    "duration": 63,
    "start_time": "2021-11-03T14:56:36.238Z"
   },
   {
    "duration": 91,
    "start_time": "2021-11-03T14:56:36.307Z"
   },
   {
    "duration": 19,
    "start_time": "2021-11-03T14:56:36.402Z"
   },
   {
    "duration": 90,
    "start_time": "2021-11-03T14:56:36.424Z"
   },
   {
    "duration": 31,
    "start_time": "2021-11-03T14:56:36.518Z"
   },
   {
    "duration": 30,
    "start_time": "2021-11-03T14:56:36.552Z"
   },
   {
    "duration": 23,
    "start_time": "2021-11-03T14:56:36.585Z"
   },
   {
    "duration": 27,
    "start_time": "2021-11-03T14:56:36.611Z"
   },
   {
    "duration": 53,
    "start_time": "2021-11-03T14:56:36.640Z"
   },
   {
    "duration": 35,
    "start_time": "2021-11-03T14:56:36.695Z"
   },
   {
    "duration": 78,
    "start_time": "2021-11-03T14:56:36.732Z"
   },
   {
    "duration": 27,
    "start_time": "2021-11-03T14:56:36.813Z"
   },
   {
    "duration": 72,
    "start_time": "2021-11-03T14:56:36.843Z"
   },
   {
    "duration": 5,
    "start_time": "2021-11-03T14:56:36.917Z"
   },
   {
    "duration": 19,
    "start_time": "2021-11-03T14:56:36.925Z"
   },
   {
    "duration": 54,
    "start_time": "2021-11-03T14:56:36.947Z"
   },
   {
    "duration": 36,
    "start_time": "2021-11-03T14:56:37.009Z"
   },
   {
    "duration": 51,
    "start_time": "2021-11-03T14:56:37.048Z"
   },
   {
    "duration": 103,
    "start_time": "2021-11-03T14:56:37.101Z"
   },
   {
    "duration": 27,
    "start_time": "2021-11-03T14:56:37.207Z"
   },
   {
    "duration": 15,
    "start_time": "2021-11-03T14:56:37.236Z"
   },
   {
    "duration": 37,
    "start_time": "2021-11-03T14:56:37.254Z"
   },
   {
    "duration": 313,
    "start_time": "2021-11-03T14:56:37.294Z"
   },
   {
    "duration": 315,
    "start_time": "2021-11-03T14:56:37.610Z"
   },
   {
    "duration": 300,
    "start_time": "2021-11-03T14:56:37.927Z"
   },
   {
    "duration": 311,
    "start_time": "2021-11-03T14:56:38.230Z"
   },
   {
    "duration": 294,
    "start_time": "2021-11-03T14:56:38.543Z"
   },
   {
    "duration": 122,
    "start_time": "2021-11-03T14:56:38.839Z"
   },
   {
    "duration": 353,
    "start_time": "2021-11-03T14:56:38.963Z"
   },
   {
    "duration": 245,
    "start_time": "2021-11-03T14:56:39.318Z"
   },
   {
    "duration": 343,
    "start_time": "2021-11-03T14:56:39.567Z"
   },
   {
    "duration": 256,
    "start_time": "2021-11-03T14:56:39.913Z"
   },
   {
    "duration": 240,
    "start_time": "2021-11-03T14:56:40.172Z"
   },
   {
    "duration": 41,
    "start_time": "2021-11-03T14:56:40.415Z"
   },
   {
    "duration": 634,
    "start_time": "2021-11-03T14:56:40.482Z"
   },
   {
    "duration": 592,
    "start_time": "2021-11-03T14:56:41.119Z"
   },
   {
    "duration": 771,
    "start_time": "2021-11-03T14:56:41.714Z"
   },
   {
    "duration": 128,
    "start_time": "2021-11-03T14:56:42.488Z"
   },
   {
    "duration": 156,
    "start_time": "2021-11-03T14:56:42.619Z"
   },
   {
    "duration": 439,
    "start_time": "2021-11-03T14:56:42.777Z"
   },
   {
    "duration": 247,
    "start_time": "2021-11-03T14:56:43.220Z"
   },
   {
    "duration": 17,
    "start_time": "2021-11-03T14:56:43.470Z"
   },
   {
    "duration": 552,
    "start_time": "2021-11-03T14:56:43.490Z"
   },
   {
    "duration": 95,
    "start_time": "2021-11-03T14:56:44.046Z"
   },
   {
    "duration": 16,
    "start_time": "2021-11-03T14:56:44.144Z"
   },
   {
    "duration": 663,
    "start_time": "2021-11-03T14:56:44.163Z"
   },
   {
    "duration": 90,
    "start_time": "2021-11-03T14:56:44.830Z"
   },
   {
    "duration": 12,
    "start_time": "2021-11-03T14:56:44.923Z"
   },
   {
    "duration": 25,
    "start_time": "2021-11-03T14:56:44.938Z"
   },
   {
    "duration": 8738,
    "start_time": "2021-11-03T14:56:44.983Z"
   },
   {
    "duration": 993,
    "start_time": "2021-11-03T14:56:53.729Z"
   },
   {
    "duration": 989,
    "start_time": "2021-11-03T14:56:54.725Z"
   },
   {
    "duration": 5082,
    "start_time": "2021-11-03T14:56:55.717Z"
   },
   {
    "duration": 929,
    "start_time": "2021-11-03T14:57:00.802Z"
   },
   {
    "duration": 1540,
    "start_time": "2021-11-03T14:57:01.734Z"
   },
   {
    "duration": 429,
    "start_time": "2021-11-03T19:09:29.500Z"
   },
   {
    "duration": 1534,
    "start_time": "2021-11-03T19:09:38.041Z"
   },
   {
    "duration": 113,
    "start_time": "2021-11-03T19:09:39.578Z"
   },
   {
    "duration": 32,
    "start_time": "2021-11-03T19:09:39.695Z"
   },
   {
    "duration": 26,
    "start_time": "2021-11-03T19:09:39.730Z"
   },
   {
    "duration": 86,
    "start_time": "2021-11-03T19:09:39.758Z"
   },
   {
    "duration": 8,
    "start_time": "2021-11-03T19:09:39.846Z"
   },
   {
    "duration": 57,
    "start_time": "2021-11-03T19:09:39.857Z"
   },
   {
    "duration": 25,
    "start_time": "2021-11-03T19:09:39.918Z"
   },
   {
    "duration": 51,
    "start_time": "2021-11-03T19:09:45.024Z"
   },
   {
    "duration": 465,
    "start_time": "2021-11-03T19:09:51.321Z"
   },
   {
    "duration": 11,
    "start_time": "2021-11-03T19:10:11.669Z"
   },
   {
    "duration": 376,
    "start_time": "2021-11-03T19:10:25.146Z"
   },
   {
    "duration": 19,
    "start_time": "2021-11-03T19:13:04.207Z"
   },
   {
    "duration": 41,
    "start_time": "2021-11-03T19:13:12.722Z"
   },
   {
    "duration": 38,
    "start_time": "2021-11-03T19:13:56.143Z"
   },
   {
    "duration": 25,
    "start_time": "2021-11-03T19:15:18.950Z"
   },
   {
    "duration": 44,
    "start_time": "2021-11-03T19:15:22.251Z"
   },
   {
    "duration": 43,
    "start_time": "2021-11-03T19:16:14.154Z"
   },
   {
    "duration": 25,
    "start_time": "2021-11-03T19:16:22.475Z"
   },
   {
    "duration": 35,
    "start_time": "2021-11-03T19:16:26.525Z"
   },
   {
    "duration": 40,
    "start_time": "2021-11-03T19:16:32.390Z"
   },
   {
    "duration": 4,
    "start_time": "2021-11-03T19:17:57.936Z"
   },
   {
    "duration": 124,
    "start_time": "2021-11-03T19:17:57.942Z"
   },
   {
    "duration": 48,
    "start_time": "2021-11-03T19:17:58.069Z"
   },
   {
    "duration": 31,
    "start_time": "2021-11-03T19:17:58.120Z"
   },
   {
    "duration": 85,
    "start_time": "2021-11-03T19:17:58.153Z"
   },
   {
    "duration": 8,
    "start_time": "2021-11-03T19:17:58.240Z"
   },
   {
    "duration": 62,
    "start_time": "2021-11-03T19:17:58.251Z"
   },
   {
    "duration": 25,
    "start_time": "2021-11-03T19:17:58.316Z"
   },
   {
    "duration": 73,
    "start_time": "2021-11-03T19:17:58.344Z"
   },
   {
    "duration": 16,
    "start_time": "2021-11-03T19:17:58.419Z"
   },
   {
    "duration": 40,
    "start_time": "2021-11-03T19:17:58.438Z"
   },
   {
    "duration": 21,
    "start_time": "2021-11-03T19:17:58.501Z"
   },
   {
    "duration": 7,
    "start_time": "2021-11-03T19:17:58.524Z"
   },
   {
    "duration": 31,
    "start_time": "2021-11-03T19:17:58.533Z"
   },
   {
    "duration": 49,
    "start_time": "2021-11-03T19:17:58.566Z"
   },
   {
    "duration": 26,
    "start_time": "2021-11-03T19:17:58.618Z"
   },
   {
    "duration": 25,
    "start_time": "2021-11-03T19:17:58.646Z"
   },
   {
    "duration": 32,
    "start_time": "2021-11-03T19:17:58.700Z"
   },
   {
    "duration": 19,
    "start_time": "2021-11-03T19:17:58.737Z"
   },
   {
    "duration": 60,
    "start_time": "2021-11-03T19:17:58.759Z"
   },
   {
    "duration": 4,
    "start_time": "2021-11-03T19:17:58.822Z"
   },
   {
    "duration": 20,
    "start_time": "2021-11-03T19:17:58.828Z"
   },
   {
    "duration": 35,
    "start_time": "2021-11-03T19:17:58.851Z"
   },
   {
    "duration": 35,
    "start_time": "2021-11-03T19:17:58.901Z"
   },
   {
    "duration": 71,
    "start_time": "2021-11-03T19:17:58.939Z"
   },
   {
    "duration": 96,
    "start_time": "2021-11-03T19:17:59.012Z"
   },
   {
    "duration": 26,
    "start_time": "2021-11-03T19:17:59.110Z"
   },
   {
    "duration": 14,
    "start_time": "2021-11-03T19:17:59.139Z"
   },
   {
    "duration": 44,
    "start_time": "2021-11-03T19:17:59.156Z"
   },
   {
    "duration": 331,
    "start_time": "2021-11-03T19:17:59.203Z"
   },
   {
    "duration": 320,
    "start_time": "2021-11-03T19:17:59.536Z"
   },
   {
    "duration": 341,
    "start_time": "2021-11-03T19:17:59.859Z"
   },
   {
    "duration": 340,
    "start_time": "2021-11-03T19:18:00.203Z"
   },
   {
    "duration": 332,
    "start_time": "2021-11-03T19:18:00.546Z"
   },
   {
    "duration": 124,
    "start_time": "2021-11-03T19:18:00.880Z"
   },
   {
    "duration": 269,
    "start_time": "2021-11-03T19:18:01.006Z"
   },
   {
    "duration": 323,
    "start_time": "2021-11-03T19:18:01.277Z"
   },
   {
    "duration": 269,
    "start_time": "2021-11-03T19:18:01.603Z"
   },
   {
    "duration": 263,
    "start_time": "2021-11-03T19:18:01.875Z"
   },
   {
    "duration": 258,
    "start_time": "2021-11-03T19:18:02.141Z"
   },
   {
    "duration": 45,
    "start_time": "2021-11-03T19:18:02.402Z"
   },
   {
    "duration": 779,
    "start_time": "2021-11-03T19:18:02.450Z"
   },
   {
    "duration": 668,
    "start_time": "2021-11-03T19:18:03.232Z"
   },
   {
    "duration": 657,
    "start_time": "2021-11-03T19:18:03.903Z"
   },
   {
    "duration": 117,
    "start_time": "2021-11-03T19:18:04.563Z"
   },
   {
    "duration": 121,
    "start_time": "2021-11-03T19:18:04.682Z"
   },
   {
    "duration": 392,
    "start_time": "2021-11-03T19:18:04.806Z"
   },
   {
    "duration": 345,
    "start_time": "2021-11-03T19:18:05.201Z"
   },
   {
    "duration": 7,
    "start_time": "2021-11-03T19:18:05.548Z"
   },
   {
    "duration": 459,
    "start_time": "2021-11-03T19:18:05.557Z"
   },
   {
    "duration": 55,
    "start_time": "2021-11-03T19:18:06.018Z"
   },
   {
    "duration": 28,
    "start_time": "2021-11-03T19:18:06.075Z"
   },
   {
    "duration": 436,
    "start_time": "2021-11-03T19:18:06.105Z"
   },
   {
    "duration": 68,
    "start_time": "2021-11-03T19:18:06.543Z"
   },
   {
    "duration": 14,
    "start_time": "2021-11-03T19:18:06.617Z"
   },
   {
    "duration": 13,
    "start_time": "2021-11-03T19:18:06.634Z"
   },
   {
    "duration": 6563,
    "start_time": "2021-11-03T19:18:06.650Z"
   },
   {
    "duration": 650,
    "start_time": "2021-11-03T19:18:13.216Z"
   },
   {
    "duration": 1050,
    "start_time": "2021-11-03T19:18:13.868Z"
   },
   {
    "duration": 5823,
    "start_time": "2021-11-03T19:18:14.920Z"
   },
   {
    "duration": 610,
    "start_time": "2021-11-03T19:18:20.745Z"
   },
   {
    "duration": 1096,
    "start_time": "2021-11-03T19:18:21.358Z"
   },
   {
    "duration": 60,
    "start_time": "2021-11-03T19:18:22.458Z"
   },
   {
    "duration": 55,
    "start_time": "2021-11-03T19:18:22.521Z"
   },
   {
    "duration": 13,
    "start_time": "2021-11-03T19:23:33.776Z"
   },
   {
    "duration": 382,
    "start_time": "2021-11-03T19:24:21.756Z"
   },
   {
    "duration": 379,
    "start_time": "2021-11-03T19:26:21.950Z"
   },
   {
    "duration": 53,
    "start_time": "2021-11-03T19:26:41.075Z"
   },
   {
    "duration": 52,
    "start_time": "2021-11-03T19:26:53.992Z"
   },
   {
    "duration": 410,
    "start_time": "2021-11-03T19:26:58.985Z"
   },
   {
    "duration": 1646,
    "start_time": "2021-11-03T19:33:01.533Z"
   },
   {
    "duration": 135,
    "start_time": "2021-11-03T19:33:04.888Z"
   },
   {
    "duration": 26,
    "start_time": "2021-11-03T19:33:13.580Z"
   },
   {
    "duration": 3,
    "start_time": "2021-11-03T19:33:19.575Z"
   },
   {
    "duration": 117,
    "start_time": "2021-11-03T19:33:19.660Z"
   },
   {
    "duration": 24,
    "start_time": "2021-11-03T19:33:20.439Z"
   },
   {
    "duration": 33,
    "start_time": "2021-11-03T19:33:20.465Z"
   },
   {
    "duration": 58,
    "start_time": "2021-11-03T19:33:20.501Z"
   },
   {
    "duration": 9,
    "start_time": "2021-11-03T19:33:20.562Z"
   },
   {
    "duration": 52,
    "start_time": "2021-11-03T19:33:20.573Z"
   },
   {
    "duration": 23,
    "start_time": "2021-11-03T19:33:20.627Z"
   },
   {
    "duration": 66,
    "start_time": "2021-11-03T19:33:20.653Z"
   },
   {
    "duration": 17,
    "start_time": "2021-11-03T19:33:20.721Z"
   },
   {
    "duration": 50,
    "start_time": "2021-11-03T19:33:20.741Z"
   },
   {
    "duration": 20,
    "start_time": "2021-11-03T19:33:20.801Z"
   },
   {
    "duration": 14,
    "start_time": "2021-11-03T19:33:20.824Z"
   },
   {
    "duration": 34,
    "start_time": "2021-11-03T19:33:20.840Z"
   },
   {
    "duration": 27,
    "start_time": "2021-11-03T19:33:20.876Z"
   },
   {
    "duration": 25,
    "start_time": "2021-11-03T19:33:20.905Z"
   },
   {
    "duration": 25,
    "start_time": "2021-11-03T19:33:20.932Z"
   },
   {
    "duration": 48,
    "start_time": "2021-11-03T19:33:20.962Z"
   },
   {
    "duration": 20,
    "start_time": "2021-11-03T19:33:21.014Z"
   },
   {
    "duration": 32,
    "start_time": "2021-11-03T19:33:21.036Z"
   },
   {
    "duration": 5,
    "start_time": "2021-11-03T19:33:21.070Z"
   },
   {
    "duration": 27,
    "start_time": "2021-11-03T19:33:21.078Z"
   },
   {
    "duration": 42,
    "start_time": "2021-11-03T19:33:21.108Z"
   },
   {
    "duration": 34,
    "start_time": "2021-11-03T19:33:21.152Z"
   },
   {
    "duration": 61,
    "start_time": "2021-11-03T19:33:21.188Z"
   },
   {
    "duration": 66,
    "start_time": "2021-11-03T19:33:21.252Z"
   },
   {
    "duration": 26,
    "start_time": "2021-11-03T19:33:21.321Z"
   },
   {
    "duration": 14,
    "start_time": "2021-11-03T19:33:21.349Z"
   },
   {
    "duration": 29,
    "start_time": "2021-11-03T19:33:21.365Z"
   },
   {
    "duration": 317,
    "start_time": "2021-11-03T19:33:21.396Z"
   },
   {
    "duration": 307,
    "start_time": "2021-11-03T19:33:21.716Z"
   },
   {
    "duration": 315,
    "start_time": "2021-11-03T19:33:22.025Z"
   },
   {
    "duration": 311,
    "start_time": "2021-11-03T19:33:22.342Z"
   },
   {
    "duration": 297,
    "start_time": "2021-11-03T19:33:22.655Z"
   },
   {
    "duration": 119,
    "start_time": "2021-11-03T19:33:22.955Z"
   },
   {
    "duration": 260,
    "start_time": "2021-11-03T19:33:23.076Z"
   },
   {
    "duration": 239,
    "start_time": "2021-11-03T19:33:23.338Z"
   },
   {
    "duration": 321,
    "start_time": "2021-11-03T19:33:23.579Z"
   },
   {
    "duration": 251,
    "start_time": "2021-11-03T19:33:23.902Z"
   },
   {
    "duration": 249,
    "start_time": "2021-11-03T19:33:24.155Z"
   },
   {
    "duration": 44,
    "start_time": "2021-11-03T19:33:24.406Z"
   },
   {
    "duration": 627,
    "start_time": "2021-11-03T19:33:24.456Z"
   },
   {
    "duration": 652,
    "start_time": "2021-11-03T19:33:25.087Z"
   },
   {
    "duration": 761,
    "start_time": "2021-11-03T19:33:25.741Z"
   },
   {
    "duration": 110,
    "start_time": "2021-11-03T19:33:26.505Z"
   },
   {
    "duration": 104,
    "start_time": "2021-11-03T19:33:26.618Z"
   },
   {
    "duration": 389,
    "start_time": "2021-11-03T19:33:26.725Z"
   },
   {
    "duration": 259,
    "start_time": "2021-11-03T19:33:27.116Z"
   },
   {
    "duration": 8,
    "start_time": "2021-11-03T19:33:27.378Z"
   },
   {
    "duration": 536,
    "start_time": "2021-11-03T19:33:27.388Z"
   },
   {
    "duration": 54,
    "start_time": "2021-11-03T19:33:27.927Z"
   },
   {
    "duration": 11,
    "start_time": "2021-11-03T19:33:28.000Z"
   },
   {
    "duration": 494,
    "start_time": "2021-11-03T19:33:28.013Z"
   },
   {
    "duration": 44,
    "start_time": "2021-11-03T19:33:28.510Z"
   },
   {
    "duration": 84,
    "start_time": "2021-11-03T19:33:28.557Z"
   },
   {
    "duration": 8,
    "start_time": "2021-11-03T19:33:28.644Z"
   },
   {
    "duration": 6224,
    "start_time": "2021-11-03T19:33:28.655Z"
   },
   {
    "duration": 601,
    "start_time": "2021-11-03T19:33:34.881Z"
   },
   {
    "duration": 1047,
    "start_time": "2021-11-03T19:33:35.484Z"
   },
   {
    "duration": 5651,
    "start_time": "2021-11-03T19:33:36.533Z"
   },
   {
    "duration": 596,
    "start_time": "2021-11-03T19:33:42.187Z"
   },
   {
    "duration": 938,
    "start_time": "2021-11-03T19:33:42.785Z"
   },
   {
    "duration": 12,
    "start_time": "2021-11-03T19:33:50.384Z"
   },
   {
    "duration": 46,
    "start_time": "2021-11-03T19:34:53.536Z"
   },
   {
    "duration": 57,
    "start_time": "2021-11-03T19:35:25.922Z"
   },
   {
    "duration": 11,
    "start_time": "2021-11-03T19:35:52.230Z"
   },
   {
    "duration": 504,
    "start_time": "2021-11-03T19:36:59.415Z"
   },
   {
    "duration": 13,
    "start_time": "2021-11-03T19:37:30.225Z"
   },
   {
    "duration": 394,
    "start_time": "2021-11-03T19:37:35.400Z"
   },
   {
    "duration": 4,
    "start_time": "2021-11-03T19:37:43.591Z"
   },
   {
    "duration": 141,
    "start_time": "2021-11-03T19:37:43.597Z"
   },
   {
    "duration": 23,
    "start_time": "2021-11-03T19:37:43.741Z"
   },
   {
    "duration": 43,
    "start_time": "2021-11-03T19:37:43.766Z"
   },
   {
    "duration": 207,
    "start_time": "2021-11-03T19:37:43.811Z"
   },
   {
    "duration": 8,
    "start_time": "2021-11-03T19:37:44.020Z"
   },
   {
    "duration": 71,
    "start_time": "2021-11-03T19:37:44.031Z"
   },
   {
    "duration": 25,
    "start_time": "2021-11-03T19:37:44.105Z"
   },
   {
    "duration": 69,
    "start_time": "2021-11-03T19:37:44.133Z"
   },
   {
    "duration": 17,
    "start_time": "2021-11-03T19:37:44.205Z"
   },
   {
    "duration": 41,
    "start_time": "2021-11-03T19:37:44.224Z"
   },
   {
    "duration": 50,
    "start_time": "2021-11-03T19:37:44.268Z"
   },
   {
    "duration": 6,
    "start_time": "2021-11-03T19:37:44.320Z"
   },
   {
    "duration": 26,
    "start_time": "2021-11-03T19:37:44.328Z"
   },
   {
    "duration": 53,
    "start_time": "2021-11-03T19:37:44.356Z"
   },
   {
    "duration": 26,
    "start_time": "2021-11-03T19:37:44.412Z"
   },
   {
    "duration": 25,
    "start_time": "2021-11-03T19:37:44.441Z"
   },
   {
    "duration": 62,
    "start_time": "2021-11-03T19:37:44.469Z"
   },
   {
    "duration": 15,
    "start_time": "2021-11-03T19:37:44.537Z"
   },
   {
    "duration": 60,
    "start_time": "2021-11-03T19:37:44.556Z"
   },
   {
    "duration": 5,
    "start_time": "2021-11-03T19:37:44.619Z"
   },
   {
    "duration": 16,
    "start_time": "2021-11-03T19:37:44.626Z"
   },
   {
    "duration": 27,
    "start_time": "2021-11-03T19:37:44.644Z"
   },
   {
    "duration": 52,
    "start_time": "2021-11-03T19:37:44.673Z"
   },
   {
    "duration": 51,
    "start_time": "2021-11-03T19:37:44.728Z"
   },
   {
    "duration": 54,
    "start_time": "2021-11-03T19:37:44.801Z"
   },
   {
    "duration": 47,
    "start_time": "2021-11-03T19:37:44.857Z"
   },
   {
    "duration": 14,
    "start_time": "2021-11-03T19:37:44.906Z"
   },
   {
    "duration": 19,
    "start_time": "2021-11-03T19:37:44.923Z"
   },
   {
    "duration": 321,
    "start_time": "2021-11-03T19:37:44.945Z"
   },
   {
    "duration": 323,
    "start_time": "2021-11-03T19:37:45.268Z"
   },
   {
    "duration": 317,
    "start_time": "2021-11-03T19:37:45.599Z"
   },
   {
    "duration": 326,
    "start_time": "2021-11-03T19:37:45.920Z"
   },
   {
    "duration": 325,
    "start_time": "2021-11-03T19:37:46.249Z"
   },
   {
    "duration": 119,
    "start_time": "2021-11-03T19:37:46.576Z"
   },
   {
    "duration": 264,
    "start_time": "2021-11-03T19:37:46.699Z"
   },
   {
    "duration": 247,
    "start_time": "2021-11-03T19:37:46.966Z"
   },
   {
    "duration": 267,
    "start_time": "2021-11-03T19:37:47.216Z"
   },
   {
    "duration": 251,
    "start_time": "2021-11-03T19:37:47.486Z"
   },
   {
    "duration": 244,
    "start_time": "2021-11-03T19:37:47.739Z"
   },
   {
    "duration": 52,
    "start_time": "2021-11-03T19:37:47.986Z"
   },
   {
    "duration": 619,
    "start_time": "2021-11-03T19:37:48.040Z"
   },
   {
    "duration": 602,
    "start_time": "2021-11-03T19:37:48.662Z"
   },
   {
    "duration": 636,
    "start_time": "2021-11-03T19:37:49.266Z"
   },
   {
    "duration": 110,
    "start_time": "2021-11-03T19:37:49.905Z"
   },
   {
    "duration": 123,
    "start_time": "2021-11-03T19:37:50.018Z"
   },
   {
    "duration": 383,
    "start_time": "2021-11-03T19:37:50.144Z"
   },
   {
    "duration": 403,
    "start_time": "2021-11-03T19:37:50.530Z"
   },
   {
    "duration": 9,
    "start_time": "2021-11-03T19:37:50.936Z"
   },
   {
    "duration": 697,
    "start_time": "2021-11-03T19:37:50.948Z"
   },
   {
    "duration": 93,
    "start_time": "2021-11-03T19:37:51.648Z"
   },
   {
    "duration": 15,
    "start_time": "2021-11-03T19:37:51.745Z"
   },
   {
    "duration": 474,
    "start_time": "2021-11-03T19:37:59.290Z"
   },
   {
    "duration": 382,
    "start_time": "2021-11-03T19:38:12.346Z"
   },
   {
    "duration": 888,
    "start_time": "2021-11-03T19:38:29.743Z"
   },
   {
    "duration": 4,
    "start_time": "2021-11-03T19:38:38.345Z"
   },
   {
    "duration": 117,
    "start_time": "2021-11-03T19:38:38.752Z"
   },
   {
    "duration": 24,
    "start_time": "2021-11-03T19:38:39.480Z"
   },
   {
    "duration": 26,
    "start_time": "2021-11-03T19:38:39.777Z"
   },
   {
    "duration": 55,
    "start_time": "2021-11-03T19:38:40.107Z"
   },
   {
    "duration": 8,
    "start_time": "2021-11-03T19:38:40.424Z"
   },
   {
    "duration": 42,
    "start_time": "2021-11-03T19:38:40.801Z"
   },
   {
    "duration": 24,
    "start_time": "2021-11-03T19:38:41.127Z"
   },
   {
    "duration": 51,
    "start_time": "2021-11-03T19:38:43.372Z"
   },
   {
    "duration": 16,
    "start_time": "2021-11-03T19:38:43.684Z"
   },
   {
    "duration": 41,
    "start_time": "2021-11-03T19:38:44.050Z"
   },
   {
    "duration": 22,
    "start_time": "2021-11-03T19:38:44.758Z"
   },
   {
    "duration": 5,
    "start_time": "2021-11-03T19:38:45.082Z"
   },
   {
    "duration": 24,
    "start_time": "2021-11-03T19:38:45.410Z"
   },
   {
    "duration": 28,
    "start_time": "2021-11-03T19:38:45.697Z"
   },
   {
    "duration": 28,
    "start_time": "2021-11-03T19:38:47.429Z"
   },
   {
    "duration": 27,
    "start_time": "2021-11-03T19:38:47.873Z"
   },
   {
    "duration": 34,
    "start_time": "2021-11-03T19:38:48.301Z"
   },
   {
    "duration": 19,
    "start_time": "2021-11-03T19:38:50.647Z"
   },
   {
    "duration": 34,
    "start_time": "2021-11-03T19:38:51.163Z"
   },
   {
    "duration": 5,
    "start_time": "2021-11-03T19:38:51.552Z"
   },
   {
    "duration": 13,
    "start_time": "2021-11-03T19:38:51.903Z"
   },
   {
    "duration": 31,
    "start_time": "2021-11-03T19:38:52.211Z"
   },
   {
    "duration": 31,
    "start_time": "2021-11-03T19:38:52.774Z"
   },
   {
    "duration": 56,
    "start_time": "2021-11-03T19:38:53.914Z"
   },
   {
    "duration": 56,
    "start_time": "2021-11-03T19:38:54.756Z"
   },
   {
    "duration": 25,
    "start_time": "2021-11-03T19:38:55.049Z"
   },
   {
    "duration": 15,
    "start_time": "2021-11-03T19:38:55.329Z"
   },
   {
    "duration": 10,
    "start_time": "2021-11-03T19:38:55.659Z"
   },
   {
    "duration": 313,
    "start_time": "2021-11-03T19:38:57.395Z"
   },
   {
    "duration": 296,
    "start_time": "2021-11-03T19:38:57.929Z"
   },
   {
    "duration": 302,
    "start_time": "2021-11-03T19:38:58.781Z"
   },
   {
    "duration": 306,
    "start_time": "2021-11-03T19:38:59.465Z"
   },
   {
    "duration": 312,
    "start_time": "2021-11-03T19:39:00.088Z"
   },
   {
    "duration": 106,
    "start_time": "2021-11-03T19:39:00.807Z"
   },
   {
    "duration": 251,
    "start_time": "2021-11-03T19:39:01.666Z"
   },
   {
    "duration": 253,
    "start_time": "2021-11-03T19:39:02.038Z"
   },
   {
    "duration": 253,
    "start_time": "2021-11-03T19:39:02.366Z"
   },
   {
    "duration": 268,
    "start_time": "2021-11-03T19:39:02.667Z"
   },
   {
    "duration": 244,
    "start_time": "2021-11-03T19:39:03.042Z"
   },
   {
    "duration": 45,
    "start_time": "2021-11-03T19:39:03.451Z"
   },
   {
    "duration": 742,
    "start_time": "2021-11-03T19:39:03.844Z"
   },
   {
    "duration": 970,
    "start_time": "2021-11-03T19:39:04.873Z"
   },
   {
    "duration": 629,
    "start_time": "2021-11-03T19:39:05.888Z"
   },
   {
    "duration": 106,
    "start_time": "2021-11-03T19:39:06.971Z"
   },
   {
    "duration": 100,
    "start_time": "2021-11-03T19:39:07.487Z"
   },
   {
    "duration": 360,
    "start_time": "2021-11-03T19:39:10.846Z"
   },
   {
    "duration": 238,
    "start_time": "2021-11-03T19:39:11.498Z"
   },
   {
    "duration": 8,
    "start_time": "2021-11-03T19:39:12.317Z"
   },
   {
    "duration": 615,
    "start_time": "2021-11-03T19:39:16.860Z"
   },
   {
    "duration": 55,
    "start_time": "2021-11-03T19:39:27.394Z"
   },
   {
    "duration": 12,
    "start_time": "2021-11-03T19:39:32.442Z"
   },
   {
    "duration": 442,
    "start_time": "2021-11-03T19:39:34.302Z"
   },
   {
    "duration": 372,
    "start_time": "2021-11-03T19:39:39.237Z"
   },
   {
    "duration": 44,
    "start_time": "2021-11-03T19:39:47.176Z"
   },
   {
    "duration": 11,
    "start_time": "2021-11-03T19:40:01.527Z"
   },
   {
    "duration": 398,
    "start_time": "2021-11-03T19:40:12.003Z"
   },
   {
    "duration": 429,
    "start_time": "2021-11-03T19:40:22.485Z"
   },
   {
    "duration": 369,
    "start_time": "2021-11-03T19:40:28.453Z"
   },
   {
    "duration": 412,
    "start_time": "2021-11-03T19:40:51.417Z"
   },
   {
    "duration": 373,
    "start_time": "2021-11-03T19:40:59.929Z"
   },
   {
    "duration": 378,
    "start_time": "2021-11-03T19:41:05.652Z"
   },
   {
    "duration": 10798,
    "start_time": "2021-11-03T19:41:11.238Z"
   },
   {
    "duration": 5,
    "start_time": "2021-11-03T19:41:57.092Z"
   },
   {
    "duration": 1466,
    "start_time": "2021-11-04T09:18:14.962Z"
   },
   {
    "duration": 110,
    "start_time": "2021-11-04T09:18:16.430Z"
   },
   {
    "duration": 28,
    "start_time": "2021-11-04T09:18:16.543Z"
   },
   {
    "duration": 26,
    "start_time": "2021-11-04T09:18:16.574Z"
   },
   {
    "duration": 76,
    "start_time": "2021-11-04T09:18:16.603Z"
   },
   {
    "duration": 7,
    "start_time": "2021-11-04T09:18:16.681Z"
   },
   {
    "duration": 36,
    "start_time": "2021-11-04T09:18:16.690Z"
   },
   {
    "duration": 48,
    "start_time": "2021-11-04T09:18:16.729Z"
   },
   {
    "duration": 49,
    "start_time": "2021-11-04T09:18:16.780Z"
   },
   {
    "duration": 40,
    "start_time": "2021-11-04T09:18:16.831Z"
   },
   {
    "duration": 41,
    "start_time": "2021-11-04T09:18:16.873Z"
   },
   {
    "duration": 50,
    "start_time": "2021-11-04T09:18:16.917Z"
   },
   {
    "duration": 6,
    "start_time": "2021-11-04T09:18:16.970Z"
   },
   {
    "duration": 23,
    "start_time": "2021-11-04T09:18:16.979Z"
   },
   {
    "duration": 67,
    "start_time": "2021-11-04T09:18:17.004Z"
   },
   {
    "duration": 23,
    "start_time": "2021-11-04T09:18:17.074Z"
   },
   {
    "duration": 24,
    "start_time": "2021-11-04T09:18:17.099Z"
   },
   {
    "duration": 61,
    "start_time": "2021-11-04T09:18:17.126Z"
   },
   {
    "duration": 19,
    "start_time": "2021-11-04T09:18:17.190Z"
   },
   {
    "duration": 51,
    "start_time": "2021-11-04T09:18:17.211Z"
   },
   {
    "duration": 6,
    "start_time": "2021-11-04T09:18:17.265Z"
   },
   {
    "duration": 15,
    "start_time": "2021-11-04T09:18:17.274Z"
   },
   {
    "duration": 29,
    "start_time": "2021-11-04T09:18:17.296Z"
   },
   {
    "duration": 37,
    "start_time": "2021-11-04T09:18:17.361Z"
   },
   {
    "duration": 65,
    "start_time": "2021-11-04T09:18:17.401Z"
   },
   {
    "duration": 50,
    "start_time": "2021-11-04T09:18:17.469Z"
   },
   {
    "duration": 53,
    "start_time": "2021-11-04T09:18:17.521Z"
   },
   {
    "duration": 19,
    "start_time": "2021-11-04T09:18:17.576Z"
   },
   {
    "duration": 11,
    "start_time": "2021-11-04T09:18:17.597Z"
   },
   {
    "duration": 317,
    "start_time": "2021-11-04T09:18:17.611Z"
   },
   {
    "duration": 312,
    "start_time": "2021-11-04T09:18:17.930Z"
   },
   {
    "duration": 305,
    "start_time": "2021-11-04T09:18:18.244Z"
   },
   {
    "duration": 310,
    "start_time": "2021-11-04T09:18:18.551Z"
   },
   {
    "duration": 289,
    "start_time": "2021-11-04T09:18:18.864Z"
   },
   {
    "duration": 108,
    "start_time": "2021-11-04T09:18:19.160Z"
   },
   {
    "duration": 238,
    "start_time": "2021-11-04T09:18:19.271Z"
   },
   {
    "duration": 221,
    "start_time": "2021-11-04T09:18:19.511Z"
   },
   {
    "duration": 300,
    "start_time": "2021-11-04T09:18:19.734Z"
   },
   {
    "duration": 233,
    "start_time": "2021-11-04T09:18:20.037Z"
   },
   {
    "duration": 226,
    "start_time": "2021-11-04T09:18:20.273Z"
   },
   {
    "duration": 59,
    "start_time": "2021-11-04T09:18:20.501Z"
   },
   {
    "duration": 602,
    "start_time": "2021-11-04T09:18:20.563Z"
   },
   {
    "duration": 567,
    "start_time": "2021-11-04T09:18:21.167Z"
   },
   {
    "duration": 608,
    "start_time": "2021-11-04T09:18:21.736Z"
   },
   {
    "duration": 99,
    "start_time": "2021-11-04T09:18:22.346Z"
   },
   {
    "duration": 112,
    "start_time": "2021-11-04T09:18:22.448Z"
   },
   {
    "duration": 361,
    "start_time": "2021-11-04T09:18:22.563Z"
   },
   {
    "duration": 222,
    "start_time": "2021-11-04T09:18:22.926Z"
   },
   {
    "duration": 13,
    "start_time": "2021-11-04T09:18:23.150Z"
   },
   {
    "duration": 497,
    "start_time": "2021-11-04T09:18:23.166Z"
   },
   {
    "duration": 50,
    "start_time": "2021-11-04T09:18:23.665Z"
   },
   {
    "duration": 10,
    "start_time": "2021-11-04T09:18:23.717Z"
   },
   {
    "duration": 525,
    "start_time": "2021-11-04T09:18:23.729Z"
   },
   {
    "duration": 48,
    "start_time": "2021-11-04T09:18:24.257Z"
   },
   {
    "duration": 8,
    "start_time": "2021-11-04T09:18:24.307Z"
   },
   {
    "duration": 5047,
    "start_time": "2021-11-04T09:18:24.318Z"
   },
   {
    "duration": 597,
    "start_time": "2021-11-04T09:18:29.367Z"
   },
   {
    "duration": 1036,
    "start_time": "2021-11-04T09:18:29.966Z"
   },
   {
    "duration": 5199,
    "start_time": "2021-11-04T09:18:31.005Z"
   },
   {
    "duration": 559,
    "start_time": "2021-11-04T09:18:36.207Z"
   },
   {
    "duration": 994,
    "start_time": "2021-11-04T09:18:36.768Z"
   },
   {
    "duration": 35,
    "start_time": "2021-11-04T09:20:33.268Z"
   },
   {
    "duration": 14,
    "start_time": "2021-11-04T09:22:35.389Z"
   },
   {
    "duration": 12,
    "start_time": "2021-11-04T09:24:21.074Z"
   },
   {
    "duration": 4,
    "start_time": "2021-11-04T09:47:27.626Z"
   },
   {
    "duration": 138,
    "start_time": "2021-11-04T09:47:27.633Z"
   },
   {
    "duration": 22,
    "start_time": "2021-11-04T09:47:27.775Z"
   },
   {
    "duration": 60,
    "start_time": "2021-11-04T09:47:27.799Z"
   },
   {
    "duration": 180,
    "start_time": "2021-11-04T09:47:27.862Z"
   },
   {
    "duration": 14,
    "start_time": "2021-11-04T09:47:28.045Z"
   },
   {
    "duration": 33,
    "start_time": "2021-11-04T09:47:28.061Z"
   },
   {
    "duration": 23,
    "start_time": "2021-11-04T09:47:28.096Z"
   },
   {
    "duration": 71,
    "start_time": "2021-11-04T09:47:28.123Z"
   },
   {
    "duration": 16,
    "start_time": "2021-11-04T09:47:28.197Z"
   },
   {
    "duration": 65,
    "start_time": "2021-11-04T09:47:28.215Z"
   },
   {
    "duration": 19,
    "start_time": "2021-11-04T09:47:28.283Z"
   },
   {
    "duration": 9,
    "start_time": "2021-11-04T09:47:28.304Z"
   },
   {
    "duration": 44,
    "start_time": "2021-11-04T09:47:28.315Z"
   },
   {
    "duration": 24,
    "start_time": "2021-11-04T09:47:28.361Z"
   },
   {
    "duration": 29,
    "start_time": "2021-11-04T09:47:28.388Z"
   },
   {
    "duration": 54,
    "start_time": "2021-11-04T09:47:28.420Z"
   },
   {
    "duration": 24,
    "start_time": "2021-11-04T09:47:28.476Z"
   },
   {
    "duration": 17,
    "start_time": "2021-11-04T09:47:28.502Z"
   },
   {
    "duration": 54,
    "start_time": "2021-11-04T09:47:28.521Z"
   },
   {
    "duration": 6,
    "start_time": "2021-11-04T09:47:28.577Z"
   },
   {
    "duration": 12,
    "start_time": "2021-11-04T09:47:28.585Z"
   },
   {
    "duration": 25,
    "start_time": "2021-11-04T09:47:28.599Z"
   },
   {
    "duration": 55,
    "start_time": "2021-11-04T09:47:28.626Z"
   },
   {
    "duration": 49,
    "start_time": "2021-11-04T09:47:28.684Z"
   },
   {
    "duration": 49,
    "start_time": "2021-11-04T09:47:28.760Z"
   },
   {
    "duration": 25,
    "start_time": "2021-11-04T09:47:28.815Z"
   },
   {
    "duration": 13,
    "start_time": "2021-11-04T09:47:28.861Z"
   },
   {
    "duration": 14,
    "start_time": "2021-11-04T09:47:28.877Z"
   },
   {
    "duration": 326,
    "start_time": "2021-11-04T09:47:28.894Z"
   },
   {
    "duration": 292,
    "start_time": "2021-11-04T09:47:29.223Z"
   },
   {
    "duration": 293,
    "start_time": "2021-11-04T09:47:29.517Z"
   },
   {
    "duration": 298,
    "start_time": "2021-11-04T09:47:29.812Z"
   },
   {
    "duration": 301,
    "start_time": "2021-11-04T09:47:30.113Z"
   },
   {
    "duration": 115,
    "start_time": "2021-11-04T09:47:30.416Z"
   },
   {
    "duration": 243,
    "start_time": "2021-11-04T09:47:30.534Z"
   },
   {
    "duration": 234,
    "start_time": "2021-11-04T09:47:30.780Z"
   },
   {
    "duration": 261,
    "start_time": "2021-11-04T09:47:31.016Z"
   },
   {
    "duration": 246,
    "start_time": "2021-11-04T09:47:31.279Z"
   },
   {
    "duration": 232,
    "start_time": "2021-11-04T09:47:31.527Z"
   },
   {
    "duration": 40,
    "start_time": "2021-11-04T09:47:31.761Z"
   },
   {
    "duration": 600,
    "start_time": "2021-11-04T09:47:31.803Z"
   },
   {
    "duration": 560,
    "start_time": "2021-11-04T09:47:32.405Z"
   },
   {
    "duration": 591,
    "start_time": "2021-11-04T09:47:32.968Z"
   },
   {
    "duration": 105,
    "start_time": "2021-11-04T09:47:33.562Z"
   },
   {
    "duration": 104,
    "start_time": "2021-11-04T09:47:33.670Z"
   },
   {
    "duration": 356,
    "start_time": "2021-11-04T09:47:33.776Z"
   },
   {
    "duration": 364,
    "start_time": "2021-11-04T09:47:34.135Z"
   },
   {
    "duration": 8,
    "start_time": "2021-11-04T09:47:34.501Z"
   },
   {
    "duration": 427,
    "start_time": "2021-11-04T09:47:34.512Z"
   },
   {
    "duration": 58,
    "start_time": "2021-11-04T09:47:34.941Z"
   },
   {
    "duration": 10,
    "start_time": "2021-11-04T09:47:35.001Z"
   },
   {
    "duration": 402,
    "start_time": "2021-11-04T09:47:35.014Z"
   },
   {
    "duration": 60,
    "start_time": "2021-11-04T09:47:35.418Z"
   },
   {
    "duration": 7,
    "start_time": "2021-11-04T09:47:35.481Z"
   },
   {
    "duration": 4807,
    "start_time": "2021-11-04T09:47:35.491Z"
   },
   {
    "duration": 555,
    "start_time": "2021-11-04T09:47:40.301Z"
   },
   {
    "duration": 1070,
    "start_time": "2021-11-04T09:47:40.860Z"
   },
   {
    "duration": 4945,
    "start_time": "2021-11-04T09:47:41.932Z"
   },
   {
    "duration": 582,
    "start_time": "2021-11-04T09:47:46.879Z"
   },
   {
    "duration": 882,
    "start_time": "2021-11-04T09:47:47.464Z"
   },
   {
    "duration": 1447,
    "start_time": "2021-11-28T08:52:03.428Z"
   },
   {
    "duration": 326,
    "start_time": "2021-11-28T08:52:04.878Z"
   },
   {
    "duration": 26,
    "start_time": "2021-11-28T08:52:05.207Z"
   },
   {
    "duration": 27,
    "start_time": "2021-11-28T08:52:05.236Z"
   },
   {
    "duration": 69,
    "start_time": "2021-11-28T08:52:05.265Z"
   },
   {
    "duration": 8,
    "start_time": "2021-11-28T08:52:05.336Z"
   },
   {
    "duration": 63,
    "start_time": "2021-11-28T08:52:05.346Z"
   },
   {
    "duration": 25,
    "start_time": "2021-11-28T08:52:05.415Z"
   },
   {
    "duration": 73,
    "start_time": "2021-11-28T08:52:05.444Z"
   },
   {
    "duration": 32,
    "start_time": "2021-11-28T08:52:05.520Z"
   },
   {
    "duration": 41,
    "start_time": "2021-11-28T08:52:05.554Z"
   },
   {
    "duration": 41,
    "start_time": "2021-11-28T08:52:05.597Z"
   },
   {
    "duration": 41,
    "start_time": "2021-11-28T08:52:05.641Z"
   },
   {
    "duration": 5,
    "start_time": "2021-11-28T08:52:05.684Z"
   },
   {
    "duration": 26,
    "start_time": "2021-11-28T08:52:05.692Z"
   },
   {
    "duration": 29,
    "start_time": "2021-11-28T08:52:05.720Z"
   },
   {
    "duration": 53,
    "start_time": "2021-11-28T08:52:05.752Z"
   },
   {
    "duration": 25,
    "start_time": "2021-11-28T08:52:05.807Z"
   },
   {
    "duration": 54,
    "start_time": "2021-11-28T08:52:05.834Z"
   },
   {
    "duration": 30,
    "start_time": "2021-11-28T08:52:05.890Z"
   },
   {
    "duration": 6,
    "start_time": "2021-11-28T08:52:05.922Z"
   },
   {
    "duration": 29,
    "start_time": "2021-11-28T08:52:05.931Z"
   },
   {
    "duration": 29,
    "start_time": "2021-11-28T08:52:05.983Z"
   },
   {
    "duration": 32,
    "start_time": "2021-11-28T08:52:06.016Z"
   },
   {
    "duration": 75,
    "start_time": "2021-11-28T08:52:06.051Z"
   },
   {
    "duration": 63,
    "start_time": "2021-11-28T08:52:06.129Z"
   },
   {
    "duration": 25,
    "start_time": "2021-11-28T08:52:06.195Z"
   },
   {
    "duration": 13,
    "start_time": "2021-11-28T08:52:06.223Z"
   },
   {
    "duration": 17,
    "start_time": "2021-11-28T08:52:06.238Z"
   },
   {
    "duration": 309,
    "start_time": "2021-11-28T08:52:06.281Z"
   },
   {
    "duration": 306,
    "start_time": "2021-11-28T08:52:06.593Z"
   },
   {
    "duration": 318,
    "start_time": "2021-11-28T08:52:06.902Z"
   },
   {
    "duration": 307,
    "start_time": "2021-11-28T08:52:07.222Z"
   },
   {
    "duration": 307,
    "start_time": "2021-11-28T08:52:07.532Z"
   },
   {
    "duration": 112,
    "start_time": "2021-11-28T08:52:07.841Z"
   },
   {
    "duration": 248,
    "start_time": "2021-11-28T08:52:07.956Z"
   },
   {
    "duration": 243,
    "start_time": "2021-11-28T08:52:08.207Z"
   },
   {
    "duration": 320,
    "start_time": "2021-11-28T08:52:08.453Z"
   },
   {
    "duration": 246,
    "start_time": "2021-11-28T08:52:08.776Z"
   },
   {
    "duration": 237,
    "start_time": "2021-11-28T08:52:09.024Z"
   },
   {
    "duration": 55,
    "start_time": "2021-11-28T08:52:09.264Z"
   },
   {
    "duration": 621,
    "start_time": "2021-11-28T08:52:09.322Z"
   },
   {
    "duration": 604,
    "start_time": "2021-11-28T08:52:09.946Z"
   },
   {
    "duration": 630,
    "start_time": "2021-11-28T08:52:10.553Z"
   },
   {
    "duration": 112,
    "start_time": "2021-11-28T08:52:11.186Z"
   },
   {
    "duration": 105,
    "start_time": "2021-11-28T08:52:11.300Z"
   },
   {
    "duration": 382,
    "start_time": "2021-11-28T08:52:11.408Z"
   },
   {
    "duration": 238,
    "start_time": "2021-11-28T08:52:11.792Z"
   },
   {
    "duration": 8,
    "start_time": "2021-11-28T08:52:12.032Z"
   },
   {
    "duration": 645,
    "start_time": "2021-11-28T08:52:12.042Z"
   },
   {
    "duration": 54,
    "start_time": "2021-11-28T08:52:12.689Z"
   },
   {
    "duration": 37,
    "start_time": "2021-11-28T08:52:12.745Z"
   },
   {
    "duration": 598,
    "start_time": "2021-11-28T08:52:12.784Z"
   },
   {
    "duration": 73,
    "start_time": "2021-11-28T08:52:13.385Z"
   },
   {
    "duration": 27,
    "start_time": "2021-11-28T08:52:13.461Z"
   },
   {
    "duration": 8377,
    "start_time": "2021-11-28T08:52:13.491Z"
   },
   {
    "duration": 812,
    "start_time": "2021-11-28T08:52:21.881Z"
   },
   {
    "duration": 1548,
    "start_time": "2021-11-28T08:52:22.696Z"
   },
   {
    "duration": 8377,
    "start_time": "2021-11-28T08:52:24.248Z"
   },
   {
    "duration": 840,
    "start_time": "2021-11-28T08:52:32.629Z"
   },
   {
    "duration": 936,
    "start_time": "2021-11-28T08:52:33.472Z"
   }
  ],
  "kernelspec": {
   "display_name": "Python 3",
   "language": "python",
   "name": "python3"
  },
  "language_info": {
   "codemirror_mode": {
    "name": "ipython",
    "version": 3
   },
   "file_extension": ".py",
   "mimetype": "text/x-python",
   "name": "python",
   "nbconvert_exporter": "python",
   "pygments_lexer": "ipython3",
   "version": "3.7.8"
  },
  "toc": {
   "base_numbering": 1,
   "nav_menu": {},
   "number_sections": true,
   "sideBar": true,
   "skip_h1_title": true,
   "title_cell": "Table of Contents",
   "title_sidebar": "Contents",
   "toc_cell": false,
   "toc_position": {},
   "toc_section_display": true,
   "toc_window_display": false
  }
 },
 "nbformat": 4,
 "nbformat_minor": 2
}
